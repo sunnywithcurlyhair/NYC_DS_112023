{
 "cells": [
  {
   "cell_type": "markdown",
   "id": "79adf0f5",
   "metadata": {
    "slideshow": {
     "slide_type": "slide"
    }
   },
   "source": [
    "<div style=\"color:white;\n",
    "           display:fill;\n",
    "           border-radius:5px;\n",
    "           background-color:#5642C5;\n",
    "           font-size:200%;\n",
    "           font-\\amily:Arial;letter-spacing:0.5px\">\n",
    "\n",
    "<p width = 20%, style=\"padding: 10px;\n",
    "              color:white;\">\n",
    "Bias, Variance and the Bias-Variance Tradeoff\n",
    "              \n",
    "</p>\n",
    "</div>\n",
    "\n",
    "Data Science Cohort Live NYC Nov 2023\n",
    "<p>Phase 3</p>\n",
    "<br>\n",
    "<br>\n",
    "\n",
    "<div align = \"right\">\n",
    "<img src=\"Images/flatiron-school-logo.png\" align = \"right\" width=\"200\"/>\n",
    "</div>"
   ]
  },
  {
   "cell_type": "code",
   "execution_count": 48,
   "id": "e2dc0041",
   "metadata": {
    "slideshow": {
     "slide_type": "skip"
    }
   },
   "outputs": [],
   "source": [
    "import numpy as np\n",
    "from scipy.stats import norm\n",
    "from scipy.stats import uniform\n",
    "import matplotlib.pyplot as plt\n",
    "import pandas as pd\n"
   ]
  },
  {
   "cell_type": "markdown",
   "id": "5bc76802",
   "metadata": {
    "slideshow": {
     "slide_type": "slide"
    }
   },
   "source": [
    "#### Sources of error in model-based prediction"
   ]
  },
  {
   "cell_type": "markdown",
   "id": "c46ef658",
   "metadata": {
    "slideshow": {
     "slide_type": "subslide"
    }
   },
   "source": [
    "- Intrinsic noise / variability in the population\n",
    "- Bias\n",
    "- Variance"
   ]
  },
  {
   "cell_type": "markdown",
   "id": "fd719c2c",
   "metadata": {
    "slideshow": {
     "slide_type": "slide"
    }
   },
   "source": [
    "Break these down and explain these step by step"
   ]
  },
  {
   "cell_type": "markdown",
   "id": "b453dee0",
   "metadata": {
    "cell_style": "split",
    "slideshow": {
     "slide_type": "fragment"
    }
   },
   "source": [
    "Random process dependent on feature $X$:\n",
    "\n",
    "- intrinsic variability in $y$ for given $X$\n",
    "\n",
    "Property of the underlying population distribution."
   ]
  },
  {
   "cell_type": "code",
   "execution_count": 49,
   "id": "4f435bc3",
   "metadata": {
    "cell_style": "split",
    "slideshow": {
     "slide_type": "fragment"
    }
   },
   "outputs": [
    {
     "data": {
      "image/png": "[encoded data removed]",
      "text/plain": [
       "<Figure size 432x288 with 1 Axes>"
      ]
     },
     "metadata": {
      "needs_background": "light"
     },
     "output_type": "display_data"
    }
   ],
   "source": [
    "N = 30\n",
    "\n",
    "# our feature\n",
    "X = np.sort(uniform.rvs(0, 4, N,  \n",
    "                        random_state = 10))\n",
    "\n",
    "# noise/variation of y about population mean given X\n",
    "intrinsic_noise = norm.rvs(loc = 0, \n",
    "                           scale = 1.5, size = N)\n",
    "\n",
    "y = 2*X**2 + X + intrinsic_noise\n",
    "\n",
    "plt.scatter(X,y)\n",
    "plt.show()"
   ]
  },
  {
   "cell_type": "markdown",
   "id": "45380914",
   "metadata": {
    "slideshow": {
     "slide_type": "slide"
    }
   },
   "source": [
    "The true population average is just the factor independent of noise:\n",
    "\n",
    "$$ E\\Big[y(X)\\Big] = 2 X^2 + X$$ \n",
    "\n",
    "Recalling that $$ y(X) = 2 X^2 + X + \\epsilon $$"
   ]
  },
  {
   "cell_type": "code",
   "execution_count": 50,
   "id": "9f88ff43",
   "metadata": {
    "cell_style": "split",
    "slideshow": {
     "slide_type": "fragment"
    }
   },
   "outputs": [
    {
     "data": {
      "image/png": "[encoded data removed]",
      "text/plain": [
       "<Figure size 432x288 with 1 Axes>"
      ]
     },
     "metadata": {
      "needs_background": "light"
     },
     "output_type": "display_data"
    }
   ],
   "source": [
    "\n",
    "y_pop_avg = 2*X**2 + X\n",
    "plt.scatter(X,y, label = 'data')\n",
    "plt.plot(X, y_pop_avg, c = 'r', \n",
    "         linewidth = 3, label = 'population_average')\n",
    "plt.legend()\n",
    "plt.show()"
   ]
  },
  {
   "cell_type": "markdown",
   "id": "d6d344a3",
   "metadata": {
    "cell_style": "split",
    "slideshow": {
     "slide_type": "fragment"
    }
   },
   "source": [
    "Even with the line of *true* population means as prediction model:\n",
    "\n",
    "- will have error due to intrinsic noise"
   ]
  },
  {
   "cell_type": "markdown",
   "id": "40a488a4",
   "metadata": {
    "cell_style": "center",
    "slideshow": {
     "slide_type": "subslide"
    }
   },
   "source": [
    "Calculating the mean absolute error from intrinsic sources: $\\epsilon_{intrinsic} $\n",
    "\n",
    "$$ \\epsilon_{intrinsic} = \\frac{1}{N}\\sum_{i=1}^N |y_i - \\hat{y}^{popmean}_i| $$"
   ]
  },
  {
   "cell_type": "code",
   "execution_count": 51,
   "id": "1ce4c7d4",
   "metadata": {
    "slideshow": {
     "slide_type": "fragment"
    }
   },
   "outputs": [
    {
     "data": {
      "text/plain": [
       "1.1071549363976074"
      ]
     },
     "execution_count": 51,
     "metadata": {},
     "output_type": "execute_result"
    }
   ],
   "source": [
    "error_intrinsic = np.abs(y - y_pop_avg).mean()\n",
    "error_intrinsic"
   ]
  },
  {
   "cell_type": "markdown",
   "id": "07111877",
   "metadata": {
    "slideshow": {
     "slide_type": "fragment"
    }
   },
   "source": [
    "In establishing a regression model between target $y$ and given features $X$:\n",
    "- This source of prediction error will always be there due to intrinsic variability within a population.\n",
    "\n",
    "No matter the sophistication of your model."
   ]
  },
  {
   "cell_type": "markdown",
   "id": "5f64804d",
   "metadata": {
    "slideshow": {
     "slide_type": "slide"
    }
   },
   "source": [
    "#### Another source of error: model bias "
   ]
  },
  {
   "cell_type": "markdown",
   "id": "cc9d91fa",
   "metadata": {
    "cell_style": "split",
    "slideshow": {
     "slide_type": "subslide"
    }
   },
   "source": [
    "In regression: model rerepesents line of averages of target conditioned on features $X$\n",
    "\n",
    "Bias:\n",
    "- how far away your model is on average from the true population average across features $X$"
   ]
  },
  {
   "cell_type": "markdown",
   "id": "8ba6e445",
   "metadata": {
    "cell_style": "split",
    "slideshow": {
     "slide_type": "fragment"
    }
   },
   "source": [
    "Look at data again:\n",
    "- maybe try a linear fit"
   ]
  },
  {
   "cell_type": "code",
   "execution_count": 52,
   "id": "f7573071",
   "metadata": {
    "cell_style": "split",
    "slideshow": {
     "slide_type": "-"
    }
   },
   "outputs": [
    {
     "data": {
      "image/png": "[encoded data removed]",
      "text/plain": [
       "<Figure size 432x288 with 1 Axes>"
      ]
     },
     "metadata": {
      "needs_background": "light"
     },
     "output_type": "display_data"
    }
   ],
   "source": [
    "plt.scatter(X,y, label = 'data')\n",
    "plt.show()"
   ]
  },
  {
   "cell_type": "code",
   "execution_count": 53,
   "id": "5743dcf3",
   "metadata": {
    "cell_style": "split",
    "slideshow": {
     "slide_type": "slide"
    }
   },
   "outputs": [
    {
     "data": {
      "text/plain": [
       "LinearRegression()"
      ]
     },
     "execution_count": 53,
     "metadata": {},
     "output_type": "execute_result"
    }
   ],
   "source": [
    "from sklearn.linear_model import LinearRegression\n",
    "lr = LinearRegression()\n",
    "lr.fit(X.reshape(-1,1), y)"
   ]
  },
  {
   "cell_type": "code",
   "execution_count": 54,
   "id": "a571a1c7",
   "metadata": {
    "cell_style": "split",
    "slideshow": {
     "slide_type": "fragment"
    }
   },
   "outputs": [
    {
     "data": {
      "text/plain": [
       "array([8.45581688])"
      ]
     },
     "execution_count": 54,
     "metadata": {},
     "output_type": "execute_result"
    }
   ],
   "source": [
    "slope = lr.coef_\n",
    "slope"
   ]
  },
  {
   "cell_type": "code",
   "execution_count": 55,
   "id": "3fa12bc9",
   "metadata": {
    "cell_style": "split",
    "slideshow": {
     "slide_type": "fragment"
    }
   },
   "outputs": [
    {
     "data": {
      "text/plain": [
       "-4.404261796916932"
      ]
     },
     "execution_count": 55,
     "metadata": {},
     "output_type": "execute_result"
    }
   ],
   "source": [
    "const = lr.intercept_\n",
    "const"
   ]
  },
  {
   "cell_type": "code",
   "execution_count": 56,
   "id": "d9f9675f",
   "metadata": {
    "cell_style": "center",
    "slideshow": {
     "slide_type": "skip"
    }
   },
   "outputs": [],
   "source": [
    "%%capture bias_comparison\n",
    "xrange = np.linspace(0,4,500)\n",
    "y_pred_range = slope*xrange + const\n",
    "\n",
    "plt.scatter(X,y, label = 'data')\n",
    "plt.plot(xrange, y_pred_range, c = 'g',\n",
    "         linewidth = 3, label = 'model_fit')\n",
    "plt.plot(X, y_pop_avg, c = 'r', linestyle = '--',\n",
    "         linewidth = 3, label = 'population_average')\n",
    "plt.legend()\n",
    "plt.show()"
   ]
  },
  {
   "cell_type": "code",
   "execution_count": 57,
   "id": "49539724",
   "metadata": {
    "cell_style": "split",
    "slideshow": {
     "slide_type": "subslide"
    }
   },
   "outputs": [
    {
     "data": {
      "image/png": "[encoded data removed]",
      "text/plain": [
       "<Figure size 432x288 with 1 Axes>"
      ]
     },
     "metadata": {
      "needs_background": "light"
     },
     "output_type": "display_data"
    }
   ],
   "source": [
    "xrange = np.linspace(0,4,500)\n",
    "y_pred_range = slope*xrange + const\n",
    "\n",
    "plt.scatter(X,y, label = 'data')\n",
    "plt.plot(xrange, y_pred_range, c = 'g',\n",
    "         linewidth = 3, label = 'model_fit')\n",
    "plt.legend()\n",
    "plt.show()"
   ]
  },
  {
   "cell_type": "markdown",
   "id": "2917f9e2",
   "metadata": {
    "cell_style": "split",
    "slideshow": {
     "slide_type": "fragment"
    }
   },
   "source": [
    "Compare this to the line of population means:"
   ]
  },
  {
   "cell_type": "code",
   "execution_count": 58,
   "id": "1a579760",
   "metadata": {
    "cell_style": "split",
    "slideshow": {
     "slide_type": "fragment"
    }
   },
   "outputs": [
    {
     "data": {
      "image/png": "[encoded data removed]",
      "text/plain": [
       "<Figure size 432x288 with 1 Axes>"
      ]
     },
     "metadata": {
      "needs_background": "light"
     },
     "output_type": "display_data"
    }
   ],
   "source": [
    "bias_comparison()"
   ]
  },
  {
   "cell_type": "markdown",
   "id": "2a954e46",
   "metadata": {
    "cell_style": "split",
    "slideshow": {
     "slide_type": "fragment"
    }
   },
   "source": [
    "Difference between:\n",
    "- the underlying population average at given $X$\n",
    "- our model's prediction of this average at given $X$"
   ]
  },
  {
   "cell_type": "markdown",
   "id": "c0cb2b9f",
   "metadata": {
    "slideshow": {
     "slide_type": "fragment"
    }
   },
   "source": [
    "This difference is known as the **bias**:\n",
    "- Let's evaluate this:"
   ]
  },
  {
   "cell_type": "markdown",
   "id": "6b39c3f9",
   "metadata": {
    "cell_style": "split",
    "slideshow": {
     "slide_type": "slide"
    }
   },
   "source": [
    "**Bias**\n",
    "\n",
    "$$ bias = \\frac{1}{N}\\sum_{i=1}^N |\\hat{y}_i^{model} - \\hat{y}_i^{true}| $$\n",
    "\n",
    "A source of prediction error.\n",
    "\n"
   ]
  },
  {
   "cell_type": "code",
   "execution_count": 59,
   "id": "710f585d",
   "metadata": {
    "cell_style": "split",
    "slideshow": {
     "slide_type": "-"
    }
   },
   "outputs": [
    {
     "data": {
      "image/png": "[encoded data removed]",
      "text/plain": [
       "<Figure size 432x288 with 1 Axes>"
      ]
     },
     "metadata": {
      "needs_background": "light"
     },
     "output_type": "display_data"
    }
   ],
   "source": [
    "bias_comparison()"
   ]
  },
  {
   "cell_type": "code",
   "execution_count": 60,
   "id": "b0016c30",
   "metadata": {
    "cell_style": "split",
    "slideshow": {
     "slide_type": "fragment"
    }
   },
   "outputs": [
    {
     "data": {
      "text/plain": [
       "1.7919559621134342"
      ]
     },
     "execution_count": 60,
     "metadata": {},
     "output_type": "execute_result"
    }
   ],
   "source": [
    "y_model = lr.predict(X.reshape(-1,1))\n",
    "bias_error = np.abs(y_model - y_pop_avg).mean()\n",
    "bias_error"
   ]
  },
  {
   "cell_type": "markdown",
   "id": "1ce5d588",
   "metadata": {
    "cell_style": "center",
    "slideshow": {
     "slide_type": "slide"
    }
   },
   "source": [
    "But what is the source of bias error?\n",
    "\n",
    "- Wrong functional form\n",
    "- **Using a model not flexible/complex enough**\n",
    "\n",
    "Not enough relevant parameters and features to model the data generating process *on average*."
   ]
  },
  {
   "cell_type": "markdown",
   "id": "91f025e8",
   "metadata": {
    "cell_style": "split",
    "slideshow": {
     "slide_type": "fragment"
    }
   },
   "source": [
    "$$ y = w_1 X + w_0 $$\n",
    "\n",
    "$w_1$, $w_0$ and corresponding feature space with just $X$: not flexible enough"
   ]
  },
  {
   "cell_type": "markdown",
   "id": "63ca25f2",
   "metadata": {
    "cell_style": "split",
    "slideshow": {
     "slide_type": "-"
    }
   },
   "source": [
    "$$ y = w_2 X^2 + w_1 X + w_0 $$\n",
    "\n",
    "$w_2$, $w_1$, $w_0$ and corresponding feature space of $X$ and $X^2$\n",
    "\n",
    "- appropriate level of model flexibility"
   ]
  },
  {
   "cell_type": "markdown",
   "id": "4141bf66",
   "metadata": {
    "cell_style": "split",
    "slideshow": {
     "slide_type": "slide"
    }
   },
   "source": [
    "$$ y = w_1 X + w_0 $$\n",
    "\n",
    "$w_1$, $w_0$ and corresponding feature space with just $X$: not flexible enough"
   ]
  },
  {
   "cell_type": "markdown",
   "id": "7fed8cd7",
   "metadata": {
    "cell_style": "split",
    "slideshow": {
     "slide_type": "-"
    }
   },
   "source": [
    "$$ y = w_2 X^2 + w_1 X + w_0 $$\n",
    "\n",
    "$w_2$, $w_1$, $w_0$ and corresponding feature space of $X$ and $X^2$\n",
    "\n",
    "- appropriate level of model flexibility"
   ]
  },
  {
   "cell_type": "code",
   "execution_count": 61,
   "id": "dff18ef7",
   "metadata": {
    "cell_style": "split",
    "scrolled": true
   },
   "outputs": [
    {
     "data": {
      "image/png": "[encoded data removed]",
      "text/plain": [
       "<Figure size 432x288 with 1 Axes>"
      ]
     },
     "metadata": {
      "needs_background": "light"
     },
     "output_type": "display_data"
    }
   ],
   "source": [
    "bias_comparison()"
   ]
  },
  {
   "cell_type": "markdown",
   "id": "8693789f",
   "metadata": {
    "cell_style": "split"
   },
   "source": [
    "- stiff like a plank (low model flexibility)\n",
    "- bendy and floppy: can respond to data (higher model flexibility)\n"
   ]
  },
  {
   "cell_type": "markdown",
   "id": "52a695d7",
   "metadata": {
    "cell_style": "center",
    "slideshow": {
     "slide_type": "slide"
    }
   },
   "source": [
    "#### Pumping up that flexibility"
   ]
  },
  {
   "cell_type": "markdown",
   "id": "263fb7c7",
   "metadata": {
    "cell_style": "split",
    "slideshow": {
     "slide_type": "fragment"
    }
   },
   "source": [
    "If we make it super bendy and floppy:\n",
    "- model very responsive to data\n",
    "\n",
    "**Is this good or bad?**"
   ]
  },
  {
   "cell_type": "markdown",
   "id": "4e079cc3",
   "metadata": {
    "cell_style": "split",
    "slideshow": {
     "slide_type": "-"
    }
   },
   "source": [
    "<center><img src = \"images/napoleon.gif\" ></center>\n",
    "<center> Vote for Pedro</center>"
   ]
  },
  {
   "cell_type": "code",
   "execution_count": 66,
   "id": "b0f2493b",
   "metadata": {
    "slideshow": {
     "slide_type": "slide"
    }
   },
   "outputs": [],
   "source": [
    "from sklearn.preprocessing import PolynomialFeatures\n",
    "from sklearn.preprocessing import StandardScaler"
   ]
  },
  {
   "cell_type": "code",
   "execution_count": 67,
   "id": "bfe85975",
   "metadata": {
    "slideshow": {
     "slide_type": "fragment"
    }
   },
   "outputs": [
    {
     "data": {
      "text/plain": [
       "LinearRegression()"
      ]
     },
     "execution_count": 67,
     "metadata": {},
     "output_type": "execute_result"
    }
   ],
   "source": [
    "poly_transformer = PolynomialFeatures(15)\n",
    "ss = StandardScaler()\n",
    "\n",
    "# polynomial transform and apply standard scaler to get weights for each order on same scale\n",
    "X_poly_train = poly_transformer.fit_transform(X.reshape(-1,1))\n",
    "X_poly_ss_train = ss.fit_transform(X_poly_train)\n",
    "\n",
    "#fit model with polynomial, scale-transformed features\n",
    "lr_poly = LinearRegression()\n",
    "lr_poly.fit(X_poly_ss_train, y)"
   ]
  },
  {
   "cell_type": "code",
   "execution_count": 68,
   "id": "1767cce3",
   "metadata": {
    "slideshow": {
     "slide_type": "skip"
    }
   },
   "outputs": [],
   "source": [
    "%%capture polyfitting\n",
    "xrange = np.linspace(0,4,500)\n",
    "\n",
    "xrange_poly = poly_transformer.transform(xrange.reshape(-1,1)) \n",
    "xrange_poly_ss = ss.transform(xrange_poly)\n",
    "y_poly_range = lr_poly.predict(xrange_poly_ss)\n",
    "\n",
    "# going in the facebook are the clearing \n",
    "fig, ax = plt.subplots(figsize = (10,6))\n",
    "\n",
    "ax.scatter(X,y, marker = 's', facecolors='none', edgecolors='black', label = 'training data')\n",
    "ax.plot(X, y_pop_avg, c = 'b', linewidth = 3, linestyle = '--', label = 'population average')\n",
    "ax.plot(xrange, y_poly_range, c = 'magenta', linewidth = 3, alpha = 0.8, label = 'polynomial 20th order')\n",
    "ax.set_xlabel('X')\n",
    "ax.set_ylabel('Y')\n",
    "plt.legend()\n",
    "plt.ylim(-5,50)\n",
    "plt.show()"
   ]
  },
  {
   "cell_type": "code",
   "execution_count": 69,
   "id": "5e06787d",
   "metadata": {
    "scrolled": false,
    "slideshow": {
     "slide_type": "slide"
    }
   },
   "outputs": [
    {
     "data": {
      "image/png": "[encoded data removed]",
      "text/plain": [
       "<Figure size 720x432 with 1 Axes>"
      ]
     },
     "metadata": {
      "needs_background": "light"
     },
     "output_type": "display_data"
    }
   ],
   "source": [
    "polyfitting()"
   ]
  },
  {
   "cell_type": "markdown",
   "id": "cc6e1d9e",
   "metadata": {
    "slideshow": {
     "slide_type": "subslide"
    }
   },
   "source": [
    "The model is very flexible:\n",
    "- accomodates training data better than true population line of means\n",
    "\n",
    "But also is unstable: accomodates and trains to the noise/fluctuation to well."
   ]
  },
  {
   "cell_type": "markdown",
   "id": "dff8eac5",
   "metadata": {
    "slideshow": {
     "slide_type": "slide"
    }
   },
   "source": [
    "The explained variance on training is better:"
   ]
  },
  {
   "cell_type": "code",
   "execution_count": 70,
   "id": "3350bcae",
   "metadata": {
    "cell_style": "split",
    "slideshow": {
     "slide_type": "fragment"
    }
   },
   "outputs": [
    {
     "data": {
      "text/plain": [
       "0.9936811316606896"
      ]
     },
     "execution_count": 70,
     "metadata": {},
     "output_type": "execute_result"
    }
   ],
   "source": [
    "# R^2 of polynomial regression at order 15\n",
    "lr_poly.score(X_poly_ss_train, y)"
   ]
  },
  {
   "cell_type": "code",
   "execution_count": 71,
   "id": "9f981edc",
   "metadata": {
    "cell_style": "split",
    "slideshow": {
     "slide_type": "-"
    }
   },
   "outputs": [
    {
     "data": {
      "text/plain": [
       "0.9292597845006418"
      ]
     },
     "execution_count": 71,
     "metadata": {},
     "output_type": "execute_result"
    }
   ],
   "source": [
    "# R^2 of model linear in X\n",
    "lr.score(X.reshape(-1,1), y)"
   ]
  },
  {
   "cell_type": "markdown",
   "id": "d8e92c0d",
   "metadata": {
    "cell_style": "split",
    "slideshow": {
     "slide_type": "slide"
    }
   },
   "source": [
    "But what about on data that the model has never seen?\n",
    "\n",
    "- generate this data following same distribiution as training set."
   ]
  },
  {
   "cell_type": "code",
   "execution_count": 72,
   "id": "eb1a1e47",
   "metadata": {
    "cell_style": "split",
    "slideshow": {
     "slide_type": "fragment"
    }
   },
   "outputs": [
    {
     "data": {
      "image/png": "[encoded data removed]",
      "text/plain": [
       "<Figure size 432x288 with 1 Axes>"
      ]
     },
     "metadata": {
      "needs_background": "light"
     },
     "output_type": "display_data"
    }
   ],
   "source": [
    "N_test = 80\n",
    "X_test = np.sort(uniform.rvs(0, 4, N_test))\n",
    "intrinsic_fluct_test = norm.rvs(loc = 0, \n",
    "                           scale = 1.5, size = N_test)\n",
    "y_test =  2*X_test**2 + X_test + intrinsic_fluct_test\n",
    "\n",
    "y_pop_avg_tst = 2*X_test**2 + X_test\n",
    "\n",
    "plt.scatter(X_test, y_test)\n",
    "plt.title('Unseen data')\n",
    "plt.show()"
   ]
  },
  {
   "cell_type": "markdown",
   "id": "8b1ec9a8",
   "metadata": {
    "slideshow": {
     "slide_type": "slide"
    }
   },
   "source": [
    "Evaluate mean average error of model on this unseen data:\n",
    "- i.e. how well does this model generalize?"
   ]
  },
  {
   "cell_type": "code",
   "execution_count": 73,
   "id": "505d8486",
   "metadata": {
    "slideshow": {
     "slide_type": "fragment"
    }
   },
   "outputs": [],
   "source": [
    "from sklearn.metrics import mean_absolute_error"
   ]
  },
  {
   "cell_type": "code",
   "execution_count": 74,
   "id": "d2cc6c6f",
   "metadata": {
    "cell_style": "split",
    "slideshow": {
     "slide_type": "fragment"
    }
   },
   "outputs": [
    {
     "data": {
      "text/plain": [
       "27.528280118411686"
      ]
     },
     "execution_count": 74,
     "metadata": {},
     "output_type": "execute_result"
    }
   ],
   "source": [
    "# polynomial transform test data\n",
    "X_poly_test = poly_transformer.transform(\n",
    "    X_test.reshape(-1,1))\n",
    "\n",
    "# need to also scale test data \n",
    "X_poly_ss_test = ss.transform(X_poly_test)\n",
    "\n",
    "y_pred_poly_ss = lr_poly.predict(X_poly_ss_test)\n",
    "\n",
    "mean_absolute_error(y_pred_poly_ss, y_test)"
   ]
  },
  {
   "cell_type": "code",
   "execution_count": 75,
   "id": "cc3795a9",
   "metadata": {
    "cell_style": "split",
    "slideshow": {
     "slide_type": "fragment"
    }
   },
   "outputs": [
    {
     "data": {
      "text/plain": [
       "2.348739497573372"
      ]
     },
     "execution_count": 75,
     "metadata": {},
     "output_type": "execute_result"
    }
   ],
   "source": [
    "y_pred = lr.predict(X_test.reshape(-1,1))\n",
    "mean_absolute_error(y_pred, y_test)"
   ]
  },
  {
   "cell_type": "markdown",
   "id": "f5ab8187",
   "metadata": {
    "slideshow": {
     "slide_type": "subslide"
    }
   },
   "source": [
    "This is overfitting and is directly tied to the notion of the **variance** of a model."
   ]
  },
  {
   "cell_type": "markdown",
   "id": "b30ac482",
   "metadata": {
    "cell_style": "split",
    "slideshow": {
     "slide_type": "subslide"
    }
   },
   "source": [
    "Remember: training data is a **sample**.\n",
    "\n",
    "If we take another training sample from population, is it likely to learn the same model?\n",
    "- e.g. associated weight vector $\\textbf{w}$?"
   ]
  },
  {
   "cell_type": "markdown",
   "id": "0c8f1e76",
   "metadata": {
    "cell_style": "split",
    "slideshow": {
     "slide_type": "-"
    }
   },
   "source": [
    "Our old training sample and associated model:"
   ]
  },
  {
   "cell_type": "code",
   "execution_count": 76,
   "id": "9fafca9f",
   "metadata": {
    "cell_style": "split",
    "slideshow": {
     "slide_type": "-"
    }
   },
   "outputs": [
    {
     "data": {
      "image/png": "[encoded data removed]",
      "text/plain": [
       "<Figure size 720x432 with 1 Axes>"
      ]
     },
     "metadata": {
      "needs_background": "light"
     },
     "output_type": "display_data"
    }
   ],
   "source": [
    "polyfitting()"
   ]
  },
  {
   "cell_type": "markdown",
   "id": "d0ddadf5",
   "metadata": {
    "slideshow": {
     "slide_type": "slide"
    }
   },
   "source": [
    "\n",
    "- Likely to learn another model/parameter set $\\textbf{w}$ that is quite different."
   ]
  },
  {
   "cell_type": "markdown",
   "id": "9d81f0ae",
   "metadata": {
    "slideshow": {
     "slide_type": "slide"
    }
   },
   "source": [
    "Sample some new training data from population"
   ]
  },
  {
   "cell_type": "code",
   "execution_count": 77,
   "id": "da464f43",
   "metadata": {
    "cell_style": "split",
    "slideshow": {
     "slide_type": "fragment"
    }
   },
   "outputs": [],
   "source": [
    "%%capture new_data_vis\n",
    "N = 30\n",
    "# new randomly sampled features\n",
    "X_2 = np.sort(uniform.rvs(0, 4, N,  \n",
    "                        random_state = 25))\n",
    "\n",
    "# noise/variation of y about population mean given X\n",
    "# a different realization\n",
    "intrinsic_noise = norm.rvs(loc = 0, \n",
    "                           scale = 1.5, size = N)\n",
    "\n",
    "y_2 = 2*X_2**2 + X_2 + intrinsic_noise\n",
    "\n",
    "plt.scatter(X_2,y_2)\n",
    "plt.show()"
   ]
  },
  {
   "cell_type": "code",
   "execution_count": 78,
   "id": "5c952327",
   "metadata": {
    "cell_style": "split"
   },
   "outputs": [
    {
     "data": {
      "image/png": "[encoded data removed]",
      "text/plain": [
       "<Figure size 432x288 with 1 Axes>"
      ]
     },
     "metadata": {
      "needs_background": "light"
     },
     "output_type": "display_data"
    }
   ],
   "source": [
    "new_data_vis()"
   ]
  },
  {
   "cell_type": "markdown",
   "id": "3f4c75a1",
   "metadata": {
    "slideshow": {
     "slide_type": "slide"
    }
   },
   "source": [
    "Transform and fit this new training sample"
   ]
  },
  {
   "cell_type": "code",
   "execution_count": 79,
   "id": "079c531c",
   "metadata": {
    "slideshow": {
     "slide_type": "slide"
    }
   },
   "outputs": [
    {
     "data": {
      "text/plain": [
       "LinearRegression()"
      ]
     },
     "execution_count": 79,
     "metadata": {},
     "output_type": "execute_result"
    }
   ],
   "source": [
    "poly_transformer = PolynomialFeatures(15)\n",
    "ss_2 = StandardScaler()\n",
    "X_2_poly_train = poly_transformer.fit_transform(X_2.reshape(-1,1))\n",
    "X_2_poly_train_ss = ss_2.fit_transform(X_2_poly_train)\n",
    "\n",
    "lr_poly_2 = LinearRegression()\n",
    "lr_poly_2.fit(X_2_poly_train_ss, y_2)"
   ]
  },
  {
   "cell_type": "code",
   "execution_count": 80,
   "id": "7fe6f501",
   "metadata": {
    "slideshow": {
     "slide_type": "skip"
    }
   },
   "outputs": [],
   "source": [
    "%%capture polyfitting_2\n",
    "xrange = np.linspace(0,4,500)\n",
    "\n",
    "xrange_poly = poly_transformer.transform(xrange.reshape(-1,1)) \n",
    "xrange_poly_ss = ss_2.transform(xrange_poly) \n",
    "\n",
    "y_poly_range_2 = lr_poly_2.predict(xrange_poly_ss)\n",
    "\n",
    "# going in the facebook are the clearing \n",
    "fig, ax = plt.subplots(figsize = (10,6))\n",
    "\n",
    "ax.scatter(X,y, marker = 'o', s = 80, facecolors='none', edgecolors='blue', label = 'first sample')\n",
    "ax.scatter(X_2,y_2, marker = 's', s = 80, facecolors='none', edgecolors='black', label = 'second sample')\n",
    "\n",
    "ax.plot(xrange, y_poly_range, c = 'green', linewidth = 3, alpha = 0.8, label = 'model trained on first sample')\n",
    "ax.plot(xrange, y_poly_range_2, c = 'magenta', linewidth = 3, alpha = 0.8, label = 'model trained on second sample')\n",
    "ax.set_xlabel('X')\n",
    "ax.set_ylabel('Y')\n",
    "plt.legend()\n",
    "plt.ylim(-100,100)\n",
    "plt.show()"
   ]
  },
  {
   "cell_type": "code",
   "execution_count": 81,
   "id": "a167d134",
   "metadata": {
    "cell_style": "center",
    "slideshow": {
     "slide_type": "subslide"
    }
   },
   "outputs": [
    {
     "data": {
      "image/png": "[encoded data removed]",
      "text/plain": [
       "<Figure size 720x432 with 1 Axes>"
      ]
     },
     "metadata": {
      "needs_background": "light"
     },
     "output_type": "display_data"
    }
   ],
   "source": [
    "polyfitting_2()"
   ]
  },
  {
   "cell_type": "markdown",
   "id": "2a810d1f",
   "metadata": {
    "slideshow": {
     "slide_type": "slide"
    }
   },
   "source": [
    "Looking at the model weights:"
   ]
  },
  {
   "cell_type": "code",
   "execution_count": 82,
   "id": "e68f7200",
   "metadata": {
    "cell_style": "split",
    "slideshow": {
     "slide_type": "-"
    }
   },
   "outputs": [
    {
     "data": {
      "text/plain": [
       "0     0.000000e+00\n",
       "1     1.511621e+02\n",
       "2    -1.231338e+04\n",
       "3     3.441746e+05\n",
       "4    -5.067458e+06\n",
       "5     4.618854e+07\n",
       "6    -2.818870e+08\n",
       "7     1.202815e+09\n",
       "8    -3.676036e+09\n",
       "9     8.137726e+09\n",
       "10   -1.305404e+10\n",
       "11    1.500542e+10\n",
       "12   -1.203370e+10\n",
       "13    6.387497e+09\n",
       "14   -2.015141e+09\n",
       "15    2.858907e+08\n",
       "dtype: float64"
      ]
     },
     "execution_count": 82,
     "metadata": {},
     "output_type": "execute_result"
    }
   ],
   "source": [
    "pd.Series(lr_poly.coef_)"
   ]
  },
  {
   "cell_type": "code",
   "execution_count": 83,
   "id": "bc3686de",
   "metadata": {
    "cell_style": "split",
    "slideshow": {
     "slide_type": "-"
    }
   },
   "outputs": [
    {
     "data": {
      "text/plain": [
       "0     0.000000e+00\n",
       "1     9.379509e+04\n",
       "2    -2.614803e+06\n",
       "3     3.737927e+07\n",
       "4    -3.375490e+08\n",
       "5     2.095129e+09\n",
       "6    -9.353187e+09\n",
       "7     3.081249e+10\n",
       "8    -7.590227e+10\n",
       "9     1.403316e+11\n",
       "10   -1.937098e+11\n",
       "11    1.965368e+11\n",
       "12   -1.421764e+11\n",
       "13    6.935890e+10\n",
       "14   -2.043620e+10\n",
       "15    2.745550e+09\n",
       "dtype: float64"
      ]
     },
     "execution_count": 83,
     "metadata": {},
     "output_type": "execute_result"
    }
   ],
   "source": [
    "pd.Series(lr_poly_2.coef_)"
   ]
  },
  {
   "cell_type": "markdown",
   "id": "f4672788",
   "metadata": {
    "slideshow": {
     "slide_type": "fragment"
    }
   },
   "source": [
    "Really high variability in the learned weight vectors $\\textbf{w}$:\n",
    "- i.e. large fluctuations in learned model \n",
    "- oversensitivity to random noise and uncertainty in training set."
   ]
  },
  {
   "cell_type": "markdown",
   "id": "d5b28b4b",
   "metadata": {
    "cell_style": "split",
    "slideshow": {
     "slide_type": "slide"
    }
   },
   "source": [
    "**Model variance:**\n",
    "\n",
    "- the degree to which a model varies given different realizations of the training set."
   ]
  },
  {
   "cell_type": "markdown",
   "id": "3ca626ff",
   "metadata": {
    "cell_style": "split",
    "slideshow": {
     "slide_type": "slide"
    }
   },
   "source": [
    "In our high order polynomial fits to the data:\n",
    "\n",
    "- introduced too much model complexity\n",
    "\n",
    "- model over-flexibility: leads to high variance in models learned\n",
    "\n",
    "This is a situtation with **high model variance**"
   ]
  },
  {
   "cell_type": "markdown",
   "id": "82e8a2a0",
   "metadata": {
    "cell_style": "center",
    "slideshow": {
     "slide_type": "slide"
    }
   },
   "source": [
    "**Model variance as a source of error**: \n",
    "\n",
    "- source of prediction error of model on unseen data\n",
    "- high variance: fluctuation in test errors of model given different training sets will be high.\n",
    "- model variance is measure of this **averaged over different realizations of training set**\n",
    "\n"
   ]
  },
  {
   "cell_type": "markdown",
   "id": "2d0e2751",
   "metadata": {
    "cell_style": "center",
    "slideshow": {
     "slide_type": "subslide"
    }
   },
   "source": [
    "There is a balancing game in model selection:\n",
    "- model class can be too stiff (high bias)\n",
    "- or too floppy (high variance)"
   ]
  },
  {
   "cell_type": "code",
   "execution_count": 84,
   "id": "c0943113",
   "metadata": {
    "cell_style": "split",
    "slideshow": {
     "slide_type": "fragment"
    }
   },
   "outputs": [
    {
     "data": {
      "image/png": "[encoded data removed]",
      "text/plain": [
       "<Figure size 432x288 with 1 Axes>"
      ]
     },
     "metadata": {
      "needs_background": "light"
     },
     "output_type": "display_data"
    }
   ],
   "source": [
    "bias_comparison()"
   ]
  },
  {
   "cell_type": "code",
   "execution_count": 85,
   "id": "49dc37fe",
   "metadata": {
    "cell_style": "split",
    "slideshow": {
     "slide_type": "fragment"
    }
   },
   "outputs": [
    {
     "data": {
      "image/png": "[encoded data removed]",
      "text/plain": [
       "<Figure size 720x432 with 1 Axes>"
      ]
     },
     "metadata": {
      "needs_background": "light"
     },
     "output_type": "display_data"
    }
   ],
   "source": [
    "polyfitting()"
   ]
  },
  {
   "cell_type": "markdown",
   "id": "f33ec228",
   "metadata": {
    "slideshow": {
     "slide_type": "slide"
    }
   },
   "source": [
    "A little widget to show the influence of model complexity on generalization error:"
   ]
  },
  {
   "cell_type": "code",
   "execution_count": 86,
   "id": "078e160c",
   "metadata": {
    "cell_style": "split",
    "slideshow": {
     "slide_type": "fragment"
    }
   },
   "outputs": [
    {
     "data": {
      "text/html": [
       "<!DOCTYPE html>\n",
       "<html>\n",
       "  <head>\n",
       "    <meta charset=\"UTF-8\">\n",
       "    <title>title</title>\n",
       "  </head>\n",
       "  <body>\n",
       "    <img style=\"margin: auto; display: block;\" id=\"picBoxPred\" src='figures/50.png' width=400px height=300px>\n",
       "\n",
       "    <div align=\"center\">\n",
       "        <input id=\"image_id\" type=\"range\" style=\"width: 300px\" oninput=\"showVal(this.value)\" max=97 min=1 start=50 />\n",
       "    </div>\n",
       "\n",
       "    <p id=\"test\" style=\"text-align: center;\">Complexity: 0.5</p>\n",
       "\n",
       "    <img style=\"margin: auto; display: block; \"id=\"picBoxErr\" src='errors/50.png' width=400px height=300px>\n",
       "\n",
       "    <script>\n",
       "        function showVal(newVal){\n",
       "            document.getElementById(\"test\").innerHTML=\"Complexity: \" + newVal / 100;\n",
       "            showImage(newVal);\n",
       "        }\n",
       "        \n",
       "        function showImage(newVal) {\n",
       "            var img = document.getElementById(\"picBoxPred\");\n",
       "            img.src = \"figures/\" + newVal + '.png';\n",
       "            \n",
       "            var img = document.getElementById(\"picBoxErr\");\n",
       "            img.src = \"errors/\" + (newVal - 1) + '.png';\n",
       "        }\n",
       "    </script>\n",
       "  </body>\n",
       "</html>\n"
      ],
      "text/plain": [
       "<IPython.core.display.HTML object>"
      ]
     },
     "metadata": {},
     "output_type": "display_data"
    }
   ],
   "source": [
    "from IPython.display import display, HTML\n",
    "display(HTML('index.html'))"
   ]
  },
  {
   "cell_type": "markdown",
   "id": "dc689230",
   "metadata": {
    "cell_style": "split"
   },
   "source": [
    "- Locally weighted polynomial regression of a sinusoid with noise:\n",
    "    - increasing complexity at first reduces bias\n",
    "    - too high and it starts to model noise\n",
    "    \n",
    "Tension between bias and variance"
   ]
  },
  {
   "cell_type": "markdown",
   "id": "28059dcb",
   "metadata": {
    "slideshow": {
     "slide_type": "slide"
    }
   },
   "source": [
    "Often called the **bias-variance tradeoff**"
   ]
  },
  {
   "cell_type": "markdown",
   "id": "449e4b15",
   "metadata": {
    "cell_style": "split",
    "slideshow": {
     "slide_type": "slide"
    }
   },
   "source": [
    "Thus: average generalization/test error derived from the separate error sources we have considered.\n",
    "\n",
    "- intrinsic fluctuation\n",
    "- bias\n",
    "- variance\n",
    "\n",
    "\n",
    "**Often called the bias-variance decomposition**"
   ]
  },
  {
   "cell_type": "markdown",
   "id": "701dcc8c",
   "metadata": {
    "cell_style": "split",
    "slideshow": {
     "slide_type": "fragment"
    }
   },
   "source": [
    "With an interplay/tradeoff between the latter two sources of error."
   ]
  },
  {
   "cell_type": "markdown",
   "id": "bbeab848",
   "metadata": {
    "cell_style": "center",
    "slideshow": {
     "slide_type": "subslide"
    }
   },
   "source": [
    "Much of machine learning focuses on strategies to deal with bias and variance and the tension between them:\n",
    "- creating models complex enough to capture relationships between targets and relevant features/interactions    \n",
    "- but making them statistically robust\n",
    "\n",
    "in the service of acheiving high predictive power on unseen data"
   ]
  }
 ],
 "metadata": {
  "celltoolbar": "Slideshow",
  "kernelspec": {
   "display_name": "Python 3 (ipykernel)",
   "language": "python",
   "name": "python3"
  },
  "language_info": {
   "codemirror_mode": {
    "name": "ipython",
    "version": 3
   },
   "file_extension": ".py",
   "mimetype": "text/x-python",
   "name": "python",
   "nbconvert_exporter": "python",
   "pygments_lexer": "ipython3",
   "version": "3.9.7"
  }
 },
 "nbformat": 4,
 "nbformat_minor": 5
}
