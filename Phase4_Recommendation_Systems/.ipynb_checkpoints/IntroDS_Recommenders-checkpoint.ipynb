{
 "cells": [
  {
   "cell_type": "markdown",
   "id": "8c21d496",
   "metadata": {
    "cell_style": "center",
    "slideshow": {
     "slide_type": "slide"
    }
   },
   "source": [
    "<div style=\"color:white;\n",
    "           display:fill;\n",
    "           border-radius:5px;\n",
    "           background-color:#5642C5;\n",
    "           font-size:200%;\n",
    "           font-family:Arial;letter-spacing:0.5px\">\n",
    "\n",
    "<p width = 20%, style=\"padding: 10px;\n",
    "              color:white;\">\n",
    "Matrix Factorization: Recommender Systems\n",
    "              \n",
    "</p>\n",
    "</div>\n",
    "\n",
    "\n",
    "<p>NYC Data Science Bootcamp Nov 2023</p>\n",
    "<p>Phase 4</p>\n",
    "<br>\n",
    "<br>\n",
    "\n",
    "<div align = \"right\">\n",
    "<img src=\"Images/flatiron-school-logo.png\" align = \"right\" width=\"200\"/>\n",
    "</div>\n",
    "    \n",
    "    "
   ]
  },
  {
   "cell_type": "markdown",
   "id": "64f1be49",
   "metadata": {
    "slideshow": {
     "slide_type": "slide"
    }
   },
   "source": [
    "### Recommender systems in your day-to-day"
   ]
  },
  {
   "cell_type": "markdown",
   "id": "f9aff330",
   "metadata": {
    "cell_style": "center",
    "slideshow": {
     "slide_type": "subslide"
    }
   },
   "source": [
    "#### Automated content curation and personalized suggestions"
   ]
  },
  {
   "cell_type": "markdown",
   "id": "5144608c",
   "metadata": {
    "cell_style": "split",
    "slideshow": {
     "slide_type": "subslide"
    }
   },
   "source": [
    "<div align = \"center\">\n",
    "\n",
    "<img src=\"Images/goodreads_logo.jpg\" align = \"center\" width=\"300\"/>\n",
    "\n",
    "</div>\n",
    "Based on explicit star ratings of books:\n",
    "\n",
    "\n",
    "<div align = \"center\">\n",
    "<img src=\"Images/Goodreads_starred.png\" align = \"center\" width=\"700\"/>\n",
    "</div>"
   ]
  },
  {
   "cell_type": "markdown",
   "id": "cdac46d4",
   "metadata": {
    "cell_style": "split",
    "slideshow": {
     "slide_type": "-"
    }
   },
   "source": [
    "Yielding recommendations:\n",
    "\n",
    "<div align = \"center\">\n",
    "<img src=\"Images/goodreads.png\" align = \"center\" width=\"700\"/>\n",
    "</div>"
   ]
  },
  {
   "cell_type": "markdown",
   "id": "5975099e",
   "metadata": {
    "cell_style": "center",
    "slideshow": {
     "slide_type": "slide"
    }
   },
   "source": [
    "### The Recommendation Problem (in general)"
   ]
  },
  {
   "cell_type": "markdown",
   "id": "e95644b9",
   "metadata": {
    "cell_style": "split",
    "slideshow": {
     "slide_type": "subslide"
    }
   },
   "source": [
    "*Users*\n",
    "\n",
    "- List of users, preferences and/or other info (in some form or another)\n"
   ]
  },
  {
   "cell_type": "markdown",
   "id": "61ffaa63",
   "metadata": {
    "cell_style": "split",
    "slideshow": {
     "slide_type": "fragment"
    }
   },
   "source": [
    "*Items/Entities*\n",
    "\n",
    "- collection of items that users has or might interact with\n",
    "- potentially info on these items"
   ]
  },
  {
   "cell_type": "markdown",
   "id": "c4239c1a",
   "metadata": {
    "cell_style": "split",
    "slideshow": {
     "slide_type": "slide"
    }
   },
   "source": [
    "*User-Item Interactions*\n",
    "- **Explicit**: rating items directly\n",
    "    - like = 1/dislike = 0\n",
    "    - 1-5 stars\n",
    " \n",
    "<div align = \"center\">\n",
    "<img src=\"Images/star_rating.webp\" align = \"center\" width=\"450\"/>\n",
    "</div>\n",
    "\n",
    "**Will focus on explicit rating schemes.**"
   ]
  },
  {
   "cell_type": "markdown",
   "id": "6db30fe4",
   "metadata": {
    "cell_style": "split",
    "slideshow": {
     "slide_type": "fragment"
    }
   },
   "source": [
    "<div align = \"center\">\n",
    "<img src=\"Images/gladiator_up.jpeg\" align = \"center\" width=\"600\"/>\n",
    "</div>\n",
    "\n",
    "<center><i>Likes/dislikes can sometimes be a life or death matter</i></center>"
   ]
  },
  {
   "cell_type": "markdown",
   "id": "8ac0f126",
   "metadata": {
    "cell_style": "center",
    "slideshow": {
     "slide_type": "subslide"
    }
   },
   "source": [
    "*User-Item Interactions*\n",
    "- **Implicit**: monitor user activity and *deduce* item relevance\n",
    "    - did a user watch a movie to the end?\n",
    "    - did a user click on a product page? \n"
   ]
  },
  {
   "cell_type": "markdown",
   "id": "4a8ebf29",
   "metadata": {
    "cell_style": "split",
    "slideshow": {
     "slide_type": "fragment"
    }
   },
   "source": [
    "Interaction: watched for more than a minute.\n",
    "- Interaction = 1\n",
    "- No interaction = 0\n",
    "\n",
    "| User | Intro to Hollow Earth | Optimizing your garden tomato yield | Egypt: The Middle Kingdom | George Motz: The Burger Scholar| Rexamining Darwin|\n",
    "| --- | --- | --- | --- | --- | --- |\n",
    "| Praveen | 1 | 0 | 1 | 0 | 1 |\n",
    "\n",
    "<center> Youtube Videos: Past Month Click History </center>\n"
   ]
  },
  {
   "cell_type": "markdown",
   "id": "8f65ebd1",
   "metadata": {
    "cell_style": "split",
    "slideshow": {
     "slide_type": "fragment"
    }
   },
   "source": [
    "<center>Youtube keeps recommending:</center>\n",
    "<div align = \"center\">\n",
    "<img src=\"Images/aliens.jpg\" align = \"center\" width=\"600\"/>\n",
    "</div>\n",
    "\n",
    "<center><i>Dear lord...what have I been clicking on?</i></center>"
   ]
  },
  {
   "cell_type": "markdown",
   "id": "56a56e69",
   "metadata": {
    "slideshow": {
     "slide_type": "fragment"
    }
   },
   "source": [
    "Focus on recommendations using explicit ratings here:\n",
    "- implicit rating schemes are usually modifications to explicit rating algorithms."
   ]
  },
  {
   "cell_type": "markdown",
   "id": "5542df44",
   "metadata": {
    "slideshow": {
     "slide_type": "slide"
    }
   },
   "source": [
    "**Goal** "
   ]
  },
  {
   "cell_type": "markdown",
   "id": "83308faa",
   "metadata": {
    "cell_style": "split",
    "slideshow": {
     "slide_type": "fragment"
    }
   },
   "source": [
    "Given user interaction with items:\n",
    "\n",
    "\n",
    "<div align = \"center\">\n",
    "<img src=\"Images/user_movies_explicit.png\" align = \"center\" width=\"600\"/>\n",
    "</div>\n"
   ]
  },
  {
   "cell_type": "markdown",
   "id": "23e06fb8",
   "metadata": {
    "cell_style": "split",
    "slideshow": {
     "slide_type": "-"
    }
   },
   "source": [
    "**Predict user engagement or ratings on entity user has not yet interacted with.**\n",
    "\n",
    "<div align = \"center\">\n",
    "<img src=\"Images/user_movies_unknown.png\" align = \"center\" width=\"600\"/>\n",
    "</div>\n",
    "\n",
    "Filter this to get top $K$ results with highest predicted engagement/rating for user."
   ]
  },
  {
   "cell_type": "markdown",
   "id": "e8f9ee4a",
   "metadata": {
    "cell_style": "split",
    "slideshow": {
     "slide_type": "slide"
    }
   },
   "source": [
    "**Matrix representation**\n",
    "- Ratings matrix $R$ \n",
    "- rows: users\n",
    "- columns: items"
   ]
  },
  {
   "cell_type": "markdown",
   "id": "bbffdbe0",
   "metadata": {
    "cell_style": "split",
    "slideshow": {
     "slide_type": "-"
    }
   },
   "source": [
    "\n",
    "\n",
    "<div align = \"center\">\n",
    "<img src=\"Images/R_ij.png\" align = \"center\" width=\"600\"/>\n",
    "</div>\n"
   ]
  },
  {
   "cell_type": "markdown",
   "id": "6c736fb1",
   "metadata": {
    "cell_style": "split",
    "slideshow": {
     "slide_type": "subslide"
    }
   },
   "source": [
    "- User and item understanding to impute.\n",
    "- Users: \n",
    "    - Bob similar to Alice. \n",
    "    - Dissimilar to Carol.\n",
    "- Items: \n",
    "    - Batman, Xmen, and Star Wars: Scifi\n",
    "    - The Notebook, Bridget Jones: Romance"
   ]
  },
  {
   "cell_type": "markdown",
   "id": "189663b2",
   "metadata": {
    "cell_style": "split",
    "slideshow": {
     "slide_type": "-"
    }
   },
   "source": [
    "\n",
    "\n",
    "<div align = \"center\">\n",
    "<img src=\"Images/R_ij.png\" align = \"center\" width=\"600\"/>\n",
    "</div>"
   ]
  },
  {
   "cell_type": "markdown",
   "id": "70c5de30",
   "metadata": {
    "slideshow": {
     "slide_type": "slide"
    }
   },
   "source": [
    "There are two principles we just implicitly used:"
   ]
  },
  {
   "cell_type": "markdown",
   "id": "39c59391",
   "metadata": {
    "cell_style": "split",
    "slideshow": {
     "slide_type": "fragment"
    }
   },
   "source": [
    "- **Collabarative filtering**:\n",
    "    - Similar users should behave similarly across movies.\n",
    "    - Similar movies should behave similarly across users."
   ]
  },
  {
   "cell_type": "markdown",
   "id": "46de7d75",
   "metadata": {
    "cell_style": "split",
    "slideshow": {
     "slide_type": "fragment"
    }
   },
   "source": [
    "- **Principle of redundancy (multicollinearity)**:\n",
    "    - many user rows highly related to each other (i.e. users with similar preferences)\n",
    "    - many item columns highly related to each other (i.e. movies with similar characteristics)"
   ]
  },
  {
   "cell_type": "markdown",
   "id": "1740075a",
   "metadata": {
    "cell_style": "split",
    "slideshow": {
     "slide_type": "slide"
    }
   },
   "source": [
    "<div align = \"center\">\n",
    "<img src=\"Images/R_ij.png\" align = \"center\" width=\"600\"/>\n",
    "</div>"
   ]
  },
  {
   "cell_type": "markdown",
   "id": "6c07ce63",
   "metadata": {
    "cell_style": "split",
    "slideshow": {
     "slide_type": "fragment"
    }
   },
   "source": [
    "- **Principle of redundancy (multicollinearity)**:\n",
    "    - e.g. Alice, Bob\n",
    "    - e.g. X-men, Batman"
   ]
  },
  {
   "cell_type": "markdown",
   "id": "8b55c073",
   "metadata": {
    "slideshow": {
     "slide_type": "slide"
    }
   },
   "source": [
    "Multicollinearity:\n",
    "\n",
    "- think PCA and dimensionality reduction\n",
    "- our data likely has far fewer controlling factors generating ratings across users and items."
   ]
  },
  {
   "cell_type": "markdown",
   "id": "648e9172",
   "metadata": {
    "cell_style": "split",
    "slideshow": {
     "slide_type": "slide"
    }
   },
   "source": [
    "In our simple case: **d = 2**\n",
    "- Item space: weights of scifi or romantic comedy for a movie.\n",
    "- User space: how much does a user like scifi or romantic comedy?\n",
    "\n"
   ]
  },
  {
   "cell_type": "markdown",
   "id": "81398f14",
   "metadata": {
    "cell_style": "split",
    "slideshow": {
     "slide_type": "fragment"
    }
   },
   "source": [
    "Then what a user $i$  rated a movie $j$ might look like this:\n",
    "\n",
    "$$ r_{ij} = u_{i, romcom}v_{romcom, j} + u_{i,scifi}v_{scifi, j} $$\n",
    "\n",
    "- $ v_j $ are 2D feature vector for movies.\n",
    "- $u_i$ are 2D preference vector for users.\n"
   ]
  },
  {
   "cell_type": "markdown",
   "id": "6964121a",
   "metadata": {
    "slideshow": {
     "slide_type": "slide"
    }
   },
   "source": [
    "In other words:\n",
    "\n",
    "$$ r_{ij} = u_{i, romcom}v_{romcom, j} + u_{i,scifi}v_{scifi, j} $$"
   ]
  },
  {
   "cell_type": "markdown",
   "id": "9e784e8b",
   "metadata": {
    "slideshow": {
     "slide_type": "fragment"
    }
   },
   "source": [
    "$$ r_{ij} = u_i^Tv_j $$"
   ]
  },
  {
   "cell_type": "markdown",
   "id": "3a3ec196",
   "metadata": {
    "slideshow": {
     "slide_type": "fragment"
    }
   },
   "source": [
    "Rating $r_{ij}$ as dot product between:\n",
    "- user vector representing preferences for features.\n",
    "- item vector representing weights of these features."
   ]
  },
  {
   "cell_type": "markdown",
   "id": "8d08f82f",
   "metadata": {
    "slideshow": {
     "slide_type": "slide"
    }
   },
   "source": [
    "Doing this across all users $i$ and items $j$:\n",
    "    \n",
    "- We build up two matrices "
   ]
  },
  {
   "cell_type": "markdown",
   "id": "00cb72fc",
   "metadata": {
    "cell_style": "center",
    "slideshow": {
     "slide_type": "fragment"
    }
   },
   "source": [
    "<div align = \"center\">\n",
    "<img src=\"Images/matrixfactor.png\" align = \"center\" width=\"500\"/>\n",
    "</div>\n"
   ]
  },
  {
   "cell_type": "markdown",
   "id": "a133e7da",
   "metadata": {
    "slideshow": {
     "slide_type": "slide"
    }
   },
   "source": [
    "Assuming a lower feature dimension $d$, sufficient to capture the user-item rating space:\n",
    "\n",
    "- factorization of ratings matrix: $R = UV$.\n",
    "- $U$: rows are vectors for preferences for the $d$ features for each user.\n",
    "- $V$: columns are vectors for weights of the $d$ features for each item.\n"
   ]
  },
  {
   "cell_type": "markdown",
   "id": "4626b21a",
   "metadata": {
    "cell_style": "center",
    "slideshow": {
     "slide_type": "fragment"
    }
   },
   "source": [
    "<div align = \"center\">\n",
    "<img src=\"Images/matrixfactor.png\" align = \"center\" width=\"500\"/>\n",
    "</div>"
   ]
  },
  {
   "cell_type": "markdown",
   "id": "abe8acd8",
   "metadata": {
    "slideshow": {
     "slide_type": "slide"
    }
   },
   "source": [
    "**The task at hand**"
   ]
  },
  {
   "cell_type": "markdown",
   "id": "487300f7",
   "metadata": {
    "cell_style": "split",
    "slideshow": {
     "slide_type": "subslide"
    }
   },
   "source": [
    "In general, $R$ is sparse.\n",
    "- most entries are NaNs \n",
    "- each user only interacts with a small subset of items"
   ]
  },
  {
   "cell_type": "markdown",
   "id": "7b05b7de",
   "metadata": {
    "cell_style": "split",
    "slideshow": {
     "slide_type": "fragment"
    }
   },
   "source": []
  },
  {
   "cell_type": "markdown",
   "id": "729985f9",
   "metadata": {
    "cell_style": "split"
   },
   "source": [
    "Our goal is to impute these NaNs!"
   ]
  },
  {
   "cell_type": "markdown",
   "id": "b3f216ea",
   "metadata": {
    "slideshow": {
     "slide_type": "slide"
    }
   },
   "source": [
    "Using matrix factorization:\n",
    "- assuming $d$-dimensional feature space\n",
    "- use observed values to learn $U$ and $V$"
   ]
  },
  {
   "cell_type": "markdown",
   "id": "23c331fe",
   "metadata": {
    "slideshow": {
     "slide_type": "fragment"
    }
   },
   "source": [
    "<div align = \"center\">\n",
    "<img src=\"Images/matrixfactor.png\" align = \"center\" width=\"500\"/>\n",
    "</div>"
   ]
  },
  {
   "cell_type": "markdown",
   "id": "f73bdf4c",
   "metadata": {
    "cell_style": "center",
    "slideshow": {
     "slide_type": "fragment"
    }
   },
   "source": [
    "$$ u_i^Tv_j \\approx  r^{obs}_{ij}$$ for observed $r_{ij}$ in $R$.\n"
   ]
  },
  {
   "cell_type": "code",
   "execution_count": 1,
   "id": "3fa866d9",
   "metadata": {
    "cell_style": "center",
    "slideshow": {
     "slide_type": "skip"
    }
   },
   "outputs": [],
   "source": [
    "import pandas as pd\n",
    "import numpy as np\n",
    "\n",
    "user_item_r = pd.DataFrame([[3, 2, np.nan, np.nan], [np.nan, 2, 0, 1.5], [4, np.nan, 3, np.nan], [5, 3, np.nan, 2]])\n",
    "\n",
    "user = pd.DataFrame(\n",
    "    [[1.2, 0.8],[1.4, 0.9], \n",
    "     [1.5, 1.0], [2, 1.3]],\n",
    "    index = ['A', 'B', 'C', 'D'])\n",
    "\n",
    "items = pd.DataFrame([[1.5, 1.2, 1.0, 0.8], \n",
    "         [1.7, 0.6, 1.1, 0.4]],\n",
    "                     columns = ['W', 'X', 'Y', 'Z'])"
   ]
  },
  {
   "cell_type": "markdown",
   "id": "bdd27264",
   "metadata": {
    "cell_style": "split",
    "slideshow": {
     "slide_type": "slide"
    }
   },
   "source": [
    "In learning $U$ and $V$:, something nice happens.\n",
    "- Concrete example\n"
   ]
  },
  {
   "cell_type": "code",
   "execution_count": 2,
   "id": "10dec9d6",
   "metadata": {
    "cell_style": "split",
    "slideshow": {
     "slide_type": "fragment"
    }
   },
   "outputs": [
    {
     "data": {
      "text/html": [
       "<div>\n",
       "<style scoped>\n",
       "    .dataframe tbody tr th:only-of-type {\n",
       "        vertical-align: middle;\n",
       "    }\n",
       "\n",
       "    .dataframe tbody tr th {\n",
       "        vertical-align: top;\n",
       "    }\n",
       "\n",
       "    .dataframe thead th {\n",
       "        text-align: right;\n",
       "    }\n",
       "</style>\n",
       "<table border=\"1\" class=\"dataframe\">\n",
       "  <thead>\n",
       "    <tr style=\"text-align: right;\">\n",
       "      <th></th>\n",
       "      <th>0</th>\n",
       "      <th>1</th>\n",
       "      <th>2</th>\n",
       "      <th>3</th>\n",
       "    </tr>\n",
       "  </thead>\n",
       "  <tbody>\n",
       "    <tr>\n",
       "      <th>0</th>\n",
       "      <td>3.0</td>\n",
       "      <td>2.0</td>\n",
       "      <td>NaN</td>\n",
       "      <td>NaN</td>\n",
       "    </tr>\n",
       "    <tr>\n",
       "      <th>1</th>\n",
       "      <td>NaN</td>\n",
       "      <td>2.0</td>\n",
       "      <td>0.0</td>\n",
       "      <td>1.5</td>\n",
       "    </tr>\n",
       "    <tr>\n",
       "      <th>2</th>\n",
       "      <td>4.0</td>\n",
       "      <td>NaN</td>\n",
       "      <td>3.0</td>\n",
       "      <td>NaN</td>\n",
       "    </tr>\n",
       "    <tr>\n",
       "      <th>3</th>\n",
       "      <td>5.0</td>\n",
       "      <td>3.0</td>\n",
       "      <td>NaN</td>\n",
       "      <td>2.0</td>\n",
       "    </tr>\n",
       "  </tbody>\n",
       "</table>\n",
       "</div>"
      ],
      "text/plain": [
       "     0    1    2    3\n",
       "0  3.0  2.0  NaN  NaN\n",
       "1  NaN  2.0  0.0  1.5\n",
       "2  4.0  NaN  3.0  NaN\n",
       "3  5.0  3.0  NaN  2.0"
      ]
     },
     "execution_count": 2,
     "metadata": {},
     "output_type": "execute_result"
    }
   ],
   "source": [
    "user_item_r"
   ]
  },
  {
   "cell_type": "markdown",
   "id": "f656cdb7",
   "metadata": {
    "slideshow": {
     "slide_type": "subslide"
    }
   },
   "source": [
    "Matrix factorization might learn $U$, $V$ to approximate observed values:"
   ]
  },
  {
   "cell_type": "code",
   "execution_count": 3,
   "id": "54eb3137",
   "metadata": {
    "cell_style": "split",
    "slideshow": {
     "slide_type": "subslide"
    }
   },
   "outputs": [
    {
     "data": {
      "text/html": [
       "<div>\n",
       "<style scoped>\n",
       "    .dataframe tbody tr th:only-of-type {\n",
       "        vertical-align: middle;\n",
       "    }\n",
       "\n",
       "    .dataframe tbody tr th {\n",
       "        vertical-align: top;\n",
       "    }\n",
       "\n",
       "    .dataframe thead th {\n",
       "        text-align: right;\n",
       "    }\n",
       "</style>\n",
       "<table border=\"1\" class=\"dataframe\">\n",
       "  <thead>\n",
       "    <tr style=\"text-align: right;\">\n",
       "      <th></th>\n",
       "      <th>0</th>\n",
       "      <th>1</th>\n",
       "    </tr>\n",
       "  </thead>\n",
       "  <tbody>\n",
       "    <tr>\n",
       "      <th>A</th>\n",
       "      <td>1.2</td>\n",
       "      <td>0.8</td>\n",
       "    </tr>\n",
       "    <tr>\n",
       "      <th>B</th>\n",
       "      <td>1.4</td>\n",
       "      <td>0.9</td>\n",
       "    </tr>\n",
       "    <tr>\n",
       "      <th>C</th>\n",
       "      <td>1.5</td>\n",
       "      <td>1.0</td>\n",
       "    </tr>\n",
       "    <tr>\n",
       "      <th>D</th>\n",
       "      <td>2.0</td>\n",
       "      <td>1.3</td>\n",
       "    </tr>\n",
       "  </tbody>\n",
       "</table>\n",
       "</div>"
      ],
      "text/plain": [
       "     0    1\n",
       "A  1.2  0.8\n",
       "B  1.4  0.9\n",
       "C  1.5  1.0\n",
       "D  2.0  1.3"
      ]
     },
     "execution_count": 3,
     "metadata": {},
     "output_type": "execute_result"
    }
   ],
   "source": [
    "user"
   ]
  },
  {
   "cell_type": "code",
   "execution_count": 4,
   "id": "61d87d99",
   "metadata": {
    "cell_style": "split",
    "slideshow": {
     "slide_type": "fragment"
    }
   },
   "outputs": [
    {
     "data": {
      "text/html": [
       "<div>\n",
       "<style scoped>\n",
       "    .dataframe tbody tr th:only-of-type {\n",
       "        vertical-align: middle;\n",
       "    }\n",
       "\n",
       "    .dataframe tbody tr th {\n",
       "        vertical-align: top;\n",
       "    }\n",
       "\n",
       "    .dataframe thead th {\n",
       "        text-align: right;\n",
       "    }\n",
       "</style>\n",
       "<table border=\"1\" class=\"dataframe\">\n",
       "  <thead>\n",
       "    <tr style=\"text-align: right;\">\n",
       "      <th></th>\n",
       "      <th>W</th>\n",
       "      <th>X</th>\n",
       "      <th>Y</th>\n",
       "      <th>Z</th>\n",
       "    </tr>\n",
       "  </thead>\n",
       "  <tbody>\n",
       "    <tr>\n",
       "      <th>0</th>\n",
       "      <td>1.5</td>\n",
       "      <td>1.2</td>\n",
       "      <td>1.0</td>\n",
       "      <td>0.8</td>\n",
       "    </tr>\n",
       "    <tr>\n",
       "      <th>1</th>\n",
       "      <td>1.7</td>\n",
       "      <td>0.6</td>\n",
       "      <td>1.1</td>\n",
       "      <td>0.4</td>\n",
       "    </tr>\n",
       "  </tbody>\n",
       "</table>\n",
       "</div>"
      ],
      "text/plain": [
       "     W    X    Y    Z\n",
       "0  1.5  1.2  1.0  0.8\n",
       "1  1.7  0.6  1.1  0.4"
      ]
     },
     "execution_count": 4,
     "metadata": {},
     "output_type": "execute_result"
    }
   ],
   "source": [
    "items"
   ]
  },
  {
   "cell_type": "markdown",
   "id": "f2380c5e",
   "metadata": {
    "slideshow": {
     "slide_type": "slide"
    }
   },
   "source": [
    "Comparing factorization and observed values:"
   ]
  },
  {
   "cell_type": "code",
   "execution_count": 5,
   "id": "760fe030",
   "metadata": {
    "cell_style": "split",
    "slideshow": {
     "slide_type": "fragment"
    }
   },
   "outputs": [
    {
     "data": {
      "text/html": [
       "<div>\n",
       "<style scoped>\n",
       "    .dataframe tbody tr th:only-of-type {\n",
       "        vertical-align: middle;\n",
       "    }\n",
       "\n",
       "    .dataframe tbody tr th {\n",
       "        vertical-align: top;\n",
       "    }\n",
       "\n",
       "    .dataframe thead th {\n",
       "        text-align: right;\n",
       "    }\n",
       "</style>\n",
       "<table border=\"1\" class=\"dataframe\">\n",
       "  <thead>\n",
       "    <tr style=\"text-align: right;\">\n",
       "      <th></th>\n",
       "      <th>W</th>\n",
       "      <th>X</th>\n",
       "      <th>Y</th>\n",
       "      <th>Z</th>\n",
       "    </tr>\n",
       "  </thead>\n",
       "  <tbody>\n",
       "    <tr>\n",
       "      <th>A</th>\n",
       "      <td>3.16</td>\n",
       "      <td>1.92</td>\n",
       "      <td>2.08</td>\n",
       "      <td>1.28</td>\n",
       "    </tr>\n",
       "    <tr>\n",
       "      <th>B</th>\n",
       "      <td>3.63</td>\n",
       "      <td>2.22</td>\n",
       "      <td>2.39</td>\n",
       "      <td>1.48</td>\n",
       "    </tr>\n",
       "    <tr>\n",
       "      <th>C</th>\n",
       "      <td>3.95</td>\n",
       "      <td>2.40</td>\n",
       "      <td>2.60</td>\n",
       "      <td>1.60</td>\n",
       "    </tr>\n",
       "    <tr>\n",
       "      <th>D</th>\n",
       "      <td>5.21</td>\n",
       "      <td>3.18</td>\n",
       "      <td>3.43</td>\n",
       "      <td>2.12</td>\n",
       "    </tr>\n",
       "  </tbody>\n",
       "</table>\n",
       "</div>"
      ],
      "text/plain": [
       "      W     X     Y     Z\n",
       "A  3.16  1.92  2.08  1.28\n",
       "B  3.63  2.22  2.39  1.48\n",
       "C  3.95  2.40  2.60  1.60\n",
       "D  5.21  3.18  3.43  2.12"
      ]
     },
     "execution_count": 5,
     "metadata": {},
     "output_type": "execute_result"
    }
   ],
   "source": [
    "user@items"
   ]
  },
  {
   "cell_type": "code",
   "execution_count": 6,
   "id": "687c18b0",
   "metadata": {
    "cell_style": "split",
    "slideshow": {
     "slide_type": "-"
    }
   },
   "outputs": [
    {
     "data": {
      "text/html": [
       "<div>\n",
       "<style scoped>\n",
       "    .dataframe tbody tr th:only-of-type {\n",
       "        vertical-align: middle;\n",
       "    }\n",
       "\n",
       "    .dataframe tbody tr th {\n",
       "        vertical-align: top;\n",
       "    }\n",
       "\n",
       "    .dataframe thead th {\n",
       "        text-align: right;\n",
       "    }\n",
       "</style>\n",
       "<table border=\"1\" class=\"dataframe\">\n",
       "  <thead>\n",
       "    <tr style=\"text-align: right;\">\n",
       "      <th></th>\n",
       "      <th>0</th>\n",
       "      <th>1</th>\n",
       "      <th>2</th>\n",
       "      <th>3</th>\n",
       "    </tr>\n",
       "  </thead>\n",
       "  <tbody>\n",
       "    <tr>\n",
       "      <th>0</th>\n",
       "      <td>3.0</td>\n",
       "      <td>2.0</td>\n",
       "      <td>NaN</td>\n",
       "      <td>NaN</td>\n",
       "    </tr>\n",
       "    <tr>\n",
       "      <th>1</th>\n",
       "      <td>NaN</td>\n",
       "      <td>2.0</td>\n",
       "      <td>0.0</td>\n",
       "      <td>1.5</td>\n",
       "    </tr>\n",
       "    <tr>\n",
       "      <th>2</th>\n",
       "      <td>4.0</td>\n",
       "      <td>NaN</td>\n",
       "      <td>3.0</td>\n",
       "      <td>NaN</td>\n",
       "    </tr>\n",
       "    <tr>\n",
       "      <th>3</th>\n",
       "      <td>5.0</td>\n",
       "      <td>3.0</td>\n",
       "      <td>NaN</td>\n",
       "      <td>2.0</td>\n",
       "    </tr>\n",
       "  </tbody>\n",
       "</table>\n",
       "</div>"
      ],
      "text/plain": [
       "     0    1    2    3\n",
       "0  3.0  2.0  NaN  NaN\n",
       "1  NaN  2.0  0.0  1.5\n",
       "2  4.0  NaN  3.0  NaN\n",
       "3  5.0  3.0  NaN  2.0"
      ]
     },
     "execution_count": 6,
     "metadata": {},
     "output_type": "execute_result"
    }
   ],
   "source": [
    "user_item_r"
   ]
  },
  {
   "cell_type": "markdown",
   "id": "c7c23b96",
   "metadata": {
    "slideshow": {
     "slide_type": "fragment"
    }
   },
   "source": [
    "What do you notice?"
   ]
  },
  {
   "cell_type": "markdown",
   "id": "352cb3ad",
   "metadata": {
    "cell_style": "split",
    "slideshow": {
     "slide_type": "slide"
    }
   },
   "source": [
    "A good matrix factorization learns:\n",
    "- $d$-dimensional representation of users\n",
    "- $d$-dimensional repesentation of items\n",
    "\n",
    "from observed data"
   ]
  },
  {
   "cell_type": "markdown",
   "id": "9f4b888c",
   "metadata": {
    "cell_style": "split"
   },
   "source": [
    "These representations can be used to *guess* what a particular user might rate a given movie:\n",
    "- even when the user has not watched/rated the movie\n",
    "\n",
    "**Our ultimate goal**"
   ]
  },
  {
   "cell_type": "markdown",
   "id": "be818d6c",
   "metadata": {},
   "source": [
    "### Matrix Factorization fitting and optimization:"
   ]
  },
  {
   "cell_type": "markdown",
   "id": "e8a24ba1",
   "metadata": {
    "cell_style": "split",
    "slideshow": {
     "slide_type": "subslide"
    }
   },
   "source": [
    "Minimize squared error loss with regularization:\n",
    "\n",
    "$$ \\sum_{(i,j) \\in \\Omega^{obs}} |u_i^Tv_j  - r_{ij}|^2 + \\lambda |u_i|^2 + \\lambda |v_j|^2 $$\n",
    "\n",
    "Get $u_i^Tv_j$ close to observed $r_{ij}$"
   ]
  },
  {
   "cell_type": "markdown",
   "id": "1feaa6c3",
   "metadata": {
    "cell_style": "split",
    "slideshow": {
     "slide_type": "-"
    }
   },
   "source": [
    "<div align = \"center\">\n",
    "<img src=\"Images/matrixfactor.png\" align = \"center\" width=\"500\"/>\n",
    "</div>"
   ]
  },
  {
   "cell_type": "markdown",
   "id": "55903130",
   "metadata": {
    "cell_style": "center",
    "slideshow": {
     "slide_type": "fragment"
    }
   },
   "source": [
    "We don't know $U$ or $V$."
   ]
  },
  {
   "cell_type": "markdown",
   "id": "e6eff8d0",
   "metadata": {
    "cell_style": "center",
    "slideshow": {
     "slide_type": "slide"
    }
   },
   "source": [
    "### The algorithms will help us"
   ]
  },
  {
   "cell_type": "markdown",
   "id": "5cc36137",
   "metadata": {
    "slideshow": {
     "slide_type": "subslide"
    }
   },
   "source": [
    "Step 1: Randomly initialize $U$, $V$:\n",
    "- $U = U_0$\n",
    "- $V = V_0$"
   ]
  },
  {
   "cell_type": "markdown",
   "id": "28ad34ce",
   "metadata": {
    "cell_style": "split",
    "slideshow": {
     "slide_type": "subslide"
    }
   },
   "source": [
    "Algorithm implementations:\n",
    "- Alternating Least Squares\n",
    "- Simon Funk's \"SVD\"\n",
    "- Katon's SVD++"
   ]
  },
  {
   "cell_type": "markdown",
   "id": "c6d2badd",
   "metadata": {
    "cell_style": "split"
   },
   "source": [
    "The last two use a variant of **gradient descent**:\n",
    "\n",
    "-  pick $u_i$, $v_j$ from $U$, $V$ correspond to observed rating $r_{ij}$\n"
   ]
  },
  {
   "cell_type": "markdown",
   "id": "0be3e088",
   "metadata": {
    "cell_style": "center",
    "slideshow": {
     "slide_type": "slide"
    }
   },
   "source": [
    "- Take gradients of $$ L = \\sum_{(i,j) \\in \\Omega^{obs}} |u_i^Tv_j  - r_{ij}|^2 + \\lambda |u_i|^2 + \\lambda |v_j|^2 $$ \n",
    "\n",
    "\n",
    "with respect to specific row $u_i$ of $U$ as well as specific column $v_j$ of $V$. \n"
   ]
  },
  {
   "cell_type": "markdown",
   "id": "7da9dab3",
   "metadata": {
    "cell_style": "split"
   },
   "source": [
    "A little gradient action:\n",
    "$$ \\nabla_{u_i}L =  (v_jv_j^T - \\lambda I) u_i - r_{ij}v_j $$\n",
    "$$ \\nabla_{v_j}L =  (u_iu_i^T - \\lambda I) v_j - r_{ij}u_i $$"
   ]
  },
  {
   "cell_type": "markdown",
   "id": "fa673ef7",
   "metadata": {
    "cell_style": "split"
   },
   "source": [
    "A little update acion:\n",
    "$$ u_i \\rightarrow u_i - \\alpha \\nabla_{u_i}L $$\n",
    "$$ v_j \\rightarrow v_j - \\alpha \\nabla_{v_j}L $$"
   ]
  },
  {
   "cell_type": "markdown",
   "id": "c07c17a1",
   "metadata": {
    "slideshow": {
     "slide_type": "slide"
    }
   },
   "source": [
    "**Then:** choose new $u_i$, $v_j$ corresponding to another $r^{obs}_{ij}$:\n",
    "- take gradients\n",
    "- update $u_i$, $v_j$"
   ]
  },
  {
   "cell_type": "markdown",
   "id": "5e89ee11",
   "metadata": {
    "slideshow": {
     "slide_type": "fragment"
    }
   },
   "source": [
    "- cycle through observed values until convergence"
   ]
  },
  {
   "cell_type": "markdown",
   "id": "4ed88c73",
   "metadata": {
    "cell_style": "center",
    "slideshow": {
     "slide_type": "slide"
    }
   },
   "source": [
    "**What is the result of all this?**"
   ]
  },
  {
   "cell_type": "markdown",
   "id": "102c10e6",
   "metadata": {
    "cell_style": "center",
    "slideshow": {
     "slide_type": "subslide"
    }
   },
   "source": [
    "As we converge:\n",
    "\n",
    "- User ($u_i$), item ($v_j$) representations in lower $d$-dimensional **embedding** space:\n",
    "    - $d$ features: user preferences for corresponding item characteristics \n",
    "    - these feature representations found from the observed rating data\n",
    "    - don't know what these are apriori (may not be interpretable)\n",
    "\n"
   ]
  },
  {
   "cell_type": "markdown",
   "id": "3c16ddf7",
   "metadata": {
    "slideshow": {
     "slide_type": "fragment"
    }
   },
   "source": [
    "- Estimate what users will rate items they haven't interacted with (yet!) "
   ]
  },
  {
   "cell_type": "markdown",
   "id": "50eca44d",
   "metadata": {
    "slideshow": {
     "slide_type": "slide"
    }
   },
   "source": [
    "### Do this using a high-level library"
   ]
  },
  {
   "cell_type": "markdown",
   "id": "09b0e9e8",
   "metadata": {
    "cell_style": "split",
    "slideshow": {
     "slide_type": "slide"
    }
   },
   "source": [
    "- Surprise: a scikit-learn type package\n",
    "- different types of content and collabarative filtering techniques (including matrix factorization)\n",
    "- Special data loaders (due to data sparsity)\n",
    "\n",
    "**Let's load in a real dataset and use package to see how its typically done.**"
   ]
  },
  {
   "cell_type": "markdown",
   "id": "d423df80",
   "metadata": {
    "cell_style": "split",
    "slideshow": {
     "slide_type": "-"
    }
   },
   "source": [
    "<div align = \"center\">\n",
    "<img src=\"Images/surprise_logo.jpg\" align = \"center\" width=\"500\"/>\n",
    "</div>"
   ]
  },
  {
   "cell_type": "code",
   "execution_count": 7,
   "id": "e07dacc4",
   "metadata": {
    "slideshow": {
     "slide_type": "slide"
    }
   },
   "outputs": [],
   "source": [
    "# import necessary libraries and submodules\n",
    "from surprise import Dataset, Reader\n",
    "from surprise import SVD # implementation of Funk's SVD (gradient descent-based matrix factorization)\n",
    "from surprise import accuracy # metric\n",
    "from surprise.model_selection import train_test_split, GridSearchCV #train/test splits, crossval"
   ]
  },
  {
   "cell_type": "markdown",
   "id": "6615a1bb",
   "metadata": {
    "slideshow": {
     "slide_type": "slide"
    }
   },
   "source": [
    "#### The data"
   ]
  },
  {
   "cell_type": "markdown",
   "id": "7ec27746",
   "metadata": {
    "slideshow": {
     "slide_type": "slide"
    }
   },
   "source": [
    "- Build a movie recommendation system\n",
    "- Collaborative filtering using ratings (and user/movie ids) only"
   ]
  },
  {
   "cell_type": "markdown",
   "id": "90b26ad7",
   "metadata": {
    "cell_style": "split",
    "slideshow": {
     "slide_type": "fragment"
    }
   },
   "source": [
    "\n",
    "<div align = \"center\">\n",
    "<img src=\"Images/IMDB.webp\" align = \"center\" width=\"700\"/>\n",
    "</div>\n",
    "<center>IMDB: Some highly rated movies. </center>"
   ]
  },
  {
   "cell_type": "code",
   "execution_count": 8,
   "id": "df28d41b",
   "metadata": {
    "cell_style": "split",
    "slideshow": {
     "slide_type": "fragment"
    }
   },
   "outputs": [
    {
     "data": {
      "text/html": [
       "<div>\n",
       "<style scoped>\n",
       "    .dataframe tbody tr th:only-of-type {\n",
       "        vertical-align: middle;\n",
       "    }\n",
       "\n",
       "    .dataframe tbody tr th {\n",
       "        vertical-align: top;\n",
       "    }\n",
       "\n",
       "    .dataframe thead th {\n",
       "        text-align: right;\n",
       "    }\n",
       "</style>\n",
       "<table border=\"1\" class=\"dataframe\">\n",
       "  <thead>\n",
       "    <tr style=\"text-align: right;\">\n",
       "      <th></th>\n",
       "      <th>user</th>\n",
       "      <th>item</th>\n",
       "      <th>rating</th>\n",
       "      <th>timestamp</th>\n",
       "    </tr>\n",
       "  </thead>\n",
       "  <tbody>\n",
       "    <tr>\n",
       "      <th>0</th>\n",
       "      <td>1</td>\n",
       "      <td>1193</td>\n",
       "      <td>5</td>\n",
       "      <td>978300760</td>\n",
       "    </tr>\n",
       "    <tr>\n",
       "      <th>1</th>\n",
       "      <td>1</td>\n",
       "      <td>661</td>\n",
       "      <td>3</td>\n",
       "      <td>978302109</td>\n",
       "    </tr>\n",
       "    <tr>\n",
       "      <th>2</th>\n",
       "      <td>1</td>\n",
       "      <td>914</td>\n",
       "      <td>3</td>\n",
       "      <td>978301968</td>\n",
       "    </tr>\n",
       "    <tr>\n",
       "      <th>3</th>\n",
       "      <td>1</td>\n",
       "      <td>3408</td>\n",
       "      <td>4</td>\n",
       "      <td>978300275</td>\n",
       "    </tr>\n",
       "    <tr>\n",
       "      <th>4</th>\n",
       "      <td>1</td>\n",
       "      <td>2355</td>\n",
       "      <td>5</td>\n",
       "      <td>978824291</td>\n",
       "    </tr>\n",
       "  </tbody>\n",
       "</table>\n",
       "</div>"
      ],
      "text/plain": [
       "   user  item  rating  timestamp\n",
       "0     1  1193       5  978300760\n",
       "1     1   661       3  978302109\n",
       "2     1   914       3  978301968\n",
       "3     1  3408       4  978300275\n",
       "4     1  2355       5  978824291"
      ]
     },
     "execution_count": 8,
     "metadata": {},
     "output_type": "execute_result"
    }
   ],
   "source": [
    "cols =  ['user', 'item', 'rating', 'timestamp']\n",
    "ratings_view = pd.read_csv('data/ratings.dat',\n",
    "                delimiter = '::',\n",
    "                engine = 'python',\n",
    "                nrows = 5, \n",
    "                names = cols) \n",
    "# pandas' read_csv function\n",
    "ratings_view.head()"
   ]
  },
  {
   "cell_type": "markdown",
   "id": "f806a926",
   "metadata": {
    "slideshow": {
     "slide_type": "slide"
    }
   },
   "source": [
    "We also have a lookup dictionary of names for each movie:"
   ]
  },
  {
   "cell_type": "code",
   "execution_count": 9,
   "id": "79680eba",
   "metadata": {
    "cell_style": "split",
    "slideshow": {
     "slide_type": "-"
    }
   },
   "outputs": [],
   "source": [
    "cols_movie = ['item_id', 'movie_name', 'genre']\n",
    "movie_metadata = pd.read_csv('data/movies.dat', \n",
    "                             delimiter = '::',\n",
    "                             engine = 'python',\n",
    "                            encoding = 'latin-1',\n",
    "                            names = cols_movie) \n",
    "movie_metadata = movie_metadata.set_index('item_id')"
   ]
  },
  {
   "cell_type": "code",
   "execution_count": 10,
   "id": "3c31e054",
   "metadata": {
    "cell_style": "split",
    "slideshow": {
     "slide_type": "-"
    }
   },
   "outputs": [
    {
     "data": {
      "text/html": [
       "<div>\n",
       "<style scoped>\n",
       "    .dataframe tbody tr th:only-of-type {\n",
       "        vertical-align: middle;\n",
       "    }\n",
       "\n",
       "    .dataframe tbody tr th {\n",
       "        vertical-align: top;\n",
       "    }\n",
       "\n",
       "    .dataframe thead th {\n",
       "        text-align: right;\n",
       "    }\n",
       "</style>\n",
       "<table border=\"1\" class=\"dataframe\">\n",
       "  <thead>\n",
       "    <tr style=\"text-align: right;\">\n",
       "      <th></th>\n",
       "      <th>movie_name</th>\n",
       "      <th>genre</th>\n",
       "    </tr>\n",
       "    <tr>\n",
       "      <th>item_id</th>\n",
       "      <th></th>\n",
       "      <th></th>\n",
       "    </tr>\n",
       "  </thead>\n",
       "  <tbody>\n",
       "    <tr>\n",
       "      <th>1</th>\n",
       "      <td>Toy Story (1995)</td>\n",
       "      <td>Animation|Children's|Comedy</td>\n",
       "    </tr>\n",
       "    <tr>\n",
       "      <th>2</th>\n",
       "      <td>Jumanji (1995)</td>\n",
       "      <td>Adventure|Children's|Fantasy</td>\n",
       "    </tr>\n",
       "    <tr>\n",
       "      <th>3</th>\n",
       "      <td>Grumpier Old Men (1995)</td>\n",
       "      <td>Comedy|Romance</td>\n",
       "    </tr>\n",
       "    <tr>\n",
       "      <th>4</th>\n",
       "      <td>Waiting to Exhale (1995)</td>\n",
       "      <td>Comedy|Drama</td>\n",
       "    </tr>\n",
       "    <tr>\n",
       "      <th>5</th>\n",
       "      <td>Father of the Bride Part II (1995)</td>\n",
       "      <td>Comedy</td>\n",
       "    </tr>\n",
       "  </tbody>\n",
       "</table>\n",
       "</div>"
      ],
      "text/plain": [
       "                                 movie_name                         genre\n",
       "item_id                                                                  \n",
       "1                          Toy Story (1995)   Animation|Children's|Comedy\n",
       "2                            Jumanji (1995)  Adventure|Children's|Fantasy\n",
       "3                   Grumpier Old Men (1995)                Comedy|Romance\n",
       "4                  Waiting to Exhale (1995)                  Comedy|Drama\n",
       "5        Father of the Bride Part II (1995)                        Comedy"
      ]
     },
     "execution_count": 10,
     "metadata": {},
     "output_type": "execute_result"
    }
   ],
   "source": [
    "movie_metadata.head()"
   ]
  },
  {
   "cell_type": "markdown",
   "id": "f1cd5e47",
   "metadata": {
    "cell_style": "center",
    "slideshow": {
     "slide_type": "slide"
    }
   },
   "source": [
    "#### Getting the data ready for Surprise\n",
    "\n",
    "Surprise has a Reader object:\n",
    "- parser for data directly from text file\n",
    "- fed into Dataset loader"
   ]
  },
  {
   "cell_type": "markdown",
   "id": "319f0c06",
   "metadata": {
    "slideshow": {
     "slide_type": "slide"
    }
   },
   "source": [
    "We will now instatiate a Reader object"
   ]
  },
  {
   "cell_type": "code",
   "execution_count": 11,
   "id": "04c3424f",
   "metadata": {},
   "outputs": [
    {
     "data": {
      "text/plain": [
       "<surprise.reader.Reader at 0x1402b6ca888>"
      ]
     },
     "execution_count": 11,
     "metadata": {},
     "output_type": "execute_result"
    }
   ],
   "source": [
    "reader = Reader(line_format='user item rating timestamp', sep='::')\n",
    "reader # will be used to parse the ratings textfile"
   ]
  },
  {
   "cell_type": "markdown",
   "id": "088ebeec",
   "metadata": {},
   "source": [
    "Dataset generator:\n",
    "- creates a dataset object\n",
    "- optimized for train/test based off of ratings"
   ]
  },
  {
   "cell_type": "code",
   "execution_count": 12,
   "id": "8697c08e",
   "metadata": {},
   "outputs": [
    {
     "data": {
      "text/plain": [
       "<surprise.dataset.DatasetAutoFolds at 0x1402b6e1708>"
      ]
     },
     "execution_count": 12,
     "metadata": {},
     "output_type": "execute_result"
    }
   ],
   "source": [
    "file_path = 'data/ratings.dat'\n",
    "data_gen = Dataset.load_from_file(file_path, reader=reader)\n",
    "data_gen"
   ]
  },
  {
   "cell_type": "markdown",
   "id": "c191189b",
   "metadata": {
    "cell_style": "center",
    "slideshow": {
     "slide_type": "slide"
    }
   },
   "source": [
    "We also should do a train/test split of the data:\n",
    "\n",
    "- 80% of observed rating data used for training \n",
    "- 20% of observed rating data used for evaluation \n"
   ]
  },
  {
   "cell_type": "code",
   "execution_count": 13,
   "id": "c9de2f75",
   "metadata": {
    "cell_style": "center",
    "slideshow": {
     "slide_type": "fragment"
    }
   },
   "outputs": [],
   "source": [
    "trainset, testset = train_test_split(data_gen, test_size=.2, random_state = 42)"
   ]
  },
  {
   "cell_type": "markdown",
   "id": "088ad389",
   "metadata": {
    "cell_style": "center",
    "slideshow": {
     "slide_type": "slide"
    }
   },
   "source": [
    "#### Modeling\n",
    "\n",
    "- Use Surprise's implementation of Funk's SVD\n",
    "- d = 100 (size of user/item vector representation)\n",
    "- .fit() method"
   ]
  },
  {
   "cell_type": "code",
   "execution_count": 15,
   "id": "d2682030",
   "metadata": {
    "slideshow": {
     "slide_type": "fragment"
    }
   },
   "outputs": [
    {
     "data": {
      "text/plain": [
       "<surprise.prediction_algorithms.matrix_factorization.SVD at 0x14047979448>"
      ]
     },
     "execution_count": 15,
     "metadata": {},
     "output_type": "execute_result"
    }
   ],
   "source": [
    "# instantiate SVD and fit the trainset\n",
    "svd = SVD(reg_all = .05, lr_all = 0.0025, n_factors = 100, n_epochs = 30)\n",
    "svd.fit(trainset)"
   ]
  },
  {
   "cell_type": "markdown",
   "id": "ca4c5400",
   "metadata": {
    "cell_style": "center",
    "slideshow": {
     "slide_type": "slide"
    }
   },
   "source": [
    "#### Predicting on testset\n",
    "- Test set is data for which we have the true rating values\n",
    "- can then compare estimated (est) with true values ($r_{ui}$) and estimate root mean square error"
   ]
  },
  {
   "cell_type": "code",
   "execution_count": 16,
   "id": "fa757dec",
   "metadata": {
    "cell_style": "center",
    "slideshow": {
     "slide_type": "fragment"
    }
   },
   "outputs": [],
   "source": [
    "predictions = svd.test(testset)"
   ]
  },
  {
   "cell_type": "code",
   "execution_count": 17,
   "id": "acf5c8d4",
   "metadata": {
    "cell_style": "split"
   },
   "outputs": [
    {
     "name": "stdout",
     "output_type": "stream",
     "text": [
      "MAE:  0.6972\n",
      "0.6971890207108381\n"
     ]
    }
   ],
   "source": [
    "print(accuracy.mae(predictions))"
   ]
  },
  {
   "cell_type": "code",
   "execution_count": 18,
   "id": "eb16df91",
   "metadata": {
    "cell_style": "split",
    "slideshow": {
     "slide_type": "fragment"
    }
   },
   "outputs": [
    {
     "data": {
      "text/plain": [
       "[Prediction(uid='1841', iid='3717', r_ui=1.0, est=2.098318559172525, details={'was_impossible': False}),\n",
       " Prediction(uid='3715', iid='880', r_ui=3.0, est=2.586345979332663, details={'was_impossible': False}),\n",
       " Prediction(uid='2002', iid='3072', r_ui=4.0, est=3.997121537350777, details={'was_impossible': False}),\n",
       " Prediction(uid='3332', iid='2734', r_ui=3.0, est=3.297773008698587, details={'was_impossible': False}),\n",
       " Prediction(uid='3576', iid='631', r_ui=3.0, est=2.297093812912193, details={'was_impossible': False}),\n",
       " Prediction(uid='2092', iid='3247', r_ui=3.0, est=2.7188282291781194, details={'was_impossible': False})]"
      ]
     },
     "execution_count": 18,
     "metadata": {},
     "output_type": "execute_result"
    }
   ],
   "source": [
    "predictions[0:6]"
   ]
  },
  {
   "cell_type": "markdown",
   "id": "040fb87f",
   "metadata": {
    "cell_style": "center",
    "slideshow": {
     "slide_type": "fragment"
    }
   },
   "source": [
    "Not too shabby. "
   ]
  },
  {
   "cell_type": "markdown",
   "id": "85fb7680",
   "metadata": {
    "cell_style": "split",
    "slideshow": {
     "slide_type": "slide"
    }
   },
   "source": [
    "A better metric than MAE or RMSE:\n",
    "- Fraction of concordant pairs (FCP)\n",
    "- care about capturing item rankings for each user."
   ]
  },
  {
   "cell_type": "markdown",
   "id": "74a1b69f",
   "metadata": {
    "cell_style": "split",
    "slideshow": {
     "slide_type": "slide"
    }
   },
   "source": [
    "For user $u$:\n",
    "$$ n^u_c = \\Big|\\{(l,m) | (\\hat{r}_{ul} > \\hat{r}_{um}) \\& ( r_{ul} > r_{um}) \\}\\Big|$$\n",
    "\n",
    "Number of concordant pair for user $u$: number of item pairs ($l$,$m$) where algorithm predicted $u$ preferences of $l$ with respect to $m$ correctly.\n"
   ]
  },
  {
   "cell_type": "markdown",
   "id": "59661665",
   "metadata": {
    "slideshow": {
     "slide_type": "subslide"
    }
   },
   "source": [
    "Total number of concordant pairs: $$n_c = \\sum_u n^u_c$$"
   ]
  },
  {
   "cell_type": "markdown",
   "id": "a6e3e46e",
   "metadata": {
    "cell_style": "split",
    "slideshow": {
     "slide_type": "fragment"
    }
   },
   "source": [
    "$$ FCP = \\frac{n_c}{n_c+n_d} $$\n",
    "\n",
    "where $n_d$ is number of discordant pairs."
   ]
  },
  {
   "cell_type": "markdown",
   "id": "fe4e17c6",
   "metadata": {
    "cell_style": "split",
    "slideshow": {
     "slide_type": "fragment"
    }
   },
   "source": [
    "Calculating for our test set:"
   ]
  },
  {
   "cell_type": "code",
   "execution_count": 19,
   "id": "1eb69186",
   "metadata": {
    "cell_style": "split",
    "slideshow": {
     "slide_type": "-"
    }
   },
   "outputs": [
    {
     "name": "stdout",
     "output_type": "stream",
     "text": [
      "FCP:  0.7408\n"
     ]
    },
    {
     "data": {
      "text/plain": [
       "0.7407552260421906"
      ]
     },
     "execution_count": 19,
     "metadata": {},
     "output_type": "execute_result"
    }
   ],
   "source": [
    "accuracy.fcp(predictions)"
   ]
  },
  {
   "cell_type": "markdown",
   "id": "d2538398",
   "metadata": {
    "slideshow": {
     "slide_type": "subslide"
    }
   },
   "source": [
    "We are getting pairwise item ranking preferences for each user right ~ 75% of the time."
   ]
  },
  {
   "cell_type": "markdown",
   "id": "9953e713",
   "metadata": {
    "slideshow": {
     "slide_type": "slide"
    }
   },
   "source": [
    "- Compare top predicted results in testset from what a user has rated\n",
    "- Versus top ranked predictions on what user has not rated."
   ]
  },
  {
   "cell_type": "code",
   "execution_count": 85,
   "id": "84359553",
   "metadata": {
    "slideshow": {
     "slide_type": "subslide"
    }
   },
   "outputs": [],
   "source": [
    "from collections import defaultdict\n",
    "\n",
    "# given prediction for a set of users, get the top n ranked for each user \n",
    "\n",
    "def get_top_n(predictions, n=10):\n",
    "\n",
    "    # First map the predictions to each user.\n",
    "    top_n = defaultdict(list)\n",
    "    for uid, iid, true_r, est, _ in predictions:\n",
    "        top_n[uid].append((iid, est, true_r))\n",
    "\n",
    "    # Then sort the predictions for each user and retrieve the n highest ones.\n",
    "    for uid, user_ratings in top_n.items():\n",
    "        user_ratings.sort(key=lambda x: x[1], reverse=True)\n",
    "        top_n[uid] = user_ratings[:n]\n",
    "\n",
    "    return top_n"
   ]
  },
  {
   "cell_type": "code",
   "execution_count": 284,
   "id": "0715fffa",
   "metadata": {
    "slideshow": {
     "slide_type": "subslide"
    }
   },
   "outputs": [],
   "source": [
    "top_n_preds_test = get_top_n(predictions, 10)"
   ]
  },
  {
   "cell_type": "code",
   "execution_count": 288,
   "id": "a569bcae",
   "metadata": {
    "cell_style": "split",
    "slideshow": {
     "slide_type": "subslide"
    }
   },
   "outputs": [
    {
     "data": {
      "text/plain": [
       "[('318', 4.948907894042801, 4.0),\n",
       " ('2762', 4.822975005160314, 5.0),\n",
       " ('2501', 4.753599685250887, 5.0),\n",
       " ('1234', 4.705753937023928, 4.0),\n",
       " ('356', 4.699462316208538, 5.0),\n",
       " ('953', 4.692757825062432, 5.0),\n",
       " ('1307', 4.63471336958094, 5.0),\n",
       " ('914', 4.579969798690182, 5.0),\n",
       " ('3114', 4.5739535655048735, 4.0),\n",
       " ('1', 4.555294787813869, 5.0)]"
      ]
     },
     "execution_count": 288,
     "metadata": {},
     "output_type": "execute_result"
    }
   ],
   "source": [
    "top_n_preds_test['10']"
   ]
  },
  {
   "cell_type": "markdown",
   "id": "230bc732",
   "metadata": {
    "cell_style": "split"
   },
   "source": [
    "Convert this to a list of movie names in user_id 10's top 15:"
   ]
  },
  {
   "cell_type": "code",
   "execution_count": 291,
   "id": "5e26f413",
   "metadata": {
    "cell_style": "split"
   },
   "outputs": [
    {
     "data": {
      "text/plain": [
       "array([ 318, 2762, 2501, 1234,  356,  953, 1307,  914, 3114,    1])"
      ]
     },
     "execution_count": 291,
     "metadata": {},
     "output_type": "execute_result"
    }
   ],
   "source": [
    "movie_id_list = np.array(\n",
    "    list(zip(*top_n_preds_test['10']))[0], dtype = 'int')\n",
    "movie_id_list"
   ]
  },
  {
   "cell_type": "code",
   "execution_count": 292,
   "id": "32892364",
   "metadata": {
    "cell_style": "center"
   },
   "outputs": [
    {
     "data": {
      "text/plain": [
       "item_id\n",
       "318     Shawshank Redemption, The (1994)\n",
       "2762             Sixth Sense, The (1999)\n",
       "2501                  October Sky (1999)\n",
       "1234                   Sting, The (1973)\n",
       "356                  Forrest Gump (1994)\n",
       "953         It's a Wonderful Life (1946)\n",
       "1307      When Harry Met Sally... (1989)\n",
       "914                  My Fair Lady (1964)\n",
       "3114                  Toy Story 2 (1999)\n",
       "1                       Toy Story (1995)\n",
       "Name: movie_name, dtype: object"
      ]
     },
     "execution_count": 292,
     "metadata": {},
     "output_type": "execute_result"
    }
   ],
   "source": [
    "movie_metadata.loc[movie_id_list]['movie_name']"
   ]
  },
  {
   "cell_type": "markdown",
   "id": "7aca8dfa",
   "metadata": {
    "slideshow": {
     "slide_type": "slide"
    }
   },
   "source": [
    "Could evaluate estimated rating of user for a single item:"
   ]
  },
  {
   "cell_type": "code",
   "execution_count": 293,
   "id": "2753379c",
   "metadata": {
    "cell_style": "split"
   },
   "outputs": [
    {
     "data": {
      "text/plain": [
       "'Cinderella (1950)'"
      ]
     },
     "execution_count": 293,
     "metadata": {},
     "output_type": "execute_result"
    }
   ],
   "source": [
    "movie_metadata.loc[1022, 'movie_name']"
   ]
  },
  {
   "cell_type": "code",
   "execution_count": 295,
   "id": "99cd98bd",
   "metadata": {
    "cell_style": "split",
    "slideshow": {
     "slide_type": "fragment"
    }
   },
   "outputs": [
    {
     "data": {
      "text/plain": [
       "Prediction(uid='10', iid='1022', r_ui=None, est=4.241959718166177, details={'was_impossible': False})"
      ]
     },
     "execution_count": 295,
     "metadata": {},
     "output_type": "execute_result"
    }
   ],
   "source": [
    "user = '10'\n",
    "item = '1022'\n",
    "svd.predict(user, item)"
   ]
  },
  {
   "cell_type": "markdown",
   "id": "1c91f443",
   "metadata": {
    "slideshow": {
     "slide_type": "slide"
    }
   },
   "source": [
    "#### Getting ranked ratings on items not rated by user in trainset:\n",
    "- need to construct **antitest** set from training set\n",
    "- may contain elements in test set as well as elements not in test set\n"
   ]
  },
  {
   "cell_type": "code",
   "execution_count": 159,
   "id": "6088ecc3",
   "metadata": {
    "cell_style": "split",
    "slideshow": {
     "slide_type": "fragment"
    }
   },
   "outputs": [],
   "source": [
    "# (user, item, mean of ratings in dataset)\n",
    "anti_test = trainset.build_anti_testset() # creates user-item interactions with no observed ratings"
   ]
  },
  {
   "cell_type": "code",
   "execution_count": 166,
   "id": "4c0d413c",
   "metadata": {
    "cell_style": "split",
    "slideshow": {
     "slide_type": "fragment"
    }
   },
   "outputs": [
    {
     "data": {
      "text/html": [
       "<div>\n",
       "<style scoped>\n",
       "    .dataframe tbody tr th:only-of-type {\n",
       "        vertical-align: middle;\n",
       "    }\n",
       "\n",
       "    .dataframe tbody tr th {\n",
       "        vertical-align: top;\n",
       "    }\n",
       "\n",
       "    .dataframe thead th {\n",
       "        text-align: right;\n",
       "    }\n",
       "</style>\n",
       "<table border=\"1\" class=\"dataframe\">\n",
       "  <thead>\n",
       "    <tr style=\"text-align: right;\">\n",
       "      <th></th>\n",
       "      <th>uid</th>\n",
       "      <th>iid</th>\n",
       "      <th>fill_val</th>\n",
       "    </tr>\n",
       "  </thead>\n",
       "  <tbody>\n",
       "    <tr>\n",
       "      <th>0</th>\n",
       "      <td>5412</td>\n",
       "      <td>904</td>\n",
       "      <td>3.58149</td>\n",
       "    </tr>\n",
       "    <tr>\n",
       "      <th>1</th>\n",
       "      <td>5412</td>\n",
       "      <td>3717</td>\n",
       "      <td>3.58149</td>\n",
       "    </tr>\n",
       "    <tr>\n",
       "      <th>2</th>\n",
       "      <td>5412</td>\n",
       "      <td>3697</td>\n",
       "      <td>3.58149</td>\n",
       "    </tr>\n",
       "    <tr>\n",
       "      <th>3</th>\n",
       "      <td>5412</td>\n",
       "      <td>2011</td>\n",
       "      <td>3.58149</td>\n",
       "    </tr>\n",
       "    <tr>\n",
       "      <th>4</th>\n",
       "      <td>5412</td>\n",
       "      <td>173</td>\n",
       "      <td>3.58149</td>\n",
       "    </tr>\n",
       "  </tbody>\n",
       "</table>\n",
       "</div>"
      ],
      "text/plain": [
       "    uid   iid  fill_val\n",
       "0  5412   904   3.58149\n",
       "1  5412  3717   3.58149\n",
       "2  5412  3697   3.58149\n",
       "3  5412  2011   3.58149\n",
       "4  5412   173   3.58149"
      ]
     },
     "execution_count": 166,
     "metadata": {},
     "output_type": "execute_result"
    }
   ],
   "source": [
    "cnames = ['uid', 'iid', 'fill_val']\n",
    "anti_test_df = pd.DataFrame(anti_test, columns = cnames)\n",
    "anti_test_df.head()"
   ]
  },
  {
   "cell_type": "markdown",
   "id": "7e6ec6af",
   "metadata": {
    "slideshow": {
     "slide_type": "slide"
    }
   },
   "source": [
    "Get unrated elements for user id 10:"
   ]
  },
  {
   "cell_type": "code",
   "execution_count": 296,
   "id": "28cfd14d",
   "metadata": {
    "cell_style": "split",
    "slideshow": {
     "slide_type": "-"
    }
   },
   "outputs": [
    {
     "data": {
      "text/html": [
       "<div>\n",
       "<style scoped>\n",
       "    .dataframe tbody tr th:only-of-type {\n",
       "        vertical-align: middle;\n",
       "    }\n",
       "\n",
       "    .dataframe tbody tr th {\n",
       "        vertical-align: top;\n",
       "    }\n",
       "\n",
       "    .dataframe thead th {\n",
       "        text-align: right;\n",
       "    }\n",
       "</style>\n",
       "<table border=\"1\" class=\"dataframe\">\n",
       "  <thead>\n",
       "    <tr style=\"text-align: right;\">\n",
       "      <th></th>\n",
       "      <th>uid</th>\n",
       "      <th>iid</th>\n",
       "    </tr>\n",
       "  </thead>\n",
       "  <tbody>\n",
       "    <tr>\n",
       "      <th>433678</th>\n",
       "      <td>10</td>\n",
       "      <td>2683</td>\n",
       "    </tr>\n",
       "    <tr>\n",
       "      <th>433679</th>\n",
       "      <td>10</td>\n",
       "      <td>3717</td>\n",
       "    </tr>\n",
       "    <tr>\n",
       "      <th>433680</th>\n",
       "      <td>10</td>\n",
       "      <td>3697</td>\n",
       "    </tr>\n",
       "    <tr>\n",
       "      <th>433681</th>\n",
       "      <td>10</td>\n",
       "      <td>173</td>\n",
       "    </tr>\n",
       "    <tr>\n",
       "      <th>433682</th>\n",
       "      <td>10</td>\n",
       "      <td>1829</td>\n",
       "    </tr>\n",
       "  </tbody>\n",
       "</table>\n",
       "</div>"
      ],
      "text/plain": [
       "       uid   iid\n",
       "433678  10  2683\n",
       "433679  10  3717\n",
       "433680  10  3697\n",
       "433681  10   173\n",
       "433682  10  1829"
      ]
     },
     "execution_count": 296,
     "metadata": {},
     "output_type": "execute_result"
    }
   ],
   "source": [
    "user_unrated \\\n",
    "=  anti_test_df.loc[anti_test_df['uid'] == '10',\n",
    "                    ['uid', 'iid']]\n",
    "user_unrated.head()"
   ]
  },
  {
   "cell_type": "code",
   "execution_count": 297,
   "id": "73a336f7",
   "metadata": {
    "cell_style": "split",
    "slideshow": {
     "slide_type": "-"
    }
   },
   "outputs": [
    {
     "data": {
      "text/plain": [
       "(3351, 2)"
      ]
     },
     "execution_count": 297,
     "metadata": {},
     "output_type": "execute_result"
    }
   ],
   "source": [
    "user_unrated.shape"
   ]
  },
  {
   "cell_type": "code",
   "execution_count": 298,
   "id": "b42beb11",
   "metadata": {
    "slideshow": {
     "slide_type": "fragment"
    }
   },
   "outputs": [],
   "source": [
    "user_unrated['est'] = user_unrated.apply(lambda x: svd.predict(str(x[0]), str(x[1])).est, axis = 1)"
   ]
  },
  {
   "cell_type": "code",
   "execution_count": 299,
   "id": "c806a6e2",
   "metadata": {
    "slideshow": {
     "slide_type": "fragment"
    }
   },
   "outputs": [],
   "source": [
    "user_unrated = user_unrated.sort_values(by = 'est', ascending = False)"
   ]
  },
  {
   "cell_type": "markdown",
   "id": "045300a9",
   "metadata": {
    "slideshow": {
     "slide_type": "slide"
    }
   },
   "source": [
    "Some are in our test set but others are not:"
   ]
  },
  {
   "cell_type": "code",
   "execution_count": 301,
   "id": "7939f128",
   "metadata": {
    "slideshow": {
     "slide_type": "-"
    }
   },
   "outputs": [
    {
     "data": {
      "text/html": [
       "<div>\n",
       "<style scoped>\n",
       "    .dataframe tbody tr th:only-of-type {\n",
       "        vertical-align: middle;\n",
       "    }\n",
       "\n",
       "    .dataframe tbody tr th {\n",
       "        vertical-align: top;\n",
       "    }\n",
       "\n",
       "    .dataframe thead th {\n",
       "        text-align: right;\n",
       "    }\n",
       "</style>\n",
       "<table border=\"1\" class=\"dataframe\">\n",
       "  <thead>\n",
       "    <tr style=\"text-align: right;\">\n",
       "      <th></th>\n",
       "      <th>movie_name</th>\n",
       "      <th>genre</th>\n",
       "    </tr>\n",
       "    <tr>\n",
       "      <th>item_id</th>\n",
       "      <th></th>\n",
       "      <th></th>\n",
       "    </tr>\n",
       "  </thead>\n",
       "  <tbody>\n",
       "    <tr>\n",
       "      <th>2905</th>\n",
       "      <td>Sanjuro (1962)</td>\n",
       "      <td>Action|Adventure</td>\n",
       "    </tr>\n",
       "    <tr>\n",
       "      <th>318</th>\n",
       "      <td>Shawshank Redemption, The (1994)</td>\n",
       "      <td>Drama</td>\n",
       "    </tr>\n",
       "    <tr>\n",
       "      <th>2762</th>\n",
       "      <td>Sixth Sense, The (1999)</td>\n",
       "      <td>Thriller</td>\n",
       "    </tr>\n",
       "    <tr>\n",
       "      <th>3147</th>\n",
       "      <td>Green Mile, The (1999)</td>\n",
       "      <td>Drama|Thriller</td>\n",
       "    </tr>\n",
       "    <tr>\n",
       "      <th>3801</th>\n",
       "      <td>Anatomy of a Murder (1959)</td>\n",
       "      <td>Drama|Mystery</td>\n",
       "    </tr>\n",
       "    <tr>\n",
       "      <th>668</th>\n",
       "      <td>Pather Panchali (1955)</td>\n",
       "      <td>Drama</td>\n",
       "    </tr>\n",
       "    <tr>\n",
       "      <th>3030</th>\n",
       "      <td>Yojimbo (1961)</td>\n",
       "      <td>Comedy|Drama|Western</td>\n",
       "    </tr>\n",
       "    <tr>\n",
       "      <th>3022</th>\n",
       "      <td>General, The (1927)</td>\n",
       "      <td>Comedy</td>\n",
       "    </tr>\n",
       "    <tr>\n",
       "      <th>2501</th>\n",
       "      <td>October Sky (1999)</td>\n",
       "      <td>Drama</td>\n",
       "    </tr>\n",
       "    <tr>\n",
       "      <th>2357</th>\n",
       "      <td>Central Station (Central do Brasil) (1998)</td>\n",
       "      <td>Drama</td>\n",
       "    </tr>\n",
       "    <tr>\n",
       "      <th>1111</th>\n",
       "      <td>Microcosmos (Microcosmos: Le peuple de l'herbe...</td>\n",
       "      <td>Documentary</td>\n",
       "    </tr>\n",
       "    <tr>\n",
       "      <th>2028</th>\n",
       "      <td>Saving Private Ryan (1998)</td>\n",
       "      <td>Action|Drama|War</td>\n",
       "    </tr>\n",
       "    <tr>\n",
       "      <th>1234</th>\n",
       "      <td>Sting, The (1973)</td>\n",
       "      <td>Comedy|Crime</td>\n",
       "    </tr>\n",
       "    <tr>\n",
       "      <th>356</th>\n",
       "      <td>Forrest Gump (1994)</td>\n",
       "      <td>Comedy|Romance|War</td>\n",
       "    </tr>\n",
       "    <tr>\n",
       "      <th>953</th>\n",
       "      <td>It's a Wonderful Life (1946)</td>\n",
       "      <td>Drama</td>\n",
       "    </tr>\n",
       "  </tbody>\n",
       "</table>\n",
       "</div>"
      ],
      "text/plain": [
       "                                                movie_name  \\\n",
       "item_id                                                      \n",
       "2905                                        Sanjuro (1962)   \n",
       "318                       Shawshank Redemption, The (1994)   \n",
       "2762                               Sixth Sense, The (1999)   \n",
       "3147                                Green Mile, The (1999)   \n",
       "3801                            Anatomy of a Murder (1959)   \n",
       "668                                 Pather Panchali (1955)   \n",
       "3030                                        Yojimbo (1961)   \n",
       "3022                                   General, The (1927)   \n",
       "2501                                    October Sky (1999)   \n",
       "2357            Central Station (Central do Brasil) (1998)   \n",
       "1111     Microcosmos (Microcosmos: Le peuple de l'herbe...   \n",
       "2028                            Saving Private Ryan (1998)   \n",
       "1234                                     Sting, The (1973)   \n",
       "356                                    Forrest Gump (1994)   \n",
       "953                           It's a Wonderful Life (1946)   \n",
       "\n",
       "                        genre  \n",
       "item_id                        \n",
       "2905         Action|Adventure  \n",
       "318                     Drama  \n",
       "2762                 Thriller  \n",
       "3147           Drama|Thriller  \n",
       "3801            Drama|Mystery  \n",
       "668                     Drama  \n",
       "3030     Comedy|Drama|Western  \n",
       "3022                   Comedy  \n",
       "2501                    Drama  \n",
       "2357                    Drama  \n",
       "1111              Documentary  \n",
       "2028         Action|Drama|War  \n",
       "1234             Comedy|Crime  \n",
       "356        Comedy|Romance|War  \n",
       "953                     Drama  "
      ]
     },
     "execution_count": 301,
     "metadata": {},
     "output_type": "execute_result"
    }
   ],
   "source": [
    "movie_metadata.loc[user_unrated['iid'].astype('int')][0:15] "
   ]
  },
  {
   "cell_type": "markdown",
   "id": "92c9840c",
   "metadata": {
    "slideshow": {
     "slide_type": "slide"
    }
   },
   "source": [
    "Can also get user's vector representation (could do the same for features as well):\n",
    "- discovered a latent space embedding of user encoding preferences"
   ]
  },
  {
   "cell_type": "code",
   "execution_count": 145,
   "id": "9342cfa6",
   "metadata": {
    "cell_style": "split",
    "slideshow": {
     "slide_type": "fragment"
    }
   },
   "outputs": [
    {
     "name": "stdout",
     "output_type": "stream",
     "text": [
      "[ 0.0191942   0.01403982  0.04360765  0.07674086  0.16940854 -0.01396835\n",
      " -0.01398386  0.02060609  0.039887    0.02694982  0.05970694 -0.02724103\n",
      " -0.01435352 -0.01920879  0.05474796  0.03333212 -0.02467037 -0.03979847\n",
      " -0.02005583  0.00521604  0.24959288  0.02327175 -0.08398503 -0.10462099\n",
      " -0.0747534   0.11651636  0.2889927   0.13040034 -0.00909112  0.26219057\n",
      " -0.07512899 -0.10116927 -0.04853132  0.0571843  -0.00094407  0.10978824\n",
      " -0.12926303  0.01972353  0.08269089  0.00478198  0.03098744 -0.07777348\n",
      " -0.09603433 -0.16697493 -0.14623217  0.10459132  0.00865979 -0.03684253\n",
      "  0.07240603  0.03385711  0.07082168  0.04500256  0.14466287  0.05183009\n",
      " -0.13263368 -0.0236935  -0.00240698 -0.06513064  0.15596166 -0.04968411\n",
      "  0.03721671 -0.10648383  0.13691733 -0.19507691  0.09175964  0.18586295\n",
      "  0.1554053   0.07776647  0.07721736 -0.06791734 -0.14788199 -0.13860837\n",
      " -0.09065557 -0.0586371  -0.01849488  0.06229392  0.04138993 -0.10290081\n",
      " -0.12440059  0.11790614  0.10688126  0.02957123  0.01261605 -0.0527837\n",
      "  0.04226516 -0.11123522 -0.07473952 -0.12401483 -0.00069003 -0.08699336\n",
      "  0.12672476  0.00748016 -0.0939202   0.03919139  0.00647257 -0.07720784\n",
      " -0.05041149 -0.17859435 -0.01822832 -0.06609859]\n"
     ]
    }
   ],
   "source": [
    "print(svd.pu[1000])"
   ]
  },
  {
   "cell_type": "code",
   "execution_count": 146,
   "id": "93184f03",
   "metadata": {
    "cell_style": "split",
    "slideshow": {
     "slide_type": "fragment"
    }
   },
   "outputs": [
    {
     "name": "stdout",
     "output_type": "stream",
     "text": [
      "100\n"
     ]
    }
   ],
   "source": [
    "print(len(svd.pu[5]))"
   ]
  },
  {
   "cell_type": "markdown",
   "id": "6a2268e5",
   "metadata": {
    "slideshow": {
     "slide_type": "slide"
    }
   },
   "source": [
    "To get better results:\n",
    "- really need to tune and cross-validate\n",
    "- there are bunch of hyperparameters for SVD\n",
    "    - embedding dimension $d$\n",
    "    - regularization strength $\\lambda$\n",
    "    - learning rates, etc\n",
    "\n"
   ]
  },
  {
   "cell_type": "code",
   "execution_count": 309,
   "id": "98ce6ff1",
   "metadata": {
    "slideshow": {
     "slide_type": "fragment"
    }
   },
   "outputs": [],
   "source": [
    "param_grid = { \"reg_all\": [0.005, 0.025, 0.05, 0.25, 0.5], \"n_factors\": [50, 100, 250, 500]}\n",
    "gs = GridSearchCV(SVD, param_grid, measures=[\"mae\", \"fcp\"], cv=3) # wraps svd class"
   ]
  },
  {
   "cell_type": "code",
   "execution_count": 310,
   "id": "22333b38",
   "metadata": {
    "slideshow": {
     "slide_type": "fragment"
    }
   },
   "outputs": [],
   "source": [
    "gs.fit(data_gen) # yes, you must use the full dataset created by the DataSet Loader\n",
    "# yes, that means you don't have a holdout here"
   ]
  },
  {
   "cell_type": "markdown",
   "id": "51e8589b",
   "metadata": {
    "slideshow": {
     "slide_type": "slide"
    }
   },
   "source": [
    "To get results of cross validation:\n",
    "- GridSearchCV .cv_results attribute."
   ]
  },
  {
   "cell_type": "code",
   "execution_count": 325,
   "id": "389498f9",
   "metadata": {
    "slideshow": {
     "slide_type": "fragment"
    }
   },
   "outputs": [
    {
     "data": {
      "text/html": [
       "<div>\n",
       "<style scoped>\n",
       "    .dataframe tbody tr th:only-of-type {\n",
       "        vertical-align: middle;\n",
       "    }\n",
       "\n",
       "    .dataframe tbody tr th {\n",
       "        vertical-align: top;\n",
       "    }\n",
       "\n",
       "    .dataframe thead th {\n",
       "        text-align: right;\n",
       "    }\n",
       "</style>\n",
       "<table border=\"1\" class=\"dataframe\">\n",
       "  <thead>\n",
       "    <tr style=\"text-align: right;\">\n",
       "      <th></th>\n",
       "      <th>split0_test_mae</th>\n",
       "      <th>split1_test_mae</th>\n",
       "      <th>split2_test_mae</th>\n",
       "      <th>mean_test_mae</th>\n",
       "      <th>std_test_mae</th>\n",
       "      <th>rank_test_mae</th>\n",
       "      <th>split0_test_fcp</th>\n",
       "      <th>split1_test_fcp</th>\n",
       "      <th>split2_test_fcp</th>\n",
       "      <th>mean_test_fcp</th>\n",
       "      <th>std_test_fcp</th>\n",
       "      <th>rank_test_fcp</th>\n",
       "      <th>mean_fit_time</th>\n",
       "      <th>std_fit_time</th>\n",
       "      <th>mean_test_time</th>\n",
       "      <th>std_test_time</th>\n",
       "      <th>params</th>\n",
       "      <th>param_reg_all</th>\n",
       "      <th>param_n_factors</th>\n",
       "    </tr>\n",
       "  </thead>\n",
       "  <tbody>\n",
       "    <tr>\n",
       "      <th>0</th>\n",
       "      <td>0.705788</td>\n",
       "      <td>0.706633</td>\n",
       "      <td>0.705739</td>\n",
       "      <td>0.706053</td>\n",
       "      <td>0.000411</td>\n",
       "      <td>9</td>\n",
       "      <td>0.732369</td>\n",
       "      <td>0.731771</td>\n",
       "      <td>0.733216</td>\n",
       "      <td>0.732452</td>\n",
       "      <td>0.000593</td>\n",
       "      <td>12</td>\n",
       "      <td>43.083112</td>\n",
       "      <td>0.257159</td>\n",
       "      <td>3.997527</td>\n",
       "      <td>0.014276</td>\n",
       "      <td>{'reg_all': 0.005, 'n_factors': 50}</td>\n",
       "      <td>0.005</td>\n",
       "      <td>50</td>\n",
       "    </tr>\n",
       "    <tr>\n",
       "      <th>1</th>\n",
       "      <td>0.717137</td>\n",
       "      <td>0.717743</td>\n",
       "      <td>0.717973</td>\n",
       "      <td>0.717618</td>\n",
       "      <td>0.000353</td>\n",
       "      <td>10</td>\n",
       "      <td>0.723274</td>\n",
       "      <td>0.722865</td>\n",
       "      <td>0.723027</td>\n",
       "      <td>0.723055</td>\n",
       "      <td>0.000168</td>\n",
       "      <td>3</td>\n",
       "      <td>66.799678</td>\n",
       "      <td>0.405062</td>\n",
       "      <td>28.832525</td>\n",
       "      <td>35.034613</td>\n",
       "      <td>{'reg_all': 0.005, 'n_factors': 100}</td>\n",
       "      <td>0.005</td>\n",
       "      <td>100</td>\n",
       "    </tr>\n",
       "    <tr>\n",
       "      <th>2</th>\n",
       "      <td>0.734430</td>\n",
       "      <td>0.735049</td>\n",
       "      <td>0.735715</td>\n",
       "      <td>0.735065</td>\n",
       "      <td>0.000524</td>\n",
       "      <td>15</td>\n",
       "      <td>0.711642</td>\n",
       "      <td>0.710078</td>\n",
       "      <td>0.710635</td>\n",
       "      <td>0.710785</td>\n",
       "      <td>0.000648</td>\n",
       "      <td>2</td>\n",
       "      <td>90.373631</td>\n",
       "      <td>0.752638</td>\n",
       "      <td>2.853297</td>\n",
       "      <td>0.128621</td>\n",
       "      <td>{'reg_all': 0.005, 'n_factors': 250}</td>\n",
       "      <td>0.005</td>\n",
       "      <td>250</td>\n",
       "    </tr>\n",
       "    <tr>\n",
       "      <th>3</th>\n",
       "      <td>0.746046</td>\n",
       "      <td>0.747614</td>\n",
       "      <td>0.746903</td>\n",
       "      <td>0.746855</td>\n",
       "      <td>0.000641</td>\n",
       "      <td>16</td>\n",
       "      <td>0.703479</td>\n",
       "      <td>0.702247</td>\n",
       "      <td>0.701977</td>\n",
       "      <td>0.702568</td>\n",
       "      <td>0.000654</td>\n",
       "      <td>1</td>\n",
       "      <td>512.110797</td>\n",
       "      <td>391.578967</td>\n",
       "      <td>3.041929</td>\n",
       "      <td>0.011113</td>\n",
       "      <td>{'reg_all': 0.005, 'n_factors': 500}</td>\n",
       "      <td>0.005</td>\n",
       "      <td>500</td>\n",
       "    </tr>\n",
       "    <tr>\n",
       "      <th>4</th>\n",
       "      <td>0.692021</td>\n",
       "      <td>0.693136</td>\n",
       "      <td>0.694096</td>\n",
       "      <td>0.693084</td>\n",
       "      <td>0.000848</td>\n",
       "      <td>3</td>\n",
       "      <td>0.747899</td>\n",
       "      <td>0.747501</td>\n",
       "      <td>0.746231</td>\n",
       "      <td>0.747210</td>\n",
       "      <td>0.000711</td>\n",
       "      <td>16</td>\n",
       "      <td>28.206495</td>\n",
       "      <td>0.557262</td>\n",
       "      <td>2.754596</td>\n",
       "      <td>0.136845</td>\n",
       "      <td>{'reg_all': 0.025, 'n_factors': 50}</td>\n",
       "      <td>0.025</td>\n",
       "      <td>50</td>\n",
       "    </tr>\n",
       "    <tr>\n",
       "      <th>5</th>\n",
       "      <td>0.692417</td>\n",
       "      <td>0.693147</td>\n",
       "      <td>0.693643</td>\n",
       "      <td>0.693069</td>\n",
       "      <td>0.000504</td>\n",
       "      <td>2</td>\n",
       "      <td>0.747700</td>\n",
       "      <td>0.747353</td>\n",
       "      <td>0.747566</td>\n",
       "      <td>0.747540</td>\n",
       "      <td>0.000143</td>\n",
       "      <td>17</td>\n",
       "      <td>43.478236</td>\n",
       "      <td>0.323973</td>\n",
       "      <td>2.729806</td>\n",
       "      <td>0.183871</td>\n",
       "      <td>{'reg_all': 0.025, 'n_factors': 100}</td>\n",
       "      <td>0.025</td>\n",
       "      <td>100</td>\n",
       "    </tr>\n",
       "    <tr>\n",
       "      <th>6</th>\n",
       "      <td>0.696622</td>\n",
       "      <td>0.697942</td>\n",
       "      <td>0.697194</td>\n",
       "      <td>0.697253</td>\n",
       "      <td>0.000540</td>\n",
       "      <td>6</td>\n",
       "      <td>0.745706</td>\n",
       "      <td>0.744646</td>\n",
       "      <td>0.744202</td>\n",
       "      <td>0.744851</td>\n",
       "      <td>0.000631</td>\n",
       "      <td>14</td>\n",
       "      <td>88.636994</td>\n",
       "      <td>0.446301</td>\n",
       "      <td>2.837224</td>\n",
       "      <td>0.149433</td>\n",
       "      <td>{'reg_all': 0.025, 'n_factors': 250}</td>\n",
       "      <td>0.025</td>\n",
       "      <td>250</td>\n",
       "    </tr>\n",
       "    <tr>\n",
       "      <th>7</th>\n",
       "      <td>0.702281</td>\n",
       "      <td>0.702889</td>\n",
       "      <td>0.702254</td>\n",
       "      <td>0.702474</td>\n",
       "      <td>0.000293</td>\n",
       "      <td>8</td>\n",
       "      <td>0.741561</td>\n",
       "      <td>0.742153</td>\n",
       "      <td>0.741625</td>\n",
       "      <td>0.741780</td>\n",
       "      <td>0.000265</td>\n",
       "      <td>13</td>\n",
       "      <td>232.397039</td>\n",
       "      <td>10.327545</td>\n",
       "      <td>16.862615</td>\n",
       "      <td>19.609104</td>\n",
       "      <td>{'reg_all': 0.025, 'n_factors': 500}</td>\n",
       "      <td>0.025</td>\n",
       "      <td>500</td>\n",
       "    </tr>\n",
       "    <tr>\n",
       "      <th>8</th>\n",
       "      <td>0.697320</td>\n",
       "      <td>0.698776</td>\n",
       "      <td>0.697883</td>\n",
       "      <td>0.697993</td>\n",
       "      <td>0.000600</td>\n",
       "      <td>7</td>\n",
       "      <td>0.748111</td>\n",
       "      <td>0.746777</td>\n",
       "      <td>0.746477</td>\n",
       "      <td>0.747122</td>\n",
       "      <td>0.000710</td>\n",
       "      <td>15</td>\n",
       "      <td>28.227761</td>\n",
       "      <td>0.202210</td>\n",
       "      <td>2.818417</td>\n",
       "      <td>0.024541</td>\n",
       "      <td>{'reg_all': 0.05, 'n_factors': 50}</td>\n",
       "      <td>0.050</td>\n",
       "      <td>50</td>\n",
       "    </tr>\n",
       "    <tr>\n",
       "      <th>9</th>\n",
       "      <td>0.694711</td>\n",
       "      <td>0.695815</td>\n",
       "      <td>0.695802</td>\n",
       "      <td>0.695443</td>\n",
       "      <td>0.000517</td>\n",
       "      <td>5</td>\n",
       "      <td>0.751157</td>\n",
       "      <td>0.749445</td>\n",
       "      <td>0.749240</td>\n",
       "      <td>0.749947</td>\n",
       "      <td>0.000860</td>\n",
       "      <td>18</td>\n",
       "      <td>43.034383</td>\n",
       "      <td>0.421487</td>\n",
       "      <td>2.593631</td>\n",
       "      <td>0.111949</td>\n",
       "      <td>{'reg_all': 0.05, 'n_factors': 100}</td>\n",
       "      <td>0.050</td>\n",
       "      <td>100</td>\n",
       "    </tr>\n",
       "    <tr>\n",
       "      <th>10</th>\n",
       "      <td>0.692216</td>\n",
       "      <td>0.693301</td>\n",
       "      <td>0.693502</td>\n",
       "      <td>0.693007</td>\n",
       "      <td>0.000565</td>\n",
       "      <td>1</td>\n",
       "      <td>0.753349</td>\n",
       "      <td>0.752712</td>\n",
       "      <td>0.751832</td>\n",
       "      <td>0.752631</td>\n",
       "      <td>0.000622</td>\n",
       "      <td>19</td>\n",
       "      <td>89.025575</td>\n",
       "      <td>1.052477</td>\n",
       "      <td>2.773077</td>\n",
       "      <td>0.144713</td>\n",
       "      <td>{'reg_all': 0.05, 'n_factors': 250}</td>\n",
       "      <td>0.050</td>\n",
       "      <td>250</td>\n",
       "    </tr>\n",
       "    <tr>\n",
       "      <th>11</th>\n",
       "      <td>0.692845</td>\n",
       "      <td>0.694089</td>\n",
       "      <td>0.693970</td>\n",
       "      <td>0.693635</td>\n",
       "      <td>0.000560</td>\n",
       "      <td>4</td>\n",
       "      <td>0.754278</td>\n",
       "      <td>0.753132</td>\n",
       "      <td>0.752727</td>\n",
       "      <td>0.753379</td>\n",
       "      <td>0.000657</td>\n",
       "      <td>20</td>\n",
       "      <td>225.424782</td>\n",
       "      <td>0.984937</td>\n",
       "      <td>2.998315</td>\n",
       "      <td>0.043427</td>\n",
       "      <td>{'reg_all': 0.05, 'n_factors': 500}</td>\n",
       "      <td>0.050</td>\n",
       "      <td>500</td>\n",
       "    </tr>\n",
       "    <tr>\n",
       "      <th>12</th>\n",
       "      <td>0.732270</td>\n",
       "      <td>0.733995</td>\n",
       "      <td>0.734061</td>\n",
       "      <td>0.733442</td>\n",
       "      <td>0.000829</td>\n",
       "      <td>11</td>\n",
       "      <td>0.728157</td>\n",
       "      <td>0.726557</td>\n",
       "      <td>0.726199</td>\n",
       "      <td>0.726971</td>\n",
       "      <td>0.000851</td>\n",
       "      <td>10</td>\n",
       "      <td>28.321050</td>\n",
       "      <td>0.170298</td>\n",
       "      <td>13.677918</td>\n",
       "      <td>15.435354</td>\n",
       "      <td>{'reg_all': 0.25, 'n_factors': 50}</td>\n",
       "      <td>0.250</td>\n",
       "      <td>50</td>\n",
       "    </tr>\n",
       "    <tr>\n",
       "      <th>13</th>\n",
       "      <td>0.732291</td>\n",
       "      <td>0.733998</td>\n",
       "      <td>0.734059</td>\n",
       "      <td>0.733449</td>\n",
       "      <td>0.000819</td>\n",
       "      <td>13</td>\n",
       "      <td>0.728098</td>\n",
       "      <td>0.726530</td>\n",
       "      <td>0.726118</td>\n",
       "      <td>0.726915</td>\n",
       "      <td>0.000853</td>\n",
       "      <td>8</td>\n",
       "      <td>43.954382</td>\n",
       "      <td>0.613736</td>\n",
       "      <td>2.626701</td>\n",
       "      <td>0.032941</td>\n",
       "      <td>{'reg_all': 0.25, 'n_factors': 100}</td>\n",
       "      <td>0.250</td>\n",
       "      <td>100</td>\n",
       "    </tr>\n",
       "    <tr>\n",
       "      <th>14</th>\n",
       "      <td>0.732294</td>\n",
       "      <td>0.733992</td>\n",
       "      <td>0.734055</td>\n",
       "      <td>0.733447</td>\n",
       "      <td>0.000816</td>\n",
       "      <td>12</td>\n",
       "      <td>0.728166</td>\n",
       "      <td>0.726362</td>\n",
       "      <td>0.726355</td>\n",
       "      <td>0.726961</td>\n",
       "      <td>0.000852</td>\n",
       "      <td>9</td>\n",
       "      <td>88.561230</td>\n",
       "      <td>0.977475</td>\n",
       "      <td>2.836427</td>\n",
       "      <td>0.207457</td>\n",
       "      <td>{'reg_all': 0.25, 'n_factors': 250}</td>\n",
       "      <td>0.250</td>\n",
       "      <td>250</td>\n",
       "    </tr>\n",
       "    <tr>\n",
       "      <th>15</th>\n",
       "      <td>0.732281</td>\n",
       "      <td>0.734005</td>\n",
       "      <td>0.734076</td>\n",
       "      <td>0.733454</td>\n",
       "      <td>0.000830</td>\n",
       "      <td>14</td>\n",
       "      <td>0.728175</td>\n",
       "      <td>0.726629</td>\n",
       "      <td>0.726336</td>\n",
       "      <td>0.727047</td>\n",
       "      <td>0.000807</td>\n",
       "      <td>11</td>\n",
       "      <td>227.563166</td>\n",
       "      <td>1.076719</td>\n",
       "      <td>2.838784</td>\n",
       "      <td>0.066418</td>\n",
       "      <td>{'reg_all': 0.25, 'n_factors': 500}</td>\n",
       "      <td>0.250</td>\n",
       "      <td>500</td>\n",
       "    </tr>\n",
       "    <tr>\n",
       "      <th>16</th>\n",
       "      <td>0.748740</td>\n",
       "      <td>0.750482</td>\n",
       "      <td>0.750621</td>\n",
       "      <td>0.749947</td>\n",
       "      <td>0.000856</td>\n",
       "      <td>17</td>\n",
       "      <td>0.727562</td>\n",
       "      <td>0.725617</td>\n",
       "      <td>0.725526</td>\n",
       "      <td>0.726235</td>\n",
       "      <td>0.000939</td>\n",
       "      <td>6</td>\n",
       "      <td>28.178548</td>\n",
       "      <td>0.244381</td>\n",
       "      <td>2.714588</td>\n",
       "      <td>0.180332</td>\n",
       "      <td>{'reg_all': 0.5, 'n_factors': 50}</td>\n",
       "      <td>0.500</td>\n",
       "      <td>50</td>\n",
       "    </tr>\n",
       "    <tr>\n",
       "      <th>17</th>\n",
       "      <td>0.748747</td>\n",
       "      <td>0.750485</td>\n",
       "      <td>0.750625</td>\n",
       "      <td>0.749952</td>\n",
       "      <td>0.000854</td>\n",
       "      <td>18</td>\n",
       "      <td>0.727530</td>\n",
       "      <td>0.725615</td>\n",
       "      <td>0.725493</td>\n",
       "      <td>0.726213</td>\n",
       "      <td>0.000933</td>\n",
       "      <td>4</td>\n",
       "      <td>44.340435</td>\n",
       "      <td>0.671322</td>\n",
       "      <td>15.682968</td>\n",
       "      <td>18.331339</td>\n",
       "      <td>{'reg_all': 0.5, 'n_factors': 100}</td>\n",
       "      <td>0.500</td>\n",
       "      <td>100</td>\n",
       "    </tr>\n",
       "    <tr>\n",
       "      <th>18</th>\n",
       "      <td>0.748763</td>\n",
       "      <td>0.750502</td>\n",
       "      <td>0.750639</td>\n",
       "      <td>0.749968</td>\n",
       "      <td>0.000854</td>\n",
       "      <td>19</td>\n",
       "      <td>0.727558</td>\n",
       "      <td>0.725620</td>\n",
       "      <td>0.725497</td>\n",
       "      <td>0.726225</td>\n",
       "      <td>0.000944</td>\n",
       "      <td>5</td>\n",
       "      <td>89.300216</td>\n",
       "      <td>1.008660</td>\n",
       "      <td>2.869655</td>\n",
       "      <td>0.086443</td>\n",
       "      <td>{'reg_all': 0.5, 'n_factors': 250}</td>\n",
       "      <td>0.500</td>\n",
       "      <td>250</td>\n",
       "    </tr>\n",
       "    <tr>\n",
       "      <th>19</th>\n",
       "      <td>0.748787</td>\n",
       "      <td>0.750516</td>\n",
       "      <td>0.750665</td>\n",
       "      <td>0.749990</td>\n",
       "      <td>0.000852</td>\n",
       "      <td>20</td>\n",
       "      <td>0.727597</td>\n",
       "      <td>0.725656</td>\n",
       "      <td>0.725505</td>\n",
       "      <td>0.726253</td>\n",
       "      <td>0.000952</td>\n",
       "      <td>7</td>\n",
       "      <td>225.108344</td>\n",
       "      <td>2.189094</td>\n",
       "      <td>2.860419</td>\n",
       "      <td>0.080763</td>\n",
       "      <td>{'reg_all': 0.5, 'n_factors': 500}</td>\n",
       "      <td>0.500</td>\n",
       "      <td>500</td>\n",
       "    </tr>\n",
       "  </tbody>\n",
       "</table>\n",
       "</div>"
      ],
      "text/plain": [
       "    split0_test_mae  split1_test_mae  split2_test_mae  mean_test_mae  \\\n",
       "0          0.705788         0.706633         0.705739       0.706053   \n",
       "1          0.717137         0.717743         0.717973       0.717618   \n",
       "2          0.734430         0.735049         0.735715       0.735065   \n",
       "3          0.746046         0.747614         0.746903       0.746855   \n",
       "4          0.692021         0.693136         0.694096       0.693084   \n",
       "5          0.692417         0.693147         0.693643       0.693069   \n",
       "6          0.696622         0.697942         0.697194       0.697253   \n",
       "7          0.702281         0.702889         0.702254       0.702474   \n",
       "8          0.697320         0.698776         0.697883       0.697993   \n",
       "9          0.694711         0.695815         0.695802       0.695443   \n",
       "10         0.692216         0.693301         0.693502       0.693007   \n",
       "11         0.692845         0.694089         0.693970       0.693635   \n",
       "12         0.732270         0.733995         0.734061       0.733442   \n",
       "13         0.732291         0.733998         0.734059       0.733449   \n",
       "14         0.732294         0.733992         0.734055       0.733447   \n",
       "15         0.732281         0.734005         0.734076       0.733454   \n",
       "16         0.748740         0.750482         0.750621       0.749947   \n",
       "17         0.748747         0.750485         0.750625       0.749952   \n",
       "18         0.748763         0.750502         0.750639       0.749968   \n",
       "19         0.748787         0.750516         0.750665       0.749990   \n",
       "\n",
       "    std_test_mae  rank_test_mae  split0_test_fcp  split1_test_fcp  \\\n",
       "0       0.000411              9         0.732369         0.731771   \n",
       "1       0.000353             10         0.723274         0.722865   \n",
       "2       0.000524             15         0.711642         0.710078   \n",
       "3       0.000641             16         0.703479         0.702247   \n",
       "4       0.000848              3         0.747899         0.747501   \n",
       "5       0.000504              2         0.747700         0.747353   \n",
       "6       0.000540              6         0.745706         0.744646   \n",
       "7       0.000293              8         0.741561         0.742153   \n",
       "8       0.000600              7         0.748111         0.746777   \n",
       "9       0.000517              5         0.751157         0.749445   \n",
       "10      0.000565              1         0.753349         0.752712   \n",
       "11      0.000560              4         0.754278         0.753132   \n",
       "12      0.000829             11         0.728157         0.726557   \n",
       "13      0.000819             13         0.728098         0.726530   \n",
       "14      0.000816             12         0.728166         0.726362   \n",
       "15      0.000830             14         0.728175         0.726629   \n",
       "16      0.000856             17         0.727562         0.725617   \n",
       "17      0.000854             18         0.727530         0.725615   \n",
       "18      0.000854             19         0.727558         0.725620   \n",
       "19      0.000852             20         0.727597         0.725656   \n",
       "\n",
       "    split2_test_fcp  mean_test_fcp  std_test_fcp  rank_test_fcp  \\\n",
       "0          0.733216       0.732452      0.000593             12   \n",
       "1          0.723027       0.723055      0.000168              3   \n",
       "2          0.710635       0.710785      0.000648              2   \n",
       "3          0.701977       0.702568      0.000654              1   \n",
       "4          0.746231       0.747210      0.000711             16   \n",
       "5          0.747566       0.747540      0.000143             17   \n",
       "6          0.744202       0.744851      0.000631             14   \n",
       "7          0.741625       0.741780      0.000265             13   \n",
       "8          0.746477       0.747122      0.000710             15   \n",
       "9          0.749240       0.749947      0.000860             18   \n",
       "10         0.751832       0.752631      0.000622             19   \n",
       "11         0.752727       0.753379      0.000657             20   \n",
       "12         0.726199       0.726971      0.000851             10   \n",
       "13         0.726118       0.726915      0.000853              8   \n",
       "14         0.726355       0.726961      0.000852              9   \n",
       "15         0.726336       0.727047      0.000807             11   \n",
       "16         0.725526       0.726235      0.000939              6   \n",
       "17         0.725493       0.726213      0.000933              4   \n",
       "18         0.725497       0.726225      0.000944              5   \n",
       "19         0.725505       0.726253      0.000952              7   \n",
       "\n",
       "    mean_fit_time  std_fit_time  mean_test_time  std_test_time  \\\n",
       "0       43.083112      0.257159        3.997527       0.014276   \n",
       "1       66.799678      0.405062       28.832525      35.034613   \n",
       "2       90.373631      0.752638        2.853297       0.128621   \n",
       "3      512.110797    391.578967        3.041929       0.011113   \n",
       "4       28.206495      0.557262        2.754596       0.136845   \n",
       "5       43.478236      0.323973        2.729806       0.183871   \n",
       "6       88.636994      0.446301        2.837224       0.149433   \n",
       "7      232.397039     10.327545       16.862615      19.609104   \n",
       "8       28.227761      0.202210        2.818417       0.024541   \n",
       "9       43.034383      0.421487        2.593631       0.111949   \n",
       "10      89.025575      1.052477        2.773077       0.144713   \n",
       "11     225.424782      0.984937        2.998315       0.043427   \n",
       "12      28.321050      0.170298       13.677918      15.435354   \n",
       "13      43.954382      0.613736        2.626701       0.032941   \n",
       "14      88.561230      0.977475        2.836427       0.207457   \n",
       "15     227.563166      1.076719        2.838784       0.066418   \n",
       "16      28.178548      0.244381        2.714588       0.180332   \n",
       "17      44.340435      0.671322       15.682968      18.331339   \n",
       "18      89.300216      1.008660        2.869655       0.086443   \n",
       "19     225.108344      2.189094        2.860419       0.080763   \n",
       "\n",
       "                                  params  param_reg_all  param_n_factors  \n",
       "0    {'reg_all': 0.005, 'n_factors': 50}          0.005               50  \n",
       "1   {'reg_all': 0.005, 'n_factors': 100}          0.005              100  \n",
       "2   {'reg_all': 0.005, 'n_factors': 250}          0.005              250  \n",
       "3   {'reg_all': 0.005, 'n_factors': 500}          0.005              500  \n",
       "4    {'reg_all': 0.025, 'n_factors': 50}          0.025               50  \n",
       "5   {'reg_all': 0.025, 'n_factors': 100}          0.025              100  \n",
       "6   {'reg_all': 0.025, 'n_factors': 250}          0.025              250  \n",
       "7   {'reg_all': 0.025, 'n_factors': 500}          0.025              500  \n",
       "8     {'reg_all': 0.05, 'n_factors': 50}          0.050               50  \n",
       "9    {'reg_all': 0.05, 'n_factors': 100}          0.050              100  \n",
       "10   {'reg_all': 0.05, 'n_factors': 250}          0.050              250  \n",
       "11   {'reg_all': 0.05, 'n_factors': 500}          0.050              500  \n",
       "12    {'reg_all': 0.25, 'n_factors': 50}          0.250               50  \n",
       "13   {'reg_all': 0.25, 'n_factors': 100}          0.250              100  \n",
       "14   {'reg_all': 0.25, 'n_factors': 250}          0.250              250  \n",
       "15   {'reg_all': 0.25, 'n_factors': 500}          0.250              500  \n",
       "16     {'reg_all': 0.5, 'n_factors': 50}          0.500               50  \n",
       "17    {'reg_all': 0.5, 'n_factors': 100}          0.500              100  \n",
       "18    {'reg_all': 0.5, 'n_factors': 250}          0.500              250  \n",
       "19    {'reg_all': 0.5, 'n_factors': 500}          0.500              500  "
      ]
     },
     "execution_count": 325,
     "metadata": {},
     "output_type": "execute_result"
    }
   ],
   "source": [
    "pd.DataFrame(gs.cv_results)"
   ]
  },
  {
   "cell_type": "code",
   "execution_count": 317,
   "id": "240d4f30",
   "metadata": {
    "slideshow": {
     "slide_type": "subslide"
    }
   },
   "outputs": [
    {
     "name": "stdout",
     "output_type": "stream",
     "text": [
      "{'reg_all': 0.05, 'n_factors': 500}\n"
     ]
    },
    {
     "data": {
      "text/plain": [
       "0.7533786480857493"
      ]
     },
     "execution_count": 317,
     "metadata": {},
     "output_type": "execute_result"
    }
   ],
   "source": [
    "best_fcp_est = gs.best_estimator['fcp']\n",
    "print(gs.best_params['fcp'])\n",
    "gs.best_score['fcp']"
   ]
  },
  {
   "cell_type": "markdown",
   "id": "1db978eb",
   "metadata": {
    "slideshow": {
     "slide_type": "slide"
    }
   },
   "source": [
    "Now we make a trainset out of the entire dataset:\n",
    "- build_full_trainset()\n",
    "- method of Surprise Dataset object"
   ]
  },
  {
   "cell_type": "code",
   "execution_count": 321,
   "id": "ab3058eb",
   "metadata": {
    "cell_style": "center",
    "slideshow": {
     "slide_type": "fragment"
    }
   },
   "outputs": [],
   "source": [
    "full_train = data_gen.build_full_trainset()"
   ]
  },
  {
   "cell_type": "markdown",
   "id": "e8466b96",
   "metadata": {
    "cell_style": "center",
    "slideshow": {
     "slide_type": "subslide"
    }
   },
   "source": [
    "Then fit best estimator on full train set:"
   ]
  },
  {
   "cell_type": "code",
   "execution_count": 322,
   "id": "030aa0e6",
   "metadata": {
    "cell_style": "center",
    "slideshow": {
     "slide_type": "-"
    }
   },
   "outputs": [
    {
     "data": {
      "text/plain": [
       "<surprise.prediction_algorithms.matrix_factorization.SVD at 0x1404ce81588>"
      ]
     },
     "execution_count": 322,
     "metadata": {},
     "output_type": "execute_result"
    }
   ],
   "source": [
    "best_fcp_est.fit(full_train)"
   ]
  },
  {
   "cell_type": "markdown",
   "id": "a049353e",
   "metadata": {
    "slideshow": {
     "slide_type": "fragment"
    }
   },
   "source": [
    "And now we use this model for serving:\n",
    "- .predict()\n",
    "- etc."
   ]
  },
  {
   "cell_type": "markdown",
   "id": "e67cf747",
   "metadata": {
    "slideshow": {
     "slide_type": "slide"
    }
   },
   "source": [
    "Collaborative filtering via matrix factorization:\n",
    "- finds embedding/features from unsupervised decomposition technique\n",
    "- does well when you have a LOT of data (i.e. big data level with distributed computing)\n",
    "- performs poorly when you have too few observations (**the cold start problem**)\n"
   ]
  },
  {
   "cell_type": "markdown",
   "id": "fc0ff43b",
   "metadata": {},
   "source": [
    "- Best performing recommenders are hybrid. Uses:\n",
    "- useful features of users and movies\n",
    "- embeddings found via ratings from collaborative filtering"
   ]
  }
 ],
 "metadata": {
  "celltoolbar": "Slideshow",
  "kernelspec": {
   "display_name": "dplearn",
   "language": "python",
   "name": "dplearn"
  },
  "language_info": {
   "codemirror_mode": {
    "name": "ipython",
    "version": 3
   },
   "file_extension": ".py",
   "mimetype": "text/x-python",
   "name": "python",
   "nbconvert_exporter": "python",
   "pygments_lexer": "ipython3",
   "version": "3.7.5"
  }
 },
 "nbformat": 4,
 "nbformat_minor": 5
}
