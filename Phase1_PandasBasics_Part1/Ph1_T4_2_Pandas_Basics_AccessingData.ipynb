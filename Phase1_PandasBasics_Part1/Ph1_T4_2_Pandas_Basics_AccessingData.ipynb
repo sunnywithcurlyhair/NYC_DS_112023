{
 "cells": [
  {
   "cell_type": "markdown",
   "id": "042c9704",
   "metadata": {
    "cell_style": "center",
    "slideshow": {
     "slide_type": "slide"
    }
   },
   "source": [
    "<div style=\"color:white;\n",
    "           display:fill;\n",
    "           border-radius:5px;\n",
    "           background-color:#5642C5;\n",
    "           font-size:200%;\n",
    "           font-family:Arial;letter-spacing:0.5px\">\n",
    "\n",
    "<p width = 20%, style=\"padding: 10px;\n",
    "              color:white;\">\n",
    "Pandas: Data Structures and Accessing the Data\n",
    "              \n",
    "</p>\n",
    "</div>\n",
    "\n",
    "Data Science Cohort Live NYC Nov 2023\n",
    "<p>Phase 1</p>\n",
    "<br>\n",
    "<br>\n",
    "\n",
    "<div align = \"right\">\n",
    "<img src=\"Images/flatiron-school-logo.png\" align = \"right\" width=\"200\"/>\n",
    "</div>\n",
    "    \n",
    "    "
   ]
  },
  {
   "cell_type": "code",
   "execution_count": null,
   "id": "844ffcde",
   "metadata": {
    "slideshow": {
     "slide_type": "slide"
    }
   },
   "outputs": [],
   "source": [
    "# Import libraries\n",
    "import numpy as np\n",
    "import pandas as pd # import pandas library"
   ]
  },
  {
   "cell_type": "markdown",
   "id": "1ef073a7",
   "metadata": {
    "slideshow": {
     "slide_type": "slide"
    }
   },
   "source": [
    "Pandas has two core data structures:\n",
    "- Series: 1D array with native support for many data operations that numpy arrays don't.\n",
    "- DataFrames: Tabular data with various tabular manipulation operations. Individual columns/rows are pandas Series."
   ]
  },
  {
   "cell_type": "markdown",
   "id": "af463802",
   "metadata": {
    "slideshow": {
     "slide_type": "slide"
    }
   },
   "source": [
    "#### Pandas Series\n",
    "\n",
    "We have data on the highest number of cars that a few famous people have owned. \n",
    "\n",
    "| Person | Max number of Cars |\n",
    "| --- | --- | \n",
    "| Muammar Qaddafi | 25000 |\n",
    "| Mohandas Gandhi | 0 |\n",
    "| Saddam Hussein | 4500 |\n",
    "| Kevin Bacon | 2 |\n",
    "| Billy Bob Thornton | 8 |\n",
    "\n",
    "Let's represent this as a series."
   ]
  },
  {
   "cell_type": "code",
   "execution_count": null,
   "id": "193badb1",
   "metadata": {
    "slideshow": {
     "slide_type": "subslide"
    }
   },
   "outputs": [],
   "source": [
    "pd.Series([25000,0,4500,2,8],\n",
    "          index = ['Muammar Qaddafi', 'Mohandas Gandhi', 'Saddam Hussein', 'Kevin Bacon', 'Billy Bob Thornton'], \n",
    "          name = 'Max Number Cars Owned')"
   ]
  },
  {
   "cell_type": "code",
   "execution_count": null,
   "id": "3a4e794e",
   "metadata": {
    "slideshow": {
     "slide_type": "subslide"
    }
   },
   "outputs": [],
   "source": [
    "# This more naturally can be inputted from a dict.\n",
    "car_dict = {'Muammar Qaddafi': 25000, 'Mohandas Gandhi': 0, \n",
    "            'Saddam Hussein': 4500, 'Kevin Bacon': 2, 'Billy Bob Thornton': 8}\n",
    "\n",
    "car_owner_series = pd.Series(car_dict) # create a series from a dict\n",
    "car_owner_series"
   ]
  },
  {
   "cell_type": "markdown",
   "id": "e90eb09b",
   "metadata": {
    "cell_style": "split",
    "slideshow": {
     "slide_type": "slide"
    }
   },
   "source": [
    "Why use Pandas series?\n",
    "\n",
    "Combines:\n",
    "- Dictionary style fast lookup.\n",
    "- Numpy style vectorized operations on the values.\n"
   ]
  },
  {
   "cell_type": "code",
   "execution_count": null,
   "id": "724e9f52",
   "metadata": {
    "cell_style": "split",
    "slideshow": {
     "slide_type": "fragment"
    }
   },
   "outputs": [],
   "source": [
    "# indexed on sensible keys. \n",
    "car_owner_series['Billy Bob Thornton']"
   ]
  },
  {
   "cell_type": "code",
   "execution_count": null,
   "id": "5b0777e9",
   "metadata": {
    "cell_style": "split",
    "slideshow": {
     "slide_type": "fragment"
    }
   },
   "outputs": [],
   "source": [
    "# can slice on these keys\n",
    "car_owner_series[\"Mohandas Gandhi\"\n",
    "                 :\"Kevin Bacon\"]"
   ]
  },
  {
   "cell_type": "code",
   "execution_count": null,
   "id": "bdfae7f3",
   "metadata": {
    "cell_style": "center",
    "slideshow": {
     "slide_type": "slide"
    }
   },
   "outputs": [],
   "source": [
    "#can do fast computation like a numpy array\n",
    "\n",
    "# A new set of values. Kevin Bacon bought an extra car and Billy Bob bought two more. \n",
    "delta_cars = {'Mohandas Gandhi': 0, 'Billy Bob Thornton': 2, \n",
    "              'Saddam Hussein': 0, 'Kevin Bacon': 1, 'Muammar Qaddafi': 0}\n",
    "\n",
    "delta_cars_series = pd.Series(delta_cars)"
   ]
  },
  {
   "cell_type": "code",
   "execution_count": null,
   "id": "ceb5dd99",
   "metadata": {
    "cell_style": "split",
    "slideshow": {
     "slide_type": "slide"
    }
   },
   "outputs": [],
   "source": [
    "print(delta_cars_series)"
   ]
  },
  {
   "cell_type": "code",
   "execution_count": null,
   "id": "fbabfd7d",
   "metadata": {
    "cell_style": "split",
    "slideshow": {
     "slide_type": "fragment"
    }
   },
   "outputs": [],
   "source": [
    "print(car_owner_series)"
   ]
  },
  {
   "cell_type": "markdown",
   "id": "4cd9a03b",
   "metadata": {
    "slideshow": {
     "slide_type": "slide"
    }
   },
   "source": [
    "Want to update but the two series are not in the same order.\n",
    "\n",
    "No problem for pandas."
   ]
  },
  {
   "cell_type": "code",
   "execution_count": null,
   "id": "8e05513b",
   "metadata": {},
   "outputs": [],
   "source": [
    "new_car_series = car_owner_series + delta_cars_series\n",
    "print(new_car_series)"
   ]
  },
  {
   "cell_type": "markdown",
   "id": "a8e2892b",
   "metadata": {
    "slideshow": {
     "slide_type": "slide"
    }
   },
   "source": [
    "#### Some important Series attributes\n",
    "\n",
    "- The Series.index attribute: list of indices (keys)"
   ]
  },
  {
   "cell_type": "code",
   "execution_count": null,
   "id": "44cd22d9",
   "metadata": {
    "slideshow": {
     "slide_type": "-"
    }
   },
   "outputs": [],
   "source": [
    "new_car_series.index"
   ]
  },
  {
   "cell_type": "markdown",
   "id": "302f6e9c",
   "metadata": {
    "slideshow": {
     "slide_type": "slide"
    }
   },
   "source": [
    "- The Series.values attribute: series values returns as numpy array"
   ]
  },
  {
   "cell_type": "code",
   "execution_count": null,
   "id": "9fae8d2e",
   "metadata": {
    "slideshow": {
     "slide_type": "-"
    }
   },
   "outputs": [],
   "source": [
    "new_car_series.values"
   ]
  },
  {
   "cell_type": "markdown",
   "id": "cf9a0b98",
   "metadata": {
    "slideshow": {
     "slide_type": "slide"
    }
   },
   "source": [
    "- The Series.name attribute: the name of the series"
   ]
  },
  {
   "cell_type": "code",
   "execution_count": null,
   "id": "7bb16b8d",
   "metadata": {
    "slideshow": {
     "slide_type": "-"
    }
   },
   "outputs": [],
   "source": [
    "new_car_series.name = 'Max cars owned'\n",
    "print(new_car_series)"
   ]
  },
  {
   "cell_type": "code",
   "execution_count": null,
   "id": "e26a0e33",
   "metadata": {},
   "outputs": [],
   "source": [
    "new_car_series.name"
   ]
  },
  {
   "cell_type": "markdown",
   "id": "c1764dbe",
   "metadata": {
    "slideshow": {
     "slide_type": "slide"
    }
   },
   "source": [
    "- The Series.dtype: data type for Series values"
   ]
  },
  {
   "cell_type": "code",
   "execution_count": null,
   "id": "157b5524",
   "metadata": {},
   "outputs": [],
   "source": [
    "new_car_series.dtype"
   ]
  },
  {
   "cell_type": "markdown",
   "id": "479b54ab",
   "metadata": {
    "slideshow": {
     "slide_type": "slide"
    }
   },
   "source": [
    "Series have some various attached methods.\n",
    "\n",
    "Examples: sorting by max cars in descending order:"
   ]
  },
  {
   "cell_type": "code",
   "execution_count": null,
   "id": "045abf6f",
   "metadata": {},
   "outputs": [],
   "source": [
    "new_car_series.sort_values(ascending = False)"
   ]
  },
  {
   "cell_type": "markdown",
   "id": "bbbcfe8b",
   "metadata": {
    "slideshow": {
     "slide_type": "slide"
    }
   },
   "source": [
    "Series have:\n",
    "- native methods for handling time series data\n",
    "- whole host of other nice methods.\n",
    "\n",
    "Will see these later."
   ]
  },
  {
   "cell_type": "markdown",
   "id": "8764a0d2",
   "metadata": {
    "slideshow": {
     "slide_type": "slide"
    }
   },
   "source": [
    "#### Pandas DataFrames\n",
    "\n",
    "We saw these before with the heart disease dataset. Tabular data structure.\n",
    "\n",
    "- Can create these from a 2D numpy array or a dict of lists: \n",
    "    - pd.DataFrame(data, index, columns)\n",
    "- Very often from csv file: pd.read_csv(...)\n",
    "\n",
    "Take a new dataset that has data about various breakfast cereals."
   ]
  },
  {
   "cell_type": "code",
   "execution_count": null,
   "id": "4dd936d7",
   "metadata": {},
   "outputs": [],
   "source": [
    "# parses header automatically, interprets data with default ',' delimiter\n",
    "cereal_df = pd.read_csv('Data/cereal.csv', index_col = 'name') #index_col sets name column for Dataframe named index"
   ]
  },
  {
   "cell_type": "markdown",
   "id": "056c1022",
   "metadata": {
    "slideshow": {
     "slide_type": "slide"
    }
   },
   "source": [
    "Often want a quick view of the first few entries in the table data.\n",
    "\n",
    "The .head() method:"
   ]
  },
  {
   "cell_type": "code",
   "execution_count": null,
   "id": "a37111d9",
   "metadata": {},
   "outputs": [],
   "source": [
    "cereal_df.head(2) # default returns first 5 elements"
   ]
  },
  {
   "cell_type": "markdown",
   "id": "9486d154",
   "metadata": {
    "slideshow": {
     "slide_type": "slide"
    }
   },
   "source": [
    "Less common, take a look at the end:\n",
    "\n",
    "The .tail() method:"
   ]
  },
  {
   "cell_type": "code",
   "execution_count": null,
   "id": "594fa7c3",
   "metadata": {
    "scrolled": true
   },
   "outputs": [],
   "source": [
    "cereal_df.tail()"
   ]
  },
  {
   "cell_type": "markdown",
   "id": "a2337765",
   "metadata": {
    "slideshow": {
     "slide_type": "slide"
    }
   },
   "source": [
    "Good common practice: \n",
    "\n",
    "Start by looking at some metadata and descriptive statistics on DataFrame.\n",
    "\n",
    "- .info() method: column data type. Any nulls?\n",
    "- .describe() method: statistics for each column"
   ]
  },
  {
   "cell_type": "code",
   "execution_count": null,
   "id": "dd90c056",
   "metadata": {
    "cell_style": "split",
    "scrolled": false,
    "slideshow": {
     "slide_type": "subslide"
    }
   },
   "outputs": [],
   "source": [
    "cereal_df.info()"
   ]
  },
  {
   "cell_type": "code",
   "execution_count": null,
   "id": "f76f5216",
   "metadata": {
    "cell_style": "split",
    "slideshow": {
     "slide_type": "fragment"
    }
   },
   "outputs": [],
   "source": [
    "cereal_df.describe()"
   ]
  },
  {
   "cell_type": "markdown",
   "id": "8120dae2",
   "metadata": {
    "slideshow": {
     "slide_type": "slide"
    }
   },
   "source": [
    "Important basic DataFrame attributes:\n",
    "\n",
    "- DataFrame.index: list of index names for rows\n",
    "- DataFrame.columns: list of column names\n",
    "- DataFrame.shape: returns (number rows, number columns) tuple.\n"
   ]
  },
  {
   "cell_type": "code",
   "execution_count": null,
   "id": "0000e67d",
   "metadata": {
    "cell_style": "split",
    "slideshow": {
     "slide_type": "subslide"
    }
   },
   "outputs": [],
   "source": [
    "cereal_df.columns"
   ]
  },
  {
   "cell_type": "code",
   "execution_count": null,
   "id": "29ac670b",
   "metadata": {
    "cell_style": "split",
    "slideshow": {
     "slide_type": "fragment"
    }
   },
   "outputs": [],
   "source": [
    "cereal_df.index[0:10]"
   ]
  },
  {
   "cell_type": "code",
   "execution_count": null,
   "id": "d8a1a206",
   "metadata": {
    "cell_style": "split",
    "slideshow": {
     "slide_type": "fragment"
    }
   },
   "outputs": [],
   "source": [
    "cereal_df.shape"
   ]
  },
  {
   "cell_type": "markdown",
   "id": "4773ba8b",
   "metadata": {
    "slideshow": {
     "slide_type": "slide"
    }
   },
   "source": [
    "#### Accessing data in a DataFrame\n",
    "\n",
    "Accessing data in a Series by named index is easy. Remember:"
   ]
  },
  {
   "cell_type": "code",
   "execution_count": null,
   "id": "fe32dba8",
   "metadata": {
    "slideshow": {
     "slide_type": "subslide"
    }
   },
   "outputs": [],
   "source": [
    "new_car_series['Billy Bob Thornton']"
   ]
  },
  {
   "cell_type": "markdown",
   "id": "76765ced",
   "metadata": {
    "slideshow": {
     "slide_type": "slide"
    }
   },
   "source": [
    "DataFrames: can access entire **columns** in a similar way. Access the calories column."
   ]
  },
  {
   "cell_type": "code",
   "execution_count": null,
   "id": "40455bce",
   "metadata": {
    "slideshow": {
     "slide_type": "subslide"
    }
   },
   "outputs": [],
   "source": [
    "cereal_df['calories']"
   ]
  },
  {
   "cell_type": "code",
   "execution_count": null,
   "id": "0f6fb375",
   "metadata": {
    "scrolled": true,
    "slideshow": {
     "slide_type": "subslide"
    }
   },
   "outputs": [],
   "source": [
    "cereal_df.calories # equivalent to cereal_df['calories']"
   ]
  },
  {
   "cell_type": "markdown",
   "id": "08c3233e",
   "metadata": {
    "slideshow": {
     "slide_type": "slide"
    }
   },
   "source": [
    "Wait a minute...this is returning a Series with name \"calories\"! \n",
    "\n",
    "Individual columns/rows extracted as pandas Series from the DataFrame architecture."
   ]
  },
  {
   "cell_type": "markdown",
   "id": "ed44248c",
   "metadata": {
    "slideshow": {
     "slide_type": "slide"
    }
   },
   "source": [
    "Can also extract data from a subset of the columns by passing in a list of column names.\n",
    "\n",
    "DataFrame[list of column names in subset]: returns a DataFrame"
   ]
  },
  {
   "cell_type": "code",
   "execution_count": null,
   "id": "430f4342",
   "metadata": {
    "slideshow": {
     "slide_type": "subslide"
    }
   },
   "outputs": [],
   "source": [
    "col_list = ['calories', 'fat', 'sugars']\n",
    "cereal_df[['calories', 'fat', 'sugars']]"
   ]
  },
  {
   "cell_type": "markdown",
   "id": "1e8ff227",
   "metadata": {
    "cell_style": "split",
    "slideshow": {
     "slide_type": "slide"
    }
   },
   "source": [
    "This is a new dataframe with just the accessed columns in the list. We can access a particular row and column as follows:\n",
    "\n",
    "DataFrame[column_name][row_name]"
   ]
  },
  {
   "cell_type": "code",
   "execution_count": null,
   "id": "a877f9a6",
   "metadata": {
    "cell_style": "split",
    "slideshow": {
     "slide_type": "fragment"
    }
   },
   "outputs": [],
   "source": [
    "cereal_df['sugars']['Fruity Pebbles']"
   ]
  },
  {
   "cell_type": "markdown",
   "id": "71e46f58",
   "metadata": {
    "slideshow": {
     "slide_type": "slide"
    }
   },
   "source": [
    "#### The .loc[] accessor (preferred method for row + column selection):\n",
    "\n",
    "- Access single row by named index\n",
    "- Complex selections: slicing across both rows and columns, etc\n",
    "- Really important to use when assigning values in selections.\n",
    "\n",
    "1. DataFrame.loc[row_accessor]\n",
    "2. DataFrame.loc[row_accessor, column_accessor]\n"
   ]
  },
  {
   "cell_type": "markdown",
   "id": "512846b5",
   "metadata": {
    "slideshow": {
     "slide_type": "slide"
    }
   },
   "source": [
    "Accessing a single row with .loc[]"
   ]
  },
  {
   "cell_type": "code",
   "execution_count": null,
   "id": "b97f3965",
   "metadata": {
    "cell_style": "split",
    "slideshow": {
     "slide_type": "subslide"
    }
   },
   "outputs": [],
   "source": [
    "cereal_df.head(8)"
   ]
  },
  {
   "cell_type": "code",
   "execution_count": null,
   "id": "43bd7fcb",
   "metadata": {
    "cell_style": "split",
    "scrolled": true,
    "slideshow": {
     "slide_type": "fragment"
    }
   },
   "outputs": [],
   "source": [
    "cereal_df.loc['All-Bran']"
   ]
  },
  {
   "cell_type": "markdown",
   "id": "8b56e3cb",
   "metadata": {
    "slideshow": {
     "slide_type": "slide"
    }
   },
   "source": [
    "Accessing multiple rows:"
   ]
  },
  {
   "cell_type": "code",
   "execution_count": null,
   "id": "a4edde72",
   "metadata": {
    "slideshow": {
     "slide_type": "subslide"
    }
   },
   "outputs": [],
   "source": [
    "cereal_df.head(8)"
   ]
  },
  {
   "cell_type": "code",
   "execution_count": null,
   "id": "a9b94fbf",
   "metadata": {
    "slideshow": {
     "slide_type": "subslide"
    }
   },
   "outputs": [],
   "source": [
    "# select rows by list of index names\n",
    "row_list = ['All-Bran', 'Almond Delight', 'Apple Jacks']\n",
    "cereal_df.loc[row_list]"
   ]
  },
  {
   "cell_type": "code",
   "execution_count": null,
   "id": "98f36fdb",
   "metadata": {
    "slideshow": {
     "slide_type": "subslide"
    }
   },
   "outputs": [],
   "source": [
    "#slice rows by name\n",
    "cereal_df.loc['All-Bran':'Apple Jacks']"
   ]
  },
  {
   "cell_type": "markdown",
   "id": "991c5def",
   "metadata": {},
   "source": [
    "Note: with .loc[],  final entry *is included* in slice."
   ]
  },
  {
   "cell_type": "markdown",
   "id": "3d5abcf3",
   "metadata": {
    "slideshow": {
     "slide_type": "slide"
    }
   },
   "source": [
    "Accessing multiple columns:"
   ]
  },
  {
   "cell_type": "code",
   "execution_count": null,
   "id": "8a532aec",
   "metadata": {
    "cell_style": "split",
    "scrolled": true,
    "slideshow": {
     "slide_type": "slide"
    }
   },
   "outputs": [],
   "source": [
    "cereal_df.head(8)"
   ]
  },
  {
   "cell_type": "code",
   "execution_count": null,
   "id": "100e36fc",
   "metadata": {
    "cell_style": "split",
    "slideshow": {
     "slide_type": "fragment"
    }
   },
   "outputs": [],
   "source": [
    "# select columns by list\n",
    "listcol = [\"calories\", \"protein\", \n",
    "                   \"fat\",\"sodium\"]\n",
    "cereal_df.loc[\"All-Bran\", listcol]"
   ]
  },
  {
   "cell_type": "code",
   "execution_count": null,
   "id": "2145622e",
   "metadata": {
    "cell_style": "split",
    "slideshow": {
     "slide_type": "fragment"
    }
   },
   "outputs": [],
   "source": [
    "# slice on columns by name\n",
    "cereal_df.loc[\"All-Bran\", \n",
    "              \"calories\":\"sodium\"]\n"
   ]
  },
  {
   "cell_type": "markdown",
   "id": "f25f801e",
   "metadata": {
    "slideshow": {
     "slide_type": "slide"
    }
   },
   "source": [
    "Putting it altogether (selections on rows and columns):"
   ]
  },
  {
   "cell_type": "code",
   "execution_count": null,
   "id": "f72c7f14",
   "metadata": {
    "cell_style": "split",
    "slideshow": {
     "slide_type": "subslide"
    }
   },
   "outputs": [],
   "source": [
    "cereal_df.head(8)"
   ]
  },
  {
   "cell_type": "code",
   "execution_count": null,
   "id": "f16a3658",
   "metadata": {
    "cell_style": "split",
    "slideshow": {
     "slide_type": "fragment"
    }
   },
   "outputs": [],
   "source": [
    "# slicing on rows AND columns\n",
    "cereal_df.loc[\"All-Bran\":\"Almond Delight\", \n",
    "              \"calories\":\"sodium\"]"
   ]
  },
  {
   "cell_type": "code",
   "execution_count": null,
   "id": "0d63f82f",
   "metadata": {
    "cell_style": "center",
    "scrolled": true,
    "slideshow": {
     "slide_type": "slide"
    }
   },
   "outputs": [],
   "source": [
    "# accessing all rows and a column subset \n",
    "# with .loc accessor \n",
    "cereal_df.loc[:, ['protein', 'fat']]"
   ]
  },
  {
   "cell_type": "code",
   "execution_count": null,
   "id": "d67b3e78",
   "metadata": {
    "scrolled": false,
    "slideshow": {
     "slide_type": "subslide"
    }
   },
   "outputs": [],
   "source": [
    "cereal_df[['calories','protein']]"
   ]
  },
  {
   "cell_type": "markdown",
   "id": "614bc22e",
   "metadata": {
    "slideshow": {
     "slide_type": "slide"
    }
   },
   "source": [
    "Only difference arises when slicing on columns:\n",
    "- Really need to use .loc[] accessor for this."
   ]
  },
  {
   "cell_type": "code",
   "execution_count": null,
   "id": "42e075dc",
   "metadata": {
    "slideshow": {
     "slide_type": "subslide"
    }
   },
   "outputs": [],
   "source": [
    "cereal_df.loc[:, 'calories':'sodium']"
   ]
  },
  {
   "cell_type": "code",
   "execution_count": null,
   "id": "54cdb187",
   "metadata": {
    "slideshow": {
     "slide_type": "subslide"
    }
   },
   "outputs": [],
   "source": [
    "cereal_df['calories':'sodium']"
   ]
  },
  {
   "cell_type": "markdown",
   "id": "d3c1f22f",
   "metadata": {
    "slideshow": {
     "slide_type": "slide"
    }
   },
   "source": [
    "The .iloc[] accessor:\n",
    "\n",
    "- Access rows and columns by their integer position instead of named index.\n",
    "- Everything else pretty much the same as .loc[]"
   ]
  },
  {
   "cell_type": "code",
   "execution_count": null,
   "id": "420edb5a",
   "metadata": {
    "cell_style": "split",
    "slideshow": {
     "slide_type": "subslide"
    }
   },
   "outputs": [],
   "source": [
    "cereal_df.head(5)"
   ]
  },
  {
   "cell_type": "code",
   "execution_count": null,
   "id": "b2612678",
   "metadata": {
    "cell_style": "split",
    "slideshow": {
     "slide_type": "fragment"
    }
   },
   "outputs": [],
   "source": [
    "cereal_df.iloc[1:4, 2:6]"
   ]
  },
  {
   "cell_type": "markdown",
   "id": "8dc823f5",
   "metadata": {},
   "source": [
    "Note with .iloc slice, last index *NOT included* in slice"
   ]
  }
 ],
 "metadata": {
  "celltoolbar": "Slideshow",
  "kernelspec": {
   "display_name": "Python 3 (ipykernel)",
   "language": "python",
   "name": "python3"
  },
  "language_info": {
   "codemirror_mode": {
    "name": "ipython",
    "version": 3
   },
   "file_extension": ".py",
   "mimetype": "text/x-python",
   "name": "python",
   "nbconvert_exporter": "python",
   "pygments_lexer": "ipython3",
   "version": "3.9.7"
  }
 },
 "nbformat": 4,
 "nbformat_minor": 5
}
