{
 "cells": [
  {
   "cell_type": "markdown",
   "id": "4aecbd44",
   "metadata": {
    "cell_style": "center",
    "slideshow": {
     "slide_type": "slide"
    }
   },
   "source": [
    "<div style=\"color:white;\n",
    "           display:fill;\n",
    "           border-radius:5px;\n",
    "           background-color:#5642C5;\n",
    "           font-size:200%;\n",
    "           font-family:Arial;letter-spacing:0.5px\">\n",
    "\n",
    "<p width = 20%, style=\"padding: 10px;\n",
    "              color:white;\">\n",
    "Pandas: Data Selection by Boolean Masking\n",
    "</p>\n",
    "</div>\n",
    "\n",
    "Data Science Cohort Live NYC Nov 2023\n",
    "<p>Phase 1</p>\n",
    "<br>\n",
    "<br>\n",
    "\n",
    "<div align = \"right\">\n",
    "<img src=\"Images/flatiron-school-logo.png\" align = \"right\" width=\"200\"/>\n",
    "</div>\n",
    "    \n",
    "    "
   ]
  },
  {
   "cell_type": "markdown",
   "id": "dbcb3f7b",
   "metadata": {
    "slideshow": {
     "slide_type": "slide"
    }
   },
   "source": [
    "#### The Boolean Mask \n",
    "\n",
    "Test whether a condition is true or not over an entire series of data and use criterion for selection.\n",
    "<br>\n",
    "<br>\n",
    "<figure><center><img src=\"Images/boolean.jpg\" width=\"250\"/></center>\n",
    "    \n",
    "   </figure>\n",
    "   <figcaption><center> Mask inspired by the Kran people of Liberia and Ivory Coast. </center></figcaption>"
   ]
  },
  {
   "cell_type": "markdown",
   "id": "e1960b3f",
   "metadata": {
    "slideshow": {
     "slide_type": "slide"
    }
   },
   "source": [
    "Remind ourselves of the structure of cereals DataFrame:"
   ]
  },
  {
   "cell_type": "code",
   "execution_count": null,
   "id": "4ada4c74",
   "metadata": {
    "cell_style": "split",
    "slideshow": {
     "slide_type": "subslide"
    }
   },
   "outputs": [],
   "source": [
    "import numpy as np\n",
    "import pandas as pd\n",
    "\n",
    "cereal_df = pd.read_csv('Data/cereal.csv', index_col = 'name')\n",
    "cereal_df.info()"
   ]
  },
  {
   "cell_type": "code",
   "execution_count": null,
   "id": "0e61f615",
   "metadata": {
    "cell_style": "split",
    "slideshow": {
     "slide_type": "fragment"
    }
   },
   "outputs": [],
   "source": [
    "cereal_df.describe()"
   ]
  },
  {
   "cell_type": "markdown",
   "id": "39f80495",
   "metadata": {
    "slideshow": {
     "slide_type": "slide"
    }
   },
   "source": [
    "#### The Boolean Part of 'Boolean Mask'\n",
    "\n",
    "Testing conditions on pandas Series and DataFrames."
   ]
  },
  {
   "cell_type": "markdown",
   "id": "240b95d0",
   "metadata": {
    "slideshow": {
     "slide_type": "subslide"
    }
   },
   "source": [
    "Cereal has sugar content in the top 25% bracket?"
   ]
  },
  {
   "cell_type": "code",
   "execution_count": null,
   "id": "816bd4d7",
   "metadata": {
    "scrolled": true,
    "slideshow": {
     "slide_type": "subslide"
    }
   },
   "outputs": [],
   "source": [
    "cereal_df['sugars'] >= 11"
   ]
  },
  {
   "cell_type": "markdown",
   "id": "566713d3",
   "metadata": {
    "slideshow": {
     "slide_type": "subslide"
    }
   },
   "source": [
    "Clearly Trix should not be for kids..."
   ]
  },
  {
   "cell_type": "markdown",
   "id": "8cf99392",
   "metadata": {},
   "source": [
    "- Tests condition for all rows (very quick) \n",
    "- Returns a pandas Series with Boolean values.\n",
    "    - Is the result a True or False for given row?\n"
   ]
  },
  {
   "cell_type": "markdown",
   "id": "474c977f",
   "metadata": {
    "slideshow": {
     "slide_type": "slide"
    }
   },
   "source": [
    "More complex Boolean conditions with | (OR) and & (AND):"
   ]
  },
  {
   "cell_type": "code",
   "execution_count": null,
   "id": "b45fac57",
   "metadata": {
    "cell_style": "center",
    "slideshow": {
     "slide_type": "subslide"
    }
   },
   "outputs": [],
   "source": [
    "(cereal_df['sugars'] >= 11) & (cereal_df['potass'] <= 20)"
   ]
  },
  {
   "cell_type": "markdown",
   "id": "35f6cad4",
   "metadata": {
    "slideshow": {
     "slide_type": "subslide"
    }
   },
   "source": [
    "Test whether cereal is manufactured by General Mills or Kellog's"
   ]
  },
  {
   "cell_type": "code",
   "execution_count": null,
   "id": "f72929d2",
   "metadata": {},
   "outputs": [],
   "source": [
    "(cereal_df['mfr'] == 'G')|(cereal_df['mfr'] == 'K')"
   ]
  },
  {
   "cell_type": "markdown",
   "id": "8fc83e15",
   "metadata": {
    "slideshow": {
     "slide_type": "slide"
    }
   },
   "source": [
    "#### Other useful Pandas in-built Boolean operations:\n",
    "\n",
    "- .isin()\n",
    "- .str.contains()\n",
    "- The ~ operator."
   ]
  },
  {
   "cell_type": "markdown",
   "id": "d570a4bf",
   "metadata": {
    "slideshow": {
     "slide_type": "subslide"
    }
   },
   "source": [
    "Check whether manufactured by Nabisco, General Mills, or Kellogs:"
   ]
  },
  {
   "cell_type": "code",
   "execution_count": null,
   "id": "f688a72b",
   "metadata": {
    "cell_style": "split",
    "slideshow": {
     "slide_type": "fragment"
    }
   },
   "outputs": [],
   "source": [
    "mfr_list = ['N', 'G', 'K']\n",
    "cereal_df['mfr'].isin(mfr_list)"
   ]
  },
  {
   "cell_type": "code",
   "execution_count": null,
   "id": "cc026288",
   "metadata": {
    "cell_style": "split",
    "slideshow": {
     "slide_type": "fragment"
    }
   },
   "outputs": [],
   "source": [
    "# ~ negates logical statement\n",
    "~cereal_df['mfr'].isin(mfr_list)"
   ]
  },
  {
   "cell_type": "markdown",
   "id": "dfbc8b4a",
   "metadata": {
    "slideshow": {
     "slide_type": "slide"
    }
   },
   "source": [
    ".str library contains fast string operations across Series/Dataframes\n",
    "\n",
    "Series.str.contains(...) checks whether each row has a string containing given substring.\n",
    "\n",
    "Can pass this on a given column or on the index:"
   ]
  },
  {
   "cell_type": "code",
   "execution_count": null,
   "id": "fdf2405b",
   "metadata": {
    "cell_style": "split",
    "slideshow": {
     "slide_type": "subslide"
    }
   },
   "outputs": [],
   "source": [
    "cereal_df.index"
   ]
  },
  {
   "cell_type": "code",
   "execution_count": null,
   "id": "154c62c6",
   "metadata": {
    "cell_style": "split",
    "slideshow": {
     "slide_type": "fragment"
    }
   },
   "outputs": [],
   "source": [
    "cereal_df.index.str.contains('Bran')"
   ]
  },
  {
   "cell_type": "markdown",
   "id": "8505ea80",
   "metadata": {
    "slideshow": {
     "slide_type": "slide"
    }
   },
   "source": [
    "#### The \"mask\" part of Boolean mask\n",
    "\n",
    "- Can select on our True/False series.\n",
    "- Selector takes in Boolean series.\n",
    "- Indices for which condition is True get selected."
   ]
  },
  {
   "cell_type": "code",
   "execution_count": null,
   "id": "1f6937f5",
   "metadata": {
    "slideshow": {
     "slide_type": "subslide"
    }
   },
   "outputs": [],
   "source": [
    "# inputting Boolean mask into df. \n",
    "cereal_df[cereal_df['sugars'] >= 11].head()"
   ]
  },
  {
   "cell_type": "markdown",
   "id": "4ff6fb49",
   "metadata": {
    "slideshow": {
     "slide_type": "subslide"
    }
   },
   "source": [
    "Yeah that makes sense.\n",
    "\n",
    "Now, select cereals manufactured by Nabisco, General Mills, or Kellogs."
   ]
  },
  {
   "cell_type": "code",
   "execution_count": null,
   "id": "9f73ac91",
   "metadata": {
    "slideshow": {
     "slide_type": "fragment"
    }
   },
   "outputs": [],
   "source": [
    "cereal_df[cereal_df['mfr'].isin(mfr_list)].head()"
   ]
  },
  {
   "cell_type": "markdown",
   "id": "935c30d5",
   "metadata": {
    "slideshow": {
     "slide_type": "subslide"
    }
   },
   "source": [
    "Now, select all cereals with the word 'Bran' in the name."
   ]
  },
  {
   "cell_type": "code",
   "execution_count": null,
   "id": "53c8998a",
   "metadata": {
    "slideshow": {
     "slide_type": "fragment"
    }
   },
   "outputs": [],
   "source": [
    "cereal_df[cereal_df.index.str.contains('Bran')]"
   ]
  },
  {
   "cell_type": "markdown",
   "id": "ff55f606",
   "metadata": {
    "slideshow": {
     "slide_type": "slide"
    }
   },
   "source": [
    "#### Combining masks with the .loc[] accessor\n",
    "\n",
    "- Combine boolean selections + column selections\n",
    "- Complex selections start to get easier\n",
    "- DataFrame.loc[row_filtering, columns]\n",
    "\n",
    "Let's find all cereals with the name 'Bran' in it and high sugar content.\n",
    "Want sodium, fiber, carb and sugar info only."
   ]
  },
  {
   "cell_type": "code",
   "execution_count": null,
   "id": "669bd510",
   "metadata": {
    "slideshow": {
     "slide_type": "subslide"
    }
   },
   "outputs": [],
   "source": [
    "cereal_df.loc[(cereal_df['sugars'] > 11) & cereal_df.index.str.contains('Bran'), 'sodium':'sugars']"
   ]
  }
 ],
 "metadata": {
  "celltoolbar": "Slideshow",
  "kernelspec": {
   "display_name": "Python 3 (ipykernel)",
   "language": "python",
   "name": "python3"
  },
  "language_info": {
   "codemirror_mode": {
    "name": "ipython",
    "version": 3
   },
   "file_extension": ".py",
   "mimetype": "text/x-python",
   "name": "python",
   "nbconvert_exporter": "python",
   "pygments_lexer": "ipython3",
   "version": "3.9.7"
  }
 },
 "nbformat": 4,
 "nbformat_minor": 5
}
