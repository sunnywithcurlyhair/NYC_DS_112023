{
 "cells": [
  {
   "cell_type": "markdown",
   "metadata": {
    "cell_style": "center",
    "slideshow": {
     "slide_type": "slide"
    }
   },
   "source": [
    "<div style=\"color:white;\n",
    "           display:fill;\n",
    "           border-radius:5px;\n",
    "           background-color:#5642C5;\n",
    "           font-size:200%;\n",
    "           font-family:Arial;letter-spacing:0.5px\">\n",
    "\n",
    "<p width = 20%, style=\"padding: 10px;\n",
    "              color:white;\">\n",
    "Distributions: Part II\n",
    "              \n",
    "</p>\n",
    "</div>\n",
    "\n",
    "Data Science Cohort Live NYC Nov 2023\n",
    "<p>Phase 2</p>\n",
    "<br>\n",
    "<br>\n",
    "\n",
    "<div align = \"right\">\n",
    "<img src=\"Images/flatiron-school-logo.png\" align = \"right\" width=\"200\"/>\n",
    "</div>\n",
    "    \n",
    "    "
   ]
  },
  {
   "cell_type": "markdown",
   "metadata": {
    "slideshow": {
     "slide_type": "slide"
    }
   },
   "source": [
    "#### The normal distribution\n",
    "- Why do people care so much about this distribution?"
   ]
  },
  {
   "cell_type": "markdown",
   "metadata": {
    "slideshow": {
     "slide_type": "fragment"
    }
   },
   "source": [
    "Sum of N independent, random variables each following same distribution:\n",
    "\n",
    "$$ S = X_1 + X_2 + ... + X_N $$\n",
    "\n",
    "- Each having same mean, variance, etc.\n",
    "- **S** is a composite variable."
   ]
  },
  {
   "cell_type": "markdown",
   "metadata": {
    "cell_style": "split",
    "slideshow": {
     "slide_type": "slide"
    }
   },
   "source": [
    "Let each $X_i$ be the result of a Bernoulli trial:\n",
    "\n",
    "<img src = \"Images/simple_bernoulli.png\" width = 500>"
   ]
  },
  {
   "cell_type": "markdown",
   "metadata": {
    "cell_style": "split",
    "slideshow": {
     "slide_type": "-"
    }
   },
   "source": [
    "- $S$ would be how many steps right under $N$ trials.\n",
    "- What kind of distribution?"
   ]
  },
  {
   "cell_type": "markdown",
   "metadata": {
    "slideshow": {
     "slide_type": "slide"
    }
   },
   "source": [
    "Binomial!\n",
    "3 trials."
   ]
  },
  {
   "cell_type": "code",
   "execution_count": 3,
   "metadata": {
    "cell_style": "split",
    "slideshow": {
     "slide_type": "fragment"
    }
   },
   "outputs": [],
   "source": [
    "from scipy.stats import binom\n",
    "import matplotlib.pyplot as plt\n",
    "N = 3\n",
    "p = 0.5\n",
    "\n",
    "pmf_binomial = [(x, binom.pmf(x, n = N, p = p)) \n",
    "                for x in range(0,10)]"
   ]
  },
  {
   "cell_type": "code",
   "execution_count": 4,
   "metadata": {
    "cell_style": "split",
    "slideshow": {
     "slide_type": "fragment"
    }
   },
   "outputs": [
    {
     "data": {
      "image/png": "[encoded data removed]",
      "text/plain": [
       "<Figure size 432x288 with 1 Axes>"
      ]
     },
     "metadata": {
      "needs_background": "light"
     },
     "output_type": "display_data"
    }
   ],
   "source": [
    "x,y = list(zip(*pmf_binomial))\n",
    "plt.stem(x, y, linefmt='b-', markerfmt='bo', basefmt='r-')\n",
    "plt.xlabel('Number of rights')\n",
    "plt.ylabel('Probability')\n",
    "plt.title('PMF (Binomial): Number of rights')\n",
    "plt.show()"
   ]
  },
  {
   "cell_type": "markdown",
   "metadata": {
    "slideshow": {
     "slide_type": "slide"
    }
   },
   "source": [
    "Plot it for actual distance deviation:\n",
    "\n",
    "$$ d = n_R - n_L = n_R - (N-n_r)$$"
   ]
  },
  {
   "cell_type": "code",
   "execution_count": 5,
   "metadata": {
    "cell_style": "split",
    "slideshow": {
     "slide_type": "fragment"
    }
   },
   "outputs": [],
   "source": [
    "import numpy as np\n",
    "N = 3\n",
    "p = 0.5\n",
    "\n",
    "pmf_deviation = [(x - (N - x), binom.pmf(x, n = N, p = p)) \n",
    "                for x in np.arange(-5,5,1)]"
   ]
  },
  {
   "cell_type": "code",
   "execution_count": 6,
   "metadata": {
    "cell_style": "split",
    "slideshow": {
     "slide_type": "fragment"
    }
   },
   "outputs": [
    {
     "data": {
      "image/png": "[encoded data removed]",
      "text/plain": [
       "<Figure size 432x288 with 1 Axes>"
      ]
     },
     "metadata": {
      "needs_background": "light"
     },
     "output_type": "display_data"
    }
   ],
   "source": [
    "x,y = list(zip(*pmf_deviation))\n",
    "plt.stem(x, y, linefmt='b-', markerfmt='bo', basefmt='r-')\n",
    "plt.xlabel('Number of clicks')\n",
    "plt.ylabel('Probability')\n",
    "plt.title('PMF: Step Displacement')\n",
    "plt.xlim(-6,6)\n",
    "plt.show()"
   ]
  },
  {
   "cell_type": "markdown",
   "metadata": {
    "slideshow": {
     "slide_type": "slide"
    }
   },
   "source": [
    "When $N$ gets sufficiently big:"
   ]
  },
  {
   "cell_type": "code",
   "execution_count": 7,
   "metadata": {
    "cell_style": "center",
    "slideshow": {
     "slide_type": "subslide"
    }
   },
   "outputs": [],
   "source": [
    "from IPython.display import YouTubeVideo\n",
    "\n",
    "galton_video = YouTubeVideo('Vo9Esp1yaC8', width = 800, height = 600)"
   ]
  },
  {
   "cell_type": "code",
   "execution_count": 8,
   "metadata": {
    "slideshow": {
     "slide_type": "subslide"
    }
   },
   "outputs": [
    {
     "data": {
      "text/html": [
       "\n",
       "        <iframe\n",
       "            width=\"800\"\n",
       "            height=\"600\"\n",
       "            src=\"https://www.youtube.com/embed/Vo9Esp1yaC8\"\n",
       "            frameborder=\"0\"\n",
       "            allowfullscreen\n",
       "            \n",
       "        ></iframe>\n",
       "        "
      ],
      "text/plain": [
       "<IPython.lib.display.YouTubeVideo at 0x1b29a103580>"
      ]
     },
     "metadata": {},
     "output_type": "display_data"
    }
   ],
   "source": [
    "display(galton_video)"
   ]
  },
  {
   "cell_type": "markdown",
   "metadata": {
    "cell_style": "center",
    "slideshow": {
     "slide_type": "slide"
    }
   },
   "source": [
    "- If make slits finer, and $N \\rightarrow \\infty$ :\n",
    "- Becomes the continuous normal pdf."
   ]
  },
  {
   "cell_type": "markdown",
   "metadata": {
    "slideshow": {
     "slide_type": "slide"
    }
   },
   "source": [
    "$$ S = X_1 + X_2 + ... + X_N $$ \n",
    "\n",
    "follows normal distribution provided that each $X_i$:\n",
    "- follows a population distribution:\n",
    "    - Finite variance.\n",
    "    - Defined mean.\n",
    "\n"
   ]
  },
  {
   "cell_type": "markdown",
   "metadata": {
    "slideshow": {
     "slide_type": "subslide"
    }
   },
   "source": [
    "**Most distributions satisfying weak requirements**:\n",
    "\n",
    "Bernoulli was an underlying distribution that satisfied this.\n",
    "\n",
    "Sum of random variables drawn from these distribution follows normal distribution as N goes large."
   ]
  },
  {
   "cell_type": "markdown",
   "metadata": {
    "slideshow": {
     "slide_type": "slide"
    }
   },
   "source": [
    "This is underneath why binomial approaches normal as $ N $ gets large:"
   ]
  },
  {
   "cell_type": "code",
   "execution_count": 63,
   "metadata": {
    "slideshow": {
     "slide_type": "subslide"
    }
   },
   "outputs": [
    {
     "data": {
      "image/png": "[encoded data removed]",
      "text/plain": [
       "<Figure size 432x288 with 1 Axes>"
      ]
     },
     "metadata": {
      "needs_background": "light"
     },
     "output_type": "display_data"
    }
   ],
   "source": [
    "import numpy as np\n",
    "N = 400\n",
    "p = 0.5\n",
    "\n",
    "pmf_largeN = [(x, binom.pmf(x, n = N, p = p)) \n",
    "                for x in np.arange(0, N)]\n",
    "\n",
    "x,y = list(zip(*pmf_largeN))\n",
    "plt.stem(x, y, linefmt='b-', markerfmt='bo', basefmt='r-')\n",
    "plt.xlabel('Number of rights')\n",
    "plt.ylabel('Probability')\n",
    "plt.title('PMF (Binomial): Number of rights')\n",
    "plt.show()\n"
   ]
  },
  {
   "cell_type": "markdown",
   "metadata": {
    "slideshow": {
     "slide_type": "subslide"
    }
   },
   "source": [
    "#### Known as: The central limit theorem"
   ]
  },
  {
   "cell_type": "markdown",
   "metadata": {
    "slideshow": {
     "slide_type": "slide"
    }
   },
   "source": [
    "Take N = 200 samples of waiting times of drivers at a toll:\n",
    "\n",
    "- Follows exponential distribution with average wait time $\\tau$\n",
    "- Has finite variance $\\tau^2$."
   ]
  },
  {
   "cell_type": "code",
   "execution_count": 19,
   "metadata": {
    "scrolled": true,
    "slideshow": {
     "slide_type": "subslide"
    }
   },
   "outputs": [],
   "source": [
    "from scipy.stats import expon\n",
    "\n",
    "#assume population mean 3 minutes\n",
    "pop_mean = 3\n",
    "\n",
    "wait_time_sample = expon.rvs(scale = pop_mean, size = 50)"
   ]
  },
  {
   "cell_type": "code",
   "execution_count": 21,
   "metadata": {
    "cell_style": "center",
    "scrolled": true,
    "slideshow": {
     "slide_type": "fragment"
    }
   },
   "outputs": [
    {
     "data": {
      "image/png": "[encoded data removed]",
      "text/plain": [
       "<Figure size 432x288 with 1 Axes>"
      ]
     },
     "metadata": {
      "needs_background": "light"
     },
     "output_type": "display_data"
    }
   ],
   "source": [
    "plt.hist(wait_time_sample)\n",
    "plt.xlabel('Count')\n",
    "plt.xlabel('Toll wait time (min.)')\n",
    "plt.title('N = 50 sample histogram')\n",
    "plt.show()\n"
   ]
  },
  {
   "cell_type": "markdown",
   "metadata": {
    "slideshow": {
     "slide_type": "subslide"
    }
   },
   "source": [
    "Obviously, not normal distributed."
   ]
  },
  {
   "cell_type": "markdown",
   "metadata": {
    "slideshow": {
     "slide_type": "slide"
    }
   },
   "source": [
    "- Want statistics/uncertainty of the **sample mean** as we repeat for many trials of samples with N = 50."
   ]
  },
  {
   "cell_type": "markdown",
   "metadata": {
    "slideshow": {
     "slide_type": "fragment"
    }
   },
   "source": [
    "$$ \\bar{T} = \\frac{1}{N}\\sum_{i=1}^{N}T_i $$\n",
    "\n",
    "- Here N = 50\n",
    "- Apart from factor of (1/N), this is a sum of random variables!"
   ]
  },
  {
   "cell_type": "markdown",
   "metadata": {
    "slideshow": {
     "slide_type": "slide"
    }
   },
   "source": [
    "##### Create a list of 10,000 trials of these N = 50 samples from exponential distribution:\n",
    "- get $N = 50$ sample\n",
    "- get mean of times in small sample (this is a statistic $\\bar{T}$)\n",
    "- Do this 10,000 times"
   ]
  },
  {
   "cell_type": "code",
   "execution_count": 22,
   "metadata": {
    "scrolled": false,
    "slideshow": {
     "slide_type": "subslide"
    }
   },
   "outputs": [
    {
     "data": {
      "text/plain": [
       "[array([2.65406447, 4.48588024, 3.20975972, 1.97080701, 3.40572486,\n",
       "        3.54812941, 3.26252279, 2.26266962, 2.63051945, 2.25458668,\n",
       "        2.10541279, 1.62483371, 2.79142216, 2.37767532, 2.09433568,\n",
       "        1.67761686, 8.68824203, 1.5194634 , 1.86266816, 2.18046134,\n",
       "        2.37400454, 2.18209207, 1.81670404, 2.0550324 , 4.21597692,\n",
       "        2.17013678, 2.02026436, 1.75408681, 3.11129773, 6.6796085 ,\n",
       "        6.90907551, 1.73737335, 2.40524109, 1.6392497 , 3.93343648,\n",
       "        1.69452971, 1.69128792, 2.1472327 , 1.71442747, 2.45424615,\n",
       "        2.99092394, 6.57650794, 1.87866634, 2.57873629, 1.74079924,\n",
       "        4.91429294, 4.08761359, 1.7234978 , 1.64042151, 3.64487423]),\n",
       " array([1.56736789, 1.63255653, 5.45297497, 2.24394279, 2.09273238,\n",
       "        2.19823085, 4.14833624, 2.59147916, 2.75510574, 3.62340609,\n",
       "        6.44957621, 1.538246  , 3.0423751 , 2.19707189, 4.16125532,\n",
       "        4.76554163, 2.58957403, 1.85244853, 2.93011625, 1.80636166,\n",
       "        1.52711961, 2.83514572, 2.14788413, 2.87946959, 4.33657078,\n",
       "        7.02328161, 3.43465244, 3.31521447, 2.63882081, 2.14925983,\n",
       "        7.96940464, 1.91688252, 2.37452391, 1.6549431 , 2.30290521,\n",
       "        2.04511124, 2.87938688, 2.1147117 , 4.50031008, 2.76109306,\n",
       "        3.0107544 , 1.57959834, 2.43014297, 2.10955084, 4.53576949,\n",
       "        3.88880316, 1.68055573, 4.35090374, 1.55962088, 2.36741146])]"
      ]
     },
     "execution_count": 22,
     "metadata": {},
     "output_type": "execute_result"
    }
   ],
   "source": [
    "pop_mean = 3\n",
    "many_sample_trials = [expon.rvs(loc = pop_mean/2, scale = pop_mean/2, size = 50) for trial in range(10000)]\n",
    "many_sample_trials[0:2]"
   ]
  },
  {
   "cell_type": "markdown",
   "metadata": {
    "slideshow": {
     "slide_type": "slide"
    }
   },
   "source": [
    "Return list of 10,000 sample means:"
   ]
  },
  {
   "cell_type": "code",
   "execution_count": 23,
   "metadata": {
    "slideshow": {
     "slide_type": "-"
    }
   },
   "outputs": [
    {
     "data": {
      "text/plain": [
       "[2.861768674851796,\n",
       " 2.9991700318439256,\n",
       " 2.991397458347151,\n",
       " 2.958280783454688,\n",
       " 3.055733417616711,\n",
       " 2.9231725915070412,\n",
       " 2.85936108612339,\n",
       " 3.0584575629616997,\n",
       " 3.3284868326958463,\n",
       " 3.1081803870565103,\n",
       " 3.0759959957431406,\n",
       " 2.6011383398920214,\n",
       " 3.128702063572105,\n",
       " 2.9526343023384793,\n",
       " 2.8600940079128736,\n",
       " 3.170896100508853,\n",
       " 3.508954654064249,\n",
       " 3.0368568143842536,\n",
       " 3.0757129474028684,\n",
       " 3.1506548892757356,\n",
       " 2.851244719269326,\n",
       " 3.037635408731897,\n",
       " 2.9493597804397584,\n",
       " 3.015203034472059,\n",
       " 2.8920075371385634,\n",
       " 2.6827462211743796,\n",
       " 2.932302101791253,\n",
       " 3.2202360192555646,\n",
       " 2.897930280560941,\n",
       " 2.989493141580547,\n",
       " 2.6834023509050433,\n",
       " 3.087514342348319,\n",
       " 2.847752170488592,\n",
       " 3.2240556339937263,\n",
       " 2.942560400720041,\n",
       " 3.158417027406626,\n",
       " 2.8738481254312442,\n",
       " 2.77335607474581,\n",
       " 3.1581577748326475,\n",
       " 2.923910536251394,\n",
       " 3.049873124057084,\n",
       " 2.8222483821808857,\n",
       " 3.092919470872508,\n",
       " 2.9051497312568415,\n",
       " 2.9714107066548716,\n",
       " 3.389411319020774,\n",
       " 2.6389109890319613,\n",
       " 2.8186818738431647,\n",
       " 3.122380484853258,\n",
       " 2.766881792184543,\n",
       " 3.150570266185777,\n",
       " 3.245565057119748,\n",
       " 3.0313066210828,\n",
       " 2.9839090352247557,\n",
       " 3.0400181754039055,\n",
       " 2.6512229802922316,\n",
       " 2.970056915982077,\n",
       " 3.0403545303169137,\n",
       " 2.5697063273591976,\n",
       " 2.645255757191399,\n",
       " 2.995693460329128,\n",
       " 2.854813379646262,\n",
       " 3.3299611697521323,\n",
       " 2.965789594856363,\n",
       " 2.6874371065227263,\n",
       " 3.15644971035663,\n",
       " 2.8192227006662076,\n",
       " 3.3545150391017287,\n",
       " 2.8518754507254664,\n",
       " 2.897665977040286,\n",
       " 2.8087489570022885,\n",
       " 3.0992672430456274,\n",
       " 3.2169405625491483,\n",
       " 2.9500938708136055,\n",
       " 2.9613992658999853,\n",
       " 2.8200981228868796,\n",
       " 2.980888001576636,\n",
       " 2.947225863987192,\n",
       " 3.2411913938248706,\n",
       " 2.8493938329941635,\n",
       " 2.9674990856191754,\n",
       " 2.866055311295456,\n",
       " 2.647943348176782,\n",
       " 2.9805877061755375,\n",
       " 2.9515694687578145,\n",
       " 3.2412615969393626,\n",
       " 2.9291460171473496,\n",
       " 3.2797553871509972,\n",
       " 2.8989882772031024,\n",
       " 3.029893622382653,\n",
       " 2.904738216485027,\n",
       " 3.2185149288902024,\n",
       " 2.9469267617079646,\n",
       " 2.691203861027717,\n",
       " 2.841102954143666,\n",
       " 3.057374848498518,\n",
       " 2.952568471607005,\n",
       " 3.0071063394121325,\n",
       " 3.0893745199157387,\n",
       " 3.3111410381899486,\n",
       " 2.6362282246270303,\n",
       " 3.0725881724089668,\n",
       " 2.824121786849559,\n",
       " 2.7196209774142774,\n",
       " 2.7371356412023253,\n",
       " 2.7474641374028637,\n",
       " 3.00510129059826,\n",
       " 2.7448651187169086,\n",
       " 2.959184001016892,\n",
       " 3.2498664108986812,\n",
       " 3.137065879496832,\n",
       " 3.0443163779051052,\n",
       " 2.825287970975337,\n",
       " 2.9204249054157145,\n",
       " 2.807231203425701,\n",
       " 2.6315886128012465,\n",
       " 2.8976897911322808,\n",
       " 3.033295270652763,\n",
       " 2.657510683616498,\n",
       " 2.99721263228169,\n",
       " 3.146098126915669,\n",
       " 3.072451662452194,\n",
       " 2.8769988563685223,\n",
       " 2.913149323493904,\n",
       " 2.9954687656354935,\n",
       " 2.835274693822998,\n",
       " 3.5560210554733844,\n",
       " 3.0660943417212314,\n",
       " 3.7075250423011217,\n",
       " 3.1971339717271743,\n",
       " 3.2043704599295704,\n",
       " 3.0960843099554234,\n",
       " 2.85447981798504,\n",
       " 2.9621383621475093,\n",
       " 2.691174852913542,\n",
       " 2.9205405604007404,\n",
       " 3.2297413276239917,\n",
       " 3.13045676476686,\n",
       " 2.8225186113309775,\n",
       " 2.7915278848466376,\n",
       " 2.580713813434258,\n",
       " 3.1525813922323365,\n",
       " 2.843938711923671,\n",
       " 3.267673028462907,\n",
       " 3.008540600245876,\n",
       " 2.957065633445607,\n",
       " 3.4601170127119243,\n",
       " 2.7874852785792035,\n",
       " 3.003506214953764,\n",
       " 3.28697980587744,\n",
       " 3.1682561441075445,\n",
       " 2.5503327613813256,\n",
       " 2.884977026065568,\n",
       " 3.0143002111673236,\n",
       " 3.1536019600586696,\n",
       " 3.164403271878408,\n",
       " 2.847666089076234,\n",
       " 3.1506371517900726,\n",
       " 2.8157318751133626,\n",
       " 3.0898781245321216,\n",
       " 3.085734916572706,\n",
       " 3.001164097104565,\n",
       " 3.0407767271922825,\n",
       " 3.2142235195674704,\n",
       " 3.2462492701129277,\n",
       " 3.029953128556576,\n",
       " 3.269328338640295,\n",
       " 3.0141906571624584,\n",
       " 2.936812838165255,\n",
       " 2.5866830010851483,\n",
       " 2.839909613637047,\n",
       " 2.8904938687805957,\n",
       " 2.848226702320263,\n",
       " 3.204502585168854,\n",
       " 2.5304839352693507,\n",
       " 3.24381223156038,\n",
       " 3.118478531935888,\n",
       " 3.1766300985475726,\n",
       " 3.178162023670741,\n",
       " 3.1130854313063825,\n",
       " 3.435908449961592,\n",
       " 2.982922401577472,\n",
       " 2.7133767769221024,\n",
       " 2.774967042028344,\n",
       " 2.8539650939755417,\n",
       " 2.76388355267602,\n",
       " 2.8026141909004734,\n",
       " 3.055205243673791,\n",
       " 2.9931988323947767,\n",
       " 2.9982217999597127,\n",
       " 3.285008862900523,\n",
       " 3.0004863171402634,\n",
       " 3.0385098751529296,\n",
       " 3.229625860489728,\n",
       " 3.0649486309817764,\n",
       " 3.2304512904285865,\n",
       " 3.002979914839567,\n",
       " 2.7343270096126746,\n",
       " 2.808095822686268,\n",
       " 3.1273693012359525,\n",
       " 2.8727008500296423,\n",
       " 2.6055165099215833,\n",
       " 3.121136305674673,\n",
       " 3.130464561559833,\n",
       " 3.2024586748218042,\n",
       " 2.6649116812078626,\n",
       " 2.952732653968796,\n",
       " 2.7677863847454454,\n",
       " 3.041737707058834,\n",
       " 3.0261125481547526,\n",
       " 3.274303687469984,\n",
       " 3.0059833361305754,\n",
       " 2.7764899880164564,\n",
       " 3.1070222295609358,\n",
       " 2.75191162334126,\n",
       " 2.8241396206510876,\n",
       " 3.1916284472071306,\n",
       " 3.138535946630737,\n",
       " 3.005719743633207,\n",
       " 3.0359067826076758,\n",
       " 2.824909588122025,\n",
       " 2.893826076929579,\n",
       " 2.8683039069140066,\n",
       " 3.127784440241375,\n",
       " 3.099876712542135,\n",
       " 3.4353445517109735,\n",
       " 3.281514404918503,\n",
       " 3.1842482091878734,\n",
       " 3.2713295871381773,\n",
       " 2.945544121527418,\n",
       " 3.1128691456868482,\n",
       " 2.893748193713883,\n",
       " 3.3806510360317024,\n",
       " 2.9503414956959144,\n",
       " 2.7108081321298685,\n",
       " 2.627836821617986,\n",
       " 2.6910579067548706,\n",
       " 3.1615243409057814,\n",
       " 2.685691730380739,\n",
       " 2.9475535076923807,\n",
       " 2.7161989118930516,\n",
       " 3.258512587952302,\n",
       " 2.650264888906175,\n",
       " 3.114592540987892,\n",
       " 2.6794499183297114,\n",
       " 2.8380908385360306,\n",
       " 3.157341096686861,\n",
       " 3.145402942997504,\n",
       " 2.965207141797562,\n",
       " 3.658693232778246,\n",
       " 2.9369566373130875,\n",
       " 2.853096797316927,\n",
       " 2.7756352779615288,\n",
       " 2.7881333160852977,\n",
       " 3.177491263463706,\n",
       " 2.923430390142373,\n",
       " 3.0353504266467723,\n",
       " 3.334501865679606,\n",
       " 2.7153837960169005,\n",
       " 3.1941899255047894,\n",
       " 3.7564108258827225,\n",
       " 2.917819465935511,\n",
       " 2.7513656978522447,\n",
       " 3.2232856585355454,\n",
       " 3.3336381369118,\n",
       " 2.83285828791529,\n",
       " 2.7715753187643766,\n",
       " 2.8777255323672177,\n",
       " 2.8204949221636877,\n",
       " 2.769895455541264,\n",
       " 3.2226591299944913,\n",
       " 3.1516909665181405,\n",
       " 3.2066474065420305,\n",
       " 2.7718337462827365,\n",
       " 3.3256698500077926,\n",
       " 3.077758755869188,\n",
       " 2.931124271258257,\n",
       " 2.9369619160960294,\n",
       " 3.003361976955547,\n",
       " 3.231736955909158,\n",
       " 3.4385170600591834,\n",
       " 2.5744061508326297,\n",
       " 3.1523453193821624,\n",
       " 2.956050222471579,\n",
       " 3.2278389636702887,\n",
       " 3.0805271183442415,\n",
       " 2.831623837350203,\n",
       " 2.8908335919290646,\n",
       " 2.8979634395734153,\n",
       " 3.31505724450011,\n",
       " 3.208016795657999,\n",
       " 3.081851672656893,\n",
       " 3.2588722625156983,\n",
       " 2.941968388873818,\n",
       " 2.907657257463207,\n",
       " 2.774315980605027,\n",
       " 2.994655660545268,\n",
       " 3.6681917826450245,\n",
       " 2.7735918726599516,\n",
       " 2.683000021952669,\n",
       " 2.7379909555438657,\n",
       " 2.943477270337329,\n",
       " 2.763428259228155,\n",
       " 3.0374631637908602,\n",
       " 2.836602957932612,\n",
       " 2.704930470092336,\n",
       " 3.0099479945102536,\n",
       " 3.3787373828262135,\n",
       " 3.1184702975863234,\n",
       " 3.070664569315687,\n",
       " 3.216592088124255,\n",
       " 3.0307639513127134,\n",
       " 2.9515612103470765,\n",
       " 2.8799193881233496,\n",
       " 2.73194874714474,\n",
       " 3.1492590281604307,\n",
       " 2.516891519194503,\n",
       " 3.0119710502570967,\n",
       " 2.817993605307961,\n",
       " 3.058222322454006,\n",
       " 3.3969690636883665,\n",
       " 3.0318808626316134,\n",
       " 2.6881279697883333,\n",
       " 3.107751283763982,\n",
       " 2.953564499100018,\n",
       " 3.146625414240917,\n",
       " 3.5074834389513483,\n",
       " 2.907886032531378,\n",
       " 3.128314898737615,\n",
       " 2.751630660249798,\n",
       " 3.0429388811365303,\n",
       " 3.5595685876216914,\n",
       " 3.0577120755345972,\n",
       " 3.318693926340751,\n",
       " 2.912414331329661,\n",
       " 3.241629111235653,\n",
       " 3.078786943840003,\n",
       " 3.4506990792089285,\n",
       " 3.116938173047011,\n",
       " 3.036485750911038,\n",
       " 2.993316717587378,\n",
       " 3.0542934184143036,\n",
       " 3.155427959304545,\n",
       " 3.16421783576265,\n",
       " 2.9660341704806132,\n",
       " 2.6496999658895843,\n",
       " 3.0692241462504084,\n",
       " 3.1398259822155747,\n",
       " 2.8500225973450988,\n",
       " 2.447567347867205,\n",
       " 3.0575626646185547,\n",
       " 2.8917442880746353,\n",
       " 2.8903227040145913,\n",
       " 3.133044350592079,\n",
       " 2.866538864800728,\n",
       " 2.9937092481505747,\n",
       " 3.0825842686337235,\n",
       " 2.987641040183159,\n",
       " 3.186191995876714,\n",
       " 2.8951678264193883,\n",
       " 2.7428099137358672,\n",
       " 3.445940030902742,\n",
       " 2.6390218039595856,\n",
       " 3.2148993801791663,\n",
       " 2.5996334378934303,\n",
       " 2.8715576913619314,\n",
       " 2.970654866588019,\n",
       " 2.9769505351618686,\n",
       " 3.1786588587081037,\n",
       " 2.869164252144095,\n",
       " 3.2717334396303746,\n",
       " 2.8383203514110393,\n",
       " 2.758307826093087,\n",
       " 3.237384450258055,\n",
       " 3.0839998795301344,\n",
       " 3.261058153748735,\n",
       " 2.8429243881135897,\n",
       " 2.8284516859770945,\n",
       " 3.1369994491600774,\n",
       " 2.8783400786068487,\n",
       " 2.9414625097620872,\n",
       " 3.290253978728704,\n",
       " 2.9345638512180465,\n",
       " 3.0781933539497377,\n",
       " 2.9088559327890056,\n",
       " 2.655640121601847,\n",
       " 2.824357237685604,\n",
       " 3.060641483906544,\n",
       " 2.5867975828064855,\n",
       " 3.046432466770757,\n",
       " 2.8312991458722228,\n",
       " 3.1712119445739857,\n",
       " 2.701921558077385,\n",
       " 2.8581490622752703,\n",
       " 2.7489418698855026,\n",
       " 2.7873158526038897,\n",
       " 3.3883147389647905,\n",
       " 2.8723609078585124,\n",
       " 3.199646024226528,\n",
       " 3.1790484065809785,\n",
       " 3.021687306439785,\n",
       " 2.967872017873825,\n",
       " 3.0663646951204266,\n",
       " 2.977949145585519,\n",
       " 2.7302432517171695,\n",
       " 3.283201902900266,\n",
       " 2.9934260474349883,\n",
       " 2.880425612566394,\n",
       " 3.1707607852370967,\n",
       " 2.7209988061328327,\n",
       " 3.1845871900896197,\n",
       " 3.20524569344674,\n",
       " 2.848306001007016,\n",
       " 3.4087823669656467,\n",
       " 2.7259939565785682,\n",
       " 3.059980355092754,\n",
       " 2.680875206748932,\n",
       " 3.0658285730530936,\n",
       " 3.4273841608025752,\n",
       " 3.140260469319814,\n",
       " 3.055374196460619,\n",
       " 3.306997344443348,\n",
       " 2.6929489546774397,\n",
       " 2.964704984869119,\n",
       " 3.460727051449071,\n",
       " 2.852942578616707,\n",
       " 3.018534620689436,\n",
       " 3.1639141455450375,\n",
       " 3.093207598928942,\n",
       " 2.853428044262427,\n",
       " 2.9895659621495856,\n",
       " 3.2661596802244044,\n",
       " 3.1169544899902046,\n",
       " 3.1205054043787057,\n",
       " 2.8342289574152257,\n",
       " 2.8754412135579397,\n",
       " 2.976919473855193,\n",
       " 2.898777401618126,\n",
       " 3.479624443785955,\n",
       " 3.104176161895026,\n",
       " 3.200429655935983,\n",
       " 3.341577966133346,\n",
       " 2.768904659954435,\n",
       " 3.259544184148953,\n",
       " 2.8390073469679136,\n",
       " 2.9985613831420834,\n",
       " 3.1022013514393763,\n",
       " 3.3673076869343834,\n",
       " 3.5415436355040253,\n",
       " 3.2285815251764247,\n",
       " 3.3923000124934335,\n",
       " 2.8825004315530576,\n",
       " 3.0777264681743928,\n",
       " 3.156387823133762,\n",
       " 2.854866424977972,\n",
       " 3.2080126076998754,\n",
       " 2.8483324730084076,\n",
       " 3.1877392228108232,\n",
       " 2.9386225094260885,\n",
       " 2.5444776024531564,\n",
       " 3.0565734968393268,\n",
       " 3.0677889084258276,\n",
       " 2.929079282274575,\n",
       " 2.940113527068583,\n",
       " 3.396604158492367,\n",
       " 2.949893328093798,\n",
       " 3.075250048315942,\n",
       " 3.102096893942295,\n",
       " 3.121049286619582,\n",
       " 2.8476887815619762,\n",
       " 3.036122963316219,\n",
       " 2.9262639998027247,\n",
       " 2.992731985512652,\n",
       " 2.640708447195727,\n",
       " 2.756875022917624,\n",
       " 2.874998602653706,\n",
       " 2.9020731118952487,\n",
       " 3.161399703372221,\n",
       " 3.0743921200285365,\n",
       " 2.816266513784944,\n",
       " 3.1795715900986323,\n",
       " 3.1279761986210857,\n",
       " 2.8631186725541027,\n",
       " 2.859476699102834,\n",
       " 3.0687879212823295,\n",
       " 2.778880190341189,\n",
       " 3.2559742792336634,\n",
       " 3.0808819159832574,\n",
       " 2.977710879474439,\n",
       " 3.0130823687802093,\n",
       " 3.1004322424075124,\n",
       " 3.119804057649105,\n",
       " 2.995953219327077,\n",
       " 2.7097408608487275,\n",
       " 3.0302058342601845,\n",
       " 2.946096980205882,\n",
       " 2.7595304628306816,\n",
       " 3.149972918852863,\n",
       " 2.8924077636497647,\n",
       " 3.176840938294505,\n",
       " 2.748434119413958,\n",
       " 2.703512283916504,\n",
       " 3.158255523106703,\n",
       " 3.0190984506336567,\n",
       " 3.120372936011913,\n",
       " 3.507851474496701,\n",
       " 3.1827589398427096,\n",
       " 2.9877274922391397,\n",
       " 2.9470934396814044,\n",
       " 3.051758921493482,\n",
       " 3.1276601410086635,\n",
       " 2.9133492889293495,\n",
       " 2.850027739609441,\n",
       " 2.895493156178018,\n",
       " 2.832853672820811,\n",
       " 2.9484844414596183,\n",
       " 3.113418854824559,\n",
       " 2.974498579698243,\n",
       " 2.6921064170522326,\n",
       " 2.6996122160197875,\n",
       " 3.1487530017027634,\n",
       " 2.837069183818071,\n",
       " 2.8956115511368417,\n",
       " 3.2707362160458886,\n",
       " 3.481132516801907,\n",
       " 2.851107408944486,\n",
       " 2.97582048194893,\n",
       " 2.8601183139385347,\n",
       " 3.3060561393567447,\n",
       " 3.193223151120039,\n",
       " 3.1491326885652047,\n",
       " 3.1263585046506956,\n",
       " 3.0610954722049373,\n",
       " 3.111837313369008,\n",
       " 2.933210950649956,\n",
       " 3.1289261048775847,\n",
       " 2.5830133960759984,\n",
       " 2.9935859321526936,\n",
       " 2.909379513419783,\n",
       " 3.0724987050586456,\n",
       " 2.9210192707390963,\n",
       " 3.0774911671919227,\n",
       " 2.933750577219823,\n",
       " 3.1961826742133206,\n",
       " 3.1309584567008164,\n",
       " 2.8345289350871035,\n",
       " 3.3264021333200957,\n",
       " 3.30749102973487,\n",
       " 3.458357727447027,\n",
       " 3.404769442710671,\n",
       " 2.7375976936291444,\n",
       " 3.119279172782819,\n",
       " 2.9700172992282523,\n",
       " 3.207513594364022,\n",
       " 2.7941959836527475,\n",
       " 2.5938429307068334,\n",
       " 2.855490499771321,\n",
       " 3.0974743421796003,\n",
       " 2.7460271782755616,\n",
       " 2.7119336605893496,\n",
       " 3.3931280817102993,\n",
       " 3.2862151058402507,\n",
       " 2.9938282638937403,\n",
       " 2.9338148115912066,\n",
       " 3.123789091699608,\n",
       " 2.669970034982807,\n",
       " 3.065269422051888,\n",
       " 2.8145127271251327,\n",
       " 2.6443860397885652,\n",
       " 2.857503228378901,\n",
       " 2.719998134411642,\n",
       " 2.6809422367288396,\n",
       " 2.8935645525224585,\n",
       " 3.0092885070108597,\n",
       " 3.019233140938906,\n",
       " 3.0723790896660352,\n",
       " 2.6896020661212696,\n",
       " 2.735203285498999,\n",
       " 2.8256844150997704,\n",
       " 3.0937112211352393,\n",
       " 2.781472691175974,\n",
       " 2.9280320725482762,\n",
       " 2.641620173714425,\n",
       " 2.6779509297317703,\n",
       " 2.94002790807467,\n",
       " 2.9101806467261837,\n",
       " 3.1136231627604856,\n",
       " 3.0102643854595375,\n",
       " 2.873292655102622,\n",
       " 3.181900282999418,\n",
       " 2.708475109425639,\n",
       " 2.823129693600423,\n",
       " 2.9994509910470883,\n",
       " 2.9755241407219013,\n",
       " 2.7617362327221366,\n",
       " 2.969986341730964,\n",
       " 3.3798015188646757,\n",
       " 3.3084108317898053,\n",
       " 3.271526051657325,\n",
       " 3.146405979402007,\n",
       " 2.840461956577383,\n",
       " 2.9207594557918855,\n",
       " 2.9438457425825355,\n",
       " 2.8767033009197966,\n",
       " 3.203760599352793,\n",
       " 3.3754166741389424,\n",
       " 3.6213322257046525,\n",
       " 2.71146905503117,\n",
       " 2.8273180181500885,\n",
       " 3.070041760965947,\n",
       " 2.708305024251077,\n",
       " 2.6397538720946403,\n",
       " 3.1092260152782303,\n",
       " 2.758217409509618,\n",
       " 2.4333345370754613,\n",
       " 3.165931942085692,\n",
       " 3.0316539902768387,\n",
       " 3.0142900124117773,\n",
       " 3.3483153337717266,\n",
       " 3.0535510413280647,\n",
       " 3.144145422639949,\n",
       " 3.154515496453841,\n",
       " 3.171943711358001,\n",
       " 3.2720761562281497,\n",
       " 3.38004305420667,\n",
       " 2.8841454618655713,\n",
       " 3.4848000450864043,\n",
       " 2.8675616358833946,\n",
       " 3.4553880641489134,\n",
       " 2.632191561290838,\n",
       " 3.1134232413460934,\n",
       " 3.2535560117659905,\n",
       " 2.8834695615792674,\n",
       " 2.7821695443047014,\n",
       " 2.8001032977357863,\n",
       " 3.1207359647132757,\n",
       " 3.093580204926965,\n",
       " 3.043168938610595,\n",
       " 3.219345550219007,\n",
       " 3.1961632601245484,\n",
       " 3.1306982653628252,\n",
       " 3.202950859603218,\n",
       " 3.008549876469893,\n",
       " 2.918637400850686,\n",
       " 2.7346073547016463,\n",
       " 3.1757584283328275,\n",
       " 3.1609165611237438,\n",
       " 3.1145733104809135,\n",
       " 2.8130901037596767,\n",
       " 3.1538958637514543,\n",
       " 2.627998933389741,\n",
       " 3.2397156780752216,\n",
       " 2.921894287081492,\n",
       " 3.2307610218338505,\n",
       " 2.7309872319660538,\n",
       " 2.7477110827086553,\n",
       " 3.283288115965604,\n",
       " 3.066681780153207,\n",
       " 2.9176559883353788,\n",
       " 2.971920856608958,\n",
       " 2.9919307983132524,\n",
       " 3.570711799315148,\n",
       " 2.844509235152156,\n",
       " 2.8146258720839405,\n",
       " 3.4124312126459917,\n",
       " 2.96733531284735,\n",
       " 3.0590587169128303,\n",
       " 2.983642856283481,\n",
       " 2.9980539175591367,\n",
       " 2.8554607760506547,\n",
       " 2.64044138543331,\n",
       " 2.9279672005602526,\n",
       " 2.900771525291457,\n",
       " 2.723091415837216,\n",
       " 2.947750649036089,\n",
       " 3.285828363379388,\n",
       " 2.7216069024109215,\n",
       " 2.6996973952356877,\n",
       " 2.940280494127809,\n",
       " 3.2551401412516334,\n",
       " 2.798026170896851,\n",
       " 2.9235420777376886,\n",
       " 3.0465226137975985,\n",
       " 3.0123749861111695,\n",
       " 2.9788448481153877,\n",
       " 3.1649174972319427,\n",
       " 3.0438286857446246,\n",
       " 2.798323874593178,\n",
       " 3.369592548469013,\n",
       " 2.9954761226983853,\n",
       " 3.16185317074655,\n",
       " 2.9597670708489865,\n",
       " 2.646420419489374,\n",
       " 2.8931961173319483,\n",
       " 3.057161451112169,\n",
       " 2.9942271779235896,\n",
       " 3.1220218619368505,\n",
       " 3.0305622844541267,\n",
       " 2.922755660544595,\n",
       " 2.869213186492705,\n",
       " 2.9449337173778356,\n",
       " 3.0151904332833457,\n",
       " 2.9062303991995653,\n",
       " 2.9487312302264455,\n",
       " 3.1081468417707776,\n",
       " 2.8381194299401455,\n",
       " 2.6054243830015746,\n",
       " 2.7141518590602396,\n",
       " 2.6824174241657412,\n",
       " 3.0242881324527393,\n",
       " 2.996354696645586,\n",
       " 3.2639403884742717,\n",
       " 2.5825237893079067,\n",
       " 3.277172774840513,\n",
       " 2.868382122855314,\n",
       " 3.1238781833816307,\n",
       " 2.988712333310738,\n",
       " 2.8008059957595894,\n",
       " 3.2304674505859934,\n",
       " 3.157006334187434,\n",
       " 3.5282659541324204,\n",
       " 2.9558580079843306,\n",
       " 3.1304035460374484,\n",
       " 3.312399620490053,\n",
       " 3.3148532064920686,\n",
       " 2.805180569892201,\n",
       " 3.409329004585617,\n",
       " 2.8747399979395003,\n",
       " 2.5071639072432745,\n",
       " 2.800362434653422,\n",
       " 2.4872809741218203,\n",
       " 3.0027466373720024,\n",
       " 2.9745405233167714,\n",
       " 2.9970326152887465,\n",
       " 3.230125036585835,\n",
       " 3.196827121433579,\n",
       " 2.8562860463083246,\n",
       " 3.635383032357307,\n",
       " 2.8974047955034283,\n",
       " 3.4760952462586308,\n",
       " 3.2725393233858218,\n",
       " 3.1733480454910508,\n",
       " 2.7933982398020896,\n",
       " 3.204903298354427,\n",
       " 2.7886946962500248,\n",
       " 3.1098316985990637,\n",
       " 2.7580110053335662,\n",
       " 3.1232258738099996,\n",
       " 2.8670126548210972,\n",
       " 3.038031393293736,\n",
       " 3.165319081100135,\n",
       " 3.287616890954013,\n",
       " 2.8113674778297533,\n",
       " 2.7720887233543716,\n",
       " 3.236847705736575,\n",
       " 2.6592228210198012,\n",
       " 3.2116057936261644,\n",
       " 2.887430207700197,\n",
       " 3.3456748632627726,\n",
       " 3.0461852616844753,\n",
       " 2.8574448945504782,\n",
       " 2.8035502662278065,\n",
       " 3.11473611868783,\n",
       " 3.1042514475819614,\n",
       " 2.8602705983105903,\n",
       " 2.9979444509684168,\n",
       " 3.1585089297465614,\n",
       " 2.928118727028324,\n",
       " 3.1061801089421537,\n",
       " 2.9307794434463137,\n",
       " 2.822945671935352,\n",
       " 3.107290872041954,\n",
       " 2.8915764679845903,\n",
       " 2.8536015495627036,\n",
       " 3.2569027261507024,\n",
       " 3.1462523833461655,\n",
       " 3.078903506503753,\n",
       " 3.025397101709718,\n",
       " 3.096712491433996,\n",
       " 3.0008503051827504,\n",
       " 3.16630620931402,\n",
       " 3.4086958322753067,\n",
       " 3.0171192868460275,\n",
       " 3.0128069867349274,\n",
       " 2.8951983496835005,\n",
       " 3.5416977781542287,\n",
       " 2.960453727534908,\n",
       " 3.159615194687945,\n",
       " 3.040787095158976,\n",
       " 2.9186203793328853,\n",
       " 3.010317491506717,\n",
       " 2.9055979224255863,\n",
       " 3.1792226828479215,\n",
       " 2.8144404675790557,\n",
       " 3.291726503621472,\n",
       " 3.5176623511811345,\n",
       " 3.0182023893713694,\n",
       " 3.1260638523260345,\n",
       " 2.909664698702085,\n",
       " 3.588428852493363,\n",
       " 2.788926182362482,\n",
       " 3.0837953492895087,\n",
       " 2.933142575249347,\n",
       " 2.902531755462188,\n",
       " 3.5994126149073367,\n",
       " 2.802020072249566,\n",
       " 3.144236963523097,\n",
       " 3.4881503467162815,\n",
       " 3.212358205180179,\n",
       " 2.884439486977495,\n",
       " 2.8575520308247384,\n",
       " 2.8511176002729006,\n",
       " 2.9888140545903625,\n",
       " 2.984006111493679,\n",
       " 2.9667523016381008,\n",
       " 2.866561267741933,\n",
       " 3.1182691306746726,\n",
       " 3.0200474827425676,\n",
       " 2.6183819908086683,\n",
       " 2.9301648974953127,\n",
       " 2.7752889900293507,\n",
       " 2.9942710896201215,\n",
       " 2.8676168917615117,\n",
       " 3.0207507196155974,\n",
       " 2.8051957150867635,\n",
       " 3.2031529590316516,\n",
       " 3.0517777968813973,\n",
       " 3.0533699283047726,\n",
       " 3.382240473589615,\n",
       " 3.11503492370859,\n",
       " 2.91752370412561,\n",
       " 3.2965318535496455,\n",
       " 3.0453821178678266,\n",
       " 2.907946089136832,\n",
       " 3.3037523503403126,\n",
       " 2.95429607673991,\n",
       " 2.764728184480483,\n",
       " 2.9224981815310174,\n",
       " 3.259773977819092,\n",
       " 3.3223263671864243,\n",
       " 3.5011800788439715,\n",
       " 3.0021504918315425,\n",
       " 3.266233363338935,\n",
       " 2.8872061377874703,\n",
       " 2.895557057784379,\n",
       " 2.854077296924148,\n",
       " 3.118887644553234,\n",
       " 2.869756631828061,\n",
       " 3.0816945288561577,\n",
       " 3.079248752472756,\n",
       " 2.5687027475187563,\n",
       " 3.100131211760269,\n",
       " 3.0531927387510116,\n",
       " 2.9842908485677198,\n",
       " 2.9695614192599082,\n",
       " 3.1322737842728414,\n",
       " 2.9695052605737327,\n",
       " 2.9773892129212465,\n",
       " 3.0688464804147055,\n",
       " 3.069932304120311,\n",
       " 3.3923825093870623,\n",
       " 2.9588011694423386,\n",
       " 3.259423215579668,\n",
       " 2.752429641862418,\n",
       " 2.9758345772536683,\n",
       " 2.699544209600869,\n",
       " 2.6633667980051063,\n",
       " 3.3917877727023167,\n",
       " 3.1569593777001512,\n",
       " 3.4326934274815297,\n",
       " 2.8519279333291268,\n",
       " 3.066831852330758,\n",
       " 3.0196932976871445,\n",
       " 2.937309051492077,\n",
       " 2.871335392686625,\n",
       " 3.008235091559504,\n",
       " 2.6882109467489013,\n",
       " 2.8012564879844293,\n",
       " 3.105796308701329,\n",
       " 3.25131421341603,\n",
       " 3.0676642757477994,\n",
       " 3.03776273906807,\n",
       " 3.0565230333632085,\n",
       " 2.6648983087517943,\n",
       " 2.888067585055511,\n",
       " 3.0779516985645614,\n",
       " 3.1977748358608435,\n",
       " 3.0243747076328606,\n",
       " 2.7873632391931182,\n",
       " 3.389929968146108,\n",
       " 2.6286165758383504,\n",
       " 2.558307004820158,\n",
       " 3.4419123051036706,\n",
       " 2.978295032905052,\n",
       " 3.0104068257666317,\n",
       " 2.7773226597996286,\n",
       " 2.8779191294921587,\n",
       " 3.2112359770689274,\n",
       " 3.24472876443826,\n",
       " 3.422315384465888,\n",
       " 2.803649969715806,\n",
       " 2.9487454602547087,\n",
       " 3.1758002638690157,\n",
       " 3.292178239306267,\n",
       " 2.936537283780225,\n",
       " 3.221995270431409,\n",
       " 2.811934071788519,\n",
       " 2.7832788886036663,\n",
       " 2.86191158516425,\n",
       " 3.108089170574831,\n",
       " 3.141695956704413,\n",
       " 2.8349456131388733,\n",
       " 3.0821574063570067,\n",
       " 2.993923159377095,\n",
       " 2.8773553398338767,\n",
       " 2.771247082405227,\n",
       " 2.795913856006468,\n",
       " 2.858331532248,\n",
       " 3.2175035917337236,\n",
       " 3.304513924575261,\n",
       " 3.0111435009076035,\n",
       " 2.75072265213064,\n",
       " 2.7607076735062828,\n",
       " 3.199674081494523,\n",
       " 3.0724625112046886,\n",
       " 3.301024495537627,\n",
       " 2.680972093414378,\n",
       " 3.0869294605289443,\n",
       " 2.7760867323399174,\n",
       " 2.9830090178732718,\n",
       " 3.0711738502609642,\n",
       " 2.752092225234132,\n",
       " 2.749181734416553,\n",
       " 3.1876435010250237,\n",
       " 2.529897985141466,\n",
       " 3.055555471831027,\n",
       " 2.826785235838727,\n",
       " 2.842730769393773,\n",
       " 3.1848502337525657,\n",
       " 2.8020624048801177,\n",
       " 2.995937374837516,\n",
       " 2.605853136405823,\n",
       " 2.9371353212259637,\n",
       " 2.862637044701632,\n",
       " 2.825805758289919,\n",
       " 3.1881342920380975,\n",
       " 3.0891195158431954,\n",
       " 3.1233525918260328,\n",
       " 2.9058697023392717,\n",
       " 3.132056571725142,\n",
       " 3.2430162154212616,\n",
       " 3.0107774189689276,\n",
       " 3.12685546890793,\n",
       " 2.8585059438594866,\n",
       " 3.37368730008775,\n",
       " 2.8631573039219065,\n",
       " 2.9206939027059,\n",
       " 3.036109032448974,\n",
       " 2.8794882085832203,\n",
       " 3.1768976824433137,\n",
       " 3.038214354550856,\n",
       " 3.181115270560325,\n",
       " 3.124549256378442,\n",
       " 2.994581138420981,\n",
       " 3.1783062169446947,\n",
       " 2.9038806881535995,\n",
       " 3.031438884620721,\n",
       " 2.989863239058292,\n",
       " 2.6739901697175594,\n",
       " 2.7659273502385027,\n",
       " 2.958996482553161,\n",
       " 2.6927613806584456,\n",
       " 3.3279460352913155,\n",
       " 3.05403969216573,\n",
       " 3.2111170210280617,\n",
       " 3.3378966741464966,\n",
       " 2.9756102412174736,\n",
       " 3.246983181510272,\n",
       " 3.0370372742401655,\n",
       " 2.754429740714355,\n",
       " 2.806617855903011,\n",
       " 2.9182048365261783,\n",
       " 3.368805088063397,\n",
       " 2.7963503795072957,\n",
       " 2.5460819248440214,\n",
       " 2.832005116436988,\n",
       " 2.564280209047405,\n",
       " 2.973968756448409,\n",
       " 2.697102658324432,\n",
       " 3.3283577152516273,\n",
       " 2.865346661138142,\n",
       " 2.966009353030154,\n",
       " 2.884812423416211,\n",
       " 2.831467093914988,\n",
       " 2.6052859157719865,\n",
       " 3.085772680496303,\n",
       " 3.5086100777267735,\n",
       " 3.317126299396631,\n",
       " 3.151674231740635,\n",
       " 3.0207685782378553,\n",
       " ...]"
      ]
     },
     "execution_count": 23,
     "metadata": {},
     "output_type": "execute_result"
    }
   ],
   "source": [
    "sample_mean_list = [sample.mean() for sample in many_sample_trials]\n",
    "len(sample_mean_list)\n",
    "sample_mean_list"
   ]
  },
  {
   "cell_type": "markdown",
   "metadata": {
    "cell_style": "split",
    "slideshow": {
     "slide_type": "slide"
    }
   },
   "source": [
    "What does the distribution of means look like?\n",
    "\n",
    "$$ \\bar{T} = \\frac{1}{N}\\sum_{i=1}^{N}T_i $$"
   ]
  },
  {
   "cell_type": "markdown",
   "metadata": {
    "cell_style": "split",
    "slideshow": {
     "slide_type": "fragment"
    }
   },
   "source": [
    "Note: mean is sum of random variables drawn from exponential distribution up to a factor"
   ]
  },
  {
   "cell_type": "markdown",
   "metadata": {
    "slideshow": {
     "slide_type": "fragment"
    }
   },
   "source": [
    "Construct histogram of $\\bar{T}$:"
   ]
  },
  {
   "cell_type": "code",
   "execution_count": 24,
   "metadata": {
    "slideshow": {
     "slide_type": "fragment"
    }
   },
   "outputs": [
    {
     "data": {
      "image/png": "[encoded data removed]",
      "text/plain": [
       "<Figure size 432x288 with 1 Axes>"
      ]
     },
     "metadata": {
      "needs_background": "light"
     },
     "output_type": "display_data"
    }
   ],
   "source": [
    "plt.hist(sample_mean_list, bins = \"auto\")\n",
    "plt.show()"
   ]
  },
  {
   "cell_type": "markdown",
   "metadata": {
    "slideshow": {
     "slide_type": "slide"
    }
   },
   "source": [
    "**The distribution of mean of a sample follow normal distribution**\n",
    "\n",
    "- Regardless of underlying population distribution.\n",
    "\n",
    "This is a very large reason why normal distribution is so important!"
   ]
  },
  {
   "cell_type": "markdown",
   "metadata": {
    "cell_style": "center",
    "slideshow": {
     "slide_type": "slide"
    }
   },
   "source": [
    "#### Standard Normal Distribution"
   ]
  },
  {
   "cell_type": "markdown",
   "metadata": {
    "cell_style": "split",
    "slideshow": {
     "slide_type": "fragment"
    }
   },
   "source": [
    "- Often useful to rescale normal by mean/std.\n",
    "- New rescaled normal has mean of 0 and variance of 1.\n",
    "- Z-distribution."
   ]
  },
  {
   "cell_type": "markdown",
   "metadata": {
    "cell_style": "split",
    "hidden": true,
    "slideshow": {
     "slide_type": "fragment"
    }
   },
   "source": [
    "We simply subtract the mean $\\mu$ from each value and then divide by the standard deviation $\\sigma$:\n",
    "\n",
    "$$z = \\frac{x - \\mu}{\\sigma}$$\n",
    "\n",
    "We call this process **standardization**."
   ]
  },
  {
   "cell_type": "markdown",
   "metadata": {
    "cell_style": "split",
    "slideshow": {
     "slide_type": "subslide"
    }
   },
   "source": [
    "Mathematical form for pdf:\n",
    "$$ N(x | \\mu, \\sigma^2) = \\frac{1}{\\sqrt{2\\pi\\sigma^2}} e^{-\\frac{(x-\\mu)^2}{2\\sigma^2}} $$\n",
    "\n",
    "- $\\mu$ is mean.\n",
    "- $\\sigma$ is standard deviation."
   ]
  },
  {
   "cell_type": "markdown",
   "metadata": {
    "cell_style": "split",
    "slideshow": {
     "slide_type": "fragment"
    }
   },
   "source": [
    "Scaled transformation:\n",
    "$$ \\frac{1}{\\sqrt{2\\pi}}e^{-\\frac{z^2}{2}} $$"
   ]
  },
  {
   "cell_type": "markdown",
   "metadata": {
    "slideshow": {
     "slide_type": "subslide"
    }
   },
   "source": [
    "<center><img src = \"Images/rescale_normal.png\" width = 500></center>"
   ]
  },
  {
   "cell_type": "markdown",
   "metadata": {
    "heading_collapsed": true,
    "hidden": true,
    "slideshow": {
     "slide_type": "slide"
    }
   },
   "source": [
    "#### $z$-Score: why this transformation is useful"
   ]
  },
  {
   "cell_type": "markdown",
   "metadata": {
    "cell_style": "split",
    "hidden": true,
    "slideshow": {
     "slide_type": "slide"
    }
   },
   "source": [
    "A **$z$-score** for a data point $x$ (in a normal distribution) is simply the distance to the mean in units of standard deviations\n",
    "\n",
    "$$\\large z = \\frac{x - \\mu}{\\sigma}$$\n",
    "\n",
    "Transforming observations on original scale to z-score:\n",
    "- we can see how unlikely a value is. \n",
    "- i.e. how many stds away from center of normal"
   ]
  },
  {
   "cell_type": "markdown",
   "metadata": {
    "cell_style": "split",
    "slideshow": {
     "slide_type": "fragment"
    }
   },
   "source": [
    "<center><img src = \"Images/rescale_normal.png\" width = 500></center>"
   ]
  },
  {
   "cell_type": "markdown",
   "metadata": {
    "heading_collapsed": true,
    "hidden": true,
    "slideshow": {
     "slide_type": "slide"
    }
   },
   "source": [
    "#### The Empirical Rule"
   ]
  },
  {
   "cell_type": "markdown",
   "metadata": {
    "hidden": true,
    "slideshow": {
     "slide_type": "fragment"
    }
   },
   "source": [
    "- $68\\%$ of the values of a normal distribution: lie within 1 standard deviation ($\\sigma$) of the mean.\n",
    "- $95\\%$ within $2\\sigma$.\n",
    "- $99.7\\%$ within $3\\sigma$.  "
   ]
  },
  {
   "cell_type": "markdown",
   "metadata": {
    "slideshow": {
     "slide_type": "slide"
    }
   },
   "source": [
    "#### Using .cdf to get empirical rule:\n",
    "\n",
    "Instead of looking at empirical rule, get probability given z-score:"
   ]
  },
  {
   "cell_type": "markdown",
   "metadata": {
    "slideshow": {
     "slide_type": "subslide"
    }
   },
   "source": [
    "I have $X$ distributed normally with mean 5 and standard deviation 2:\n",
    "- How many standard deviations from center of distribution is $X = 9$?\n",
    "- What percentage of the values lie within a range $X = 1$ and $X=9$?\n"
   ]
  },
  {
   "cell_type": "code",
   "execution_count": 27,
   "metadata": {
    "cell_style": "split",
    "slideshow": {
     "slide_type": "subslide"
    }
   },
   "outputs": [
    {
     "data": {
      "text/plain": [
       "-2.0"
      ]
     },
     "execution_count": 27,
     "metadata": {},
     "output_type": "execute_result"
    }
   ],
   "source": [
    "# calculate z-score:\n",
    "z_score = (1 - 5)/2\n",
    "z_score"
   ]
  },
  {
   "cell_type": "markdown",
   "metadata": {
    "cell_style": "split",
    "slideshow": {
     "slide_type": "fragment"
    }
   },
   "source": [
    "Now want $$ P(- Z^* <= z <= Z^* ) $$"
   ]
  },
  {
   "cell_type": "markdown",
   "metadata": {
    "cell_style": "split",
    "slideshow": {
     "slide_type": "fragment"
    }
   },
   "source": [
    "which will compute empirical rule"
   ]
  },
  {
   "cell_type": "markdown",
   "metadata": {
    "slideshow": {
     "slide_type": "subslide"
    }
   },
   "source": [
    "Using the cdf:"
   ]
  },
  {
   "cell_type": "code",
   "execution_count": 29,
   "metadata": {
    "cell_style": "center",
    "slideshow": {
     "slide_type": "fragment"
    }
   },
   "outputs": [
    {
     "data": {
      "text/plain": [
       "0.9980647935735634"
      ]
     },
     "execution_count": 29,
     "metadata": {},
     "output_type": "execute_result"
    }
   ],
   "source": [
    "from scipy.stats import norm\n",
    "# using cdf: probability in an interval\n",
    "empirical_rule = norm.cdf(z_score) - norm.cdf(- z_score) \n",
    "# with z-score we can use standardized normal form\n",
    "\n",
    "empirical_rule"
   ]
  },
  {
   "cell_type": "markdown",
   "metadata": {
    "slideshow": {
     "slide_type": "slide"
    }
   },
   "source": [
    "I have $X$ distributed normally with mean 5 and standard deviation 2:\n",
    "- What percentage of the values lie within a range $X = -1.2$ to $11.2$?"
   ]
  },
  {
   "cell_type": "code",
   "execution_count": 38,
   "metadata": {
    "slideshow": {
     "slide_type": "slide"
    }
   },
   "outputs": [
    {
     "data": {
      "text/plain": [
       "0.9980647935735634"
      ]
     },
     "execution_count": 38,
     "metadata": {},
     "output_type": "execute_result"
    }
   ],
   "source": [
    "# calculate z-scores, use cdf\n",
    "\n",
    "z_score = (11.2 - 5)/2\n",
    "norm.cdf(z_score) - norm.cdf(-z_score)"
   ]
  },
  {
   "cell_type": "markdown",
   "metadata": {
    "slideshow": {
     "slide_type": "slide"
    }
   },
   "source": [
    "I have $X$ distributed normally with mean 5. Standard deviations take on 1, 3 and 5:\n",
    "- What percentage of the values lie within a range $X = \\pm 11.2$ for each standard deviation?"
   ]
  },
  {
   "cell_type": "code",
   "execution_count": 90,
   "metadata": {
    "slideshow": {
     "slide_type": "fragment"
    }
   },
   "outputs": [
    {
     "name": "stdout",
     "output_type": "stream",
     "text": [
      "Percentage of values of std deviation 1 is\n",
      "Percentage of values of std deviation 6.199999999999999\n",
      "0.9999999994353683\n",
      "Percentage of values of std deviation 3 is\n",
      "Percentage of values of std deviation 2.0666666666666664\n",
      "0.9612344258223628\n",
      "Percentage of values of std deviation 5 is\n",
      "Percentage of values of std deviation 1.2399999999999998\n",
      "0.7850246058508261\n"
     ]
    }
   ],
   "source": [
    "# calculate list of z-scores, use cdf to calculate list of percentages.\n",
    "for i in range(1,6,2):\n",
    "    z_score  = (11.2 - 5)/i\n",
    "    print('Percentage of values of std deviation '+str(i)+' is')\n",
    "    # print(f\"Percentage of values of std deviation {z_score}\") (f string)\n",
    "    print(norm.cdf(z_score)-norm.cdf(-z_score))"
   ]
  }
 ],
 "metadata": {
  "celltoolbar": "Slideshow",
  "kernelspec": {
   "display_name": "Python 3 (ipykernel)",
   "language": "python",
   "name": "python3"
  },
  "language_info": {
   "codemirror_mode": {
    "name": "ipython",
    "version": 3
   },
   "file_extension": ".py",
   "mimetype": "text/x-python",
   "name": "python",
   "nbconvert_exporter": "python",
   "pygments_lexer": "ipython3",
   "version": "3.9.7"
  }
 },
 "nbformat": 4,
 "nbformat_minor": 4
}
