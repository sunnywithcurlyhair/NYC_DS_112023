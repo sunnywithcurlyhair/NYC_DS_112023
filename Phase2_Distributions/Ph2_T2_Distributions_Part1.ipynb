{
 "cells": [
  {
   "cell_type": "markdown",
   "metadata": {
    "cell_style": "center",
    "slideshow": {
     "slide_type": "slide"
    }
   },
   "source": [
    "<div style=\"color:white;\n",
    "           display:fill;\n",
    "           border-radius:5px;\n",
    "           background-color:#5642C5;\n",
    "           font-size:200%;\n",
    "           font-family:Arial;letter-spacing:0.5px\">\n",
    "\n",
    "<p width = 20%, style=\"padding: 10px;\n",
    "              color:white;\">\n",
    "Distributions and Sampling: Part I\n",
    "              \n",
    "</p>\n",
    "</div>\n",
    "\n",
    "Data Science Cohort Live NYC Nov 2023\n",
    "<p>Phase 2</p>\n",
    "<br>\n",
    "<br>\n",
    "\n",
    "<div align = \"right\">\n",
    "<img src=\"Images/flatiron-school-logo.png\" align = \"right\" width=\"200\"/>\n",
    "</div>\n",
    "    \n",
    "    "
   ]
  },
  {
   "cell_type": "markdown",
   "metadata": {
    "cell_style": "center",
    "hidden": true,
    "slideshow": {
     "slide_type": "subslide"
    }
   },
   "source": [
    "#### Probability distribution\n",
    "\n",
    "Representation of the expected frequencies of potential outcomes of experiment.\n",
    "\n",
    "How do we build expected frequencies?"
   ]
  },
  {
   "cell_type": "markdown",
   "metadata": {
    "cell_style": "split",
    "slideshow": {
     "slide_type": "fragment"
    }
   },
   "source": [
    "Have a large $N$ collection of all examples following distribution of interest:\n",
    "- known as a **population**"
   ]
  },
  {
   "cell_type": "markdown",
   "metadata": {
    "cell_style": "split",
    "slideshow": {
     "slide_type": "fragment"
    }
   },
   "source": [
    "**population**: the collection of all men in the world and their feet sizes."
   ]
  },
  {
   "cell_type": "markdown",
   "metadata": {
    "slideshow": {
     "slide_type": "slide"
    }
   },
   "source": [
    "**Another example of a population:** age bin distribution of all students that have ever attended Flatiron"
   ]
  },
  {
   "cell_type": "markdown",
   "metadata": {
    "cell_style": "split",
    "slideshow": {
     "slide_type": "subslide"
    }
   },
   "source": [
    "**The bins**\n",
    "\n",
    "- Age < 25.\n",
    "- 25 <= Age < 30.\n",
    "- 30 <= Age < 35.\n",
    "- 35 <= Age < 40.\n",
    "- Age >= 40"
   ]
  },
  {
   "cell_type": "markdown",
   "metadata": {
    "cell_style": "split"
   },
   "source": [
    "If we had access to every example in this population:\n",
    "\n",
    "- just get relative frequencies across bins\n",
    "- these are the **expected frequencies** or **probablity** given population level data."
   ]
  },
  {
   "cell_type": "markdown",
   "metadata": {
    "slideshow": {
     "slide_type": "slide"
    }
   },
   "source": [
    "#### Building probability distribution:"
   ]
  },
  {
   "cell_type": "markdown",
   "metadata": {
    "cell_style": "split",
    "slideshow": {
     "slide_type": "fragment"
    }
   },
   "source": [
    "- Get ages of all students at Flatiron (population)\n",
    "- Bin accordingly to build probability distribution."
   ]
  },
  {
   "cell_type": "markdown",
   "metadata": {
    "cell_style": "split",
    "slideshow": {
     "slide_type": "fragment"
    }
   },
   "source": [
    "\n",
    "- $15\\%$ are under the age of $25$\n",
    "- $30\\%$ are between $25$ & $30$\n",
    "- $25\\%$ are between $30$ & $35$\n",
    "- $20\\%$ are between $35$ & $40$\n",
    "- $10\\%$ are over the age of $40$\n",
    "\n",
    "**Built probability distribution from population percentages**"
   ]
  },
  {
   "cell_type": "markdown",
   "metadata": {
    "cell_style": "split",
    "slideshow": {
     "slide_type": "slide"
    }
   },
   "source": [
    "#### Sample from population\n",
    "\n",
    "<center><img src=\"Images/population_sample.png\" width=\"500\"/></center>\n",
    "\n",
    "    "
   ]
  },
  {
   "cell_type": "markdown",
   "metadata": {
    "cell_style": "split",
    "slideshow": {
     "slide_type": "fragment"
    }
   },
   "source": [
    "Once probability from population known:\n",
    "- Can estimate expected frequency of extracting a particular sample."
   ]
  },
  {
   "cell_type": "markdown",
   "metadata": {
    "cell_style": "split",
    "slideshow": {
     "slide_type": "subslide"
    }
   },
   "source": [
    "\n",
    "**Population**: whole group we're interested in. Population being the whole set of possible outcomes.\n",
    "\n",
    "**Sample**: random subset picked over the population. \n",
    "\n",
    "**Probabilities**: extracted from population"
   ]
  },
  {
   "cell_type": "markdown",
   "metadata": {
    "cell_style": "center",
    "slideshow": {
     "slide_type": "subslide"
    }
   },
   "source": [
    "#### Sampling\n",
    "\n",
    "- Picking a person randomly: \n",
    "\n",
    "What is the probability that the person is older than 40?"
   ]
  },
  {
   "cell_type": "markdown",
   "metadata": {
    "cell_style": "split",
    "slideshow": {
     "slide_type": "fragment"
    }
   },
   "source": [
    "\n",
    "- $15\\%$ are under the age of $25$\n",
    "- $30\\%$ are between $25$ & $30$\n",
    "- $25\\%$ are between $30$ & $35$\n",
    "- $20\\%$ are between $35$ & $40$\n",
    "- $10\\%$ are over the age of $40$\n",
    "\n",
    "**Built probability distribution from population percentages**"
   ]
  },
  {
   "cell_type": "markdown",
   "metadata": {
    "cell_style": "split",
    "slideshow": {
     "slide_type": "fragment"
    }
   },
   "source": [
    "$$ P = 0.1 $$"
   ]
  },
  {
   "cell_type": "markdown",
   "metadata": {
    "slideshow": {
     "slide_type": "subslide"
    }
   },
   "source": [
    "#### Sampling\n",
    "\n",
    "- Picking three people randomly: \n",
    "\n",
    "What is the probability that two are older than 40 and one is under the age of 25?"
   ]
  },
  {
   "cell_type": "code",
   "execution_count": 1,
   "metadata": {
    "slideshow": {
     "slide_type": "fragment"
    }
   },
   "outputs": [
    {
     "data": {
      "text/plain": [
       "0.0045000000000000005"
      ]
     },
     "execution_count": 1,
     "metadata": {},
     "output_type": "execute_result"
    }
   ],
   "source": [
    "from math import factorial\n",
    "\n",
    "combination_prefactor = factorial(3)/(factorial(2)*factorial(1))\n",
    "combination_prefactor*(.15)*(0.1)**2"
   ]
  },
  {
   "cell_type": "markdown",
   "metadata": {
    "slideshow": {
     "slide_type": "slide"
    }
   },
   "source": [
    "For discrete sample spaces:\n",
    "- probability distributions / tabulations have a fancy shmancy name."
   ]
  },
  {
   "cell_type": "markdown",
   "metadata": {
    "slideshow": {
     "slide_type": "subslide"
    }
   },
   "source": [
    "#### Probability Mass Function (PMF)\n",
    "\n",
    "Probability distribution over finite outcomes. Nothing fancy."
   ]
  },
  {
   "cell_type": "code",
   "execution_count": 2,
   "metadata": {
    "slideshow": {
     "slide_type": "fragment"
    }
   },
   "outputs": [
    {
     "data": {
      "text/html": [
       "<div>\n",
       "<style scoped>\n",
       "    .dataframe tbody tr th:only-of-type {\n",
       "        vertical-align: middle;\n",
       "    }\n",
       "\n",
       "    .dataframe tbody tr th {\n",
       "        vertical-align: top;\n",
       "    }\n",
       "\n",
       "    .dataframe thead th {\n",
       "        text-align: right;\n",
       "    }\n",
       "</style>\n",
       "<table border=\"1\" class=\"dataframe\">\n",
       "  <thead>\n",
       "    <tr style=\"text-align: right;\">\n",
       "      <th></th>\n",
       "      <th>Age Range</th>\n",
       "      <th>PMF</th>\n",
       "    </tr>\n",
       "  </thead>\n",
       "  <tbody>\n",
       "    <tr>\n",
       "      <th>0</th>\n",
       "      <td>&lt;25</td>\n",
       "      <td>0.15</td>\n",
       "    </tr>\n",
       "    <tr>\n",
       "      <th>1</th>\n",
       "      <td>25-30</td>\n",
       "      <td>0.30</td>\n",
       "    </tr>\n",
       "    <tr>\n",
       "      <th>2</th>\n",
       "      <td>30-35</td>\n",
       "      <td>0.20</td>\n",
       "    </tr>\n",
       "    <tr>\n",
       "      <th>3</th>\n",
       "      <td>35-40</td>\n",
       "      <td>0.25</td>\n",
       "    </tr>\n",
       "    <tr>\n",
       "      <th>4</th>\n",
       "      <td>&gt;40</td>\n",
       "      <td>0.10</td>\n",
       "    </tr>\n",
       "  </tbody>\n",
       "</table>\n",
       "</div>"
      ],
      "text/plain": [
       "  Age Range   PMF\n",
       "0       <25  0.15\n",
       "1     25-30  0.30\n",
       "2     30-35  0.20\n",
       "3     35-40  0.25\n",
       "4       >40  0.10"
      ]
     },
     "execution_count": 2,
     "metadata": {},
     "output_type": "execute_result"
    }
   ],
   "source": [
    "import pandas as pd\n",
    "import numpy as np\n",
    "outcome_df = pd.DataFrame([('<25', 0.15),('25-30', 0.3,),('30-35', 0.2,),('35-40', .25,),('>40', .1,)], columns=['Age Range', 'PMF'])\n",
    "outcome_df"
   ]
  },
  {
   "cell_type": "markdown",
   "metadata": {
    "cell_style": "center",
    "slideshow": {
     "slide_type": "subslide"
    }
   },
   "source": [
    "#### Plot PMF"
   ]
  },
  {
   "cell_type": "markdown",
   "metadata": {
    "slideshow": {
     "slide_type": "fragment"
    }
   },
   "source": [
    "Are often displayed visually by a specialized plot: *the stem plot*"
   ]
  },
  {
   "cell_type": "code",
   "execution_count": 17,
   "metadata": {
    "cell_style": "center",
    "scrolled": true,
    "slideshow": {
     "slide_type": "subslide"
    }
   },
   "outputs": [
    {
     "data": {
      "image/png": "[encoded data removed]",
      "text/plain": [
       "<Figure size 432x288 with 1 Axes>"
      ]
     },
     "metadata": {
      "needs_background": "light"
     },
     "output_type": "display_data"
    }
   ],
   "source": [
    "import matplotlib.pyplot as plt\n",
    "from matplotlib.pyplot import stem\n",
    "\n",
    "\n",
    "plt.stem(outcome_df['Age Range'], outcome_df['PMF'], linefmt='b-', markerfmt='bo', basefmt='r-')\n",
    "plt.xlabel('Age groups')\n",
    "plt.ylabel('Probability')\n",
    "plt.title('Probability Mass Function (PMF)')\n",
    "plt.show()"
   ]
  },
  {
   "cell_type": "markdown",
   "metadata": {
    "hidden": true,
    "slideshow": {
     "slide_type": "slide"
    }
   },
   "source": [
    "Actual uses of using population data to build probability distributions:\n",
    "\n",
    "- **Galaxy distribution in our universe:** \n",
    "    - sampling: our galactic local group\n",
    "- **All ad click data on Facebook:**\n",
    "    - sampling: specific user likehood to click on given add given their preferences"
   ]
  },
  {
   "cell_type": "markdown",
   "metadata": {
    "slideshow": {
     "slide_type": "slide"
    }
   },
   "source": [
    "#### Mathematical models of distribution"
   ]
  },
  {
   "cell_type": "markdown",
   "metadata": {
    "cell_style": "center",
    "slideshow": {
     "slide_type": "fragment"
    }
   },
   "source": [
    "- In many cases: know what a population distribution _should_ be.\n",
    "- Can model uncertainty: mathematically define a model governing statistics or population level data.\n",
    "\n",
    "**Often referred to as generative modeling**"
   ]
  },
  {
   "cell_type": "markdown",
   "metadata": {
    "heading_collapsed": true,
    "hidden": true,
    "slideshow": {
     "slide_type": "slide"
    }
   },
   "source": [
    "#### Common types of distributions: Discrete "
   ]
  },
  {
   "cell_type": "markdown",
   "metadata": {
    "cell_style": "split",
    "slideshow": {
     "slide_type": "fragment"
    }
   },
   "source": [
    "Mathematical distribution of random variables $X$:\n",
    "- governed by specific functional form\n",
    "- parameters of distribution $\\theta$"
   ]
  },
  {
   "cell_type": "markdown",
   "metadata": {
    "cell_style": "split",
    "slideshow": {
     "slide_type": "fragment"
    }
   },
   "source": [
    "Probability has some specific functional form depending on $X$ and $\\theta$.\n",
    "\n",
    "$$ P(X|\\theta) $$\n",
    "\n",
    "*Note*: This is a probability of the random variable $X$ conditioned on $\\theta$.\n",
    "\n",
    "The parameters $\\theta$ are not random variables."
   ]
  },
  {
   "cell_type": "markdown",
   "metadata": {
    "slideshow": {
     "slide_type": "slide"
    }
   },
   "source": [
    "### Examples of discrete distributions"
   ]
  },
  {
   "cell_type": "markdown",
   "metadata": {
    "slideshow": {
     "slide_type": "subslide"
    }
   },
   "source": [
    "- **Bernoulli Distribution**\n",
    "    - Represents the probability of success for a certain experiment (binary outcome).\n",
    "    - Did someone click on an ad banner or not?"
   ]
  },
  {
   "cell_type": "markdown",
   "metadata": {
    "cell_style": "split",
    "slideshow": {
     "slide_type": "slide"
    }
   },
   "source": [
    "$$ B(X| p) = p^X(1-p)^{1-X} $$\n",
    "\n",
    "Random variable $X$:\n",
    "- Yes: X = 1 <br>\n",
    "- No: X = 0 <br>\n",
    "\n",
    "$p$: probability of banner clicked. This is a parameter."
   ]
  },
  {
   "cell_type": "markdown",
   "metadata": {
    "cell_style": "split",
    "slideshow": {
     "slide_type": "fragment"
    }
   },
   "source": [
    "Probability of clicked:\n",
    "$$ B(X = 1| p) = p $$ <br>\n",
    "\n",
    "Probability of not clicked:\n",
    "$$ B(X = 0| p) = 1 - p $$"
   ]
  },
  {
   "cell_type": "markdown",
   "metadata": {
    "slideshow": {
     "slide_type": "slide"
    }
   },
   "source": [
    "Scipy stats can help us with sampling distribution/plotting PMF, etc\n",
    "\n",
    "Probability is 4% of ad being clicked."
   ]
  },
  {
   "cell_type": "code",
   "execution_count": 5,
   "metadata": {
    "cell_style": "center",
    "slideshow": {
     "slide_type": "fragment"
    }
   },
   "outputs": [
    {
     "data": {
      "text/plain": [
       "[(0, 0.96), (1, 0.04)]"
      ]
     },
     "execution_count": 5,
     "metadata": {},
     "output_type": "execute_result"
    }
   ],
   "source": [
    "# import bernoulli\n",
    "from scipy.stats import bernoulli\n",
    "\n",
    "bernoulli_pmf = [(x, bernoulli.pmf(x, p = .04)) for x in [0,1]]\n",
    "bernoulli_pmf"
   ]
  },
  {
   "cell_type": "markdown",
   "metadata": {
    "slideshow": {
     "slide_type": "slide"
    }
   },
   "source": [
    "The pmf can be visualized with a stem plot:"
   ]
  },
  {
   "cell_type": "code",
   "execution_count": 35,
   "metadata": {
    "slideshow": {
     "slide_type": "fragment"
    }
   },
   "outputs": [
    {
     "data": {
      "image/png": "[encoded data removed]",
      "text/plain": [
       "<Figure size 432x288 with 1 Axes>"
      ]
     },
     "metadata": {
      "needs_background": "light"
     },
     "output_type": "display_data"
    }
   ],
   "source": [
    "# create list of x values and a list of y values for matplotlib\n",
    "unzipped_bernoulli = list(zip(*bernoulli_pmf))\n",
    "\n",
    "plt.stem(unzipped_bernoulli[0], unzipped_bernoulli[1], linefmt='b-', markerfmt='bo', basefmt='r-')\n",
    "plt.xlabel('X')\n",
    "plt.ylabel('Probability')\n",
    "plt.title('Bernoulli PMF')\n",
    "plt.show()"
   ]
  },
  {
   "cell_type": "markdown",
   "metadata": {
    "slideshow": {
     "slide_type": "slide"
    }
   },
   "source": [
    "#### Expectation values: mean and variance of a distribution"
   ]
  },
  {
   "cell_type": "markdown",
   "metadata": {
    "cell_style": "split",
    "slideshow": {
     "slide_type": "fragment"
    }
   },
   "source": [
    "The population mean (i.e. the expected value of $X$ under the distribution) is the a sum of:\n",
    "- possible values of the random variable $X$\n",
    "- weighted by the probability distribution of $X$ at these values."
   ]
  },
  {
   "cell_type": "markdown",
   "metadata": {
    "cell_style": "split",
    "slideshow": {
     "slide_type": "-"
    }
   },
   "source": [
    "$$ E[X] = \\sum_i X_i P(X_i|\\theta) $$\n",
    "\n",
    "where $\\theta$ is possible parameters of the distribution."
   ]
  },
  {
   "cell_type": "markdown",
   "metadata": {
    "cell_style": "split",
    "slideshow": {
     "slide_type": "fragment"
    }
   },
   "source": [
    "First calculate for a uniform distribution:"
   ]
  },
  {
   "cell_type": "markdown",
   "metadata": {
    "slideshow": {
     "slide_type": "subslide"
    }
   },
   "source": [
    "If we have three possible values for a each equally likely:\n",
    "    \n",
    "$$E[X] = X_1\\cdot\\frac{1}{3} + X_2\\cdot\\frac{1}{3} + X_3\\cdot\\frac{1}{3} $$\n",
    "\n",
    "\n",
    "$$ E[X] = \\frac{X_1 + X_2 + X_3}{3} $$"
   ]
  },
  {
   "cell_type": "markdown",
   "metadata": {
    "cell_style": "center",
    "slideshow": {
     "slide_type": "slide"
    }
   },
   "source": [
    "Let' do this for the Bernoulli distribution:\n",
    "\n",
    "$$ E[X] = 1\\cdot B(X =1 | p) + 0 \\cdot B(X = 0 | p) = p $$\n",
    "\n",
    "as  $ B(X =1 | p) = p $"
   ]
  },
  {
   "cell_type": "markdown",
   "metadata": {
    "slideshow": {
     "slide_type": "fragment"
    }
   },
   "source": [
    "The variance on the other hand is:\n",
    "\n",
    "$$ E[(X - E[X])^2] =  \\sum_i (X_i - E[X])^2 P(X_i|\\theta)$$\n",
    "\n",
    "which for the Bernulli distribution is:\n",
    "\n",
    "$$  (1 - p)^2 B(X = 1| p) + (0 - p)^2 B(X = 0| p) $$"
   ]
  },
  {
   "cell_type": "markdown",
   "metadata": {
    "slideshow": {
     "slide_type": "subslide"
    }
   },
   "source": [
    "implies that:\n",
    "    \n",
    "$$ Var[X] = (1 - p)^2p + (0 - p)^2(1 - p) $$\n",
    "\n",
    "and fully simplified:\n",
    "$$ Var[X] = p(1 - p) $$"
   ]
  },
  {
   "cell_type": "markdown",
   "metadata": {
    "slideshow": {
     "slide_type": "slide"
    }
   },
   "source": [
    "Mean and variance of $X$  for our ad clicking example?"
   ]
  },
  {
   "cell_type": "code",
   "execution_count": 6,
   "metadata": {
    "slideshow": {
     "slide_type": "fragment"
    }
   },
   "outputs": [
    {
     "name": "stdout",
     "output_type": "stream",
     "text": [
      "0.04 0.0384\n"
     ]
    }
   ],
   "source": [
    "# calculate it for me \n",
    "\n",
    "p = 0.04\n",
    "\n",
    "mean = p\n",
    "var = p*(1-p)\n",
    "print(mean, var)"
   ]
  },
  {
   "cell_type": "markdown",
   "metadata": {
    "slideshow": {
     "slide_type": "slide"
    }
   },
   "source": [
    "Scipy also has a useful method for getting mean, variance of the distribution:\n",
    "- .stats(parameters, ...)"
   ]
  },
  {
   "cell_type": "code",
   "execution_count": 37,
   "metadata": {
    "slideshow": {
     "slide_type": "-"
    }
   },
   "outputs": [
    {
     "data": {
      "text/plain": [
       "(array(0.04), array(0.0384))"
      ]
     },
     "execution_count": 37,
     "metadata": {},
     "output_type": "execute_result"
    }
   ],
   "source": [
    "# gives mean and variance in a tuple\n",
    "bernoulli.stats(p = 0.04)"
   ]
  },
  {
   "cell_type": "markdown",
   "metadata": {
    "slideshow": {
     "slide_type": "slide"
    }
   },
   "source": [
    "#### Sampling\n",
    "- More often than not we use the Bernoulli distribution in simulations:\n",
    "    - create a finite size sample modeled from distribution.\n",
    "    "
   ]
  },
  {
   "cell_type": "markdown",
   "metadata": {
    "slideshow": {
     "slide_type": "subslide"
    }
   },
   "source": [
    "Let's random sample this distribution 100 times."
   ]
  },
  {
   "cell_type": "code",
   "execution_count": 10,
   "metadata": {
    "slideshow": {
     "slide_type": "fragment"
    }
   },
   "outputs": [
    {
     "data": {
      "text/plain": [
       "array([0, 0, 0, 0, 0, 0, 0, 0, 1, 0, 0, 0, 0, 0, 0, 0, 0, 0, 0, 0, 0, 0,\n",
       "       0, 0, 0, 0, 0, 0, 0, 0, 0, 0, 0, 0, 0, 0, 0, 0, 0, 0, 0, 0, 0, 0,\n",
       "       0, 0, 0, 0, 0, 0, 0, 0, 0, 0, 0, 0, 0, 0, 0, 0, 0, 0, 0, 0, 0, 0,\n",
       "       0, 0, 0, 0, 0, 0, 0, 1, 0, 0, 0, 0, 0, 0, 0, 1, 0, 0, 0, 0, 0, 0,\n",
       "       1, 0, 0, 0, 0, 0, 0, 0, 0, 0, 0, 0])"
      ]
     },
     "execution_count": 10,
     "metadata": {},
     "output_type": "execute_result"
    }
   ],
   "source": [
    "bernoulli.rvs(p = 0.04, size = 100)"
   ]
  },
  {
   "cell_type": "markdown",
   "metadata": {
    "slideshow": {
     "slide_type": "subslide"
    }
   },
   "source": [
    "A very useful program:"
   ]
  },
  {
   "cell_type": "code",
   "execution_count": 13,
   "metadata": {
    "slideshow": {
     "slide_type": "fragment"
    }
   },
   "outputs": [
    {
     "name": "stdout",
     "output_type": "stream",
     "text": [
      "She loves me not.\n",
      "She loves me not.\n",
      "She loves me not.\n",
      "She loves me not.\n",
      "She loves me not.\n",
      "She loves me.\n",
      "She loves me.\n",
      "She loves me.\n",
      "She loves me not.\n",
      "She loves me not.\n"
     ]
    }
   ],
   "source": [
    "for x in bernoulli.rvs(p = 0.5, size = 10):\n",
    "    if x == 1:\n",
    "        print('She loves me.')\n",
    "    else:\n",
    "        print('She loves me not.')"
   ]
  },
  {
   "cell_type": "markdown",
   "metadata": {
    "hidden": true,
    "slideshow": {
     "slide_type": "slide"
    }
   },
   "source": [
    "- **Binomial Distribution**\n",
    "    - Generalizes Bernoulli to fixed number of trials.\n",
    "    - Given $N$ trials, chance of observing $k$ successes.\n",
    "    "
   ]
  },
  {
   "cell_type": "markdown",
   "metadata": {
    "slideshow": {
     "slide_type": "slide"
    }
   },
   "source": [
    "#### Example\n",
    "\n",
    "-  Estimate number of successful free throw shots in 8 tries.\n",
    "- For Shaquille O'Neale: Career free throw pct = 52.7%"
   ]
  },
  {
   "cell_type": "markdown",
   "metadata": {
    "slideshow": {
     "slide_type": "fragment"
    }
   },
   "source": [
    "<img src = \"images/shaw.webp\" >\n",
    "<center> Shaq throwin free throw bricks. </center>"
   ]
  },
  {
   "cell_type": "markdown",
   "metadata": {
    "cell_style": "split",
    "slideshow": {
     "slide_type": "subslide"
    }
   },
   "source": [
    "scipy has functionality for binomial:\n",
    "- .binom class"
   ]
  },
  {
   "cell_type": "markdown",
   "metadata": {
    "cell_style": "split",
    "slideshow": {
     "slide_type": "fragment"
    }
   },
   "source": [
    "Define binomial:\n",
    "- distribution parameters:\n",
    "    - N = 8 trials\n",
    "    - Bernoulli success/failure p = .527"
   ]
  },
  {
   "cell_type": "code",
   "execution_count": 14,
   "metadata": {
    "cell_style": "split",
    "slideshow": {
     "slide_type": "fragment"
    }
   },
   "outputs": [],
   "source": [
    "from scipy.stats import binom\n",
    "N = 8\n",
    "p = 0.527\n",
    "\n",
    "pmf_binomial = [(x, binom.pmf(x, n = N, p = p)) \n",
    "                for x in range(9)]"
   ]
  },
  {
   "cell_type": "markdown",
   "metadata": {
    "slideshow": {
     "slide_type": "fragment"
    }
   },
   "source": [
    "Generates probability of $k$ sucesses in 8 trials:  $k$ ranging from 0 to 8."
   ]
  },
  {
   "cell_type": "code",
   "execution_count": 15,
   "metadata": {
    "slideshow": {
     "slide_type": "subslide"
    }
   },
   "outputs": [
    {
     "name": "stdout",
     "output_type": "stream",
     "text": [
      "[(0, 0.002505469532410439), (1, 0.02233204978571333), (2, 0.08708555143709994), (3, 0.1940553302636433), (4, 0.27026204822658584), (5, 0.24089319140027182), (6, 0.1341973698392635), (7, 0.042719428514220385), (8, 0.005949561000791267)]\n"
     ]
    }
   ],
   "source": [
    "print(pmf_binomial)"
   ]
  },
  {
   "cell_type": "markdown",
   "metadata": {
    "slideshow": {
     "slide_type": "slide"
    }
   },
   "source": [
    "Plot the pmf:"
   ]
  },
  {
   "cell_type": "code",
   "execution_count": 18,
   "metadata": {
    "cell_style": "center",
    "slideshow": {
     "slide_type": "fragment"
    }
   },
   "outputs": [],
   "source": [
    "%%capture binom_plot\n",
    "x,y = list(zip(*pmf_binomial))\n",
    "plt.stem(x, y, linefmt='b-', markerfmt='bo', basefmt='r-')\n",
    "plt.title('Binomial PMF: Shaq FTs made out of 8 shots')\n",
    "plt.ylabel('Probability')\n",
    "plt.xlabel('Number of shots made')\n",
    "plt.title\n",
    "plt.show()"
   ]
  },
  {
   "cell_type": "code",
   "execution_count": 43,
   "metadata": {
    "slideshow": {
     "slide_type": "subslide"
    }
   },
   "outputs": [
    {
     "data": {
      "image/png": "[encoded data removed]",
      "text/plain": [
       "<Figure size 432x288 with 1 Axes>"
      ]
     },
     "metadata": {
      "needs_background": "light"
     },
     "output_type": "display_data"
    }
   ],
   "source": [
    "binom_plot()"
   ]
  },
  {
   "cell_type": "markdown",
   "metadata": {
    "slideshow": {
     "slide_type": "slide"
    }
   },
   "source": [
    "#### Let's compute Shaq free throw distribution statistics on 8 shots\n",
    "- based off of knowledge it must follow binomial\n",
    "- career percentage of 52.7%"
   ]
  },
  {
   "cell_type": "code",
   "execution_count": 44,
   "metadata": {
    "cell_style": "center",
    "slideshow": {
     "slide_type": "fragment"
    }
   },
   "outputs": [
    {
     "name": "stdout",
     "output_type": "stream",
     "text": [
      "Average shots made in 8 tries = 4.216\n",
      "Spread on shots made  in 8 tries= 1.994168\n"
     ]
    }
   ],
   "source": [
    "avg_shots_made, shots_made_std = binom.stats(n = 8, p =.527)\n",
    "print('Average shots made in 8 tries = ' + str(avg_shots_made))\n",
    "print('Spread on shots made  in 8 tries= ' + str(shots_made_std))"
   ]
  },
  {
   "cell_type": "markdown",
   "metadata": {
    "cell_style": "split",
    "slideshow": {
     "slide_type": "slide"
    }
   },
   "source": [
    "Note there is a small skew in this distribution:\n",
    "- other statistics: skew and kurtosis\n",
    "- expectation value of third and fourth moments"
   ]
  },
  {
   "cell_type": "code",
   "execution_count": 45,
   "metadata": {
    "cell_style": "split",
    "slideshow": {
     "slide_type": "fragment"
    }
   },
   "outputs": [
    {
     "data": {
      "image/png": "[encoded data removed]",
      "text/plain": [
       "<Figure size 432x288 with 1 Axes>"
      ]
     },
     "metadata": {
      "needs_background": "light"
     },
     "output_type": "display_data"
    }
   ],
   "source": [
    "binom_plot()"
   ]
  },
  {
   "cell_type": "markdown",
   "metadata": {
    "slideshow": {
     "slide_type": "slide"
    }
   },
   "source": [
    "Can access these additional statistics:\n",
    "- 's' stands for skew, 'k' for kurtosis"
   ]
  },
  {
   "cell_type": "code",
   "execution_count": 20,
   "metadata": {
    "slideshow": {
     "slide_type": "fragment"
    }
   },
   "outputs": [
    {
     "data": {
      "text/plain": [
       "(array(4.216), array(1.994168), array(-0.03823956), array(-0.24853774))"
      ]
     },
     "execution_count": 20,
     "metadata": {},
     "output_type": "execute_result"
    }
   ],
   "source": [
    " binom.stats(n = 8, p =.527, moments = 'mvsk' )"
   ]
  },
  {
   "cell_type": "markdown",
   "metadata": {
    "slideshow": {
     "slide_type": "slide"
    }
   },
   "source": [
    "Can sample this binomial distribution:\n",
    "- Get a list of number of successes for each trial (number of shots Shaq made)\n",
    "- 200 trials (e.g. maybe number of games where Shaq shot only 8 free throws)"
   ]
  },
  {
   "cell_type": "markdown",
   "metadata": {
    "slideshow": {
     "slide_type": "slide"
    }
   },
   "source": [
    "Can sample this binomial distribution:"
   ]
  },
  {
   "cell_type": "code",
   "execution_count": 21,
   "metadata": {
    "ExecuteTime": {
     "end_time": "2021-10-08T21:00:02.025541Z",
     "start_time": "2021-10-08T21:00:02.022231Z"
    },
    "slideshow": {
     "slide_type": "fragment"
    }
   },
   "outputs": [
    {
     "name": "stdout",
     "output_type": "stream",
     "text": [
      "Number of shots Shaq made in games where he took 8 free throws: \n",
      " [4 6 3 5 7 5 5 6 4 5 4 4 3 7 6 5 6 4 3 5 5 3 7 4 6 3 6 4 6 4 5 6 4 5 4 4 4\n",
      " 5 4 2 6 4 5 2 3 6 3 4 4 7 7 3 8 6 3 6 7 4 3 3 1 3 7 3 3 4 5 7 6 3 1 5 2 3\n",
      " 5 4 4 5 6 3 5 5 6 4 4 5 7 5 6 5 4 3 3 3 5 5 4 3 7 5 7 5 5 2 4 6 6 5 3 5 4\n",
      " 5 4 2 4 3 5 4 2 6 4 4 5 2 4 4 6 1 4 2 6 4 4 4 3 4 5 4 6 4 3 5 2 2 5 2 5 1\n",
      " 4 6 2 3 6 4 4 5 6 4 2 6 4 4 6 4 6 3 4 6 4 3 4 3 6 6 6 3 3 4 1 3 2 4 4 7 5\n",
      " 5 5 6 3 8 3 6 5 4 5 6 4 4 3 5] \n",
      "\n"
     ]
    }
   ],
   "source": [
    "\n",
    "N = 8  # number of samples for user-site interaction trial\n",
    "p = 0.527  # probability of success\n",
    "size = 200  # number of trials\n",
    "\n",
    "# Create a discrete distribution with the given parameter values\n",
    "binomial = binom.rvs(n = N, p=p, size=size)\n",
    "\n",
    "print(f'Number of shots Shaq made in games where he took 8 free throws: \\n {binomial} \\n')"
   ]
  },
  {
   "cell_type": "markdown",
   "metadata": {
    "slideshow": {
     "slide_type": "slide"
    }
   },
   "source": [
    "#### The Poisson Distribution"
   ]
  },
  {
   "cell_type": "markdown",
   "metadata": {
    "cell_style": "split",
    "slideshow": {
     "slide_type": "fragment"
    }
   },
   "source": [
    "A useful distribution when counting the number of counts in a fixed interval:\n",
    "- and we have knowledge of the mean counts"
   ]
  },
  {
   "cell_type": "markdown",
   "metadata": {
    "cell_style": "split",
    "slideshow": {
     "slide_type": "fragment"
    }
   },
   "source": [
    "Radioactive decay:\n",
    "- Tabulate mean counts / min on Geiger counter from Americum-241:\n",
    "    - $\\lambda$ (a parameter)\n",
    "- Now want distribution of counts per min $n$: \n",
    "    - a random variable"
   ]
  },
  {
   "cell_type": "markdown",
   "metadata": {
    "slideshow": {
     "slide_type": "slide"
    }
   },
   "source": [
    "#### Derivation: let's do it on the board\n",
    "\n",
    "A limiting case of the binomial distribution where $N \\rightarrow \\infty $"
   ]
  },
  {
   "cell_type": "markdown",
   "metadata": {
    "cell_style": "center",
    "slideshow": {
     "slide_type": "fragment"
    }
   },
   "source": [
    "PMF of Poisson counting process:\n",
    "$$ P(n|\\lambda) = \\frac {\\lambda ^{n}e^{-\\lambda }}{n!} $$\n",
    "\n",
    "- $\\lambda$ is observed average rate.\n",
    "- Parameter of distribution: observed from data."
   ]
  },
  {
   "cell_type": "markdown",
   "metadata": {
    "slideshow": {
     "slide_type": "subslide"
    }
   },
   "source": [
    "scipy.stats can really help us model/visualize this.\n",
    "- poisson.pmf(n, lambda)\n",
    "\n",
    "**Take lambda = 3 counts/min**"
   ]
  },
  {
   "cell_type": "code",
   "execution_count": 22,
   "metadata": {
    "cell_style": "split",
    "slideshow": {
     "slide_type": "subslide"
    }
   },
   "outputs": [],
   "source": [
    "from scipy.stats import poisson\n",
    "lambda_rate = 3\n",
    "call_pmf =[(x, poisson.pmf(x,  mu =lambda_rate)) \n",
    "           for x in range(10)]\n",
    "\n",
    "x_amer,y_amer = list(zip(*call_pmf))"
   ]
  },
  {
   "cell_type": "code",
   "execution_count": 49,
   "metadata": {
    "cell_style": "split",
    "slideshow": {
     "slide_type": "fragment"
    }
   },
   "outputs": [
    {
     "data": {
      "image/png": "[encoded data removed]",
      "text/plain": [
       "<Figure size 432x288 with 1 Axes>"
      ]
     },
     "metadata": {
      "needs_background": "light"
     },
     "output_type": "display_data"
    }
   ],
   "source": [
    "plt.stem(x_amer, y_amer, linefmt='b-', markerfmt='bo', basefmt='r-')\n",
    "plt.xlabel('n')\n",
    "plt.ylabel('P(n)')\n",
    "plt.title('PMF (Poisson)')\n",
    "plt.show()"
   ]
  },
  {
   "cell_type": "markdown",
   "metadata": {
    "slideshow": {
     "slide_type": "fragment"
    }
   },
   "source": [
    "This distribution clearly has skew."
   ]
  },
  {
   "cell_type": "markdown",
   "metadata": {
    "slideshow": {
     "slide_type": "slide"
    }
   },
   "source": [
    "Calculate the distribution statistics:"
   ]
  },
  {
   "cell_type": "code",
   "execution_count": 23,
   "metadata": {
    "cell_style": "center",
    "slideshow": {
     "slide_type": "fragment"
    }
   },
   "outputs": [
    {
     "data": {
      "text/plain": [
       "(array(3.), array(3.), array(0.57735027), array(0.33333333))"
      ]
     },
     "execution_count": 23,
     "metadata": {},
     "output_type": "execute_result"
    }
   ],
   "source": [
    "poisson.stats(mu = lambda_rate, moments = 'mvsk')"
   ]
  },
  {
   "cell_type": "markdown",
   "metadata": {
    "slideshow": {
     "slide_type": "fragment"
    }
   },
   "source": [
    "See anything interesting?"
   ]
  },
  {
   "cell_type": "markdown",
   "metadata": {
    "slideshow": {
     "slide_type": "slide"
    }
   },
   "source": [
    "For Poisson:\n",
    "\n",
    "$$ E[n] = \\lambda $$\n",
    "$$ Var[n] = \\lambda $$"
   ]
  },
  {
   "cell_type": "markdown",
   "metadata": {
    "slideshow": {
     "slide_type": "slide"
    }
   },
   "source": [
    "Sometime parameter determined from laws of physics, domain knowledge, etc.:\n",
    "\n",
    "- Mean nuclear decay rate of Iodine-131 is 31.5 decay events/year. Quantum physics."
   ]
  },
  {
   "cell_type": "code",
   "execution_count": 51,
   "metadata": {
    "scrolled": true,
    "slideshow": {
     "slide_type": "subslide"
    }
   },
   "outputs": [
    {
     "data": {
      "image/png": "[encoded data removed]",
      "text/plain": [
       "<Figure size 432x288 with 1 Axes>"
      ]
     },
     "metadata": {
      "needs_background": "light"
     },
     "output_type": "display_data"
    }
   ],
   "source": [
    "nuclear_pmf =[(x, poisson.pmf(x, 31.5)) for x in range(70)]\n",
    "x,y = list(zip(*nuclear_pmf))\n",
    "plt.stem(x, y, linefmt='b-', markerfmt='bo', basefmt='r-')\n",
    "plt.xlabel('n')\n",
    "plt.ylabel('P(n)')\n",
    "plt.title('PMF (Poisson): Calls/min')\n",
    "plt.show()\n"
   ]
  },
  {
   "cell_type": "markdown",
   "metadata": {
    "slideshow": {
     "slide_type": "fragment"
    }
   },
   "source": [
    "Gets more symmetric and bell-shaped as $\\lambda$ gets larger."
   ]
  },
  {
   "cell_type": "markdown",
   "metadata": {
    "slideshow": {
     "slide_type": "slide"
    }
   },
   "source": [
    "Poisson distribution pops up pretty regularly in data science:\n",
    "- Natural language processing with bag-of-words document vectorization \n",
    "- Count distribution in political polling, etc."
   ]
  },
  {
   "cell_type": "markdown",
   "metadata": {
    "slideshow": {
     "slide_type": "slide"
    }
   },
   "source": [
    "#### Common types of distributions: Continuous "
   ]
  },
  {
   "cell_type": "markdown",
   "metadata": {
    "cell_style": "center",
    "slideshow": {
     "slide_type": "subslide"
    }
   },
   "source": [
    "So far dealt with distributions over discrete variables.\n",
    "\n",
    "What about when $X$ a random variable: continuous spectrum of values?"
   ]
  },
  {
   "cell_type": "markdown",
   "metadata": {
    "cell_style": "split",
    "slideshow": {
     "slide_type": "slide"
    }
   },
   "source": [
    "But we can define probability in an interval:\n",
    "- probability that $X$ lies in [0.1, 0.25]\n",
    "- given sample space is [0, 1]"
   ]
  },
  {
   "cell_type": "markdown",
   "metadata": {
    "cell_style": "split",
    "slideshow": {
     "slide_type": "fragment"
    }
   },
   "source": [
    "$$ P(0.1 \\leq X \\leq 0.25) = 0.15$$"
   ]
  },
  {
   "cell_type": "markdown",
   "metadata": {
    "slideshow": {
     "slide_type": "slide"
    }
   },
   "source": [
    "Thus we can define probability in a collection of finite size intervals:\n",
    "- Have already done this.\n",
    "- Histograms."
   ]
  },
  {
   "cell_type": "code",
   "execution_count": 52,
   "metadata": {
    "slideshow": {
     "slide_type": "subslide"
    }
   },
   "outputs": [
    {
     "data": {
      "image/png": "[encoded data removed]",
      "text/plain": [
       "<Figure size 432x288 with 1 Axes>"
      ]
     },
     "metadata": {
      "needs_background": "light"
     },
     "output_type": "display_data"
    }
   ],
   "source": [
    "import seaborn as sns\n",
    "penguins_df = sns.load_dataset('penguins')\n",
    "sns.histplot(x = 'body_mass_g', data = penguins_df, stat = 'proportion')\n",
    "plt.show()"
   ]
  },
  {
   "cell_type": "markdown",
   "metadata": {
    "cell_style": "center",
    "slideshow": {
     "slide_type": "slide"
    }
   },
   "source": [
    "But enumerating probability of a single value of $X$ is not the correct thing to do. "
   ]
  },
  {
   "cell_type": "markdown",
   "metadata": {
    "cell_style": "split",
    "slideshow": {
     "slide_type": "slide"
    }
   },
   "source": [
    "**Why?**\n",
    "- Let's imagine a continuous line [0,1]\n",
    "- Infinite number of points.\n",
    "- Probability of getting X = 0.5?\n"
   ]
  },
  {
   "cell_type": "markdown",
   "metadata": {
    "cell_style": "split",
    "slideshow": {
     "slide_type": "fragment"
    }
   },
   "source": [
    "$$ P(X = 0.5) = \\frac{1}{\\infty} = 0$$ \n",
    "\n",
    "Probability of getting exactly a point on this interval is 0."
   ]
  },
  {
   "cell_type": "markdown",
   "metadata": {
    "heading_collapsed": true,
    "slideshow": {
     "slide_type": "slide"
    }
   },
   "source": [
    "#### PDF: Probability Density Function\n"
   ]
  },
  {
   "cell_type": "markdown",
   "metadata": {
    "cell_style": "split",
    "hidden": true,
    "slideshow": {
     "slide_type": "fragment"
    }
   },
   "source": [
    "**Probability density functions (PDF)** similar to PMFs but:\n",
    "\n",
    "- continuous variable\n",
    "- probability of **exactly** having a given value of continuous not defined. \n",
    "- *density* is defined. \n",
    "- probability in small interval defined as density*interval\n",
    "\n",
    "![](images/pdf_temp.png)"
   ]
  },
  {
   "cell_type": "markdown",
   "metadata": {
    "cell_style": "split",
    "slideshow": {
     "slide_type": "fragment"
    }
   },
   "source": [
    "- PDFs give us probability density.\n",
    "- Area under PDF in given range yields probability.  \n",
    "\n",
    "<center><img src=\"Images/pdf_proba.gif\" width=\"450\"/></center>"
   ]
  },
  {
   "cell_type": "markdown",
   "metadata": {
    "cell_style": "split",
    "slideshow": {
     "slide_type": "slide"
    }
   },
   "source": [
    "Area under entire curve:\n",
    "\n",
    "- Probability of entire interval of possible values\n",
    "\n",
    "**Must equal 1**"
   ]
  },
  {
   "cell_type": "markdown",
   "metadata": {
    "cell_style": "split",
    "slideshow": {
     "slide_type": "fragment"
    }
   },
   "source": [
    "<center><img src = \"Images/total_area_probunity.png\"></center>"
   ]
  },
  {
   "cell_type": "markdown",
   "metadata": {
    "cell_style": "split",
    "slideshow": {
     "slide_type": "slide"
    }
   },
   "source": [
    "Probability in an interval:"
   ]
  },
  {
   "cell_type": "markdown",
   "metadata": {
    "cell_style": "split",
    "slideshow": {
     "slide_type": "fragment"
    }
   },
   "source": [
    "<center><img src = \"Images/pdf_interval.png\"></center>"
   ]
  },
  {
   "cell_type": "markdown",
   "metadata": {
    "cell_style": "split",
    "hidden": true,
    "slideshow": {
     "slide_type": "slide"
    }
   },
   "source": [
    "- **Continuous Uniform**\n",
    "    - A continuous distribution that takes values within a specified range *a* to *b*, when each value within the range is equally likely.\n"
   ]
  },
  {
   "cell_type": "markdown",
   "metadata": {
    "cell_style": "split",
    "slideshow": {
     "slide_type": "fragment"
    }
   },
   "source": [
    "e.g. position of ball bouncing elastically between two walls"
   ]
  },
  {
   "cell_type": "markdown",
   "metadata": {
    "cell_style": "split",
    "slideshow": {
     "slide_type": "fragment"
    }
   },
   "source": [
    "<img src = \"Images/wallbounce.jpg\" >"
   ]
  },
  {
   "cell_type": "markdown",
   "metadata": {
    "slideshow": {
     "slide_type": "slide"
    }
   },
   "source": [
    "**Spicy stats time!**\n",
    "- uniform defaults to interval [0,1] as sample space"
   ]
  },
  {
   "cell_type": "code",
   "execution_count": 24,
   "metadata": {
    "slideshow": {
     "slide_type": "fragment"
    }
   },
   "outputs": [],
   "source": [
    "from scipy.stats import uniform"
   ]
  },
  {
   "cell_type": "markdown",
   "metadata": {
    "slideshow": {
     "slide_type": "slide"
    }
   },
   "source": [
    "#### PDF: Probability Density Function\n",
    "Instead of PMF:\n",
    "- has .pdf() function to get probability density function"
   ]
  },
  {
   "cell_type": "code",
   "execution_count": 25,
   "metadata": {
    "cell_style": "split",
    "slideshow": {
     "slide_type": "subslide"
    }
   },
   "outputs": [
    {
     "name": "stdout",
     "output_type": "stream",
     "text": [
      "[-1.         -0.99398798 -0.98797595 -0.98196393 -0.9759519  -0.96993988\n",
      " -0.96392786 -0.95791583 -0.95190381 -0.94589178 -0.93987976 -0.93386774\n",
      " -0.92785571 -0.92184369 -0.91583166 -0.90981964 -0.90380762 -0.89779559\n",
      " -0.89178357 -0.88577154 -0.87975952 -0.87374749 -0.86773547 -0.86172345\n",
      " -0.85571142 -0.8496994  -0.84368737 -0.83767535 -0.83166333 -0.8256513\n",
      " -0.81963928 -0.81362725 -0.80761523 -0.80160321 -0.79559118 -0.78957916\n",
      " -0.78356713 -0.77755511 -0.77154309 -0.76553106 -0.75951904 -0.75350701\n",
      " -0.74749499 -0.74148297 -0.73547094 -0.72945892 -0.72344689 -0.71743487\n",
      " -0.71142285 -0.70541082 -0.6993988  -0.69338677 -0.68737475 -0.68136273\n",
      " -0.6753507  -0.66933868 -0.66332665 -0.65731463 -0.65130261 -0.64529058\n",
      " -0.63927856 -0.63326653 -0.62725451 -0.62124248 -0.61523046 -0.60921844\n",
      " -0.60320641 -0.59719439 -0.59118236 -0.58517034 -0.57915832 -0.57314629\n",
      " -0.56713427 -0.56112224 -0.55511022 -0.5490982  -0.54308617 -0.53707415\n",
      " -0.53106212 -0.5250501  -0.51903808 -0.51302605 -0.50701403 -0.501002\n",
      " -0.49498998 -0.48897796 -0.48296593 -0.47695391 -0.47094188 -0.46492986\n",
      " -0.45891784 -0.45290581 -0.44689379 -0.44088176 -0.43486974 -0.42885772\n",
      " -0.42284569 -0.41683367 -0.41082164 -0.40480962 -0.3987976  -0.39278557\n",
      " -0.38677355 -0.38076152 -0.3747495  -0.36873747 -0.36272545 -0.35671343\n",
      " -0.3507014  -0.34468938 -0.33867735 -0.33266533 -0.32665331 -0.32064128\n",
      " -0.31462926 -0.30861723 -0.30260521 -0.29659319 -0.29058116 -0.28456914\n",
      " -0.27855711 -0.27254509 -0.26653307 -0.26052104 -0.25450902 -0.24849699\n",
      " -0.24248497 -0.23647295 -0.23046092 -0.2244489  -0.21843687 -0.21242485\n",
      " -0.20641283 -0.2004008  -0.19438878 -0.18837675 -0.18236473 -0.17635271\n",
      " -0.17034068 -0.16432866 -0.15831663 -0.15230461 -0.14629259 -0.14028056\n",
      " -0.13426854 -0.12825651 -0.12224449 -0.11623246 -0.11022044 -0.10420842\n",
      " -0.09819639 -0.09218437 -0.08617234 -0.08016032 -0.0741483  -0.06813627\n",
      " -0.06212425 -0.05611222 -0.0501002  -0.04408818 -0.03807615 -0.03206413\n",
      " -0.0260521  -0.02004008 -0.01402806 -0.00801603 -0.00200401  0.00400802\n",
      "  0.01002004  0.01603206  0.02204409  0.02805611  0.03406814  0.04008016\n",
      "  0.04609218  0.05210421  0.05811623  0.06412826  0.07014028  0.0761523\n",
      "  0.08216433  0.08817635  0.09418838  0.1002004   0.10621242  0.11222445\n",
      "  0.11823647  0.1242485   0.13026052  0.13627255  0.14228457  0.14829659\n",
      "  0.15430862  0.16032064  0.16633267  0.17234469  0.17835671  0.18436874\n",
      "  0.19038076  0.19639279  0.20240481  0.20841683  0.21442886  0.22044088\n",
      "  0.22645291  0.23246493  0.23847695  0.24448898  0.250501    0.25651303\n",
      "  0.26252505  0.26853707  0.2745491   0.28056112  0.28657315  0.29258517\n",
      "  0.29859719  0.30460922  0.31062124  0.31663327  0.32264529  0.32865731\n",
      "  0.33466934  0.34068136  0.34669339  0.35270541  0.35871743  0.36472946\n",
      "  0.37074148  0.37675351  0.38276553  0.38877756  0.39478958  0.4008016\n",
      "  0.40681363  0.41282565  0.41883768  0.4248497   0.43086172  0.43687375\n",
      "  0.44288577  0.4488978   0.45490982  0.46092184  0.46693387  0.47294589\n",
      "  0.47895792  0.48496994  0.49098196  0.49699399  0.50300601  0.50901804\n",
      "  0.51503006  0.52104208  0.52705411  0.53306613  0.53907816  0.54509018\n",
      "  0.5511022   0.55711423  0.56312625  0.56913828  0.5751503   0.58116232\n",
      "  0.58717435  0.59318637  0.5991984   0.60521042  0.61122244  0.61723447\n",
      "  0.62324649  0.62925852  0.63527054  0.64128257  0.64729459  0.65330661\n",
      "  0.65931864  0.66533066  0.67134269  0.67735471  0.68336673  0.68937876\n",
      "  0.69539078  0.70140281  0.70741483  0.71342685  0.71943888  0.7254509\n",
      "  0.73146293  0.73747495  0.74348697  0.749499    0.75551102  0.76152305\n",
      "  0.76753507  0.77354709  0.77955912  0.78557114  0.79158317  0.79759519\n",
      "  0.80360721  0.80961924  0.81563126  0.82164329  0.82765531  0.83366733\n",
      "  0.83967936  0.84569138  0.85170341  0.85771543  0.86372745  0.86973948\n",
      "  0.8757515   0.88176353  0.88777555  0.89378758  0.8997996   0.90581162\n",
      "  0.91182365  0.91783567  0.9238477   0.92985972  0.93587174  0.94188377\n",
      "  0.94789579  0.95390782  0.95991984  0.96593186  0.97194389  0.97795591\n",
      "  0.98396794  0.98997996  0.99599198  1.00200401  1.00801603  1.01402806\n",
      "  1.02004008  1.0260521   1.03206413  1.03807615  1.04408818  1.0501002\n",
      "  1.05611222  1.06212425  1.06813627  1.0741483   1.08016032  1.08617234\n",
      "  1.09218437  1.09819639  1.10420842  1.11022044  1.11623246  1.12224449\n",
      "  1.12825651  1.13426854  1.14028056  1.14629259  1.15230461  1.15831663\n",
      "  1.16432866  1.17034068  1.17635271  1.18236473  1.18837675  1.19438878\n",
      "  1.2004008   1.20641283  1.21242485  1.21843687  1.2244489   1.23046092\n",
      "  1.23647295  1.24248497  1.24849699  1.25450902  1.26052104  1.26653307\n",
      "  1.27254509  1.27855711  1.28456914  1.29058116  1.29659319  1.30260521\n",
      "  1.30861723  1.31462926  1.32064128  1.32665331  1.33266533  1.33867735\n",
      "  1.34468938  1.3507014   1.35671343  1.36272545  1.36873747  1.3747495\n",
      "  1.38076152  1.38677355  1.39278557  1.3987976   1.40480962  1.41082164\n",
      "  1.41683367  1.42284569  1.42885772  1.43486974  1.44088176  1.44689379\n",
      "  1.45290581  1.45891784  1.46492986  1.47094188  1.47695391  1.48296593\n",
      "  1.48897796  1.49498998  1.501002    1.50701403  1.51302605  1.51903808\n",
      "  1.5250501   1.53106212  1.53707415  1.54308617  1.5490982   1.55511022\n",
      "  1.56112224  1.56713427  1.57314629  1.57915832  1.58517034  1.59118236\n",
      "  1.59719439  1.60320641  1.60921844  1.61523046  1.62124248  1.62725451\n",
      "  1.63326653  1.63927856  1.64529058  1.65130261  1.65731463  1.66332665\n",
      "  1.66933868  1.6753507   1.68136273  1.68737475  1.69338677  1.6993988\n",
      "  1.70541082  1.71142285  1.71743487  1.72344689  1.72945892  1.73547094\n",
      "  1.74148297  1.74749499  1.75350701  1.75951904  1.76553106  1.77154309\n",
      "  1.77755511  1.78356713  1.78957916  1.79559118  1.80160321  1.80761523\n",
      "  1.81362725  1.81963928  1.8256513   1.83166333  1.83767535  1.84368737\n",
      "  1.8496994   1.85571142  1.86172345  1.86773547  1.87374749  1.87975952\n",
      "  1.88577154  1.89178357  1.89779559  1.90380762  1.90981964  1.91583166\n",
      "  1.92184369  1.92785571  1.93386774  1.93987976  1.94589178  1.95190381\n",
      "  1.95791583  1.96392786  1.96993988  1.9759519   1.98196393  1.98797595\n",
      "  1.99398798  2.        ]\n"
     ]
    }
   ],
   "source": [
    "# list of X values on interval\n",
    "X = np.linspace(-1,2, 500)\n",
    "print(X)"
   ]
  },
  {
   "cell_type": "markdown",
   "metadata": {
    "cell_style": "split",
    "slideshow": {
     "slide_type": "fragment"
    }
   },
   "source": [
    ".pdf() can take in a numpy array for $X$ and return the pdf evaluated on array:"
   ]
  },
  {
   "cell_type": "code",
   "execution_count": 26,
   "metadata": {
    "cell_style": "split",
    "slideshow": {
     "slide_type": "-"
    }
   },
   "outputs": [
    {
     "data": {
      "text/plain": [
       "array([0., 0., 0., 0., 0., 0., 0., 0., 0., 0., 0., 0., 0., 0., 0., 0., 0.,\n",
       "       0., 0., 0., 0., 0., 0., 0., 0., 0., 0., 0., 0., 0., 0., 0., 0., 0.,\n",
       "       0., 0., 0., 0., 0., 0., 0., 0., 0., 0., 0., 0., 0., 0., 0., 0., 0.,\n",
       "       0., 0., 0., 0., 0., 0., 0., 0., 0., 0., 0., 0., 0., 0., 0., 0., 0.,\n",
       "       0., 0., 0., 0., 0., 0., 0., 0., 0., 0., 0., 0., 0., 0., 0., 0., 0.,\n",
       "       0., 0., 0., 0., 0., 0., 0., 0., 0., 0., 0., 0., 0., 0., 0., 0., 0.,\n",
       "       0., 0., 0., 0., 0., 0., 0., 0., 0., 0., 0., 0., 0., 0., 0., 0., 0.,\n",
       "       0., 0., 0., 0., 0., 0., 0., 0., 0., 0., 0., 0., 0., 0., 0., 0., 0.,\n",
       "       0., 0., 0., 0., 0., 0., 0., 0., 0., 0., 0., 0., 0., 0., 0., 0., 0.,\n",
       "       0., 0., 0., 0., 0., 0., 0., 0., 0., 0., 0., 0., 0., 0., 1., 1., 1.,\n",
       "       1., 1., 1., 1., 1., 1., 1., 1., 1., 1., 1., 1., 1., 1., 1., 1., 1.,\n",
       "       1., 1., 1., 1., 1., 1., 1., 1., 1., 1., 1., 1., 1., 1., 1., 1., 1.,\n",
       "       1., 1., 1., 1., 1., 1., 1., 1., 1., 1., 1., 1., 1., 1., 1., 1., 1.,\n",
       "       1., 1., 1., 1., 1., 1., 1., 1., 1., 1., 1., 1., 1., 1., 1., 1., 1.,\n",
       "       1., 1., 1., 1., 1., 1., 1., 1., 1., 1., 1., 1., 1., 1., 1., 1., 1.,\n",
       "       1., 1., 1., 1., 1., 1., 1., 1., 1., 1., 1., 1., 1., 1., 1., 1., 1.,\n",
       "       1., 1., 1., 1., 1., 1., 1., 1., 1., 1., 1., 1., 1., 1., 1., 1., 1.,\n",
       "       1., 1., 1., 1., 1., 1., 1., 1., 1., 1., 1., 1., 1., 1., 1., 1., 1.,\n",
       "       1., 1., 1., 1., 1., 1., 1., 1., 1., 1., 1., 1., 1., 1., 1., 1., 1.,\n",
       "       1., 1., 1., 1., 1., 1., 1., 1., 1., 1., 0., 0., 0., 0., 0., 0., 0.,\n",
       "       0., 0., 0., 0., 0., 0., 0., 0., 0., 0., 0., 0., 0., 0., 0., 0., 0.,\n",
       "       0., 0., 0., 0., 0., 0., 0., 0., 0., 0., 0., 0., 0., 0., 0., 0., 0.,\n",
       "       0., 0., 0., 0., 0., 0., 0., 0., 0., 0., 0., 0., 0., 0., 0., 0., 0.,\n",
       "       0., 0., 0., 0., 0., 0., 0., 0., 0., 0., 0., 0., 0., 0., 0., 0., 0.,\n",
       "       0., 0., 0., 0., 0., 0., 0., 0., 0., 0., 0., 0., 0., 0., 0., 0., 0.,\n",
       "       0., 0., 0., 0., 0., 0., 0., 0., 0., 0., 0., 0., 0., 0., 0., 0., 0.,\n",
       "       0., 0., 0., 0., 0., 0., 0., 0., 0., 0., 0., 0., 0., 0., 0., 0., 0.,\n",
       "       0., 0., 0., 0., 0., 0., 0., 0., 0., 0., 0., 0., 0., 0., 0., 0., 0.,\n",
       "       0., 0., 0., 0., 0., 0., 0., 0., 0., 0., 0., 0., 0., 0., 0., 0., 0.,\n",
       "       0., 0., 0., 0., 0., 0., 0.])"
      ]
     },
     "execution_count": 26,
     "metadata": {},
     "output_type": "execute_result"
    }
   ],
   "source": [
    "# remember uniform distribution over [0,1]\n",
    "unif_pdf = uniform.pdf(X)\n",
    "unif_pdf"
   ]
  },
  {
   "cell_type": "markdown",
   "metadata": {
    "slideshow": {
     "slide_type": "slide"
    }
   },
   "source": [
    "#### Visualization of uniform distribution"
   ]
  },
  {
   "cell_type": "code",
   "execution_count": 27,
   "metadata": {
    "cell_style": "split",
    "slideshow": {
     "slide_type": "fragment"
    }
   },
   "outputs": [
    {
     "data": {
      "image/png": "[encoded data removed]",
      "text/plain": [
       "<Figure size 432x288 with 1 Axes>"
      ]
     },
     "metadata": {
      "needs_background": "light"
     },
     "output_type": "display_data"
    }
   ],
   "source": [
    "fig,ax = plt.subplots()\n",
    "ax.plot(X, unif_pdf)\n",
    "ax.set_title('PDF of uniform distribution')\n",
    "ax.set_xlabel('X')\n",
    "ax.set_ylabel('pdf')\n",
    "plt.show()"
   ]
  },
  {
   "cell_type": "markdown",
   "metadata": {
    "cell_style": "split",
    "slideshow": {
     "slide_type": "fragment"
    }
   },
   "source": [
    "What is area under this curve?"
   ]
  },
  {
   "cell_type": "markdown",
   "metadata": {
    "cell_style": "center",
    "slideshow": {
     "slide_type": "slide"
    }
   },
   "source": [
    "Uniform .pdf() has location and scale argument:\n",
    "- loc = ___ is start of interval\n",
    "- scale = ___ is range of sample space\n",
    "- uniform probability density over [loc, loc + scale]"
   ]
  },
  {
   "cell_type": "markdown",
   "metadata": {
    "slideshow": {
     "slide_type": "slide"
    }
   },
   "source": [
    "Bouncing ball:\n",
    "$ X = \\pm 5$\n",
    "\n",
    "Get pdf"
   ]
  },
  {
   "cell_type": "code",
   "execution_count": 28,
   "metadata": {
    "cell_style": "split",
    "slideshow": {
     "slide_type": "fragment"
    }
   },
   "outputs": [],
   "source": [
    "X_b = np.linspace(-6,6, 1000)\n",
    "\n",
    "# sample space is [-5,5]\n",
    "bouncing_pdf = uniform.pdf(X_b, loc = -5,\n",
    "                         scale = 10)"
   ]
  },
  {
   "cell_type": "code",
   "execution_count": 29,
   "metadata": {
    "cell_style": "split",
    "slideshow": {
     "slide_type": "fragment"
    }
   },
   "outputs": [
    {
     "data": {
      "image/png": "[encoded data removed]",
      "text/plain": [
       "<Figure size 432x288 with 1 Axes>"
      ]
     },
     "metadata": {
      "needs_background": "light"
     },
     "output_type": "display_data"
    }
   ],
   "source": [
    "fig,ax = plt.subplots()\n",
    "ax.plot(X_b, bouncing_pdf)\n",
    "ax.set_title('PDF of uniform distribution')\n",
    "ax.set_xlabel('X')\n",
    "ax.set_ylabel('pdf')\n",
    "plt.show()"
   ]
  },
  {
   "cell_type": "markdown",
   "metadata": {
    "slideshow": {
     "slide_type": "slide"
    }
   },
   "source": [
    "- **Normal (Gaussian)**\n",
    "    - The bell curve. Governs many continuous variables.\n",
    "    - Particularly: variables made up of many random subfactors.\n",
    "    - heights in a population."
   ]
  },
  {
   "cell_type": "markdown",
   "metadata": {
    "heading_collapsed": true,
    "hidden": true,
    "slideshow": {
     "slide_type": "slide"
    }
   },
   "source": [
    "#### Sampling and the PDF with the normal distribution"
   ]
  },
  {
   "cell_type": "markdown",
   "metadata": {
    "cell_style": "split",
    "slideshow": {
     "slide_type": "subslide"
    }
   },
   "source": [
    "Mathematical form for pdf:\n",
    "$$ N(x | \\mu, \\sigma^2) = \\frac{1}{\\sqrt{2\\pi\\sigma^2}} e^{-\\frac{(x-\\mu)^2}{2\\sigma^2}} $$\n",
    "\n",
    "- $\\mu$ is mean.\n",
    "- $\\sigma$ is standard deviation."
   ]
  },
  {
   "cell_type": "markdown",
   "metadata": {
    "cell_style": "split",
    "slideshow": {
     "slide_type": "fragment"
    }
   },
   "source": [
    "- $\\mu$ governs position of mean of distribution\n",
    "- $\\sigma$ governs width of distribution"
   ]
  },
  {
   "cell_type": "markdown",
   "metadata": {
    "cell_style": "center",
    "slideshow": {
     "slide_type": "slide"
    }
   },
   "source": [
    "With scipy.stats:\n",
    "\n",
    "- norm.pdf(loc = mean, scale = std)\n",
    "- by default loc = 0 and scale = 1\n",
    "\n",
    "**The standard normal distribution**"
   ]
  },
  {
   "cell_type": "code",
   "execution_count": 30,
   "metadata": {
    "cell_style": "split",
    "slideshow": {
     "slide_type": "fragment"
    }
   },
   "outputs": [],
   "source": [
    "from scipy.stats import norm\n",
    "x = np.linspace(-4,4, 100)\n",
    "pdf_norm = norm.pdf(x)"
   ]
  },
  {
   "cell_type": "code",
   "execution_count": 31,
   "metadata": {
    "cell_style": "split",
    "slideshow": {
     "slide_type": "fragment"
    }
   },
   "outputs": [
    {
     "data": {
      "image/png": "[encoded data removed]",
      "text/plain": [
       "<Figure size 432x288 with 1 Axes>"
      ]
     },
     "metadata": {
      "needs_background": "light"
     },
     "output_type": "display_data"
    }
   ],
   "source": [
    "plt.plot(x, pdf_norm)\n",
    "plt.show()"
   ]
  },
  {
   "cell_type": "markdown",
   "metadata": {
    "slideshow": {
     "slide_type": "slide"
    }
   },
   "source": [
    "Screwing around with the distribution parameters:"
   ]
  },
  {
   "cell_type": "code",
   "execution_count": 32,
   "metadata": {
    "cell_style": "center",
    "slideshow": {
     "slide_type": "fragment"
    }
   },
   "outputs": [],
   "source": [
    "# Moving mean around\n",
    "mu_list = [-2,0,2]\n",
    "sigma = 1\n",
    "\n",
    "x = np.linspace(-7,7)\n",
    "y_list = [norm.pdf(x, loc = mu, scale = sigma)\n",
    "          for mu in mu_list]"
   ]
  },
  {
   "cell_type": "code",
   "execution_count": 62,
   "metadata": {
    "cell_style": "center",
    "slideshow": {
     "slide_type": "subslide"
    }
   },
   "outputs": [
    {
     "data": {
      "image/png": "[encoded data removed]",
      "text/plain": [
       "<Figure size 432x288 with 1 Axes>"
      ]
     },
     "metadata": {
      "needs_background": "light"
     },
     "output_type": "display_data"
    }
   ],
   "source": [
    "fig,ax = plt.subplots()\n",
    "[ax.plot(x,y) for y in y_list]\n",
    "plt.show()"
   ]
  },
  {
   "cell_type": "code",
   "execution_count": 33,
   "metadata": {
    "cell_style": "center",
    "slideshow": {
     "slide_type": "subslide"
    }
   },
   "outputs": [],
   "source": [
    "# mess with std/variance\n",
    "mu = 0\n",
    "sigma_list = [1,2,4]\n",
    "\n",
    "x = np.linspace(-8,8)\n",
    "y_list = [norm.pdf(x, loc = mu, scale = sigma)\n",
    "          for sigma in sigma_list]"
   ]
  },
  {
   "cell_type": "code",
   "execution_count": 64,
   "metadata": {
    "cell_style": "center",
    "slideshow": {
     "slide_type": "fragment"
    }
   },
   "outputs": [
    {
     "data": {
      "image/png": "[encoded data removed]",
      "text/plain": [
       "<Figure size 432x288 with 1 Axes>"
      ]
     },
     "metadata": {
      "needs_background": "light"
     },
     "output_type": "display_data"
    }
   ],
   "source": [
    "fig,ax = plt.subplots()\n",
    "[ax.plot(x,y) for y in y_list]\n",
    "plt.show()"
   ]
  },
  {
   "cell_type": "markdown",
   "metadata": {
    "hidden": true,
    "slideshow": {
     "slide_type": "subslide"
    }
   },
   "source": [
    "The variance/std describes how closely the points gathered around the mean.  \n",
    "- Low variance means tight and skinny, high variance short and wide."
   ]
  },
  {
   "cell_type": "markdown",
   "metadata": {
    "slideshow": {
     "slide_type": "slide"
    }
   },
   "source": [
    "The statistics of the standard normal:"
   ]
  },
  {
   "cell_type": "code",
   "execution_count": 34,
   "metadata": {
    "slideshow": {
     "slide_type": "-"
    }
   },
   "outputs": [
    {
     "data": {
      "text/plain": [
       "(array(0.), array(1.), array(0.), array(0.))"
      ]
     },
     "execution_count": 34,
     "metadata": {},
     "output_type": "execute_result"
    }
   ],
   "source": [
    "norm.stats(moments = 'mvsk')"
   ]
  },
  {
   "cell_type": "markdown",
   "metadata": {
    "slideshow": {
     "slide_type": "slide"
    }
   },
   "source": [
    "For non-standard normal:"
   ]
  },
  {
   "cell_type": "code",
   "execution_count": 66,
   "metadata": {
    "slideshow": {
     "slide_type": "-"
    }
   },
   "outputs": [
    {
     "data": {
      "text/plain": [
       "(array(2.), array(2.25), array(0.), array(0.))"
      ]
     },
     "execution_count": 66,
     "metadata": {},
     "output_type": "execute_result"
    }
   ],
   "source": [
    "norm.stats(loc = 2, scale = 1.5, moments = 'mvsk')"
   ]
  },
  {
   "cell_type": "markdown",
   "metadata": {
    "slideshow": {
     "slide_type": "fragment"
    }
   },
   "source": [
    "Skew, kurtosis, and in fact all higher order moments of pdf vanish."
   ]
  },
  {
   "cell_type": "markdown",
   "metadata": {
    "slideshow": {
     "slide_type": "slide"
    }
   },
   "source": [
    "#### Sampling from normal distribution\n",
    "\n",
    "- rvs method:"
   ]
  },
  {
   "cell_type": "code",
   "execution_count": 38,
   "metadata": {
    "scrolled": true,
    "slideshow": {
     "slide_type": "subslide"
    }
   },
   "outputs": [
    {
     "data": {
      "text/plain": [
       "array([-1.45706176e-01, -1.02712687e+00, -3.75167699e-01, -1.82809578e+00,\n",
       "        6.31122285e-01, -9.01372335e-01,  1.57758193e+00,  5.12571228e-01,\n",
       "        1.56743025e+00,  1.58069722e-01, -9.00402817e-01,  2.11937591e-01,\n",
       "       -1.19112579e+00, -3.59865785e-02, -2.09016484e-01, -2.02127779e+00,\n",
       "       -7.02258492e-01, -1.06649427e+00,  2.01095254e-01, -5.62357958e-02,\n",
       "       -9.03603260e-01,  7.08632284e-01,  9.55006991e-01, -5.48630979e-01,\n",
       "        3.24265838e-01,  3.09206821e-01,  2.73604134e-01,  8.32225373e-01,\n",
       "        5.58451098e-01, -5.40908727e-01,  1.57936864e-01, -1.53060260e+00,\n",
       "        2.90438581e-01, -1.14215517e+00,  2.53998242e+00, -4.12387830e-01,\n",
       "        1.44312147e+00, -6.45538007e-01,  4.17496273e-01,  1.23632857e+00,\n",
       "       -1.18961061e-01, -4.47368223e-01, -6.65332193e-02,  2.47679232e-01,\n",
       "        3.12870887e-01,  2.24056131e-01, -1.33831034e+00, -1.43861724e+00,\n",
       "        1.29213649e+00, -1.50720509e+00,  8.75877446e-01, -1.57095657e+00,\n",
       "        8.05442651e-02, -7.82757381e-01, -2.51128949e-01, -5.55342975e-01,\n",
       "       -1.39081673e+00,  1.59873309e+00,  1.08780933e+00,  5.51736145e-02,\n",
       "       -1.91187887e-01,  4.51822401e-01,  1.03140795e+00,  6.38991555e-01,\n",
       "       -2.93186406e-01,  1.54887208e+00,  7.00086060e-01, -1.05056190e+00,\n",
       "        8.80269895e-01, -1.34004088e+00, -4.94877188e-01,  1.65440230e-01,\n",
       "        1.04527477e-01,  6.79573804e-01, -9.36685497e-01, -6.88080666e-01,\n",
       "       -1.54271122e+00, -2.28781801e-01,  1.31340800e+00,  4.46863539e-01,\n",
       "       -5.94560018e-01, -8.53779356e-01, -6.46722033e-01,  9.30933532e-01,\n",
       "       -8.90155133e-01,  1.30053676e+00, -3.33245865e-01, -3.97002261e-01,\n",
       "        2.97538671e-01,  2.53480178e+00, -1.02019297e+00,  7.18113489e-01,\n",
       "       -1.05996390e+00, -6.93881351e-03, -8.82624136e-01,  2.36863698e+00,\n",
       "        1.56208856e-01,  5.25155553e-01,  6.08002332e-01,  7.35560172e-01,\n",
       "        1.80254895e+00,  4.39528920e-01, -9.02992573e-01,  2.02436594e+00,\n",
       "        2.65018589e-01,  3.09099591e-01,  1.10578197e+00, -1.20528841e-01,\n",
       "       -1.08447220e+00,  7.57835661e-01, -1.22176095e+00, -9.96135763e-01,\n",
       "       -6.03309149e-01,  2.25021219e-01, -1.90083099e-01,  5.59070529e-01,\n",
       "       -3.08485876e-02,  1.90345759e+00,  7.34965511e-01, -2.29061070e-01,\n",
       "       -2.03278627e-01, -5.26611543e-01,  8.10540928e-01, -6.18291931e-01,\n",
       "        8.31048375e-01,  1.90549983e+00,  2.63994759e-01, -1.21658283e+00,\n",
       "        1.62498146e+00, -3.22956584e-01, -1.36242850e+00, -1.82104399e-01,\n",
       "       -2.88643175e-01, -7.83478316e-01, -5.26776387e-01, -6.53475288e-01,\n",
       "       -8.21747153e-02, -2.67550780e-01, -8.02496762e-01,  1.96819810e+00,\n",
       "       -2.40580085e+00,  1.57628851e+00,  2.62343154e-01, -3.51288941e-01,\n",
       "       -1.91741710e-01,  6.13500511e-01, -6.94209311e-01, -2.25604184e-01,\n",
       "        1.06632027e+00,  2.50400758e-01, -1.13705115e+00, -7.27610910e-01,\n",
       "        1.35856687e+00, -2.75575090e+00, -6.23441069e-01,  1.04231428e-01,\n",
       "       -4.43016727e-01, -5.78786295e-01,  2.09985257e+00,  1.83293737e-01,\n",
       "       -2.56641501e+00,  1.87589191e+00,  2.34471648e-01,  6.82790772e-01,\n",
       "        1.83091152e+00,  1.97093111e+00,  1.13381973e+00,  2.03412274e+00,\n",
       "       -1.36713169e-01, -1.22683539e+00,  3.93110049e-01,  1.76667182e-01,\n",
       "        1.59594103e+00,  3.23080230e-01,  7.43237906e-01, -5.47898941e-01,\n",
       "       -1.56695849e-03, -8.27637335e-01,  7.10829396e-01, -5.34643972e-01,\n",
       "        5.56112956e-03,  1.60944935e-01, -5.00979489e-01,  4.24194647e-01,\n",
       "        1.13818572e+00, -5.61472801e-02, -2.30944460e+00,  9.76069851e-01,\n",
       "        1.27580907e-01,  2.61814646e-01,  3.66203435e-01, -5.38651642e-01,\n",
       "        1.70630413e+00,  5.31647035e-01, -6.93105818e-01,  1.87209590e-01,\n",
       "        1.77930268e+00,  8.99522943e-01, -3.85828057e-02,  1.00321282e+00,\n",
       "        6.79330408e-01,  6.42936185e-01, -6.05606621e-01,  6.68706225e-01,\n",
       "       -8.71959435e-01, -9.08904774e-03,  1.05821953e+00,  5.17658080e-01,\n",
       "       -3.62194805e-01,  1.68464953e-02, -9.17591852e-01, -2.17965119e-01,\n",
       "        1.91370872e+00, -5.67852114e-01,  5.78717744e-01, -1.97682254e-01,\n",
       "        1.53409139e+00,  3.99623425e-01,  1.92686745e-01, -6.10755837e-01,\n",
       "        1.60582815e-01, -5.15777268e-01,  1.57561000e+00,  8.24509997e-03,\n",
       "       -2.31022577e-01,  4.84830004e-01,  9.48289003e-02, -2.03556550e-02,\n",
       "        2.46403331e+00,  1.49653211e-01, -1.46973607e+00, -1.11275585e+00,\n",
       "       -2.05577331e+00,  4.29141296e-01,  1.24271125e+00, -1.42223317e+00,\n",
       "        1.81016543e+00,  6.06814246e-01,  2.46222915e-02, -1.01858830e+00,\n",
       "       -2.58221975e-01,  5.32135110e-01,  7.03486338e-01,  5.21519177e-01,\n",
       "       -4.00990141e-01, -3.55034566e-01,  1.64737652e+00, -6.36765273e-01,\n",
       "       -1.26363561e-01,  1.56818287e+00,  5.81957201e-02, -2.87980789e-01,\n",
       "       -6.38973018e-01, -6.02917708e-01,  1.39050469e+00, -1.63272194e+00,\n",
       "        6.79039076e-01, -2.53548716e-01,  8.95607425e-01,  3.39837975e-02,\n",
       "       -2.42656501e-01,  1.11055384e+00, -1.22147528e-01,  3.60408044e-01,\n",
       "        2.29390336e-01, -6.58303332e-02, -1.23314626e+00,  1.24409247e-01,\n",
       "        6.10539408e-02, -2.85663146e-01,  5.61353571e-02, -5.51215213e-01,\n",
       "       -4.35063643e-01,  1.47600927e+00,  7.22261968e-01, -8.45480367e-02,\n",
       "        2.27653309e+00,  4.02297854e-01, -5.24384170e-01, -1.67191205e+00,\n",
       "        9.49897292e-01,  4.83418514e-01,  5.68013829e-01,  1.44019577e+00,\n",
       "       -3.52887086e-01, -1.54713473e+00, -7.76568524e-01,  2.06731605e-01,\n",
       "        8.69472653e-01, -1.54917282e+00,  3.27514147e-02, -1.30780962e+00,\n",
       "        2.26899565e-01, -3.58819917e-01, -4.15033424e-01, -2.62141985e-01,\n",
       "       -1.34164037e+00, -6.61139792e-01,  1.62654487e+00,  1.26101147e+00,\n",
       "        1.43735615e-01,  9.04939415e-01, -1.71321392e+00, -8.58939541e-01,\n",
       "       -1.49155061e+00,  1.09755216e+00,  3.97986697e-01,  6.29788787e-01,\n",
       "        1.54785106e+00, -9.10986718e-01, -2.88859522e-01,  4.83922963e-01,\n",
       "       -1.09560079e+00,  1.13937738e+00,  3.89511546e-01,  1.96348414e+00,\n",
       "       -5.58653473e-01, -1.27209896e+00, -3.09264320e-02, -1.10297946e+00,\n",
       "       -4.74719751e-01, -7.41266411e-02, -4.17422709e-01, -9.47100290e-01,\n",
       "       -1.95692263e-01,  5.85729410e-01, -5.18161847e-01, -7.72303091e-01,\n",
       "       -1.45145814e-01,  1.10312070e+00,  9.40595482e-01,  2.85059399e-01,\n",
       "       -1.98129095e+00,  6.73570030e-01, -1.49171377e-01,  1.21972091e+00,\n",
       "        5.71828335e-01, -1.09341099e+00, -4.10483446e-01,  4.73071463e-01,\n",
       "       -8.24000371e-01, -1.10718666e+00,  2.47145633e-01, -1.57401305e+00,\n",
       "       -1.76177361e+00,  2.44342578e+00,  4.01682342e-01,  1.00702265e+00,\n",
       "       -1.06675088e+00,  3.76529536e-01, -2.83156668e-02, -4.82591590e-01,\n",
       "        6.56371694e-01,  6.96289877e-02, -4.45092150e-01,  1.54176256e+00,\n",
       "        5.04314031e-01, -1.45424040e+00,  1.28748731e+00, -6.77853149e-01,\n",
       "        8.71955980e-01, -1.31831621e+00, -7.89421857e-01,  2.41713518e-02,\n",
       "        1.81068220e+00, -5.11304988e-01,  1.77995947e+00,  2.47664496e-01,\n",
       "       -7.24159918e-01,  5.32448842e-01, -6.02020188e-01,  6.51427347e-01,\n",
       "        8.95785270e-01,  1.45021429e+00, -1.03693496e+00, -1.08928883e-01,\n",
       "       -1.04742403e+00,  9.59741419e-01,  9.48312020e-01, -4.90718926e-01,\n",
       "       -8.97892808e-01, -2.21078685e+00,  1.07765593e+00, -1.82019488e+00,\n",
       "        1.24234741e+00,  8.36245594e-01,  1.01009989e+00,  8.00800858e-01,\n",
       "        3.33389780e-01, -1.02791466e+00, -6.56898920e-01, -5.58733753e-01,\n",
       "        7.23721132e-01,  1.42879265e+00,  7.20995949e-01,  5.84072046e-01,\n",
       "       -2.00854247e+00,  7.37529919e-01, -5.16568868e-02, -6.79357157e-01,\n",
       "       -7.46438366e-03,  9.04859447e-01, -1.31805091e+00, -2.06546227e+00,\n",
       "       -1.34601955e+00,  2.00176673e-01, -1.12004515e+00,  1.83685669e-01,\n",
       "        9.33092311e-01,  2.48771639e-01,  1.33558218e+00,  1.76626265e+00,\n",
       "        2.14946729e+00,  1.42476958e+00, -9.59222962e-01,  5.64073729e-01,\n",
       "       -7.63018017e-01,  1.10054568e+00,  7.32723366e-01, -1.21110425e-01,\n",
       "        5.58411541e-01,  4.61270574e-01,  1.09530934e-01,  4.71876931e-01,\n",
       "       -1.73465921e-01,  9.67992174e-01, -2.37135125e+00,  3.50164534e-01,\n",
       "       -6.04808168e-03, -1.73750541e-02, -4.88237008e-01, -1.24835929e-01,\n",
       "       -3.44072799e-02,  2.18743612e+00, -4.11639100e-01,  3.80436941e-01,\n",
       "       -2.72795922e-01, -1.49063119e-01,  3.46576552e-01,  1.01697920e+00,\n",
       "       -1.03193604e+00, -5.50968567e-01,  3.66846611e-01,  1.21524156e+00,\n",
       "       -9.58924396e-01,  8.77536728e-01, -4.88760936e-01, -3.34689734e-01,\n",
       "        8.55363992e-01,  1.73555221e+00,  2.23422059e-01,  1.78101691e+00,\n",
       "       -1.27198543e+00,  9.58425096e-01,  5.06108106e-01,  1.44838193e-01,\n",
       "        5.33251515e-01,  6.92987667e-02, -9.60100968e-02,  2.23542934e-02,\n",
       "        4.03325967e-01,  5.74567272e-01,  1.46370619e-01,  1.44634410e+00,\n",
       "       -7.24629459e-01, -1.56581329e+00, -4.30972424e-01, -3.76919969e-02,\n",
       "        3.43674684e-01, -1.45169581e+00, -9.24943303e-01, -6.54537861e-01,\n",
       "        1.20980172e+00, -1.74134250e+00, -1.50672812e+00,  1.31319906e-01,\n",
       "       -8.45686730e-01,  8.87517954e-01,  3.20449019e-01,  1.18142313e+00,\n",
       "       -2.62009047e-02,  1.28852261e+00, -6.02937144e-01, -1.36402862e-01,\n",
       "       -1.29182554e-01, -2.27657577e-01, -1.89733178e-01, -3.75871060e-01,\n",
       "       -9.54697024e-02, -4.16072258e-01,  7.20330381e-01, -1.62978327e+00,\n",
       "        5.86478409e-01,  3.39544585e-01,  3.22616380e-01,  1.56320988e+00,\n",
       "        1.26403202e-01, -3.62601695e-01, -1.45838680e-01,  1.17122155e+00,\n",
       "       -3.65274706e-01, -4.99991617e-01, -8.00584239e-01, -4.04151058e-01,\n",
       "       -4.15216868e-01, -3.57163202e-01, -7.56882117e-01,  1.08926573e+00,\n",
       "       -1.66296218e+00,  2.60470321e-01,  2.51302581e-01,  6.06284494e-01,\n",
       "        1.08020067e+00,  3.94517889e-01,  1.84889129e+00,  2.66989804e-01,\n",
       "        8.69641237e-01, -4.45592973e-02, -1.84291892e+00, -4.97592559e-01,\n",
       "       -1.95538840e-02,  2.38020970e+00, -6.80413844e-01, -1.08618081e+00,\n",
       "        1.98590404e-01, -5.06860126e-01, -3.25807861e-01,  2.21312394e+00,\n",
       "        2.36403433e+00, -6.27783091e-01,  1.93012374e+00, -1.60031297e-01,\n",
       "        6.69814863e-01,  9.61831823e-02,  3.65879538e-01,  6.91331642e-01,\n",
       "        1.42360255e+00,  5.84381263e-01, -1.12079827e+00, -6.85650126e-01,\n",
       "       -1.47240282e+00,  1.10061556e+00,  6.49904873e-01, -5.82878095e-01,\n",
       "       -1.51001995e+00, -7.11041614e-01,  6.14418192e-01, -2.10299950e+00,\n",
       "       -1.55343992e+00, -1.13705454e+00, -6.29281704e-01,  9.77173609e-01,\n",
       "        7.11202487e-01, -1.34432557e+00,  7.02714953e-01,  9.21394790e-01,\n",
       "       -1.72193727e-01, -7.65271046e-01,  1.04276398e+00, -9.23543580e-01,\n",
       "        8.42031385e-01, -2.52094872e-02,  8.72701295e-02,  8.54683088e-02,\n",
       "       -1.04471932e+00, -5.68664697e-02,  2.24128364e+00,  4.10455173e-01,\n",
       "       -1.19037001e-01, -2.15663446e+00,  2.33505143e-01, -8.88940362e-01,\n",
       "        1.65618461e-01, -5.65432076e-01,  3.28920949e-01, -2.45541964e+00,\n",
       "        3.40458532e-01,  3.71453546e-01,  6.34168122e-01,  1.42691169e+00,\n",
       "       -1.37370535e+00, -1.00300083e+00, -1.65945405e+00, -2.68158594e-01,\n",
       "       -8.22022385e-01, -5.32949670e-02, -5.61477001e-02, -2.21276069e+00,\n",
       "       -8.20598270e-01, -5.06726612e-01,  5.25825994e-01, -1.36520033e-01,\n",
       "       -6.01900483e-01,  1.08016455e+00, -1.14083504e+00,  2.23452618e-01,\n",
       "       -1.95314581e+00, -1.24430936e+00,  5.46663700e-01, -1.49569937e+00,\n",
       "        2.01725877e+00, -7.62995961e-01, -5.37530247e-01,  2.28348694e-02,\n",
       "        2.63821574e-01, -1.83398592e-01,  2.35597399e+00, -1.02918235e-01,\n",
       "       -1.03661981e+00,  9.88936223e-01,  9.87759458e-01, -7.59974525e-01,\n",
       "        1.47449140e+00,  1.53771090e+00,  5.02260874e-01,  2.18701908e+00,\n",
       "       -8.55984405e-01,  1.65554357e-01, -2.53692478e+00, -2.48162224e-01,\n",
       "       -8.58112317e-01,  4.49286019e-01, -8.31794298e-01,  5.82238004e-01,\n",
       "        2.72973014e-01, -1.71084629e+00, -6.87710649e-01,  1.36666781e+00,\n",
       "       -3.30924678e-02,  6.02601744e-01,  6.41107144e-01, -2.82722260e+00,\n",
       "        4.03715519e-01,  8.79333221e-01, -1.92878205e+00,  2.30283774e+00,\n",
       "        8.74505037e-01, -1.84635012e-01, -2.04344130e+00, -1.52745151e-01,\n",
       "        1.56187845e-02, -1.08187950e+00, -2.29586256e-01, -1.80640373e+00,\n",
       "        1.32636488e+00,  3.06016944e-01,  1.01755725e+00,  5.78104279e-01,\n",
       "        3.19139620e-02, -2.30349843e-02,  2.26271017e+00, -9.18912348e-01,\n",
       "       -1.19892137e-01, -2.88533092e-01,  3.61399912e-01, -6.49813266e-01,\n",
       "        9.00465123e-01, -6.34553129e-01, -1.39796936e+00,  3.80052069e-01,\n",
       "        1.71442631e-01, -2.01193031e+00, -1.84341572e+00,  1.35007587e+00,\n",
       "       -5.15313147e-01,  1.43188439e+00,  2.27078516e-01, -9.50021105e-01,\n",
       "       -2.96249313e-01,  4.39867252e-01,  2.66093112e-01, -1.61505885e-01,\n",
       "       -7.41321554e-01, -2.29350376e-01,  9.17669907e-01, -2.54138360e-01,\n",
       "       -2.31070511e-01, -1.61758077e-01,  1.67403683e+00, -1.33252646e+00,\n",
       "        1.40118116e+00,  2.92693467e-01,  1.38486061e-01, -4.56343410e-01,\n",
       "       -4.15904625e-01,  1.22510761e+00, -8.53138763e-01,  2.49340978e-01,\n",
       "       -4.07424276e-01,  7.35137750e-01, -1.82200007e+00, -9.41769767e-02,\n",
       "        2.29684382e+00,  1.23203381e+00,  9.96668068e-01, -6.06739087e-01,\n",
       "        2.19947043e+00, -1.24963722e+00,  5.18304490e-01,  6.82747551e-01,\n",
       "        1.78802817e+00, -7.87262765e-01, -1.16163940e+00,  7.35942589e-01,\n",
       "       -1.29132381e+00, -5.59842189e-01,  7.22253370e-01,  4.53045414e-01,\n",
       "        1.12169210e+00,  2.12867629e-01,  1.19864351e+00,  4.57329690e-01,\n",
       "        3.90356032e-01,  6.72743256e-01,  5.25876438e-02,  7.50962295e-01,\n",
       "       -1.03638237e+00,  1.13357035e+00, -2.86800860e-02, -8.78247586e-01,\n",
       "       -7.05647740e-01, -1.45267481e+00, -7.46975148e-01,  3.28693631e-01,\n",
       "       -1.89056089e-01,  2.23131384e-01,  3.11131207e-01, -1.79050693e+00,\n",
       "       -1.33732717e+00,  1.09108754e+00, -2.24214384e-01,  1.68454205e-01,\n",
       "        1.33847588e+00, -1.00568592e+00, -7.09511970e-01,  1.00215305e+00,\n",
       "       -5.11120371e-01, -7.51618871e-01,  8.54801857e-01,  2.68713870e-01,\n",
       "       -7.75349633e-01,  1.62546015e+00, -9.77587961e-01, -1.89845118e+00,\n",
       "        1.01311346e+00,  3.36216392e-01,  2.25616190e+00,  7.92280843e-01,\n",
       "       -6.13039202e-01, -2.18267716e-01, -1.58357545e+00, -2.13448552e-01,\n",
       "       -1.50561013e+00,  1.17784601e+00,  7.36079537e-01,  6.69774550e-01,\n",
       "        3.87120142e-02, -1.84720304e+00, -1.19903433e+00,  1.91109653e-01,\n",
       "        8.28426189e-01,  9.12038861e-01, -2.05969412e-01, -7.71957411e-01,\n",
       "       -7.53941245e-01,  1.46592434e+00, -3.41121759e-01, -1.49479790e+00,\n",
       "        3.08213106e-01, -1.74256515e+00,  7.53136051e-01, -8.41651630e-01,\n",
       "       -4.30549840e-01,  1.07821816e+00,  6.81865737e-01,  6.85617697e-01,\n",
       "        5.78867636e-01, -1.11013955e-01, -8.55916702e-01,  1.60727352e-01,\n",
       "       -5.99087321e-01, -7.26935358e-01, -1.47462581e+00,  1.06380219e+00,\n",
       "        5.57692208e-01,  1.69325970e+00, -5.33320354e-01,  2.41568816e-01,\n",
       "        3.91627183e-01, -7.84595877e-01,  3.14842845e-02,  7.87659763e-01,\n",
       "       -2.57586993e+00, -4.17480324e-01, -8.65487712e-01, -5.34630471e-01,\n",
       "        1.02951873e+00,  1.11963405e+00,  3.31598947e-01,  5.56627429e-02,\n",
       "       -1.94895062e-01,  9.30886158e-01, -7.19029643e-01,  7.45019444e-01,\n",
       "       -2.96417474e+00,  1.20680268e+00,  1.54659115e+00, -3.24804978e-01,\n",
       "       -9.25862736e-01,  3.90839020e-01, -9.30513022e-01, -1.16722644e+00,\n",
       "       -1.07634074e-01, -9.32367589e-01, -1.64869121e+00,  7.36768157e-01,\n",
       "        6.26909858e-02, -5.51972645e-01,  1.54000230e+00,  1.32352556e+00,\n",
       "       -7.42345623e-01, -1.08743081e+00,  2.68979279e-01,  8.03523063e-01,\n",
       "       -9.79882058e-01,  7.01720540e-01,  1.39206045e+00,  9.89805401e-01,\n",
       "        1.99336974e-01,  2.00585307e+00,  2.12115576e+00,  2.74712136e+00,\n",
       "       -1.04994137e+00,  1.30484088e+00,  3.51445006e-01, -1.09893677e-01,\n",
       "       -7.17332991e-01, -1.48759500e+00, -1.23234258e-01, -1.27813736e+00,\n",
       "       -1.38900040e+00,  5.67538883e-02,  1.13609172e+00,  1.24009428e-01,\n",
       "        1.78436948e+00,  1.68547675e+00, -1.16077762e+00,  1.36250826e+00,\n",
       "       -7.00886892e-01, -5.89523998e-01, -1.34060442e+00, -3.06439779e-01,\n",
       "       -4.34879307e-02, -2.10124896e+00,  5.04337633e-01, -2.58928135e-01,\n",
       "       -1.94406492e-01, -9.38531988e-01, -1.68607404e-01,  1.10923942e+00,\n",
       "       -6.34742816e-01, -2.33124852e+00, -3.64514455e-01, -3.31527047e-01,\n",
       "        1.08047204e-01,  6.99436436e-01, -7.94809570e-01,  2.42644183e-01,\n",
       "       -1.13486893e+00,  4.49719531e-01,  1.13165924e+00, -8.15858226e-01,\n",
       "       -1.03150396e+00, -1.31576295e+00, -5.32387496e-01, -1.09776363e+00,\n",
       "        1.79412428e-01,  4.39641442e-01,  4.21032884e-01,  1.27644853e+00,\n",
       "        1.06191144e+00,  2.73163228e-01,  1.61958077e+00, -1.54523666e-01,\n",
       "        3.48674376e-01,  4.94826193e-01,  1.23994431e+00,  6.95209370e-01,\n",
       "        1.84119582e-01,  1.11864908e+00,  4.66219596e-01, -1.57489446e+00,\n",
       "        3.97781093e-01,  7.38685084e-01,  2.10037473e+00,  1.02115236e+00,\n",
       "       -1.24147269e-01, -1.59501297e+00, -4.28816793e-01, -6.93601658e-02,\n",
       "       -2.95505934e-01,  2.55039176e-01, -9.75041836e-01,  1.74600444e+00,\n",
       "       -6.99128859e-01,  1.29127724e+00, -6.48592078e-01, -1.61724747e+00,\n",
       "        1.27758864e+00, -6.41409256e-01,  2.35213172e+00,  7.63566304e-01,\n",
       "       -2.33708268e-02, -1.86807276e+00, -2.35148952e-01, -4.60915425e-01,\n",
       "        1.55936071e+00, -1.11639814e+00, -3.31074711e-01,  4.96632594e-01,\n",
       "       -2.65453337e-02,  1.54504533e+00,  4.65193878e-01,  5.75337544e-01,\n",
       "        1.10745925e+00,  9.01594891e-02, -9.41353041e-01,  1.00983934e-01,\n",
       "        1.38818774e+00,  1.02298138e+00, -2.36028226e-01,  5.46615945e-01,\n",
       "       -2.37069951e+00, -5.48382161e-01,  1.70224477e+00,  5.94935184e-01,\n",
       "       -9.37679211e-02,  1.58441320e+00, -2.47876163e-01,  1.53333635e+00,\n",
       "        9.99568716e-01, -8.46896033e-01,  1.14719784e-01,  1.00436186e+00,\n",
       "        2.15045903e+00, -1.50567682e+00,  7.27753233e-02, -1.90739959e+00,\n",
       "        1.66564274e-01, -4.23026667e-01,  5.17775328e-01,  6.12131672e-01,\n",
       "       -4.77433366e-01, -6.53603818e-01,  4.72670521e-01, -7.47235922e-01,\n",
       "        9.59730039e-02,  9.29364851e-01,  7.83384739e-03,  4.12343538e-02,\n",
       "       -8.50689118e-01,  2.41624738e-01, -1.64096223e-01, -7.06219417e-01,\n",
       "       -1.24680929e+00, -9.14046482e-01, -2.54033844e-01, -9.74646659e-01,\n",
       "       -6.08321345e-01,  2.84068606e-01,  5.53805461e-01, -5.96735943e-01,\n",
       "       -9.61774436e-01,  1.86216475e+00,  4.84451810e-01,  4.28775981e-01,\n",
       "        1.03931899e-01, -9.16523970e-01, -9.16724593e-01,  1.54439389e+00,\n",
       "       -5.27367042e-01,  4.86495488e-01, -3.35094964e-01, -2.66241482e-01,\n",
       "       -1.66753474e+00, -3.47247861e-01, -5.42442991e-01, -2.64388002e-02,\n",
       "       -1.60467412e+00,  1.39937877e+00,  1.15946513e+00, -3.80184238e-01,\n",
       "        1.72085882e+00,  1.28384191e-01,  1.43210419e+00,  6.09398659e-01,\n",
       "       -6.73729576e-01, -1.32228601e+00, -2.76272236e-01, -7.62272129e-01])"
      ]
     },
     "execution_count": 38,
     "metadata": {},
     "output_type": "execute_result"
    }
   ],
   "source": [
    "# 20 random samples from normal with mean 0 and std 1.\n",
    "norm_sample = norm.rvs(loc = 0, scale = 1, size = 1000)\n",
    "norm_sample"
   ]
  },
  {
   "cell_type": "markdown",
   "metadata": {
    "slideshow": {
     "slide_type": "subslide"
    }
   },
   "source": [
    "Looking at a histogram of sample:"
   ]
  },
  {
   "cell_type": "code",
   "execution_count": 39,
   "metadata": {
    "scrolled": true,
    "slideshow": {
     "slide_type": "fragment"
    }
   },
   "outputs": [
    {
     "data": {
      "image/png": "[encoded data removed]",
      "text/plain": [
       "<Figure size 432x288 with 1 Axes>"
      ]
     },
     "metadata": {
      "needs_background": "light"
     },
     "output_type": "display_data"
    }
   ],
   "source": [
    "plt.hist(norm_sample)\n",
    "plt.title('Histogram of normal distribution sample')\n",
    "plt.xlabel('X')\n",
    "plt.ylabel('Count')\n",
    "plt.show()"
   ]
  },
  {
   "cell_type": "markdown",
   "metadata": {
    "cell_style": "center",
    "heading_collapsed": true,
    "slideshow": {
     "slide_type": "slide"
    }
   },
   "source": [
    "#### CDF: Cumulative Distribution Function\n",
    "Probability random variable <= a certain value. "
   ]
  },
  {
   "cell_type": "markdown",
   "metadata": {
    "cell_style": "split",
    "slideshow": {
     "slide_type": "fragment"
    }
   },
   "source": [
    "\n",
    "Mathematically, CDF is:\n",
    "\n",
    "$$F(x) = P(X\\leq x)$$"
   ]
  },
  {
   "cell_type": "markdown",
   "metadata": {
    "cell_style": "split",
    "slideshow": {
     "slide_type": "slide"
    }
   },
   "source": [
    "CDF exists for all probability distributions (discrete/continuous):\n",
    "\n",
    "\n",
    "**Applies to both continuous pds and discrete pmfs**\n",
    "\n"
   ]
  },
  {
   "cell_type": "markdown",
   "metadata": {
    "cell_style": "split",
    "slideshow": {
     "slide_type": "fragment"
    }
   },
   "source": [
    "Mathematically, CDF is:\n",
    "\n",
    "$$F(x) = P(X\\leq x)$$"
   ]
  },
  {
   "cell_type": "markdown",
   "metadata": {
    "cell_style": "split",
    "slideshow": {
     "slide_type": "slide"
    }
   },
   "source": [
    "Why use the CDF?\n",
    "- Continuous variables:\n",
    "- Actually reports probability\n",
    "- Simple arithmetic operations to calculate probability of given range."
   ]
  },
  {
   "cell_type": "markdown",
   "metadata": {
    "cell_style": "split",
    "slideshow": {
     "slide_type": "fragment"
    }
   },
   "source": [
    "Implicitly used in most hypothesis tests:\n",
    "- Calculate probability of a measured value or values more extreme\n",
    "- CDF yields whether measured value is likely under a given distribution."
   ]
  },
  {
   "cell_type": "markdown",
   "metadata": {
    "cell_style": "split",
    "slideshow": {
     "slide_type": "slide"
    }
   },
   "source": [
    "####  Discrete case:\n",
    "\n",
    "An ad-clicking example: \n",
    "\n",
    "- Use CDF to calculate probability of having <= 2 clicks in 50 random samples.\n",
    "- where $p = 0.1$ for a click.\n",
    "\n",
    "$$P(x \\leq 2)$$"
   ]
  },
  {
   "cell_type": "markdown",
   "metadata": {
    "cell_style": "split",
    "slideshow": {
     "slide_type": "fragment"
    }
   },
   "source": [
    "#### CDF in scipy.stats\n",
    "\n",
    "- scipy.stats.binom.cdf()\n",
    "\n",
    "- Generally, scipy.stats.distribution.cdf(arguments)\n"
   ]
  },
  {
   "cell_type": "code",
   "execution_count": 69,
   "metadata": {
    "ExecuteTime": {
     "end_time": "2021-10-08T21:00:07.840276Z",
     "start_time": "2021-10-08T21:00:07.836086Z"
    },
    "slideshow": {
     "slide_type": "slide"
    }
   },
   "outputs": [
    {
     "data": {
      "text/plain": [
       "0.1117287563463473"
      ]
     },
     "execution_count": 69,
     "metadata": {},
     "output_type": "execute_result"
    }
   ],
   "source": [
    "# Create the random discrete value for the number of success\n",
    "\n",
    "n = 50\n",
    "p = 0.1\n",
    "\n",
    "# Calculate the probability for x equal or less than 2\n",
    "binom.cdf(2, n = n , p = p)"
   ]
  },
  {
   "cell_type": "markdown",
   "metadata": {
    "slideshow": {
     "slide_type": "slide"
    }
   },
   "source": [
    "Visualize pmf and cdf side by side"
   ]
  },
  {
   "cell_type": "code",
   "execution_count": 70,
   "metadata": {
    "cell_style": "split",
    "slideshow": {
     "slide_type": "fragment"
    }
   },
   "outputs": [
    {
     "data": {
      "image/png": "[encoded data removed]",
      "text/plain": [
       "<Figure size 432x288 with 1 Axes>"
      ]
     },
     "metadata": {
      "needs_background": "light"
     },
     "output_type": "display_data"
    }
   ],
   "source": [
    "x = np.arange(0,15,1)\n",
    "y = binom.pmf(x, n = n , p = p)\n",
    "plt.stem(x, y, linefmt='b-', markerfmt='bo', basefmt='r-')\n",
    "plt.xlabel('Number of clicks')\n",
    "plt.ylabel('Probability')\n",
    "plt.title('PMF (Binomial): Clicks for 50 samples')\n",
    "plt.show()"
   ]
  },
  {
   "cell_type": "code",
   "execution_count": 71,
   "metadata": {
    "cell_style": "split",
    "slideshow": {
     "slide_type": "fragment"
    }
   },
   "outputs": [
    {
     "data": {
      "image/png": "[encoded data removed]",
      "text/plain": [
       "<Figure size 432x288 with 1 Axes>"
      ]
     },
     "metadata": {
      "needs_background": "light"
     },
     "output_type": "display_data"
    }
   ],
   "source": [
    "cdf_y = binom.cdf(k = x, n=n, p=p)\n",
    "plt.plot(x, cdf_y, c = 'b', linestyle = '--')\n",
    "plt.xlabel('Number of clicks')\n",
    "plt.ylabel('P($X \\leq x$)')\n",
    "plt.title('CDF of binomial: Ad click rate')\n",
    "plt.show()"
   ]
  },
  {
   "cell_type": "markdown",
   "metadata": {
    "cell_style": "center",
    "slideshow": {
     "slide_type": "subslide"
    }
   },
   "source": [
    "- What is the probability of getting less than or equal to 8 clicks?"
   ]
  },
  {
   "cell_type": "code",
   "execution_count": 72,
   "metadata": {
    "slideshow": {
     "slide_type": "fragment"
    }
   },
   "outputs": [
    {
     "data": {
      "text/plain": [
       "0.9421327942819058"
      ]
     },
     "execution_count": 72,
     "metadata": {},
     "output_type": "execute_result"
    }
   ],
   "source": [
    "binom.cdf(8, n = n, p = p)"
   ]
  },
  {
   "cell_type": "markdown",
   "metadata": {},
   "source": [
    "$$ P (X > 8) $$"
   ]
  },
  {
   "cell_type": "code",
   "execution_count": 73,
   "metadata": {},
   "outputs": [
    {
     "data": {
      "text/plain": [
       "0.057867205718094256"
      ]
     },
     "execution_count": 73,
     "metadata": {},
     "output_type": "execute_result"
    }
   ],
   "source": [
    "binom.sf(8, n = n, p = p)"
   ]
  },
  {
   "cell_type": "markdown",
   "metadata": {
    "slideshow": {
     "slide_type": "fragment"
    }
   },
   "source": [
    "- Probability of getting less than infinity?\n",
    "(this is all possible values)"
   ]
  },
  {
   "cell_type": "code",
   "execution_count": 74,
   "metadata": {
    "slideshow": {
     "slide_type": "fragment"
    }
   },
   "outputs": [
    {
     "data": {
      "text/plain": [
       "1.0"
      ]
     },
     "execution_count": 74,
     "metadata": {},
     "output_type": "execute_result"
    }
   ],
   "source": [
    "binom.cdf(np.inf, n = n, p = p)"
   ]
  },
  {
   "cell_type": "code",
   "execution_count": 75,
   "metadata": {
    "cell_style": "split",
    "slideshow": {
     "slide_type": "slide"
    }
   },
   "outputs": [
    {
     "data": {
      "image/png": "[encoded data removed]",
      "text/plain": [
       "<Figure size 432x288 with 1 Axes>"
      ]
     },
     "metadata": {
      "needs_background": "light"
     },
     "output_type": "display_data"
    }
   ],
   "source": [
    "cdf_y = binom.cdf(k = x, n=n, p=p)\n",
    "plt.plot(x, cdf_y, c = 'b', linestyle = '--')\n",
    "plt.xlabel('Number of clicks')\n",
    "plt.ylabel('Probability')\n",
    "plt.title('CDF of binomial: Ad click rate')\n",
    "plt.axvline(2, c = 'r', linestyle = '--')\n",
    "plt.axvline(4, c = 'r', linestyle = '--')\n",
    "plt.show()"
   ]
  },
  {
   "cell_type": "markdown",
   "metadata": {
    "cell_style": "split",
    "slideshow": {
     "slide_type": "slide"
    }
   },
   "source": [
    "What is probability of getting between 2 and 4?\n",
    "- $ P(x <= 4) - P(x<=2)$"
   ]
  },
  {
   "cell_type": "code",
   "execution_count": 76,
   "metadata": {
    "cell_style": "split",
    "slideshow": {
     "slide_type": "fragment"
    }
   },
   "outputs": [
    {
     "data": {
      "text/plain": [
       "0.31946965048271503"
      ]
     },
     "execution_count": 76,
     "metadata": {},
     "output_type": "execute_result"
    }
   ],
   "source": [
    "Pless4 = binom.cdf(k = 4, n=n, p=p)  \n",
    "Pless2 = binom.cdf(k = 2, n=n, p=p)\n",
    "\n",
    "Pless4 - Pless2"
   ]
  },
  {
   "cell_type": "markdown",
   "metadata": {
    "slideshow": {
     "slide_type": "slide"
    }
   },
   "source": [
    "What is the probability that we have greater than 4 clicks?\n",
    "$$ P(x <= \\infty) - P(x<=4)$$"
   ]
  },
  {
   "cell_type": "markdown",
   "metadata": {
    "slideshow": {
     "slide_type": "fragment"
    }
   },
   "source": [
    "$$ 1 - P(x<=4) $$"
   ]
  },
  {
   "cell_type": "markdown",
   "metadata": {
    "slideshow": {
     "slide_type": "slide"
    }
   },
   "source": [
    "In python:"
   ]
  },
  {
   "cell_type": "code",
   "execution_count": 77,
   "metadata": {
    "cell_style": "split",
    "slideshow": {
     "slide_type": "fragment"
    }
   },
   "outputs": [
    {
     "data": {
      "text/plain": [
       "0.5688015931709377"
      ]
     },
     "execution_count": 77,
     "metadata": {},
     "output_type": "execute_result"
    }
   ],
   "source": [
    "1 - binom.cdf(4, n, p)"
   ]
  },
  {
   "cell_type": "markdown",
   "metadata": {
    "cell_style": "split",
    "slideshow": {
     "slide_type": "fragment"
    }
   },
   "source": [
    "Equivalently, though faster:\n",
    "- $P(X >x)$ as survival function: distribution.sf()"
   ]
  },
  {
   "cell_type": "code",
   "execution_count": 78,
   "metadata": {
    "cell_style": "split",
    "scrolled": true,
    "slideshow": {
     "slide_type": "fragment"
    }
   },
   "outputs": [
    {
     "data": {
      "text/plain": [
       "0.5688015931709377"
      ]
     },
     "execution_count": 78,
     "metadata": {},
     "output_type": "execute_result"
    }
   ],
   "source": [
    "binom.sf(4, n , p)"
   ]
  },
  {
   "cell_type": "markdown",
   "metadata": {
    "slideshow": {
     "slide_type": "fragment"
    }
   },
   "source": [
    "5\\% chance of getting greater than 4 clicks in 50 randomized user-site interactions."
   ]
  },
  {
   "cell_type": "markdown",
   "metadata": {
    "slideshow": {
     "slide_type": "slide"
    }
   },
   "source": [
    "Generally:\n",
    "$$ P(X > x) = 1 - P(X <= x) $$\n",
    "\n",
    "<center>1 - distribution.cdf(x, parameters) </center>"
   ]
  },
  {
   "cell_type": "markdown",
   "metadata": {
    "cell_style": "split",
    "slideshow": {
     "slide_type": "slide"
    }
   },
   "source": [
    "#### Continuous Distribution\n",
    "- CDF of the normal distribution\n",
    "\n",
    "Example case: distribution of heights. \n",
    "\n",
    "We observe the mean is 5.5 ft with a standard deviation of 0.5 ft.\n",
    "\n",
    "Model with normal distribution."
   ]
  },
  {
   "cell_type": "code",
   "execution_count": 287,
   "metadata": {
    "cell_style": "split",
    "slideshow": {
     "slide_type": "fragment"
    }
   },
   "outputs": [
    {
     "data": {
      "image/png": "[encoded data removed]",
      "text/plain": [
       "<Figure size 432x288 with 1 Axes>"
      ]
     },
     "metadata": {
      "needs_background": "light"
     },
     "output_type": "display_data"
    }
   ],
   "source": [
    "mu = 5.5 # mean\n",
    "sigma = 0.5 # standard deviation\n",
    "\n",
    "x = np.linspace(2,9)\n",
    "y_norm = norm.pdf(x, loc = mu, scale = sigma)\n",
    "plt.plot(x, y_norm)\n",
    "plt.xlabel('Height (ft.)')\n",
    "plt.ylabel('PDF')\n",
    "plt.title('PDF:  Normally distributed Heights')\n",
    "plt.show()\n"
   ]
  },
  {
   "cell_type": "markdown",
   "metadata": {
    "cell_style": "center",
    "slideshow": {
     "slide_type": "slide"
    }
   },
   "source": [
    "Probability that height <= 4.7:"
   ]
  },
  {
   "cell_type": "code",
   "execution_count": 246,
   "metadata": {
    "cell_style": "split",
    "scrolled": true,
    "slideshow": {
     "slide_type": "subslide"
    }
   },
   "outputs": [
    {
     "data": {
      "image/png": "[encoded data removed]",
      "text/plain": [
       "<Figure size 432x288 with 1 Axes>"
      ]
     },
     "metadata": {
      "needs_background": "light"
     },
     "output_type": "display_data"
    }
   ],
   "source": [
    "mu = 5.5 # mean\n",
    "sigma = 0.5 # standard deviation\n",
    "\n",
    "x = np.linspace(2,9, num = 100)\n",
    "y_norm = norm.pdf(x, loc = mu, scale = sigma)\n",
    "plt.plot(x, y_norm)\n",
    "plt.fill_between(x,y_norm, where = (x <= 4.7), color='r')\n",
    "plt.axvline(x = 4.7, c = 'r', linestyle = '--')\n",
    "plt.xlabel('Height (ft.)')\n",
    "plt.ylabel('PDF')\n",
    "plt.title('PDF:  Normally distributed Heights')\n",
    "plt.show()"
   ]
  },
  {
   "cell_type": "code",
   "execution_count": 247,
   "metadata": {
    "cell_style": "split",
    "slideshow": {
     "slide_type": "fragment"
    }
   },
   "outputs": [
    {
     "data": {
      "image/png": "[encoded data removed]",
      "text/plain": [
       "<Figure size 432x288 with 1 Axes>"
      ]
     },
     "metadata": {
      "needs_background": "light"
     },
     "output_type": "display_data"
    }
   ],
   "source": [
    "mu = 5.5 # mean\n",
    "sigma = 0.5 # standard deviation\n",
    "\n",
    "x = np.linspace(2,9, num = 100)\n",
    "y_norm_cdf = norm.cdf(x, loc = mu, scale = sigma)\n",
    "plt.plot(x, y_norm_cdf)\n",
    "plt.axvline(x = 4.7, c = 'r', linestyle = '--')\n",
    "plt.xlabel('Height (ft.)')\n",
    "plt.ylabel('CDF')\n",
    "plt.title('CDF:  Normally distributed Heights')\n",
    "plt.show()"
   ]
  },
  {
   "cell_type": "markdown",
   "metadata": {
    "slideshow": {
     "slide_type": "slide"
    }
   },
   "source": [
    "#### Continuous variables\n",
    "\n",
    "- Value of cdf at x = 4.7\n",
    "- area under pdf at x <= 4.7"
   ]
  },
  {
   "cell_type": "code",
   "execution_count": 288,
   "metadata": {
    "cell_style": "center",
    "slideshow": {
     "slide_type": "-"
    }
   },
   "outputs": [
    {
     "data": {
      "text/plain": [
       "0.05479929169955804"
      ]
     },
     "execution_count": 288,
     "metadata": {},
     "output_type": "execute_result"
    }
   ],
   "source": [
    "norm.cdf(4.7, loc = mu, scale = 0.5 )"
   ]
  },
  {
   "cell_type": "markdown",
   "metadata": {
    "slideshow": {
     "slide_type": "slide"
    }
   },
   "source": [
    "Probability that height is greater than 4.5 ft and less than 6 ft?\n",
    "- Help me out. Use cdf."
   ]
  },
  {
   "cell_type": "code",
   "execution_count": 293,
   "metadata": {
    "slideshow": {
     "slide_type": "subslide"
    }
   },
   "outputs": [
    {
     "data": {
      "image/png": "[encoded data removed]",
      "text/plain": [
       "<Figure size 432x288 with 1 Axes>"
      ]
     },
     "metadata": {
      "needs_background": "light"
     },
     "output_type": "display_data"
    }
   ],
   "source": [
    "mu = 5.5 # mean\n",
    "sigma = 0.5 # standard deviation\n",
    "\n",
    "x = np.linspace(2,9, num = 100)\n",
    "y_norm = norm.pdf(x, loc = mu, scale = sigma)\n",
    "plt.plot(x, y_norm)\n",
    "plt.fill_between(x,y_norm, where = (x <= 4.7), color='r', alpha = 0.2)\n",
    "plt.fill_between(x,y_norm, where = (x <= 6), color='b', alpha = 0.2)\n",
    "plt.axvline(x = 4.7, c = 'r', linestyle = '--')\n",
    "plt.axvline(x = 6, c = 'b', linestyle = '--')\n",
    "plt.xlabel('Height (ft.)')\n",
    "plt.ylabel('PDF')\n",
    "plt.title('PDF:  Normally distributed Heights')\n",
    "plt.show()"
   ]
  },
  {
   "cell_type": "code",
   "execution_count": 290,
   "metadata": {
    "cell_style": "center",
    "slideshow": {
     "slide_type": "subslide"
    }
   },
   "outputs": [
    {
     "data": {
      "text/plain": [
       "0.7865454543689849"
      ]
     },
     "execution_count": 290,
     "metadata": {},
     "output_type": "execute_result"
    }
   ],
   "source": [
    "# mu is defined as mean already, set scale to 0.5 (std)\n",
    "mu = 5.5\n",
    "stdev = 0.5\n",
    "\n",
    "norm.cdf(6, loc = mu, scale = stdev) - norm.cdf(4.7, loc = mu, scale = stdev )"
   ]
  }
 ],
 "metadata": {
  "celltoolbar": "Slideshow",
  "kernelspec": {
   "display_name": "Python 3 (ipykernel)",
   "language": "python",
   "name": "python3"
  },
  "language_info": {
   "codemirror_mode": {
    "name": "ipython",
    "version": 3
   },
   "file_extension": ".py",
   "mimetype": "text/x-python",
   "name": "python",
   "nbconvert_exporter": "python",
   "pygments_lexer": "ipython3",
   "version": "3.9.7"
  }
 },
 "nbformat": 4,
 "nbformat_minor": 4
}
