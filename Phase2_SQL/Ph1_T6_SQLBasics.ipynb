{
 "cells": [
  {
   "cell_type": "markdown",
   "id": "38da1544",
   "metadata": {
    "slideshow": {
     "slide_type": "slide"
    }
   },
   "source": [
    "<div style=\"color:white;\n",
    "           display:fill;\n",
    "           border-radius:5px;\n",
    "           background-color:#5642C5;\n",
    "           font-size:200%;\n",
    "           font-family:Arial;letter-spacing:0.5px\">\n",
    "\n",
    "<p width = 20%, style=\"padding: 10px;\n",
    "              color:white;\">\n",
    "SQL: Introduction and Basic Querying\n",
    "</p>\n",
    "</div>\n",
    "\n",
    "Data Science Cohort Live NYC Nov 2023\n",
    "<p>Phase 2</p>\n",
    "<br>\n",
    "<br>\n",
    "\n",
    "<div align = \"right\">\n",
    "<img src=\"Images/flatiron-school-logo.png\" align = \"right\" width=\"200\"/>\n",
    "</div>\n",
    "    "
   ]
  },
  {
   "cell_type": "markdown",
   "id": "9f0dd613",
   "metadata": {
    "cell_style": "split",
    "slideshow": {
     "slide_type": "slide"
    }
   },
   "source": [
    "#### Databases\n",
    "\n",
    "Data for organizations: typically stored in a **database**.\n",
    "\n",
    "- Database: organized collection of structured information.\n",
    "- Typically fairly large and hosted by dedicated servers.\n",
    "- A database controlled by a database management system (DBMS).\n",
    "\n"
   ]
  },
  {
   "cell_type": "markdown",
   "id": "2e8fbfe6",
   "metadata": {
    "cell_style": "split",
    "slideshow": {
     "slide_type": "fragment"
    }
   },
   "source": [
    "<div align = \"center\">\n",
    "    <center><img src=\"Images/dbms.jpg\" align = \"center\" width=\"500\"/></center>\n",
    "</div>"
   ]
  },
  {
   "cell_type": "markdown",
   "id": "7cb3eeeb",
   "metadata": {
    "cell_style": "split",
    "slideshow": {
     "slide_type": "fragment"
    }
   },
   "source": [
    "With DBMS: store, update, share, and access specific subset of database. \n",
    "\n",
    "- CSVs and JSONs are often extracts of some data from a database."
   ]
  },
  {
   "cell_type": "markdown",
   "id": "69f0052c",
   "metadata": {
    "slideshow": {
     "slide_type": "slide"
    }
   },
   "source": [
    "#### The relational database\n",
    "<br>\n",
    "<div align = \"center\">\n",
    "    <center><img src=\"Images/tables_relational.png\" align = \"center\" width=\"700\"/></center>\n",
    "</div>\n",
    "  "
   ]
  },
  {
   "cell_type": "markdown",
   "id": "8d28c45f",
   "metadata": {
    "slideshow": {
     "slide_type": "fragment"
    }
   },
   "source": [
    "Tables are linked together by relationships.\n",
    "\n",
    "  Why relational databases are great and what came before (first 5 modules): <br>\n",
    "  https://mariadb.com/kb/en/database-theory/"
   ]
  },
  {
   "cell_type": "markdown",
   "id": "5b97b3df",
   "metadata": {
    "slideshow": {
     "slide_type": "slide"
    }
   },
   "source": [
    "Common DBMS for Relational Databases\n",
    "<br>\n",
    "<div>\n",
    "    <center><img src=\"Images/postgresql.png\"  width=\"200\"/></center>\n",
    "    <center><img src=\"Images/mysql.png\"  width=\"300\"/></center>\n",
    "    <center><img src=\"Images/SQLite-Python.jpg\" align = \"center\" width=\"200\"/></center>\n",
    "</div>\n",
    "      \n",
    "</div>"
   ]
  },
  {
   "cell_type": "markdown",
   "id": "f8922557",
   "metadata": {
    "slideshow": {
     "slide_type": "slide"
    }
   },
   "source": [
    "#### Structured Query Language\n",
    "\n",
    "- De-facto king of languages for interacting with relational databases and their DBMS.\n",
    "- Invaluable for you in almost any data role. \n",
    "- You will use it often to get the data that you need for your analyses.\n",
    "\n",
    "Let's get into using SQL!\n"
   ]
  },
  {
   "cell_type": "code",
   "execution_count": 2,
   "id": "083cff0d",
   "metadata": {
    "slideshow": {
     "slide_type": "slide"
    }
   },
   "outputs": [],
   "source": [
    "# import sqlite\n",
    "import sqlite3\n",
    "import pandas as pd"
   ]
  },
  {
   "cell_type": "markdown",
   "id": "23971a10",
   "metadata": {
    "cell_style": "split",
    "slideshow": {
     "slide_type": "slide"
    }
   },
   "source": [
    "Interacting with a sqlite database.\n",
    "- Connect to database \n",
    "- Create interface to ask database for stuff\n",
    "- After connection established:\n",
    "    1. Execute query \n",
    "    2. Fetch result \n",
    "- Close connection to database when done with queries.\n"
   ]
  },
  {
   "cell_type": "markdown",
   "id": "6392dc5d",
   "metadata": {
    "cell_style": "split",
    "slideshow": {
     "slide_type": "fragment"
    }
   },
   "source": [
    "Commands:\n",
    "- conn = sqlite3.connect(database)\n",
    "- cursor_obj = conn.cursor()\n",
    "- Query database/get result:\n",
    "    1. cursor.execute(SQL_query)\n",
    "    2. cursor.fetchall()\n",
    "- conn.close()"
   ]
  },
  {
   "cell_type": "markdown",
   "id": "c20f9f24",
   "metadata": {
    "slideshow": {
     "slide_type": "slide"
    }
   },
   "source": [
    "This opens a connection to the flights database and creates cursor object."
   ]
  },
  {
   "cell_type": "code",
   "execution_count": 3,
   "id": "c8a50ff4",
   "metadata": {
    "slideshow": {
     "slide_type": "fragment"
    }
   },
   "outputs": [],
   "source": [
    "con = sqlite3.connect('data/flights.db')\n",
    "cursor_obj = con.cursor()"
   ]
  },
  {
   "cell_type": "markdown",
   "id": "facd5e02",
   "metadata": {
    "slideshow": {
     "slide_type": "slide"
    }
   },
   "source": [
    "See tables in the sqlite database via command line."
   ]
  },
  {
   "cell_type": "code",
   "execution_count": 4,
   "id": "1afb6d6e",
   "metadata": {
    "slideshow": {
     "slide_type": "fragment"
    }
   },
   "outputs": [
    {
     "name": "stderr",
     "output_type": "stream",
     "text": [
      "-bash: line 2: sqlite3: command not found\n",
      "-bash: line 3: .tables: command not found\n"
     ]
    },
    {
     "ename": "CalledProcessError",
     "evalue": "Command 'b'\\nsqlite3 data/flights.db\\n.tables\\n'' returned non-zero exit status 127.",
     "output_type": "error",
     "traceback": [
      "\u001b[1;31m---------------------------------------------------------------------------\u001b[0m",
      "\u001b[1;31mCalledProcessError\u001b[0m                        Traceback (most recent call last)",
      "\u001b[1;32m~\\AppData\\Local\\Temp/ipykernel_22380/3148832865.py\u001b[0m in \u001b[0;36m<module>\u001b[1;34m\u001b[0m\n\u001b[1;32m----> 1\u001b[1;33m \u001b[0mget_ipython\u001b[0m\u001b[1;33m(\u001b[0m\u001b[1;33m)\u001b[0m\u001b[1;33m.\u001b[0m\u001b[0mrun_cell_magic\u001b[0m\u001b[1;33m(\u001b[0m\u001b[1;34m'bash'\u001b[0m\u001b[1;33m,\u001b[0m \u001b[1;34m''\u001b[0m\u001b[1;33m,\u001b[0m \u001b[1;34m'\\nsqlite3 data/flights.db\\n.tables\\n'\u001b[0m\u001b[1;33m)\u001b[0m\u001b[1;33m\u001b[0m\u001b[1;33m\u001b[0m\u001b[0m\n\u001b[0m",
      "\u001b[1;32mC:\\ProgramData\\Anaconda3\\lib\\site-packages\\IPython\\core\\interactiveshell.py\u001b[0m in \u001b[0;36mrun_cell_magic\u001b[1;34m(self, magic_name, line, cell)\u001b[0m\n\u001b[0;32m   2404\u001b[0m             \u001b[1;32mwith\u001b[0m \u001b[0mself\u001b[0m\u001b[1;33m.\u001b[0m\u001b[0mbuiltin_trap\u001b[0m\u001b[1;33m:\u001b[0m\u001b[1;33m\u001b[0m\u001b[1;33m\u001b[0m\u001b[0m\n\u001b[0;32m   2405\u001b[0m                 \u001b[0margs\u001b[0m \u001b[1;33m=\u001b[0m \u001b[1;33m(\u001b[0m\u001b[0mmagic_arg_s\u001b[0m\u001b[1;33m,\u001b[0m \u001b[0mcell\u001b[0m\u001b[1;33m)\u001b[0m\u001b[1;33m\u001b[0m\u001b[1;33m\u001b[0m\u001b[0m\n\u001b[1;32m-> 2406\u001b[1;33m                 \u001b[0mresult\u001b[0m \u001b[1;33m=\u001b[0m \u001b[0mfn\u001b[0m\u001b[1;33m(\u001b[0m\u001b[1;33m*\u001b[0m\u001b[0margs\u001b[0m\u001b[1;33m,\u001b[0m \u001b[1;33m**\u001b[0m\u001b[0mkwargs\u001b[0m\u001b[1;33m)\u001b[0m\u001b[1;33m\u001b[0m\u001b[1;33m\u001b[0m\u001b[0m\n\u001b[0m\u001b[0;32m   2407\u001b[0m             \u001b[1;32mreturn\u001b[0m \u001b[0mresult\u001b[0m\u001b[1;33m\u001b[0m\u001b[1;33m\u001b[0m\u001b[0m\n\u001b[0;32m   2408\u001b[0m \u001b[1;33m\u001b[0m\u001b[0m\n",
      "\u001b[1;32mC:\\ProgramData\\Anaconda3\\lib\\site-packages\\IPython\\core\\magics\\script.py\u001b[0m in \u001b[0;36mnamed_script_magic\u001b[1;34m(line, cell)\u001b[0m\n\u001b[0;32m    140\u001b[0m             \u001b[1;32melse\u001b[0m\u001b[1;33m:\u001b[0m\u001b[1;33m\u001b[0m\u001b[1;33m\u001b[0m\u001b[0m\n\u001b[0;32m    141\u001b[0m                 \u001b[0mline\u001b[0m \u001b[1;33m=\u001b[0m \u001b[0mscript\u001b[0m\u001b[1;33m\u001b[0m\u001b[1;33m\u001b[0m\u001b[0m\n\u001b[1;32m--> 142\u001b[1;33m             \u001b[1;32mreturn\u001b[0m \u001b[0mself\u001b[0m\u001b[1;33m.\u001b[0m\u001b[0mshebang\u001b[0m\u001b[1;33m(\u001b[0m\u001b[0mline\u001b[0m\u001b[1;33m,\u001b[0m \u001b[0mcell\u001b[0m\u001b[1;33m)\u001b[0m\u001b[1;33m\u001b[0m\u001b[1;33m\u001b[0m\u001b[0m\n\u001b[0m\u001b[0;32m    143\u001b[0m \u001b[1;33m\u001b[0m\u001b[0m\n\u001b[0;32m    144\u001b[0m         \u001b[1;31m# write a basic docstring:\u001b[0m\u001b[1;33m\u001b[0m\u001b[1;33m\u001b[0m\u001b[0m\n",
      "\u001b[1;32mC:\\ProgramData\\Anaconda3\\lib\\site-packages\\decorator.py\u001b[0m in \u001b[0;36mfun\u001b[1;34m(*args, **kw)\u001b[0m\n\u001b[0;32m    230\u001b[0m             \u001b[1;32mif\u001b[0m \u001b[1;32mnot\u001b[0m \u001b[0mkwsyntax\u001b[0m\u001b[1;33m:\u001b[0m\u001b[1;33m\u001b[0m\u001b[1;33m\u001b[0m\u001b[0m\n\u001b[0;32m    231\u001b[0m                 \u001b[0margs\u001b[0m\u001b[1;33m,\u001b[0m \u001b[0mkw\u001b[0m \u001b[1;33m=\u001b[0m \u001b[0mfix\u001b[0m\u001b[1;33m(\u001b[0m\u001b[0margs\u001b[0m\u001b[1;33m,\u001b[0m \u001b[0mkw\u001b[0m\u001b[1;33m,\u001b[0m \u001b[0msig\u001b[0m\u001b[1;33m)\u001b[0m\u001b[1;33m\u001b[0m\u001b[1;33m\u001b[0m\u001b[0m\n\u001b[1;32m--> 232\u001b[1;33m             \u001b[1;32mreturn\u001b[0m \u001b[0mcaller\u001b[0m\u001b[1;33m(\u001b[0m\u001b[0mfunc\u001b[0m\u001b[1;33m,\u001b[0m \u001b[1;33m*\u001b[0m\u001b[1;33m(\u001b[0m\u001b[0mextras\u001b[0m \u001b[1;33m+\u001b[0m \u001b[0margs\u001b[0m\u001b[1;33m)\u001b[0m\u001b[1;33m,\u001b[0m \u001b[1;33m**\u001b[0m\u001b[0mkw\u001b[0m\u001b[1;33m)\u001b[0m\u001b[1;33m\u001b[0m\u001b[1;33m\u001b[0m\u001b[0m\n\u001b[0m\u001b[0;32m    233\u001b[0m     \u001b[0mfun\u001b[0m\u001b[1;33m.\u001b[0m\u001b[0m__name__\u001b[0m \u001b[1;33m=\u001b[0m \u001b[0mfunc\u001b[0m\u001b[1;33m.\u001b[0m\u001b[0m__name__\u001b[0m\u001b[1;33m\u001b[0m\u001b[1;33m\u001b[0m\u001b[0m\n\u001b[0;32m    234\u001b[0m     \u001b[0mfun\u001b[0m\u001b[1;33m.\u001b[0m\u001b[0m__doc__\u001b[0m \u001b[1;33m=\u001b[0m \u001b[0mfunc\u001b[0m\u001b[1;33m.\u001b[0m\u001b[0m__doc__\u001b[0m\u001b[1;33m\u001b[0m\u001b[1;33m\u001b[0m\u001b[0m\n",
      "\u001b[1;32mC:\\ProgramData\\Anaconda3\\lib\\site-packages\\IPython\\core\\magic.py\u001b[0m in \u001b[0;36m<lambda>\u001b[1;34m(f, *a, **k)\u001b[0m\n\u001b[0;32m    185\u001b[0m     \u001b[1;31m# but it's overkill for just that one bit of state.\u001b[0m\u001b[1;33m\u001b[0m\u001b[1;33m\u001b[0m\u001b[0m\n\u001b[0;32m    186\u001b[0m     \u001b[1;32mdef\u001b[0m \u001b[0mmagic_deco\u001b[0m\u001b[1;33m(\u001b[0m\u001b[0marg\u001b[0m\u001b[1;33m)\u001b[0m\u001b[1;33m:\u001b[0m\u001b[1;33m\u001b[0m\u001b[1;33m\u001b[0m\u001b[0m\n\u001b[1;32m--> 187\u001b[1;33m         \u001b[0mcall\u001b[0m \u001b[1;33m=\u001b[0m \u001b[1;32mlambda\u001b[0m \u001b[0mf\u001b[0m\u001b[1;33m,\u001b[0m \u001b[1;33m*\u001b[0m\u001b[0ma\u001b[0m\u001b[1;33m,\u001b[0m \u001b[1;33m**\u001b[0m\u001b[0mk\u001b[0m\u001b[1;33m:\u001b[0m \u001b[0mf\u001b[0m\u001b[1;33m(\u001b[0m\u001b[1;33m*\u001b[0m\u001b[0ma\u001b[0m\u001b[1;33m,\u001b[0m \u001b[1;33m**\u001b[0m\u001b[0mk\u001b[0m\u001b[1;33m)\u001b[0m\u001b[1;33m\u001b[0m\u001b[1;33m\u001b[0m\u001b[0m\n\u001b[0m\u001b[0;32m    188\u001b[0m \u001b[1;33m\u001b[0m\u001b[0m\n\u001b[0;32m    189\u001b[0m         \u001b[1;32mif\u001b[0m \u001b[0mcallable\u001b[0m\u001b[1;33m(\u001b[0m\u001b[0marg\u001b[0m\u001b[1;33m)\u001b[0m\u001b[1;33m:\u001b[0m\u001b[1;33m\u001b[0m\u001b[1;33m\u001b[0m\u001b[0m\n",
      "\u001b[1;32mC:\\ProgramData\\Anaconda3\\lib\\site-packages\\IPython\\core\\magics\\script.py\u001b[0m in \u001b[0;36mshebang\u001b[1;34m(self, line, cell)\u001b[0m\n\u001b[0;32m    243\u001b[0m             \u001b[0msys\u001b[0m\u001b[1;33m.\u001b[0m\u001b[0mstderr\u001b[0m\u001b[1;33m.\u001b[0m\u001b[0mflush\u001b[0m\u001b[1;33m(\u001b[0m\u001b[1;33m)\u001b[0m\u001b[1;33m\u001b[0m\u001b[1;33m\u001b[0m\u001b[0m\n\u001b[0;32m    244\u001b[0m         \u001b[1;32mif\u001b[0m \u001b[0margs\u001b[0m\u001b[1;33m.\u001b[0m\u001b[0mraise_error\u001b[0m \u001b[1;32mand\u001b[0m \u001b[0mp\u001b[0m\u001b[1;33m.\u001b[0m\u001b[0mreturncode\u001b[0m\u001b[1;33m!=\u001b[0m\u001b[1;36m0\u001b[0m\u001b[1;33m:\u001b[0m\u001b[1;33m\u001b[0m\u001b[1;33m\u001b[0m\u001b[0m\n\u001b[1;32m--> 245\u001b[1;33m             \u001b[1;32mraise\u001b[0m \u001b[0mCalledProcessError\u001b[0m\u001b[1;33m(\u001b[0m\u001b[0mp\u001b[0m\u001b[1;33m.\u001b[0m\u001b[0mreturncode\u001b[0m\u001b[1;33m,\u001b[0m \u001b[0mcell\u001b[0m\u001b[1;33m,\u001b[0m \u001b[0moutput\u001b[0m\u001b[1;33m=\u001b[0m\u001b[0mout\u001b[0m\u001b[1;33m,\u001b[0m \u001b[0mstderr\u001b[0m\u001b[1;33m=\u001b[0m\u001b[0merr\u001b[0m\u001b[1;33m)\u001b[0m\u001b[1;33m\u001b[0m\u001b[1;33m\u001b[0m\u001b[0m\n\u001b[0m\u001b[0;32m    246\u001b[0m \u001b[1;33m\u001b[0m\u001b[0m\n\u001b[0;32m    247\u001b[0m     \u001b[1;32mdef\u001b[0m \u001b[0m_run_script\u001b[0m\u001b[1;33m(\u001b[0m\u001b[0mself\u001b[0m\u001b[1;33m,\u001b[0m \u001b[0mp\u001b[0m\u001b[1;33m,\u001b[0m \u001b[0mcell\u001b[0m\u001b[1;33m,\u001b[0m \u001b[0mto_close\u001b[0m\u001b[1;33m)\u001b[0m\u001b[1;33m:\u001b[0m\u001b[1;33m\u001b[0m\u001b[1;33m\u001b[0m\u001b[0m\n",
      "\u001b[1;31mCalledProcessError\u001b[0m: Command 'b'\\nsqlite3 data/flights.db\\n.tables\\n'' returned non-zero exit status 127."
     ]
    }
   ],
   "source": [
    "%%bash \n",
    "\n",
    "sqlite3 data/flights.db\n",
    ".tables"
   ]
  },
  {
   "cell_type": "markdown",
   "id": "d179d9d0",
   "metadata": {
    "slideshow": {
     "slide_type": "slide"
    }
   },
   "source": [
    "Get schema of sqlite database: whole or single table"
   ]
  },
  {
   "cell_type": "code",
   "execution_count": 5,
   "id": "823b86e0",
   "metadata": {
    "scrolled": true,
    "slideshow": {
     "slide_type": "fragment"
    }
   },
   "outputs": [
    {
     "name": "stderr",
     "output_type": "stream",
     "text": [
      "-bash: line 1: sqlite3: command not found\n",
      "-bash: line 2: .schema: command not found\n"
     ]
    },
    {
     "ename": "CalledProcessError",
     "evalue": "Command 'b'sqlite3 data/flights.db\\n.schema \\n'' returned non-zero exit status 127.",
     "output_type": "error",
     "traceback": [
      "\u001b[1;31m---------------------------------------------------------------------------\u001b[0m",
      "\u001b[1;31mCalledProcessError\u001b[0m                        Traceback (most recent call last)",
      "\u001b[1;32m~\\AppData\\Local\\Temp/ipykernel_22380/2853313028.py\u001b[0m in \u001b[0;36m<module>\u001b[1;34m\u001b[0m\n\u001b[1;32m----> 1\u001b[1;33m \u001b[0mget_ipython\u001b[0m\u001b[1;33m(\u001b[0m\u001b[1;33m)\u001b[0m\u001b[1;33m.\u001b[0m\u001b[0mrun_cell_magic\u001b[0m\u001b[1;33m(\u001b[0m\u001b[1;34m'bash'\u001b[0m\u001b[1;33m,\u001b[0m \u001b[1;34m''\u001b[0m\u001b[1;33m,\u001b[0m \u001b[1;34m'sqlite3 data/flights.db\\n.schema \\n'\u001b[0m\u001b[1;33m)\u001b[0m\u001b[1;33m\u001b[0m\u001b[1;33m\u001b[0m\u001b[0m\n\u001b[0m",
      "\u001b[1;32mC:\\ProgramData\\Anaconda3\\lib\\site-packages\\IPython\\core\\interactiveshell.py\u001b[0m in \u001b[0;36mrun_cell_magic\u001b[1;34m(self, magic_name, line, cell)\u001b[0m\n\u001b[0;32m   2404\u001b[0m             \u001b[1;32mwith\u001b[0m \u001b[0mself\u001b[0m\u001b[1;33m.\u001b[0m\u001b[0mbuiltin_trap\u001b[0m\u001b[1;33m:\u001b[0m\u001b[1;33m\u001b[0m\u001b[1;33m\u001b[0m\u001b[0m\n\u001b[0;32m   2405\u001b[0m                 \u001b[0margs\u001b[0m \u001b[1;33m=\u001b[0m \u001b[1;33m(\u001b[0m\u001b[0mmagic_arg_s\u001b[0m\u001b[1;33m,\u001b[0m \u001b[0mcell\u001b[0m\u001b[1;33m)\u001b[0m\u001b[1;33m\u001b[0m\u001b[1;33m\u001b[0m\u001b[0m\n\u001b[1;32m-> 2406\u001b[1;33m                 \u001b[0mresult\u001b[0m \u001b[1;33m=\u001b[0m \u001b[0mfn\u001b[0m\u001b[1;33m(\u001b[0m\u001b[1;33m*\u001b[0m\u001b[0margs\u001b[0m\u001b[1;33m,\u001b[0m \u001b[1;33m**\u001b[0m\u001b[0mkwargs\u001b[0m\u001b[1;33m)\u001b[0m\u001b[1;33m\u001b[0m\u001b[1;33m\u001b[0m\u001b[0m\n\u001b[0m\u001b[0;32m   2407\u001b[0m             \u001b[1;32mreturn\u001b[0m \u001b[0mresult\u001b[0m\u001b[1;33m\u001b[0m\u001b[1;33m\u001b[0m\u001b[0m\n\u001b[0;32m   2408\u001b[0m \u001b[1;33m\u001b[0m\u001b[0m\n",
      "\u001b[1;32mC:\\ProgramData\\Anaconda3\\lib\\site-packages\\IPython\\core\\magics\\script.py\u001b[0m in \u001b[0;36mnamed_script_magic\u001b[1;34m(line, cell)\u001b[0m\n\u001b[0;32m    140\u001b[0m             \u001b[1;32melse\u001b[0m\u001b[1;33m:\u001b[0m\u001b[1;33m\u001b[0m\u001b[1;33m\u001b[0m\u001b[0m\n\u001b[0;32m    141\u001b[0m                 \u001b[0mline\u001b[0m \u001b[1;33m=\u001b[0m \u001b[0mscript\u001b[0m\u001b[1;33m\u001b[0m\u001b[1;33m\u001b[0m\u001b[0m\n\u001b[1;32m--> 142\u001b[1;33m             \u001b[1;32mreturn\u001b[0m \u001b[0mself\u001b[0m\u001b[1;33m.\u001b[0m\u001b[0mshebang\u001b[0m\u001b[1;33m(\u001b[0m\u001b[0mline\u001b[0m\u001b[1;33m,\u001b[0m \u001b[0mcell\u001b[0m\u001b[1;33m)\u001b[0m\u001b[1;33m\u001b[0m\u001b[1;33m\u001b[0m\u001b[0m\n\u001b[0m\u001b[0;32m    143\u001b[0m \u001b[1;33m\u001b[0m\u001b[0m\n\u001b[0;32m    144\u001b[0m         \u001b[1;31m# write a basic docstring:\u001b[0m\u001b[1;33m\u001b[0m\u001b[1;33m\u001b[0m\u001b[0m\n",
      "\u001b[1;32mC:\\ProgramData\\Anaconda3\\lib\\site-packages\\decorator.py\u001b[0m in \u001b[0;36mfun\u001b[1;34m(*args, **kw)\u001b[0m\n\u001b[0;32m    230\u001b[0m             \u001b[1;32mif\u001b[0m \u001b[1;32mnot\u001b[0m \u001b[0mkwsyntax\u001b[0m\u001b[1;33m:\u001b[0m\u001b[1;33m\u001b[0m\u001b[1;33m\u001b[0m\u001b[0m\n\u001b[0;32m    231\u001b[0m                 \u001b[0margs\u001b[0m\u001b[1;33m,\u001b[0m \u001b[0mkw\u001b[0m \u001b[1;33m=\u001b[0m \u001b[0mfix\u001b[0m\u001b[1;33m(\u001b[0m\u001b[0margs\u001b[0m\u001b[1;33m,\u001b[0m \u001b[0mkw\u001b[0m\u001b[1;33m,\u001b[0m \u001b[0msig\u001b[0m\u001b[1;33m)\u001b[0m\u001b[1;33m\u001b[0m\u001b[1;33m\u001b[0m\u001b[0m\n\u001b[1;32m--> 232\u001b[1;33m             \u001b[1;32mreturn\u001b[0m \u001b[0mcaller\u001b[0m\u001b[1;33m(\u001b[0m\u001b[0mfunc\u001b[0m\u001b[1;33m,\u001b[0m \u001b[1;33m*\u001b[0m\u001b[1;33m(\u001b[0m\u001b[0mextras\u001b[0m \u001b[1;33m+\u001b[0m \u001b[0margs\u001b[0m\u001b[1;33m)\u001b[0m\u001b[1;33m,\u001b[0m \u001b[1;33m**\u001b[0m\u001b[0mkw\u001b[0m\u001b[1;33m)\u001b[0m\u001b[1;33m\u001b[0m\u001b[1;33m\u001b[0m\u001b[0m\n\u001b[0m\u001b[0;32m    233\u001b[0m     \u001b[0mfun\u001b[0m\u001b[1;33m.\u001b[0m\u001b[0m__name__\u001b[0m \u001b[1;33m=\u001b[0m \u001b[0mfunc\u001b[0m\u001b[1;33m.\u001b[0m\u001b[0m__name__\u001b[0m\u001b[1;33m\u001b[0m\u001b[1;33m\u001b[0m\u001b[0m\n\u001b[0;32m    234\u001b[0m     \u001b[0mfun\u001b[0m\u001b[1;33m.\u001b[0m\u001b[0m__doc__\u001b[0m \u001b[1;33m=\u001b[0m \u001b[0mfunc\u001b[0m\u001b[1;33m.\u001b[0m\u001b[0m__doc__\u001b[0m\u001b[1;33m\u001b[0m\u001b[1;33m\u001b[0m\u001b[0m\n",
      "\u001b[1;32mC:\\ProgramData\\Anaconda3\\lib\\site-packages\\IPython\\core\\magic.py\u001b[0m in \u001b[0;36m<lambda>\u001b[1;34m(f, *a, **k)\u001b[0m\n\u001b[0;32m    185\u001b[0m     \u001b[1;31m# but it's overkill for just that one bit of state.\u001b[0m\u001b[1;33m\u001b[0m\u001b[1;33m\u001b[0m\u001b[0m\n\u001b[0;32m    186\u001b[0m     \u001b[1;32mdef\u001b[0m \u001b[0mmagic_deco\u001b[0m\u001b[1;33m(\u001b[0m\u001b[0marg\u001b[0m\u001b[1;33m)\u001b[0m\u001b[1;33m:\u001b[0m\u001b[1;33m\u001b[0m\u001b[1;33m\u001b[0m\u001b[0m\n\u001b[1;32m--> 187\u001b[1;33m         \u001b[0mcall\u001b[0m \u001b[1;33m=\u001b[0m \u001b[1;32mlambda\u001b[0m \u001b[0mf\u001b[0m\u001b[1;33m,\u001b[0m \u001b[1;33m*\u001b[0m\u001b[0ma\u001b[0m\u001b[1;33m,\u001b[0m \u001b[1;33m**\u001b[0m\u001b[0mk\u001b[0m\u001b[1;33m:\u001b[0m \u001b[0mf\u001b[0m\u001b[1;33m(\u001b[0m\u001b[1;33m*\u001b[0m\u001b[0ma\u001b[0m\u001b[1;33m,\u001b[0m \u001b[1;33m**\u001b[0m\u001b[0mk\u001b[0m\u001b[1;33m)\u001b[0m\u001b[1;33m\u001b[0m\u001b[1;33m\u001b[0m\u001b[0m\n\u001b[0m\u001b[0;32m    188\u001b[0m \u001b[1;33m\u001b[0m\u001b[0m\n\u001b[0;32m    189\u001b[0m         \u001b[1;32mif\u001b[0m \u001b[0mcallable\u001b[0m\u001b[1;33m(\u001b[0m\u001b[0marg\u001b[0m\u001b[1;33m)\u001b[0m\u001b[1;33m:\u001b[0m\u001b[1;33m\u001b[0m\u001b[1;33m\u001b[0m\u001b[0m\n",
      "\u001b[1;32mC:\\ProgramData\\Anaconda3\\lib\\site-packages\\IPython\\core\\magics\\script.py\u001b[0m in \u001b[0;36mshebang\u001b[1;34m(self, line, cell)\u001b[0m\n\u001b[0;32m    243\u001b[0m             \u001b[0msys\u001b[0m\u001b[1;33m.\u001b[0m\u001b[0mstderr\u001b[0m\u001b[1;33m.\u001b[0m\u001b[0mflush\u001b[0m\u001b[1;33m(\u001b[0m\u001b[1;33m)\u001b[0m\u001b[1;33m\u001b[0m\u001b[1;33m\u001b[0m\u001b[0m\n\u001b[0;32m    244\u001b[0m         \u001b[1;32mif\u001b[0m \u001b[0margs\u001b[0m\u001b[1;33m.\u001b[0m\u001b[0mraise_error\u001b[0m \u001b[1;32mand\u001b[0m \u001b[0mp\u001b[0m\u001b[1;33m.\u001b[0m\u001b[0mreturncode\u001b[0m\u001b[1;33m!=\u001b[0m\u001b[1;36m0\u001b[0m\u001b[1;33m:\u001b[0m\u001b[1;33m\u001b[0m\u001b[1;33m\u001b[0m\u001b[0m\n\u001b[1;32m--> 245\u001b[1;33m             \u001b[1;32mraise\u001b[0m \u001b[0mCalledProcessError\u001b[0m\u001b[1;33m(\u001b[0m\u001b[0mp\u001b[0m\u001b[1;33m.\u001b[0m\u001b[0mreturncode\u001b[0m\u001b[1;33m,\u001b[0m \u001b[0mcell\u001b[0m\u001b[1;33m,\u001b[0m \u001b[0moutput\u001b[0m\u001b[1;33m=\u001b[0m\u001b[0mout\u001b[0m\u001b[1;33m,\u001b[0m \u001b[0mstderr\u001b[0m\u001b[1;33m=\u001b[0m\u001b[0merr\u001b[0m\u001b[1;33m)\u001b[0m\u001b[1;33m\u001b[0m\u001b[1;33m\u001b[0m\u001b[0m\n\u001b[0m\u001b[0;32m    246\u001b[0m \u001b[1;33m\u001b[0m\u001b[0m\n\u001b[0;32m    247\u001b[0m     \u001b[1;32mdef\u001b[0m \u001b[0m_run_script\u001b[0m\u001b[1;33m(\u001b[0m\u001b[0mself\u001b[0m\u001b[1;33m,\u001b[0m \u001b[0mp\u001b[0m\u001b[1;33m,\u001b[0m \u001b[0mcell\u001b[0m\u001b[1;33m,\u001b[0m \u001b[0mto_close\u001b[0m\u001b[1;33m)\u001b[0m\u001b[1;33m:\u001b[0m\u001b[1;33m\u001b[0m\u001b[1;33m\u001b[0m\u001b[0m\n",
      "\u001b[1;31mCalledProcessError\u001b[0m: Command 'b'sqlite3 data/flights.db\\n.schema \\n'' returned non-zero exit status 127."
     ]
    }
   ],
   "source": [
    "%%bash\n",
    "sqlite3 data/flights.db\n",
    ".schema "
   ]
  },
  {
   "cell_type": "markdown",
   "id": "b5f9311e",
   "metadata": {
    "slideshow": {
     "slide_type": "slide"
    }
   },
   "source": [
    "#### SELECT statement\n",
    "\n",
    "Let's explore the following clauses and structure:\n",
    "\n",
    "```sql\n",
    "SELECT columns ( * for all fields)\n",
    "FROM table\n",
    "WHERE condition\n",
    "ORDER BY columns\n",
    "LIMIT number (limits to first n entries of table)\n",
    "```"
   ]
  },
  {
   "cell_type": "markdown",
   "id": "df0508db",
   "metadata": {
    "slideshow": {
     "slide_type": "slide"
    }
   },
   "source": [
    "Execute SQL command:"
   ]
  },
  {
   "cell_type": "code",
   "execution_count": 7,
   "id": "e8ab0edd",
   "metadata": {
    "cell_style": "split",
    "slideshow": {
     "slide_type": "fragment"
    }
   },
   "outputs": [],
   "source": [
    "query = cursor_obj.execute(\"\"\"\n",
    "SELECT * \n",
    "FROM airports \n",
    "LIMIT 1\n",
    "\"\"\")"
   ]
  },
  {
   "cell_type": "code",
   "execution_count": 8,
   "id": "c1975613",
   "metadata": {
    "cell_style": "split",
    "scrolled": true,
    "slideshow": {
     "slide_type": "fragment"
    }
   },
   "outputs": [
    {
     "data": {
      "text/plain": [
       "[(0,\n",
       "  '1',\n",
       "  'Goroka',\n",
       "  'Goroka',\n",
       "  'Papua New Guinea',\n",
       "  'GKA',\n",
       "  'AYGA',\n",
       "  '-6.081689',\n",
       "  '145.391881',\n",
       "  '5282',\n",
       "  '10',\n",
       "  'U',\n",
       "  'Pacific/Port_Moresby')]"
      ]
     },
     "execution_count": 8,
     "metadata": {},
     "output_type": "execute_result"
    }
   ],
   "source": [
    "query.fetchall()"
   ]
  },
  {
   "cell_type": "markdown",
   "id": "9d59d9cf",
   "metadata": {
    "slideshow": {
     "slide_type": "slide"
    }
   },
   "source": [
    "**Exercise**\n",
    "\n",
    "Use the cursor object to execute and retrieve the results of the following query:\n",
    "\n",
    "Retrieve all fields for the first five entries of the database and store in a list of tuples."
   ]
  },
  {
   "cell_type": "code",
   "execution_count": 9,
   "id": "734a01b5",
   "metadata": {
    "cell_style": "split",
    "slideshow": {
     "slide_type": "subslide"
    }
   },
   "outputs": [],
   "source": [
    "# EXECUTE THAT QUERY\n",
    "\n",
    "query = cursor_obj.execute(\"\"\"\n",
    "SELECT *\n",
    "FROM airports\n",
    "LIMIT 5\n",
    "\n",
    "\"\"\")"
   ]
  },
  {
   "cell_type": "code",
   "execution_count": 10,
   "id": "872ef4a8",
   "metadata": {
    "cell_style": "split",
    "slideshow": {
     "slide_type": "fragment"
    }
   },
   "outputs": [
    {
     "data": {
      "text/plain": [
       "[(0,\n",
       "  '1',\n",
       "  'Goroka',\n",
       "  'Goroka',\n",
       "  'Papua New Guinea',\n",
       "  'GKA',\n",
       "  'AYGA',\n",
       "  '-6.081689',\n",
       "  '145.391881',\n",
       "  '5282',\n",
       "  '10',\n",
       "  'U',\n",
       "  'Pacific/Port_Moresby'),\n",
       " (1,\n",
       "  '2',\n",
       "  'Madang',\n",
       "  'Madang',\n",
       "  'Papua New Guinea',\n",
       "  'MAG',\n",
       "  'AYMD',\n",
       "  '-5.207083',\n",
       "  '145.7887',\n",
       "  '20',\n",
       "  '10',\n",
       "  'U',\n",
       "  'Pacific/Port_Moresby'),\n",
       " (2,\n",
       "  '3',\n",
       "  'Mount Hagen',\n",
       "  'Mount Hagen',\n",
       "  'Papua New Guinea',\n",
       "  'HGU',\n",
       "  'AYMH',\n",
       "  '-5.826789',\n",
       "  '144.295861',\n",
       "  '5388',\n",
       "  '10',\n",
       "  'U',\n",
       "  'Pacific/Port_Moresby'),\n",
       " (3,\n",
       "  '4',\n",
       "  'Nadzab',\n",
       "  'Nadzab',\n",
       "  'Papua New Guinea',\n",
       "  'LAE',\n",
       "  'AYNZ',\n",
       "  '-6.569828',\n",
       "  '146.726242',\n",
       "  '239',\n",
       "  '10',\n",
       "  'U',\n",
       "  'Pacific/Port_Moresby'),\n",
       " (4,\n",
       "  '5',\n",
       "  'Port Moresby Jacksons Intl',\n",
       "  'Port Moresby',\n",
       "  'Papua New Guinea',\n",
       "  'POM',\n",
       "  'AYPY',\n",
       "  '-9.443383',\n",
       "  '147.22005',\n",
       "  '146',\n",
       "  '10',\n",
       "  'U',\n",
       "  'Pacific/Port_Moresby')]"
      ]
     },
     "execution_count": 10,
     "metadata": {},
     "output_type": "execute_result"
    }
   ],
   "source": [
    "# FETCH DEM RESULTS\n",
    "\n",
    "query.fetchall()"
   ]
  },
  {
   "cell_type": "markdown",
   "id": "3124054e",
   "metadata": {
    "slideshow": {
     "slide_type": "slide"
    }
   },
   "source": [
    "- execute, fetchall protocol gets data in python list form.\n",
    "- can issue commands to create things in database.\n",
    "\n",
    "Now close the connection to the database when you are done."
   ]
  },
  {
   "cell_type": "code",
   "execution_count": 11,
   "id": "f19810f2",
   "metadata": {
    "slideshow": {
     "slide_type": "fragment"
    }
   },
   "outputs": [
    {
     "data": {
      "text/plain": [
       "<sqlite3.Connection at 0x200764de210>"
      ]
     },
     "execution_count": 11,
     "metadata": {},
     "output_type": "execute_result"
    }
   ],
   "source": [
    "con.close()\n",
    "con"
   ]
  },
  {
   "cell_type": "markdown",
   "id": "7bd99590",
   "metadata": {
    "slideshow": {
     "slide_type": "slide"
    }
   },
   "source": [
    "When *just retrieving* tabular data:\n",
    "\n",
    "- Pandas has pd.read_sql(query, database_connection) command."
   ]
  },
  {
   "cell_type": "code",
   "execution_count": 12,
   "id": "c3aa484b",
   "metadata": {
    "slideshow": {
     "slide_type": "slide"
    }
   },
   "outputs": [],
   "source": [
    "airports_query = \\\n",
    "\"\"\"\n",
    "SELECT *\n",
    "FROM airports\n",
    "\"\"\""
   ]
  },
  {
   "cell_type": "markdown",
   "id": "1ae60064",
   "metadata": {
    "slideshow": {
     "slide_type": "fragment"
    }
   },
   "source": [
    "Make sure you have a connection to the sql database open."
   ]
  },
  {
   "cell_type": "code",
   "execution_count": 13,
   "id": "1233a9fc",
   "metadata": {
    "slideshow": {
     "slide_type": "fragment"
    }
   },
   "outputs": [],
   "source": [
    "con = sqlite3.connect('data/flights.db')"
   ]
  },
  {
   "cell_type": "code",
   "execution_count": 16,
   "id": "c78b7787",
   "metadata": {
    "scrolled": true,
    "slideshow": {
     "slide_type": "-"
    }
   },
   "outputs": [
    {
     "data": {
      "text/html": [
       "<div>\n",
       "<style scoped>\n",
       "    .dataframe tbody tr th:only-of-type {\n",
       "        vertical-align: middle;\n",
       "    }\n",
       "\n",
       "    .dataframe tbody tr th {\n",
       "        vertical-align: top;\n",
       "    }\n",
       "\n",
       "    .dataframe thead th {\n",
       "        text-align: right;\n",
       "    }\n",
       "</style>\n",
       "<table border=\"1\" class=\"dataframe\">\n",
       "  <thead>\n",
       "    <tr style=\"text-align: right;\">\n",
       "      <th></th>\n",
       "      <th>index</th>\n",
       "      <th>id</th>\n",
       "      <th>name</th>\n",
       "      <th>city</th>\n",
       "      <th>country</th>\n",
       "      <th>code</th>\n",
       "      <th>icao</th>\n",
       "      <th>latitude</th>\n",
       "      <th>longitude</th>\n",
       "      <th>altitude</th>\n",
       "      <th>offset</th>\n",
       "      <th>dst</th>\n",
       "      <th>timezone</th>\n",
       "    </tr>\n",
       "  </thead>\n",
       "  <tbody>\n",
       "    <tr>\n",
       "      <th>0</th>\n",
       "      <td>0</td>\n",
       "      <td>1</td>\n",
       "      <td>Goroka</td>\n",
       "      <td>Goroka</td>\n",
       "      <td>Papua New Guinea</td>\n",
       "      <td>GKA</td>\n",
       "      <td>AYGA</td>\n",
       "      <td>-6.081689</td>\n",
       "      <td>145.391881</td>\n",
       "      <td>5282</td>\n",
       "      <td>10</td>\n",
       "      <td>U</td>\n",
       "      <td>Pacific/Port_Moresby</td>\n",
       "    </tr>\n",
       "    <tr>\n",
       "      <th>1</th>\n",
       "      <td>1</td>\n",
       "      <td>2</td>\n",
       "      <td>Madang</td>\n",
       "      <td>Madang</td>\n",
       "      <td>Papua New Guinea</td>\n",
       "      <td>MAG</td>\n",
       "      <td>AYMD</td>\n",
       "      <td>-5.207083</td>\n",
       "      <td>145.7887</td>\n",
       "      <td>20</td>\n",
       "      <td>10</td>\n",
       "      <td>U</td>\n",
       "      <td>Pacific/Port_Moresby</td>\n",
       "    </tr>\n",
       "    <tr>\n",
       "      <th>2</th>\n",
       "      <td>2</td>\n",
       "      <td>3</td>\n",
       "      <td>Mount Hagen</td>\n",
       "      <td>Mount Hagen</td>\n",
       "      <td>Papua New Guinea</td>\n",
       "      <td>HGU</td>\n",
       "      <td>AYMH</td>\n",
       "      <td>-5.826789</td>\n",
       "      <td>144.295861</td>\n",
       "      <td>5388</td>\n",
       "      <td>10</td>\n",
       "      <td>U</td>\n",
       "      <td>Pacific/Port_Moresby</td>\n",
       "    </tr>\n",
       "    <tr>\n",
       "      <th>3</th>\n",
       "      <td>3</td>\n",
       "      <td>4</td>\n",
       "      <td>Nadzab</td>\n",
       "      <td>Nadzab</td>\n",
       "      <td>Papua New Guinea</td>\n",
       "      <td>LAE</td>\n",
       "      <td>AYNZ</td>\n",
       "      <td>-6.569828</td>\n",
       "      <td>146.726242</td>\n",
       "      <td>239</td>\n",
       "      <td>10</td>\n",
       "      <td>U</td>\n",
       "      <td>Pacific/Port_Moresby</td>\n",
       "    </tr>\n",
       "    <tr>\n",
       "      <th>4</th>\n",
       "      <td>4</td>\n",
       "      <td>5</td>\n",
       "      <td>Port Moresby Jacksons Intl</td>\n",
       "      <td>Port Moresby</td>\n",
       "      <td>Papua New Guinea</td>\n",
       "      <td>POM</td>\n",
       "      <td>AYPY</td>\n",
       "      <td>-9.443383</td>\n",
       "      <td>147.22005</td>\n",
       "      <td>146</td>\n",
       "      <td>10</td>\n",
       "      <td>U</td>\n",
       "      <td>Pacific/Port_Moresby</td>\n",
       "    </tr>\n",
       "  </tbody>\n",
       "</table>\n",
       "</div>"
      ],
      "text/plain": [
       "   index id                        name          city           country code  \\\n",
       "0      0  1                      Goroka        Goroka  Papua New Guinea  GKA   \n",
       "1      1  2                      Madang        Madang  Papua New Guinea  MAG   \n",
       "2      2  3                 Mount Hagen   Mount Hagen  Papua New Guinea  HGU   \n",
       "3      3  4                      Nadzab        Nadzab  Papua New Guinea  LAE   \n",
       "4      4  5  Port Moresby Jacksons Intl  Port Moresby  Papua New Guinea  POM   \n",
       "\n",
       "   icao   latitude   longitude altitude offset dst              timezone  \n",
       "0  AYGA  -6.081689  145.391881     5282     10   U  Pacific/Port_Moresby  \n",
       "1  AYMD  -5.207083    145.7887       20     10   U  Pacific/Port_Moresby  \n",
       "2  AYMH  -5.826789  144.295861     5388     10   U  Pacific/Port_Moresby  \n",
       "3  AYNZ  -6.569828  146.726242      239     10   U  Pacific/Port_Moresby  \n",
       "4  AYPY  -9.443383   147.22005      146     10   U  Pacific/Port_Moresby  "
      ]
     },
     "execution_count": 16,
     "metadata": {},
     "output_type": "execute_result"
    }
   ],
   "source": [
    "# requires reference to open database connection\n",
    "query_result_df = pd.read_sql(airports_query, con)\n",
    "query_result_df.head()"
   ]
  },
  {
   "cell_type": "markdown",
   "id": "2a5853a5",
   "metadata": {
    "slideshow": {
     "slide_type": "slide"
    }
   },
   "source": [
    "Selecting particular columns:"
   ]
  },
  {
   "cell_type": "code",
   "execution_count": 19,
   "id": "dfb22f9d",
   "metadata": {
    "hidden": true,
    "slideshow": {
     "slide_type": "fragment"
    }
   },
   "outputs": [
    {
     "data": {
      "text/html": [
       "<div>\n",
       "<style scoped>\n",
       "    .dataframe tbody tr th:only-of-type {\n",
       "        vertical-align: middle;\n",
       "    }\n",
       "\n",
       "    .dataframe tbody tr th {\n",
       "        vertical-align: top;\n",
       "    }\n",
       "\n",
       "    .dataframe thead th {\n",
       "        text-align: right;\n",
       "    }\n",
       "</style>\n",
       "<table border=\"1\" class=\"dataframe\">\n",
       "  <thead>\n",
       "    <tr style=\"text-align: right;\">\n",
       "      <th></th>\n",
       "      <th>name</th>\n",
       "      <th>city</th>\n",
       "      <th>country</th>\n",
       "    </tr>\n",
       "  </thead>\n",
       "  <tbody>\n",
       "    <tr>\n",
       "      <th>0</th>\n",
       "      <td>Goroka</td>\n",
       "      <td>Goroka</td>\n",
       "      <td>Papua New Guinea</td>\n",
       "    </tr>\n",
       "    <tr>\n",
       "      <th>1</th>\n",
       "      <td>Madang</td>\n",
       "      <td>Madang</td>\n",
       "      <td>Papua New Guinea</td>\n",
       "    </tr>\n",
       "    <tr>\n",
       "      <th>2</th>\n",
       "      <td>Mount Hagen</td>\n",
       "      <td>Mount Hagen</td>\n",
       "      <td>Papua New Guinea</td>\n",
       "    </tr>\n",
       "    <tr>\n",
       "      <th>3</th>\n",
       "      <td>Nadzab</td>\n",
       "      <td>Nadzab</td>\n",
       "      <td>Papua New Guinea</td>\n",
       "    </tr>\n",
       "    <tr>\n",
       "      <th>4</th>\n",
       "      <td>Port Moresby Jacksons Intl</td>\n",
       "      <td>Port Moresby</td>\n",
       "      <td>Papua New Guinea</td>\n",
       "    </tr>\n",
       "  </tbody>\n",
       "</table>\n",
       "</div>"
      ],
      "text/plain": [
       "                         name          city           country\n",
       "0                      Goroka        Goroka  Papua New Guinea\n",
       "1                      Madang        Madang  Papua New Guinea\n",
       "2                 Mount Hagen   Mount Hagen  Papua New Guinea\n",
       "3                      Nadzab        Nadzab  Papua New Guinea\n",
       "4  Port Moresby Jacksons Intl  Port Moresby  Papua New Guinea"
      ]
     },
     "execution_count": 19,
     "metadata": {},
     "output_type": "execute_result"
    }
   ],
   "source": [
    "query_result_df = pd.read_sql(\"\"\"\n",
    "\n",
    "SELECT name, city, country\n",
    "FROM airports\n",
    "\n",
    "\"\"\", con)\n",
    "\n",
    "query_result_df.head(5)"
   ]
  },
  {
   "cell_type": "markdown",
   "id": "4e9f0ff2",
   "metadata": {
    "heading_collapsed": true,
    "hidden": true,
    "slideshow": {
     "slide_type": "slide"
    }
   },
   "source": [
    "#### DISTINCT\n",
    "- Select only unique results of query."
   ]
  },
  {
   "cell_type": "code",
   "execution_count": 22,
   "id": "21cfed9e",
   "metadata": {
    "hidden": true,
    "slideshow": {
     "slide_type": "fragment"
    }
   },
   "outputs": [
    {
     "data": {
      "text/html": [
       "<div>\n",
       "<style scoped>\n",
       "    .dataframe tbody tr th:only-of-type {\n",
       "        vertical-align: middle;\n",
       "    }\n",
       "\n",
       "    .dataframe tbody tr th {\n",
       "        vertical-align: top;\n",
       "    }\n",
       "\n",
       "    .dataframe thead th {\n",
       "        text-align: right;\n",
       "    }\n",
       "</style>\n",
       "<table border=\"1\" class=\"dataframe\">\n",
       "  <thead>\n",
       "    <tr style=\"text-align: right;\">\n",
       "      <th></th>\n",
       "      <th>country</th>\n",
       "    </tr>\n",
       "  </thead>\n",
       "  <tbody>\n",
       "    <tr>\n",
       "      <th>0</th>\n",
       "      <td>Papua New Guinea</td>\n",
       "    </tr>\n",
       "    <tr>\n",
       "      <th>1</th>\n",
       "      <td>Greenland</td>\n",
       "    </tr>\n",
       "    <tr>\n",
       "      <th>2</th>\n",
       "      <td>Iceland</td>\n",
       "    </tr>\n",
       "    <tr>\n",
       "      <th>3</th>\n",
       "      <td>Canada</td>\n",
       "    </tr>\n",
       "    <tr>\n",
       "      <th>4</th>\n",
       "      <td>Algeria</td>\n",
       "    </tr>\n",
       "  </tbody>\n",
       "</table>\n",
       "</div>"
      ],
      "text/plain": [
       "            country\n",
       "0  Papua New Guinea\n",
       "1         Greenland\n",
       "2           Iceland\n",
       "3            Canada\n",
       "4           Algeria"
      ]
     },
     "execution_count": 22,
     "metadata": {},
     "output_type": "execute_result"
    }
   ],
   "source": [
    "query_result = pd.read_sql(\"\"\"\n",
    "\n",
    "SELECT DISTINCT country\n",
    "FROM airports\n",
    "\n",
    "\"\"\", con)\n",
    "\n",
    "query_result.head()"
   ]
  },
  {
   "cell_type": "markdown",
   "id": "4bb5bd21",
   "metadata": {
    "slideshow": {
     "slide_type": "slide"
    }
   },
   "source": [
    "**Exercise**\n",
    "\n",
    "Get a list of the distinct cities in the database and store it as a pandas Series. What is the number of cities represented in this database? "
   ]
  },
  {
   "cell_type": "code",
   "execution_count": 24,
   "id": "a4c7dbe6",
   "metadata": {
    "slideshow": {
     "slide_type": "fragment"
    }
   },
   "outputs": [
    {
     "data": {
      "text/html": [
       "<div>\n",
       "<style scoped>\n",
       "    .dataframe tbody tr th:only-of-type {\n",
       "        vertical-align: middle;\n",
       "    }\n",
       "\n",
       "    .dataframe tbody tr th {\n",
       "        vertical-align: top;\n",
       "    }\n",
       "\n",
       "    .dataframe thead th {\n",
       "        text-align: right;\n",
       "    }\n",
       "</style>\n",
       "<table border=\"1\" class=\"dataframe\">\n",
       "  <thead>\n",
       "    <tr style=\"text-align: right;\">\n",
       "      <th></th>\n",
       "      <th>city</th>\n",
       "    </tr>\n",
       "  </thead>\n",
       "  <tbody>\n",
       "    <tr>\n",
       "      <th>0</th>\n",
       "      <td>Goroka</td>\n",
       "    </tr>\n",
       "    <tr>\n",
       "      <th>1</th>\n",
       "      <td>Madang</td>\n",
       "    </tr>\n",
       "    <tr>\n",
       "      <th>2</th>\n",
       "      <td>Mount Hagen</td>\n",
       "    </tr>\n",
       "    <tr>\n",
       "      <th>3</th>\n",
       "      <td>Nadzab</td>\n",
       "    </tr>\n",
       "    <tr>\n",
       "      <th>4</th>\n",
       "      <td>Port Moresby</td>\n",
       "    </tr>\n",
       "  </tbody>\n",
       "</table>\n",
       "</div>"
      ],
      "text/plain": [
       "           city\n",
       "0        Goroka\n",
       "1        Madang\n",
       "2   Mount Hagen\n",
       "3        Nadzab\n",
       "4  Port Moresby"
      ]
     },
     "execution_count": 24,
     "metadata": {},
     "output_type": "execute_result"
    }
   ],
   "source": [
    "# Do it.\n",
    "query_result = pd.read_sql(\"\"\"\n",
    "\n",
    "SELECT DISTINCT city\n",
    "FROM airports\n",
    "\n",
    "\"\"\", con)\n",
    "   \n",
    "query_result.head()"
   ]
  },
  {
   "cell_type": "code",
   "execution_count": 25,
   "id": "34bf496d",
   "metadata": {},
   "outputs": [],
   "source": [
    "query_series = query_result['city']"
   ]
  },
  {
   "cell_type": "code",
   "execution_count": 26,
   "id": "75c22a42",
   "metadata": {},
   "outputs": [
    {
     "data": {
      "text/plain": [
       "(6977,)"
      ]
     },
     "execution_count": 26,
     "metadata": {},
     "output_type": "execute_result"
    }
   ],
   "source": [
    "query_series.shape"
   ]
  },
  {
   "cell_type": "markdown",
   "id": "4cbbf6e1",
   "metadata": {
    "slideshow": {
     "slide_type": "slide"
    }
   },
   "source": [
    "**Exercise**\n",
    "\n",
    "Get the cities for each airport in the database and store it as a pandas Series. \n",
    "\n",
    "Then get me the number of airports in each city and the number of unique cities. You can use Pandas functions for this.\n"
   ]
  },
  {
   "cell_type": "code",
   "execution_count": null,
   "id": "5cc6dca8",
   "metadata": {
    "slideshow": {
     "slide_type": "fragment"
    }
   },
   "outputs": [],
   "source": [
    "cities = pd.read_sql(\"\"\"\n",
    "\n",
    "\n",
    "\"\"\", con)\n",
    "\n",
    "cities[\"city\"].value_counts()"
   ]
  },
  {
   "cell_type": "markdown",
   "id": "7698d1d2",
   "metadata": {
    "slideshow": {
     "slide_type": "slide"
    }
   },
   "source": [
    "#### AS modifier\n",
    "\n",
    "`AS`: renaming a column in the query and returned result."
   ]
  },
  {
   "cell_type": "code",
   "execution_count": 27,
   "id": "ddae5bc6",
   "metadata": {
    "hidden": true,
    "scrolled": true,
    "slideshow": {
     "slide_type": "fragment"
    }
   },
   "outputs": [
    {
     "data": {
      "text/html": [
       "<div>\n",
       "<style scoped>\n",
       "    .dataframe tbody tr th:only-of-type {\n",
       "        vertical-align: middle;\n",
       "    }\n",
       "\n",
       "    .dataframe tbody tr th {\n",
       "        vertical-align: top;\n",
       "    }\n",
       "\n",
       "    .dataframe thead th {\n",
       "        text-align: right;\n",
       "    }\n",
       "</style>\n",
       "<table border=\"1\" class=\"dataframe\">\n",
       "  <thead>\n",
       "    <tr style=\"text-align: right;\">\n",
       "      <th></th>\n",
       "      <th>Airport_City</th>\n",
       "      <th>Airport_Country</th>\n",
       "    </tr>\n",
       "  </thead>\n",
       "  <tbody>\n",
       "    <tr>\n",
       "      <th>0</th>\n",
       "      <td>Goroka</td>\n",
       "      <td>Papua New Guinea</td>\n",
       "    </tr>\n",
       "    <tr>\n",
       "      <th>1</th>\n",
       "      <td>Madang</td>\n",
       "      <td>Papua New Guinea</td>\n",
       "    </tr>\n",
       "    <tr>\n",
       "      <th>2</th>\n",
       "      <td>Mount Hagen</td>\n",
       "      <td>Papua New Guinea</td>\n",
       "    </tr>\n",
       "    <tr>\n",
       "      <th>3</th>\n",
       "      <td>Nadzab</td>\n",
       "      <td>Papua New Guinea</td>\n",
       "    </tr>\n",
       "    <tr>\n",
       "      <th>4</th>\n",
       "      <td>Port Moresby</td>\n",
       "      <td>Papua New Guinea</td>\n",
       "    </tr>\n",
       "  </tbody>\n",
       "</table>\n",
       "</div>"
      ],
      "text/plain": [
       "   Airport_City   Airport_Country\n",
       "0        Goroka  Papua New Guinea\n",
       "1        Madang  Papua New Guinea\n",
       "2   Mount Hagen  Papua New Guinea\n",
       "3        Nadzab  Papua New Guinea\n",
       "4  Port Moresby  Papua New Guinea"
      ]
     },
     "execution_count": 27,
     "metadata": {},
     "output_type": "execute_result"
    }
   ],
   "source": [
    "sql_query = pd.read_sql(\"\"\"\n",
    "\n",
    "SELECT city AS \"Airport_City\", \n",
    "       country AS \"Airport_Country\"\n",
    "FROM airports\n",
    "\n",
    "\"\"\", con)\n",
    "\n",
    "sql_query.head()"
   ]
  },
  {
   "cell_type": "markdown",
   "id": "ead4af56",
   "metadata": {
    "slideshow": {
     "slide_type": "subslide"
    }
   },
   "source": [
    "Some SQL dialects do not require the AS statement:"
   ]
  },
  {
   "cell_type": "code",
   "execution_count": 28,
   "id": "c678028f",
   "metadata": {},
   "outputs": [
    {
     "data": {
      "text/html": [
       "<div>\n",
       "<style scoped>\n",
       "    .dataframe tbody tr th:only-of-type {\n",
       "        vertical-align: middle;\n",
       "    }\n",
       "\n",
       "    .dataframe tbody tr th {\n",
       "        vertical-align: top;\n",
       "    }\n",
       "\n",
       "    .dataframe thead th {\n",
       "        text-align: right;\n",
       "    }\n",
       "</style>\n",
       "<table border=\"1\" class=\"dataframe\">\n",
       "  <thead>\n",
       "    <tr style=\"text-align: right;\">\n",
       "      <th></th>\n",
       "      <th>Airport City</th>\n",
       "      <th>Airport Country</th>\n",
       "    </tr>\n",
       "  </thead>\n",
       "  <tbody>\n",
       "    <tr>\n",
       "      <th>0</th>\n",
       "      <td>Goroka</td>\n",
       "      <td>Papua New Guinea</td>\n",
       "    </tr>\n",
       "    <tr>\n",
       "      <th>1</th>\n",
       "      <td>Madang</td>\n",
       "      <td>Papua New Guinea</td>\n",
       "    </tr>\n",
       "    <tr>\n",
       "      <th>2</th>\n",
       "      <td>Mount Hagen</td>\n",
       "      <td>Papua New Guinea</td>\n",
       "    </tr>\n",
       "    <tr>\n",
       "      <th>3</th>\n",
       "      <td>Nadzab</td>\n",
       "      <td>Papua New Guinea</td>\n",
       "    </tr>\n",
       "    <tr>\n",
       "      <th>4</th>\n",
       "      <td>Port Moresby</td>\n",
       "      <td>Papua New Guinea</td>\n",
       "    </tr>\n",
       "  </tbody>\n",
       "</table>\n",
       "</div>"
      ],
      "text/plain": [
       "   Airport City   Airport Country\n",
       "0        Goroka  Papua New Guinea\n",
       "1        Madang  Papua New Guinea\n",
       "2   Mount Hagen  Papua New Guinea\n",
       "3        Nadzab  Papua New Guinea\n",
       "4  Port Moresby  Papua New Guinea"
      ]
     },
     "execution_count": 28,
     "metadata": {},
     "output_type": "execute_result"
    }
   ],
   "source": [
    "sql_query = pd.read_sql(\"\"\"\n",
    "\n",
    "SELECT city \"Airport City\", \n",
    "       country \"Airport Country\"\n",
    "FROM airports\n",
    "\n",
    "\"\"\", con)\n",
    "\n",
    "sql_query.head()"
   ]
  },
  {
   "cell_type": "markdown",
   "id": "19104d10",
   "metadata": {
    "cell_style": "split",
    "hidden": true,
    "slideshow": {
     "slide_type": "slide"
    }
   },
   "source": [
    "#### Functions\n",
    "Can use predefined functions in SELECT statements:\n",
    "<br>\n",
    "<br>\n",
    "SELECT FUNCTION(columns)\n",
    "<br>\n",
    "FROM table\n",
    "\n",
    "Applies function to the each column and spits out new table."
   ]
  },
  {
   "cell_type": "markdown",
   "id": "4ba14107",
   "metadata": {
    "cell_style": "split",
    "slideshow": {
     "slide_type": "fragment"
    }
   },
   "source": [
    "Functions can be: \n",
    "- Transformations on columns:\n",
    "    - Convert each element in a string column to upper case.\n",
    "- Aggregation:\n",
    "    - statistic on each field in a table \n",
    "    - e.g. max, min, mean, sum, etc."
   ]
  },
  {
   "cell_type": "markdown",
   "id": "64371b4b",
   "metadata": {
    "slideshow": {
     "slide_type": "slide"
    }
   },
   "source": [
    "#### Transformation"
   ]
  },
  {
   "cell_type": "code",
   "execution_count": 29,
   "id": "c847f703",
   "metadata": {
    "hidden": true,
    "scrolled": true,
    "slideshow": {
     "slide_type": "fragment"
    }
   },
   "outputs": [
    {
     "data": {
      "text/html": [
       "<div>\n",
       "<style scoped>\n",
       "    .dataframe tbody tr th:only-of-type {\n",
       "        vertical-align: middle;\n",
       "    }\n",
       "\n",
       "    .dataframe tbody tr th {\n",
       "        vertical-align: top;\n",
       "    }\n",
       "\n",
       "    .dataframe thead th {\n",
       "        text-align: right;\n",
       "    }\n",
       "</style>\n",
       "<table border=\"1\" class=\"dataframe\">\n",
       "  <thead>\n",
       "    <tr style=\"text-align: right;\">\n",
       "      <th></th>\n",
       "      <th>UPPER(name)</th>\n",
       "      <th>LENGTH(name)</th>\n",
       "    </tr>\n",
       "  </thead>\n",
       "  <tbody>\n",
       "    <tr>\n",
       "      <th>0</th>\n",
       "      <td>GOROKA</td>\n",
       "      <td>6</td>\n",
       "    </tr>\n",
       "    <tr>\n",
       "      <th>1</th>\n",
       "      <td>MADANG</td>\n",
       "      <td>6</td>\n",
       "    </tr>\n",
       "    <tr>\n",
       "      <th>2</th>\n",
       "      <td>MOUNT HAGEN</td>\n",
       "      <td>11</td>\n",
       "    </tr>\n",
       "    <tr>\n",
       "      <th>3</th>\n",
       "      <td>NADZAB</td>\n",
       "      <td>6</td>\n",
       "    </tr>\n",
       "    <tr>\n",
       "      <th>4</th>\n",
       "      <td>PORT MORESBY JACKSONS INTL</td>\n",
       "      <td>26</td>\n",
       "    </tr>\n",
       "  </tbody>\n",
       "</table>\n",
       "</div>"
      ],
      "text/plain": [
       "                  UPPER(name)  LENGTH(name)\n",
       "0                      GOROKA             6\n",
       "1                      MADANG             6\n",
       "2                 MOUNT HAGEN            11\n",
       "3                      NADZAB             6\n",
       "4  PORT MORESBY JACKSONS INTL            26"
      ]
     },
     "execution_count": 29,
     "metadata": {},
     "output_type": "execute_result"
    }
   ],
   "source": [
    "sql_query_df = pd.read_sql(\"\"\"\n",
    "\n",
    "SELECT UPPER(name),\n",
    "       LENGTH(name) \n",
    "       \n",
    "FROM airports\n",
    "\n",
    "\"\"\", con)\n",
    "\n",
    "sql_query_df.head()"
   ]
  },
  {
   "cell_type": "markdown",
   "id": "1859c56c",
   "metadata": {
    "slideshow": {
     "slide_type": "fragment"
    }
   },
   "source": [
    "But thats a little ugly. What can we do to make this nicer?"
   ]
  },
  {
   "cell_type": "markdown",
   "id": "8e6f0b3d",
   "metadata": {
    "slideshow": {
     "slide_type": "slide"
    }
   },
   "source": [
    "**Exercise**\n",
    "\n",
    "Perform the same query with these derived fields named in a better way."
   ]
  },
  {
   "cell_type": "code",
   "execution_count": 30,
   "id": "77c138f2",
   "metadata": {
    "slideshow": {
     "slide_type": "fragment"
    }
   },
   "outputs": [
    {
     "data": {
      "text/html": [
       "<div>\n",
       "<style scoped>\n",
       "    .dataframe tbody tr th:only-of-type {\n",
       "        vertical-align: middle;\n",
       "    }\n",
       "\n",
       "    .dataframe tbody tr th {\n",
       "        vertical-align: top;\n",
       "    }\n",
       "\n",
       "    .dataframe thead th {\n",
       "        text-align: right;\n",
       "    }\n",
       "</style>\n",
       "<table border=\"1\" class=\"dataframe\">\n",
       "  <thead>\n",
       "    <tr style=\"text-align: right;\">\n",
       "      <th></th>\n",
       "      <th>name_uppercased</th>\n",
       "      <th>name_length</th>\n",
       "    </tr>\n",
       "  </thead>\n",
       "  <tbody>\n",
       "    <tr>\n",
       "      <th>0</th>\n",
       "      <td>GOROKA</td>\n",
       "      <td>6</td>\n",
       "    </tr>\n",
       "    <tr>\n",
       "      <th>1</th>\n",
       "      <td>MADANG</td>\n",
       "      <td>6</td>\n",
       "    </tr>\n",
       "    <tr>\n",
       "      <th>2</th>\n",
       "      <td>MOUNT HAGEN</td>\n",
       "      <td>11</td>\n",
       "    </tr>\n",
       "    <tr>\n",
       "      <th>3</th>\n",
       "      <td>NADZAB</td>\n",
       "      <td>6</td>\n",
       "    </tr>\n",
       "    <tr>\n",
       "      <th>4</th>\n",
       "      <td>PORT MORESBY JACKSONS INTL</td>\n",
       "      <td>26</td>\n",
       "    </tr>\n",
       "  </tbody>\n",
       "</table>\n",
       "</div>"
      ],
      "text/plain": [
       "              name_uppercased  name_length\n",
       "0                      GOROKA            6\n",
       "1                      MADANG            6\n",
       "2                 MOUNT HAGEN           11\n",
       "3                      NADZAB            6\n",
       "4  PORT MORESBY JACKSONS INTL           26"
      ]
     },
     "execution_count": 30,
     "metadata": {},
     "output_type": "execute_result"
    }
   ],
   "source": [
    "sql_query_df = pd.read_sql(\"\"\"\n",
    "\n",
    "SELECT UPPER(name) AS name_uppercased,\n",
    "       LENGTH(name) AS name_length\n",
    "       \n",
    "FROM airports\n",
    "\n",
    "\"\"\", con)\n",
    "\n",
    "sql_query_df.head()"
   ]
  },
  {
   "cell_type": "markdown",
   "id": "369b1aff",
   "metadata": {
    "heading_collapsed": true,
    "hidden": true,
    "slideshow": {
     "slide_type": "slide"
    }
   },
   "source": [
    "#### Aggregation\n",
    "- MAX()\n",
    "- MIN()\n",
    "- SUM()\n",
    "- AVG()\n",
    "- COUNT()"
   ]
  },
  {
   "cell_type": "markdown",
   "id": "9970f853",
   "metadata": {
    "slideshow": {
     "slide_type": "subslide"
    }
   },
   "source": [
    "Get count of entries in table:"
   ]
  },
  {
   "cell_type": "code",
   "execution_count": 31,
   "id": "7a77af44",
   "metadata": {
    "slideshow": {
     "slide_type": "fragment"
    }
   },
   "outputs": [
    {
     "data": {
      "text/html": [
       "<div>\n",
       "<style scoped>\n",
       "    .dataframe tbody tr th:only-of-type {\n",
       "        vertical-align: middle;\n",
       "    }\n",
       "\n",
       "    .dataframe tbody tr th {\n",
       "        vertical-align: top;\n",
       "    }\n",
       "\n",
       "    .dataframe thead th {\n",
       "        text-align: right;\n",
       "    }\n",
       "</style>\n",
       "<table border=\"1\" class=\"dataframe\">\n",
       "  <thead>\n",
       "    <tr style=\"text-align: right;\">\n",
       "      <th></th>\n",
       "      <th>count</th>\n",
       "    </tr>\n",
       "  </thead>\n",
       "  <tbody>\n",
       "    <tr>\n",
       "      <th>0</th>\n",
       "      <td>8107</td>\n",
       "    </tr>\n",
       "  </tbody>\n",
       "</table>\n",
       "</div>"
      ],
      "text/plain": [
       "   count\n",
       "0   8107"
      ]
     },
     "execution_count": 31,
     "metadata": {},
     "output_type": "execute_result"
    }
   ],
   "source": [
    "sql_query_df = pd.read_sql(\"\"\"\n",
    "\n",
    "SELECT COUNT(*) AS count\n",
    "FROM airports\n",
    "\n",
    "\n",
    "\"\"\", con)\n",
    "\n",
    "sql_query_df"
   ]
  },
  {
   "cell_type": "markdown",
   "id": "c3d94e6e",
   "metadata": {
    "slideshow": {
     "slide_type": "slide"
    }
   },
   "source": [
    "Get count of non-missing entries in a given field:\n",
    "\n",
    "\n",
    "SELECT COUNT(field_name)\n",
    "FROM table"
   ]
  },
  {
   "cell_type": "code",
   "execution_count": 32,
   "id": "69a5cf38",
   "metadata": {
    "slideshow": {
     "slide_type": "fragment"
    }
   },
   "outputs": [
    {
     "data": {
      "text/html": [
       "<div>\n",
       "<style scoped>\n",
       "    .dataframe tbody tr th:only-of-type {\n",
       "        vertical-align: middle;\n",
       "    }\n",
       "\n",
       "    .dataframe tbody tr th {\n",
       "        vertical-align: top;\n",
       "    }\n",
       "\n",
       "    .dataframe thead th {\n",
       "        text-align: right;\n",
       "    }\n",
       "</style>\n",
       "<table border=\"1\" class=\"dataframe\">\n",
       "  <thead>\n",
       "    <tr style=\"text-align: right;\">\n",
       "      <th></th>\n",
       "      <th>code_count</th>\n",
       "    </tr>\n",
       "  </thead>\n",
       "  <tbody>\n",
       "    <tr>\n",
       "      <th>0</th>\n",
       "      <td>5880</td>\n",
       "    </tr>\n",
       "  </tbody>\n",
       "</table>\n",
       "</div>"
      ],
      "text/plain": [
       "   code_count\n",
       "0        5880"
      ]
     },
     "execution_count": 32,
     "metadata": {},
     "output_type": "execute_result"
    }
   ],
   "source": [
    "sql_query_df = pd.read_sql(\"\"\"\n",
    "\n",
    "SELECT COUNT(code) AS code_count\n",
    "FROM airports\n",
    "\n",
    "\n",
    "\"\"\", con)\n",
    "\n",
    "sql_query_df"
   ]
  },
  {
   "cell_type": "markdown",
   "id": "c2f2395b",
   "metadata": {
    "slideshow": {
     "slide_type": "slide"
    }
   },
   "source": [
    "Number of Distinct countries in country field of airports table:"
   ]
  },
  {
   "cell_type": "code",
   "execution_count": 33,
   "id": "54cacd13",
   "metadata": {
    "slideshow": {
     "slide_type": "fragment"
    }
   },
   "outputs": [
    {
     "data": {
      "text/html": [
       "<div>\n",
       "<style scoped>\n",
       "    .dataframe tbody tr th:only-of-type {\n",
       "        vertical-align: middle;\n",
       "    }\n",
       "\n",
       "    .dataframe tbody tr th {\n",
       "        vertical-align: top;\n",
       "    }\n",
       "\n",
       "    .dataframe thead th {\n",
       "        text-align: right;\n",
       "    }\n",
       "</style>\n",
       "<table border=\"1\" class=\"dataframe\">\n",
       "  <thead>\n",
       "    <tr style=\"text-align: right;\">\n",
       "      <th></th>\n",
       "      <th>country_count</th>\n",
       "    </tr>\n",
       "  </thead>\n",
       "  <tbody>\n",
       "    <tr>\n",
       "      <th>0</th>\n",
       "      <td>240</td>\n",
       "    </tr>\n",
       "  </tbody>\n",
       "</table>\n",
       "</div>"
      ],
      "text/plain": [
       "   country_count\n",
       "0            240"
      ]
     },
     "execution_count": 33,
     "metadata": {},
     "output_type": "execute_result"
    }
   ],
   "source": [
    "\n",
    "sql_query_df = pd.read_sql(\"\"\"\n",
    "\n",
    "SELECT COUNT(DISTINCT country) AS country_count\n",
    "FROM airports\n",
    "\n",
    "\n",
    "\"\"\", con)\n",
    "\n",
    "sql_query_df"
   ]
  },
  {
   "cell_type": "markdown",
   "id": "83c124c4",
   "metadata": {
    "slideshow": {
     "slide_type": "slide"
    }
   },
   "source": [
    "Let's take a look at our original table again."
   ]
  },
  {
   "cell_type": "code",
   "execution_count": 34,
   "id": "df97f2b8",
   "metadata": {
    "cell_style": "center",
    "hidden": true,
    "slideshow": {
     "slide_type": "fragment"
    }
   },
   "outputs": [
    {
     "data": {
      "text/html": [
       "<div>\n",
       "<style scoped>\n",
       "    .dataframe tbody tr th:only-of-type {\n",
       "        vertical-align: middle;\n",
       "    }\n",
       "\n",
       "    .dataframe tbody tr th {\n",
       "        vertical-align: top;\n",
       "    }\n",
       "\n",
       "    .dataframe thead th {\n",
       "        text-align: right;\n",
       "    }\n",
       "</style>\n",
       "<table border=\"1\" class=\"dataframe\">\n",
       "  <thead>\n",
       "    <tr style=\"text-align: right;\">\n",
       "      <th></th>\n",
       "      <th>index</th>\n",
       "      <th>id</th>\n",
       "      <th>name</th>\n",
       "      <th>city</th>\n",
       "      <th>country</th>\n",
       "      <th>code</th>\n",
       "      <th>icao</th>\n",
       "      <th>latitude</th>\n",
       "      <th>longitude</th>\n",
       "      <th>altitude</th>\n",
       "      <th>offset</th>\n",
       "      <th>dst</th>\n",
       "      <th>timezone</th>\n",
       "    </tr>\n",
       "  </thead>\n",
       "  <tbody>\n",
       "    <tr>\n",
       "      <th>0</th>\n",
       "      <td>0</td>\n",
       "      <td>1</td>\n",
       "      <td>Goroka</td>\n",
       "      <td>Goroka</td>\n",
       "      <td>Papua New Guinea</td>\n",
       "      <td>GKA</td>\n",
       "      <td>AYGA</td>\n",
       "      <td>-6.081689</td>\n",
       "      <td>145.391881</td>\n",
       "      <td>5282</td>\n",
       "      <td>10</td>\n",
       "      <td>U</td>\n",
       "      <td>Pacific/Port_Moresby</td>\n",
       "    </tr>\n",
       "    <tr>\n",
       "      <th>1</th>\n",
       "      <td>1</td>\n",
       "      <td>2</td>\n",
       "      <td>Madang</td>\n",
       "      <td>Madang</td>\n",
       "      <td>Papua New Guinea</td>\n",
       "      <td>MAG</td>\n",
       "      <td>AYMD</td>\n",
       "      <td>-5.207083</td>\n",
       "      <td>145.7887</td>\n",
       "      <td>20</td>\n",
       "      <td>10</td>\n",
       "      <td>U</td>\n",
       "      <td>Pacific/Port_Moresby</td>\n",
       "    </tr>\n",
       "    <tr>\n",
       "      <th>2</th>\n",
       "      <td>2</td>\n",
       "      <td>3</td>\n",
       "      <td>Mount Hagen</td>\n",
       "      <td>Mount Hagen</td>\n",
       "      <td>Papua New Guinea</td>\n",
       "      <td>HGU</td>\n",
       "      <td>AYMH</td>\n",
       "      <td>-5.826789</td>\n",
       "      <td>144.295861</td>\n",
       "      <td>5388</td>\n",
       "      <td>10</td>\n",
       "      <td>U</td>\n",
       "      <td>Pacific/Port_Moresby</td>\n",
       "    </tr>\n",
       "    <tr>\n",
       "      <th>3</th>\n",
       "      <td>3</td>\n",
       "      <td>4</td>\n",
       "      <td>Nadzab</td>\n",
       "      <td>Nadzab</td>\n",
       "      <td>Papua New Guinea</td>\n",
       "      <td>LAE</td>\n",
       "      <td>AYNZ</td>\n",
       "      <td>-6.569828</td>\n",
       "      <td>146.726242</td>\n",
       "      <td>239</td>\n",
       "      <td>10</td>\n",
       "      <td>U</td>\n",
       "      <td>Pacific/Port_Moresby</td>\n",
       "    </tr>\n",
       "    <tr>\n",
       "      <th>4</th>\n",
       "      <td>4</td>\n",
       "      <td>5</td>\n",
       "      <td>Port Moresby Jacksons Intl</td>\n",
       "      <td>Port Moresby</td>\n",
       "      <td>Papua New Guinea</td>\n",
       "      <td>POM</td>\n",
       "      <td>AYPY</td>\n",
       "      <td>-9.443383</td>\n",
       "      <td>147.22005</td>\n",
       "      <td>146</td>\n",
       "      <td>10</td>\n",
       "      <td>U</td>\n",
       "      <td>Pacific/Port_Moresby</td>\n",
       "    </tr>\n",
       "  </tbody>\n",
       "</table>\n",
       "</div>"
      ],
      "text/plain": [
       "   index id                        name          city           country code  \\\n",
       "0      0  1                      Goroka        Goroka  Papua New Guinea  GKA   \n",
       "1      1  2                      Madang        Madang  Papua New Guinea  MAG   \n",
       "2      2  3                 Mount Hagen   Mount Hagen  Papua New Guinea  HGU   \n",
       "3      3  4                      Nadzab        Nadzab  Papua New Guinea  LAE   \n",
       "4      4  5  Port Moresby Jacksons Intl  Port Moresby  Papua New Guinea  POM   \n",
       "\n",
       "   icao   latitude   longitude altitude offset dst              timezone  \n",
       "0  AYGA  -6.081689  145.391881     5282     10   U  Pacific/Port_Moresby  \n",
       "1  AYMD  -5.207083    145.7887       20     10   U  Pacific/Port_Moresby  \n",
       "2  AYMH  -5.826789  144.295861     5388     10   U  Pacific/Port_Moresby  \n",
       "3  AYNZ  -6.569828  146.726242      239     10   U  Pacific/Port_Moresby  \n",
       "4  AYPY  -9.443383   147.22005      146     10   U  Pacific/Port_Moresby  "
      ]
     },
     "execution_count": 34,
     "metadata": {},
     "output_type": "execute_result"
    }
   ],
   "source": [
    "sql_query_df = pd.read_sql(\"\"\"\n",
    "\n",
    "SELECT * \n",
    "FROM airports\n",
    "LIMIT 5\n",
    "\n",
    "\"\"\", con)\n",
    "\n",
    "sql_query_df"
   ]
  },
  {
   "cell_type": "markdown",
   "id": "31b66fbf",
   "metadata": {
    "slideshow": {
     "slide_type": "slide"
    }
   },
   "source": [
    "Get maximum altitude in dataset along with corresponding airport. "
   ]
  },
  {
   "cell_type": "code",
   "execution_count": 35,
   "id": "e1691825",
   "metadata": {
    "hidden": true,
    "slideshow": {
     "slide_type": "fragment"
    }
   },
   "outputs": [
    {
     "data": {
      "text/html": [
       "<div>\n",
       "<style scoped>\n",
       "    .dataframe tbody tr th:only-of-type {\n",
       "        vertical-align: middle;\n",
       "    }\n",
       "\n",
       "    .dataframe tbody tr th {\n",
       "        vertical-align: top;\n",
       "    }\n",
       "\n",
       "    .dataframe thead th {\n",
       "        text-align: right;\n",
       "    }\n",
       "</style>\n",
       "<table border=\"1\" class=\"dataframe\">\n",
       "  <thead>\n",
       "    <tr style=\"text-align: right;\">\n",
       "      <th></th>\n",
       "      <th>Airport Name</th>\n",
       "      <th>Altitude (ft)</th>\n",
       "    </tr>\n",
       "  </thead>\n",
       "  <tbody>\n",
       "    <tr>\n",
       "      <th>0</th>\n",
       "      <td>Dauphin Barker</td>\n",
       "      <td>999</td>\n",
       "    </tr>\n",
       "  </tbody>\n",
       "</table>\n",
       "</div>"
      ],
      "text/plain": [
       "     Airport Name Altitude (ft)\n",
       "0  Dauphin Barker           999"
      ]
     },
     "execution_count": 35,
     "metadata": {},
     "output_type": "execute_result"
    }
   ],
   "source": [
    "sql_query_df = pd.read_sql(\"\"\"\n",
    "\n",
    "SELECT name AS \"Airport Name\", \n",
    "    MAX(altitude) AS \"Altitude (ft)\"      \n",
    "FROM airports\n",
    "\n",
    "\"\"\", con)\n",
    "\n",
    "sql_query_df"
   ]
  },
  {
   "cell_type": "markdown",
   "id": "ffcf9727",
   "metadata": {
    "slideshow": {
     "slide_type": "fragment"
    }
   },
   "source": [
    "Something is wrong here. Make sure that your column is the right datatype for the function to avoid unexpected results."
   ]
  },
  {
   "cell_type": "markdown",
   "id": "fd0cb5b0",
   "metadata": {
    "heading_collapsed": true,
    "hidden": true,
    "slideshow": {
     "slide_type": "slide"
    }
   },
   "source": [
    "#### `CAST()`\n",
    "\n",
    "- can enforce typing on a given field."
   ]
  },
  {
   "cell_type": "code",
   "execution_count": 36,
   "id": "94e9e381",
   "metadata": {
    "hidden": true,
    "slideshow": {
     "slide_type": "fragment"
    }
   },
   "outputs": [
    {
     "data": {
      "text/html": [
       "<div>\n",
       "<style scoped>\n",
       "    .dataframe tbody tr th:only-of-type {\n",
       "        vertical-align: middle;\n",
       "    }\n",
       "\n",
       "    .dataframe tbody tr th {\n",
       "        vertical-align: top;\n",
       "    }\n",
       "\n",
       "    .dataframe thead th {\n",
       "        text-align: right;\n",
       "    }\n",
       "</style>\n",
       "<table border=\"1\" class=\"dataframe\">\n",
       "  <thead>\n",
       "    <tr style=\"text-align: right;\">\n",
       "      <th></th>\n",
       "      <th>Airport Name</th>\n",
       "      <th>Altitude (ft)</th>\n",
       "    </tr>\n",
       "  </thead>\n",
       "  <tbody>\n",
       "    <tr>\n",
       "      <th>0</th>\n",
       "      <td>Yading Daocheng</td>\n",
       "      <td>14472.0</td>\n",
       "    </tr>\n",
       "  </tbody>\n",
       "</table>\n",
       "</div>"
      ],
      "text/plain": [
       "      Airport Name  Altitude (ft)\n",
       "0  Yading Daocheng        14472.0"
      ]
     },
     "execution_count": 36,
     "metadata": {},
     "output_type": "execute_result"
    }
   ],
   "source": [
    "sql_query_df = pd.read_sql(\"\"\"\n",
    "\n",
    "SELECT name AS \"Airport Name\", \n",
    "       MAX(CAST(altitude as float)) AS \"Altitude (ft)\"\n",
    "       \n",
    "FROM airports\n",
    "\n",
    "\"\"\", con)\n",
    "\n",
    "sql_query_df"
   ]
  },
  {
   "cell_type": "markdown",
   "id": "d85fca10",
   "metadata": {
    "slideshow": {
     "slide_type": "slide"
    }
   },
   "source": [
    "Let's get the average altitude:"
   ]
  },
  {
   "cell_type": "code",
   "execution_count": 38,
   "id": "810c2b05",
   "metadata": {
    "cell_style": "center",
    "slideshow": {
     "slide_type": "fragment"
    }
   },
   "outputs": [
    {
     "data": {
      "text/html": [
       "<div>\n",
       "<style scoped>\n",
       "    .dataframe tbody tr th:only-of-type {\n",
       "        vertical-align: middle;\n",
       "    }\n",
       "\n",
       "    .dataframe tbody tr th {\n",
       "        vertical-align: top;\n",
       "    }\n",
       "\n",
       "    .dataframe thead th {\n",
       "        text-align: right;\n",
       "    }\n",
       "</style>\n",
       "<table border=\"1\" class=\"dataframe\">\n",
       "  <thead>\n",
       "    <tr style=\"text-align: right;\">\n",
       "      <th></th>\n",
       "      <th>Average Altitude (ft)</th>\n",
       "    </tr>\n",
       "  </thead>\n",
       "  <tbody>\n",
       "    <tr>\n",
       "      <th>0</th>\n",
       "      <td>933</td>\n",
       "    </tr>\n",
       "  </tbody>\n",
       "</table>\n",
       "</div>"
      ],
      "text/plain": [
       "   Average Altitude (ft)\n",
       "0                    933"
      ]
     },
     "execution_count": 38,
     "metadata": {},
     "output_type": "execute_result"
    }
   ],
   "source": [
    "sql_query_df = pd.read_sql(\"\"\"\n",
    "\n",
    "SELECT \n",
    "CAST(AVG(CAST(altitude as int)) AS INT) AS \"Average Altitude (ft)\"\n",
    "FROM airports\n",
    "\n",
    "\"\"\", con)\n",
    "\n",
    "sql_query_df"
   ]
  },
  {
   "cell_type": "markdown",
   "id": "ca05a320",
   "metadata": {
    "hidden": true,
    "slideshow": {
     "slide_type": "slide"
    }
   },
   "source": [
    "#### Exercise\n",
    "\n",
    "Which country has the northern-most airport? Get me the country, airport and altitude.\n",
    "\n",
    "*Hint*: Look for the highest latitude."
   ]
  },
  {
   "cell_type": "code",
   "execution_count": 41,
   "id": "e051fc1f",
   "metadata": {
    "hidden": true,
    "slideshow": {
     "slide_type": "-"
    }
   },
   "outputs": [
    {
     "data": {
      "text/html": [
       "<div>\n",
       "<style scoped>\n",
       "    .dataframe tbody tr th:only-of-type {\n",
       "        vertical-align: middle;\n",
       "    }\n",
       "\n",
       "    .dataframe tbody tr th {\n",
       "        vertical-align: top;\n",
       "    }\n",
       "\n",
       "    .dataframe thead th {\n",
       "        text-align: right;\n",
       "    }\n",
       "</style>\n",
       "<table border=\"1\" class=\"dataframe\">\n",
       "  <thead>\n",
       "    <tr style=\"text-align: right;\">\n",
       "      <th></th>\n",
       "      <th>country</th>\n",
       "      <th>name</th>\n",
       "      <th>altitude</th>\n",
       "      <th>LAT</th>\n",
       "    </tr>\n",
       "  </thead>\n",
       "  <tbody>\n",
       "    <tr>\n",
       "      <th>0</th>\n",
       "      <td>Canada</td>\n",
       "      <td>Alert</td>\n",
       "      <td>100</td>\n",
       "      <td>82</td>\n",
       "    </tr>\n",
       "  </tbody>\n",
       "</table>\n",
       "</div>"
      ],
      "text/plain": [
       "  country   name altitude  LAT\n",
       "0  Canada  Alert      100   82"
      ]
     },
     "execution_count": 41,
     "metadata": {},
     "output_type": "execute_result"
    }
   ],
   "source": [
    "# Help me do this!\n",
    "\n",
    "pd.read_sql(\"\"\"\n",
    "\n",
    "SELECT\n",
    "COUNTRY,\n",
    "NAME,\n",
    "ALTITUDE,\n",
    "MAX(CAST(LATITUDE AS INT)) AS LAT\n",
    "from AIRPORTS\n",
    "\"\"\", con)"
   ]
  },
  {
   "cell_type": "markdown",
   "id": "e7ba7036",
   "metadata": {
    "slideshow": {
     "slide_type": "slide"
    }
   },
   "source": [
    "So far:\n",
    "- Selecting fields (columns) and computing functions of them.\n",
    "\n",
    "Want to: \n",
    "- Select records (rows) matching particular criteria."
   ]
  },
  {
   "cell_type": "markdown",
   "id": "163cdde6",
   "metadata": {
    "cell_style": "split",
    "heading_collapsed": true,
    "hidden": true,
    "slideshow": {
     "slide_type": "subslide"
    }
   },
   "source": [
    "#### WHERE: Selecting rows via filtering\n",
    "\n",
    "SELECT columns\n",
    "<br>\n",
    "FROM table\n",
    "<br>\n",
    "WHERE filter_column meets condition"
   ]
  },
  {
   "cell_type": "markdown",
   "id": "01bd3cc0",
   "metadata": {
    "cell_style": "split",
    "slideshow": {
     "slide_type": "fragment"
    }
   },
   "source": [
    "WHERE statement occurs after main SELECT and FROM clause."
   ]
  },
  {
   "cell_type": "markdown",
   "id": "2ed07b5b",
   "metadata": {
    "cell_style": "center",
    "slideshow": {
     "slide_type": "subslide"
    }
   },
   "source": [
    "#### Filtering by comparison: WHERE statement\n",
    "\n",
    "Commonly filter by how column compares to a value.\n",
    "\n",
    "SELECT column1, column2 \n",
    "FROM table\n",
    "WHERE column2 > number\n",
    "\n",
    "| Operator | Meaning | \n",
    "| --- | --- |\n",
    "| \\= | equal |\n",
    "| \\<> | not equal |\n",
    "| \\<  |  less than |\n",
    "| \\> | greater than |\n",
    "| \\<=  | less than or equal to |\n",
    "| \\>= | greater than or equal to |\n"
   ]
  },
  {
   "cell_type": "code",
   "execution_count": 42,
   "id": "f8494775",
   "metadata": {
    "hidden": true,
    "slideshow": {
     "slide_type": "subslide"
    }
   },
   "outputs": [
    {
     "data": {
      "text/html": [
       "<div>\n",
       "<style scoped>\n",
       "    .dataframe tbody tr th:only-of-type {\n",
       "        vertical-align: middle;\n",
       "    }\n",
       "\n",
       "    .dataframe tbody tr th {\n",
       "        vertical-align: top;\n",
       "    }\n",
       "\n",
       "    .dataframe thead th {\n",
       "        text-align: right;\n",
       "    }\n",
       "</style>\n",
       "<table border=\"1\" class=\"dataframe\">\n",
       "  <thead>\n",
       "    <tr style=\"text-align: right;\">\n",
       "      <th></th>\n",
       "      <th>Airport Name</th>\n",
       "      <th>Airport Latitude</th>\n",
       "      <th>Altitude_ft</th>\n",
       "    </tr>\n",
       "  </thead>\n",
       "  <tbody>\n",
       "    <tr>\n",
       "      <th>0</th>\n",
       "      <td>El Alto Intl</td>\n",
       "      <td>-16</td>\n",
       "      <td>13325</td>\n",
       "    </tr>\n",
       "    <tr>\n",
       "      <th>1</th>\n",
       "      <td>Capitan Nicolas Rojas</td>\n",
       "      <td>-19</td>\n",
       "      <td>12913</td>\n",
       "    </tr>\n",
       "    <tr>\n",
       "      <th>2</th>\n",
       "      <td>Juliaca</td>\n",
       "      <td>-15</td>\n",
       "      <td>12552</td>\n",
       "    </tr>\n",
       "    <tr>\n",
       "      <th>3</th>\n",
       "      <td>Lhasa-Gonggar</td>\n",
       "      <td>29</td>\n",
       "      <td>13136</td>\n",
       "    </tr>\n",
       "    <tr>\n",
       "      <th>4</th>\n",
       "      <td>Qamdo Bangda Airport</td>\n",
       "      <td>30</td>\n",
       "      <td>14219</td>\n",
       "    </tr>\n",
       "    <tr>\n",
       "      <th>5</th>\n",
       "      <td>Irkutsk-2</td>\n",
       "      <td>52</td>\n",
       "      <td>13411</td>\n",
       "    </tr>\n",
       "    <tr>\n",
       "      <th>6</th>\n",
       "      <td>Yushu Batang</td>\n",
       "      <td>32</td>\n",
       "      <td>13000</td>\n",
       "    </tr>\n",
       "    <tr>\n",
       "      <th>7</th>\n",
       "      <td>Gunsa</td>\n",
       "      <td>32</td>\n",
       "      <td>13780</td>\n",
       "    </tr>\n",
       "    <tr>\n",
       "      <th>8</th>\n",
       "      <td>Kangding Airport</td>\n",
       "      <td>30</td>\n",
       "      <td>14042</td>\n",
       "    </tr>\n",
       "    <tr>\n",
       "      <th>9</th>\n",
       "      <td>Copacabana Airport</td>\n",
       "      <td>-16</td>\n",
       "      <td>12591</td>\n",
       "    </tr>\n",
       "    <tr>\n",
       "      <th>10</th>\n",
       "      <td>Yading Daocheng</td>\n",
       "      <td>29</td>\n",
       "      <td>14472</td>\n",
       "    </tr>\n",
       "  </tbody>\n",
       "</table>\n",
       "</div>"
      ],
      "text/plain": [
       "             Airport Name  Airport Latitude  Altitude_ft\n",
       "0            El Alto Intl               -16        13325\n",
       "1   Capitan Nicolas Rojas               -19        12913\n",
       "2                 Juliaca               -15        12552\n",
       "3           Lhasa-Gonggar                29        13136\n",
       "4    Qamdo Bangda Airport                30        14219\n",
       "5               Irkutsk-2                52        13411\n",
       "6            Yushu Batang                32        13000\n",
       "7                   Gunsa                32        13780\n",
       "8        Kangding Airport                30        14042\n",
       "9      Copacabana Airport               -16        12591\n",
       "10        Yading Daocheng                29        14472"
      ]
     },
     "execution_count": 42,
     "metadata": {},
     "output_type": "execute_result"
    }
   ],
   "source": [
    "sql_query_df = pd.read_sql(\"\"\"\n",
    "\n",
    "SELECT name AS \"Airport Name\", \n",
    "       CAST(latitude AS int) AS \"Airport Latitude\",\n",
    "       CAST(altitude AS int) AS Altitude_ft\n",
    "       \n",
    "FROM airports\n",
    "\n",
    "WHERE Altitude_ft >= 12500\n",
    "\n",
    "\"\"\", con)\n",
    "\n",
    "sql_query_df"
   ]
  },
  {
   "cell_type": "markdown",
   "id": "ffa4c54c",
   "metadata": {
    "slideshow": {
     "slide_type": "slide"
    }
   },
   "source": [
    "**Exercise**\n",
    "\n",
    "Get airports, their name, city and country for which the airport's altitude is less than sea level."
   ]
  },
  {
   "cell_type": "code",
   "execution_count": 43,
   "id": "21d9aeea",
   "metadata": {
    "slideshow": {
     "slide_type": "fragment"
    }
   },
   "outputs": [
    {
     "data": {
      "text/html": [
       "<div>\n",
       "<style scoped>\n",
       "    .dataframe tbody tr th:only-of-type {\n",
       "        vertical-align: middle;\n",
       "    }\n",
       "\n",
       "    .dataframe tbody tr th {\n",
       "        vertical-align: top;\n",
       "    }\n",
       "\n",
       "    .dataframe thead th {\n",
       "        text-align: right;\n",
       "    }\n",
       "</style>\n",
       "<table border=\"1\" class=\"dataframe\">\n",
       "  <thead>\n",
       "    <tr style=\"text-align: right;\">\n",
       "      <th></th>\n",
       "      <th>name</th>\n",
       "      <th>city</th>\n",
       "      <th>country</th>\n",
       "    </tr>\n",
       "  </thead>\n",
       "  <tbody>\n",
       "    <tr>\n",
       "      <th>0</th>\n",
       "      <td>Schiphol</td>\n",
       "      <td>Amsterdam</td>\n",
       "      <td>Netherlands</td>\n",
       "    </tr>\n",
       "    <tr>\n",
       "      <th>1</th>\n",
       "      <td>Lelystad</td>\n",
       "      <td>Lelystad</td>\n",
       "      <td>Netherlands</td>\n",
       "    </tr>\n",
       "    <tr>\n",
       "      <th>2</th>\n",
       "      <td>Rotterdam</td>\n",
       "      <td>Rotterdam</td>\n",
       "      <td>Netherlands</td>\n",
       "    </tr>\n",
       "    <tr>\n",
       "      <th>3</th>\n",
       "      <td>Alexandria Intl</td>\n",
       "      <td>Alexandria</td>\n",
       "      <td>Egypt</td>\n",
       "    </tr>\n",
       "    <tr>\n",
       "      <th>4</th>\n",
       "      <td>En Yahav</td>\n",
       "      <td>Eyn-yahav</td>\n",
       "      <td>Israel</td>\n",
       "    </tr>\n",
       "    <tr>\n",
       "      <th>5</th>\n",
       "      <td>I Bar Yehuda</td>\n",
       "      <td>Metzada</td>\n",
       "      <td>Israel</td>\n",
       "    </tr>\n",
       "    <tr>\n",
       "      <th>6</th>\n",
       "      <td>Rasht</td>\n",
       "      <td>Rasht</td>\n",
       "      <td>Iran</td>\n",
       "    </tr>\n",
       "    <tr>\n",
       "      <th>7</th>\n",
       "      <td>Ramsar</td>\n",
       "      <td>Ramsar</td>\n",
       "      <td>Iran</td>\n",
       "    </tr>\n",
       "    <tr>\n",
       "      <th>8</th>\n",
       "      <td>Astrakhan</td>\n",
       "      <td>Astrakhan</td>\n",
       "      <td>Russia</td>\n",
       "    </tr>\n",
       "    <tr>\n",
       "      <th>9</th>\n",
       "      <td>Imperial Co</td>\n",
       "      <td>Imperial</td>\n",
       "      <td>United States</td>\n",
       "    </tr>\n",
       "    <tr>\n",
       "      <th>10</th>\n",
       "      <td>El Centro Naf</td>\n",
       "      <td>El Centro</td>\n",
       "      <td>United States</td>\n",
       "    </tr>\n",
       "    <tr>\n",
       "      <th>11</th>\n",
       "      <td>Noshahr Airport</td>\n",
       "      <td>Noshahr</td>\n",
       "      <td>Iran</td>\n",
       "    </tr>\n",
       "    <tr>\n",
       "      <th>12</th>\n",
       "      <td>Gorgan Airport</td>\n",
       "      <td>Gorgan</td>\n",
       "      <td>Iran</td>\n",
       "    </tr>\n",
       "  </tbody>\n",
       "</table>\n",
       "</div>"
      ],
      "text/plain": [
       "               name        city        country\n",
       "0          Schiphol   Amsterdam    Netherlands\n",
       "1          Lelystad    Lelystad    Netherlands\n",
       "2         Rotterdam   Rotterdam    Netherlands\n",
       "3   Alexandria Intl  Alexandria          Egypt\n",
       "4          En Yahav   Eyn-yahav         Israel\n",
       "5      I Bar Yehuda     Metzada         Israel\n",
       "6             Rasht       Rasht           Iran\n",
       "7            Ramsar      Ramsar           Iran\n",
       "8         Astrakhan   Astrakhan         Russia\n",
       "9       Imperial Co    Imperial  United States\n",
       "10    El Centro Naf   El Centro  United States\n",
       "11  Noshahr Airport     Noshahr           Iran\n",
       "12   Gorgan Airport      Gorgan           Iran"
      ]
     },
     "execution_count": 43,
     "metadata": {},
     "output_type": "execute_result"
    }
   ],
   "source": [
    "sql_query_df = pd.read_sql(\"\"\"\n",
    "Select name,\n",
    "city,\n",
    "country\n",
    "from airports\n",
    "where cast(altitude as int) < 0\n",
    "\n",
    "\n",
    "\"\"\", con)\n",
    "\n",
    "sql_query_df"
   ]
  },
  {
   "cell_type": "markdown",
   "id": "6ba57bf7",
   "metadata": {
    "slideshow": {
     "slide_type": "slide"
    }
   },
   "source": [
    "#### NOT operator\n",
    "- Before condition in `WHERE` clause.\n",
    "- Negates condition."
   ]
  },
  {
   "cell_type": "code",
   "execution_count": 44,
   "id": "278df6b2",
   "metadata": {
    "scrolled": true,
    "slideshow": {
     "slide_type": "subslide"
    }
   },
   "outputs": [
    {
     "data": {
      "text/html": [
       "<div>\n",
       "<style scoped>\n",
       "    .dataframe tbody tr th:only-of-type {\n",
       "        vertical-align: middle;\n",
       "    }\n",
       "\n",
       "    .dataframe tbody tr th {\n",
       "        vertical-align: top;\n",
       "    }\n",
       "\n",
       "    .dataframe thead th {\n",
       "        text-align: right;\n",
       "    }\n",
       "</style>\n",
       "<table border=\"1\" class=\"dataframe\">\n",
       "  <thead>\n",
       "    <tr style=\"text-align: right;\">\n",
       "      <th></th>\n",
       "      <th>Airport Name</th>\n",
       "      <th>Airport Latitude</th>\n",
       "      <th>Altitude (ft)</th>\n",
       "    </tr>\n",
       "  </thead>\n",
       "  <tbody>\n",
       "    <tr>\n",
       "      <th>0</th>\n",
       "      <td>El Alto Intl</td>\n",
       "      <td>-16</td>\n",
       "      <td>13325</td>\n",
       "    </tr>\n",
       "    <tr>\n",
       "      <th>1</th>\n",
       "      <td>Capitan Nicolas Rojas</td>\n",
       "      <td>-19</td>\n",
       "      <td>12913</td>\n",
       "    </tr>\n",
       "    <tr>\n",
       "      <th>2</th>\n",
       "      <td>Juliaca</td>\n",
       "      <td>-15</td>\n",
       "      <td>12552</td>\n",
       "    </tr>\n",
       "    <tr>\n",
       "      <th>3</th>\n",
       "      <td>Lhasa-Gonggar</td>\n",
       "      <td>29</td>\n",
       "      <td>13136</td>\n",
       "    </tr>\n",
       "    <tr>\n",
       "      <th>4</th>\n",
       "      <td>Qamdo Bangda Airport</td>\n",
       "      <td>30</td>\n",
       "      <td>14219</td>\n",
       "    </tr>\n",
       "    <tr>\n",
       "      <th>5</th>\n",
       "      <td>Irkutsk-2</td>\n",
       "      <td>52</td>\n",
       "      <td>13411</td>\n",
       "    </tr>\n",
       "    <tr>\n",
       "      <th>6</th>\n",
       "      <td>Yushu Batang</td>\n",
       "      <td>32</td>\n",
       "      <td>13000</td>\n",
       "    </tr>\n",
       "    <tr>\n",
       "      <th>7</th>\n",
       "      <td>Gunsa</td>\n",
       "      <td>32</td>\n",
       "      <td>13780</td>\n",
       "    </tr>\n",
       "    <tr>\n",
       "      <th>8</th>\n",
       "      <td>Kangding Airport</td>\n",
       "      <td>30</td>\n",
       "      <td>14042</td>\n",
       "    </tr>\n",
       "    <tr>\n",
       "      <th>9</th>\n",
       "      <td>Copacabana Airport</td>\n",
       "      <td>-16</td>\n",
       "      <td>12591</td>\n",
       "    </tr>\n",
       "    <tr>\n",
       "      <th>10</th>\n",
       "      <td>Yading Daocheng</td>\n",
       "      <td>29</td>\n",
       "      <td>14472</td>\n",
       "    </tr>\n",
       "  </tbody>\n",
       "</table>\n",
       "</div>"
      ],
      "text/plain": [
       "             Airport Name  Airport Latitude  Altitude (ft)\n",
       "0            El Alto Intl               -16          13325\n",
       "1   Capitan Nicolas Rojas               -19          12913\n",
       "2                 Juliaca               -15          12552\n",
       "3           Lhasa-Gonggar                29          13136\n",
       "4    Qamdo Bangda Airport                30          14219\n",
       "5               Irkutsk-2                52          13411\n",
       "6            Yushu Batang                32          13000\n",
       "7                   Gunsa                32          13780\n",
       "8        Kangding Airport                30          14042\n",
       "9      Copacabana Airport               -16          12591\n",
       "10        Yading Daocheng                29          14472"
      ]
     },
     "execution_count": 44,
     "metadata": {},
     "output_type": "execute_result"
    }
   ],
   "source": [
    "sql_query_df = pd.read_sql(\"\"\"\n",
    "\n",
    "SELECT name AS \"Airport Name\", \n",
    "       CAST(latitude AS int) AS \"Airport Latitude\",\n",
    "       CAST(altitude AS int) AS \"Altitude (ft)\"\n",
    "       \n",
    "FROM airports\n",
    "\n",
    "WHERE NOT \"Altitude (ft)\" <= 12500\n",
    "\n",
    "\"\"\", con)\n",
    "\n",
    "sql_query_df"
   ]
  },
  {
   "cell_type": "markdown",
   "id": "bcf5f34b",
   "metadata": {
    "slideshow": {
     "slide_type": "slide"
    }
   },
   "source": [
    "#### Chaining conditionals for filtering\n",
    "- AND\n",
    "- OR\n"
   ]
  },
  {
   "cell_type": "markdown",
   "id": "1918319c",
   "metadata": {
    "slideshow": {
     "slide_type": "subslide"
    }
   },
   "source": [
    "#### AND\n",
    "Get all airports with:\n",
    "- Altitude > 12500 ft.\n",
    "- Latitude > 30 degrees"
   ]
  },
  {
   "cell_type": "code",
   "execution_count": 46,
   "id": "1958bafb",
   "metadata": {
    "slideshow": {
     "slide_type": "subslide"
    }
   },
   "outputs": [
    {
     "data": {
      "text/html": [
       "<div>\n",
       "<style scoped>\n",
       "    .dataframe tbody tr th:only-of-type {\n",
       "        vertical-align: middle;\n",
       "    }\n",
       "\n",
       "    .dataframe tbody tr th {\n",
       "        vertical-align: top;\n",
       "    }\n",
       "\n",
       "    .dataframe thead th {\n",
       "        text-align: right;\n",
       "    }\n",
       "</style>\n",
       "<table border=\"1\" class=\"dataframe\">\n",
       "  <thead>\n",
       "    <tr style=\"text-align: right;\">\n",
       "      <th></th>\n",
       "      <th>Airport Name</th>\n",
       "      <th>Airport Latitude</th>\n",
       "      <th>Altitude (ft)</th>\n",
       "    </tr>\n",
       "  </thead>\n",
       "  <tbody>\n",
       "    <tr>\n",
       "      <th>0</th>\n",
       "      <td>Qamdo Bangda Airport</td>\n",
       "      <td>30.55360</td>\n",
       "      <td>14219</td>\n",
       "    </tr>\n",
       "    <tr>\n",
       "      <th>1</th>\n",
       "      <td>Irkutsk-2</td>\n",
       "      <td>52.36780</td>\n",
       "      <td>13411</td>\n",
       "    </tr>\n",
       "    <tr>\n",
       "      <th>2</th>\n",
       "      <td>Yushu Batang</td>\n",
       "      <td>32.82500</td>\n",
       "      <td>13000</td>\n",
       "    </tr>\n",
       "    <tr>\n",
       "      <th>3</th>\n",
       "      <td>Gunsa</td>\n",
       "      <td>32.10027</td>\n",
       "      <td>13780</td>\n",
       "    </tr>\n",
       "    <tr>\n",
       "      <th>4</th>\n",
       "      <td>Kangding Airport</td>\n",
       "      <td>30.15750</td>\n",
       "      <td>14042</td>\n",
       "    </tr>\n",
       "  </tbody>\n",
       "</table>\n",
       "</div>"
      ],
      "text/plain": [
       "           Airport Name  Airport Latitude  Altitude (ft)\n",
       "0  Qamdo Bangda Airport          30.55360          14219\n",
       "1             Irkutsk-2          52.36780          13411\n",
       "2          Yushu Batang          32.82500          13000\n",
       "3                 Gunsa          32.10027          13780\n",
       "4      Kangding Airport          30.15750          14042"
      ]
     },
     "execution_count": 46,
     "metadata": {},
     "output_type": "execute_result"
    }
   ],
   "source": [
    "sql_query_df = pd.read_sql(\"\"\"\n",
    "\n",
    "SELECT name AS \"Airport Name\", \n",
    "       CAST(latitude AS float) AS \"Airport Latitude\",\n",
    "       CAST(altitude AS int) AS \"Altitude (ft)\"\n",
    "       \n",
    "FROM airports\n",
    "\n",
    "WHERE (\"Altitude (ft)\" > 12500 )\n",
    "AND \n",
    "(\"Airport Latitude\" > 30)\n",
    "\n",
    "\"\"\", con)\n",
    "\n",
    "sql_query_df"
   ]
  },
  {
   "cell_type": "markdown",
   "id": "22d36aef",
   "metadata": {
    "slideshow": {
     "slide_type": "slide"
    }
   },
   "source": [
    "#### OR\n",
    "Get all airports and their latitude/longitude in Iceland and Denmark."
   ]
  },
  {
   "cell_type": "code",
   "execution_count": 47,
   "id": "cca6f6dc",
   "metadata": {
    "slideshow": {
     "slide_type": "subslide"
    }
   },
   "outputs": [
    {
     "data": {
      "text/html": [
       "<div>\n",
       "<style scoped>\n",
       "    .dataframe tbody tr th:only-of-type {\n",
       "        vertical-align: middle;\n",
       "    }\n",
       "\n",
       "    .dataframe tbody tr th {\n",
       "        vertical-align: top;\n",
       "    }\n",
       "\n",
       "    .dataframe thead th {\n",
       "        text-align: right;\n",
       "    }\n",
       "</style>\n",
       "<table border=\"1\" class=\"dataframe\">\n",
       "  <thead>\n",
       "    <tr style=\"text-align: right;\">\n",
       "      <th></th>\n",
       "      <th>Airport Name</th>\n",
       "      <th>country</th>\n",
       "      <th>Latitude</th>\n",
       "      <th>Longitude</th>\n",
       "    </tr>\n",
       "  </thead>\n",
       "  <tbody>\n",
       "    <tr>\n",
       "      <th>0</th>\n",
       "      <td>Akureyri</td>\n",
       "      <td>Iceland</td>\n",
       "      <td>65</td>\n",
       "      <td>-18</td>\n",
       "    </tr>\n",
       "    <tr>\n",
       "      <th>1</th>\n",
       "      <td>Egilsstadir</td>\n",
       "      <td>Iceland</td>\n",
       "      <td>65</td>\n",
       "      <td>-14</td>\n",
       "    </tr>\n",
       "    <tr>\n",
       "      <th>2</th>\n",
       "      <td>Hornafjordur</td>\n",
       "      <td>Iceland</td>\n",
       "      <td>64</td>\n",
       "      <td>-15</td>\n",
       "    </tr>\n",
       "    <tr>\n",
       "      <th>3</th>\n",
       "      <td>Husavik</td>\n",
       "      <td>Iceland</td>\n",
       "      <td>65</td>\n",
       "      <td>-17</td>\n",
       "    </tr>\n",
       "    <tr>\n",
       "      <th>4</th>\n",
       "      <td>Isafjordur</td>\n",
       "      <td>Iceland</td>\n",
       "      <td>66</td>\n",
       "      <td>-23</td>\n",
       "    </tr>\n",
       "    <tr>\n",
       "      <th>5</th>\n",
       "      <td>Keflavik International Airport</td>\n",
       "      <td>Iceland</td>\n",
       "      <td>63</td>\n",
       "      <td>-22</td>\n",
       "    </tr>\n",
       "    <tr>\n",
       "      <th>6</th>\n",
       "      <td>Patreksfjordur</td>\n",
       "      <td>Iceland</td>\n",
       "      <td>65</td>\n",
       "      <td>-23</td>\n",
       "    </tr>\n",
       "    <tr>\n",
       "      <th>7</th>\n",
       "      <td>Reykjavik</td>\n",
       "      <td>Iceland</td>\n",
       "      <td>64</td>\n",
       "      <td>-21</td>\n",
       "    </tr>\n",
       "    <tr>\n",
       "      <th>8</th>\n",
       "      <td>Siglufjordur</td>\n",
       "      <td>Iceland</td>\n",
       "      <td>66</td>\n",
       "      <td>-18</td>\n",
       "    </tr>\n",
       "    <tr>\n",
       "      <th>9</th>\n",
       "      <td>Vestmannaeyjar</td>\n",
       "      <td>Iceland</td>\n",
       "      <td>63</td>\n",
       "      <td>-20</td>\n",
       "    </tr>\n",
       "    <tr>\n",
       "      <th>10</th>\n",
       "      <td>Aarhus</td>\n",
       "      <td>Denmark</td>\n",
       "      <td>56</td>\n",
       "      <td>10</td>\n",
       "    </tr>\n",
       "    <tr>\n",
       "      <th>11</th>\n",
       "      <td>Billund</td>\n",
       "      <td>Denmark</td>\n",
       "      <td>55</td>\n",
       "      <td>9</td>\n",
       "    </tr>\n",
       "  </tbody>\n",
       "</table>\n",
       "</div>"
      ],
      "text/plain": [
       "                      Airport Name  country  Latitude  Longitude\n",
       "0                         Akureyri  Iceland        65        -18\n",
       "1                      Egilsstadir  Iceland        65        -14\n",
       "2                     Hornafjordur  Iceland        64        -15\n",
       "3                          Husavik  Iceland        65        -17\n",
       "4                       Isafjordur  Iceland        66        -23\n",
       "5   Keflavik International Airport  Iceland        63        -22\n",
       "6                   Patreksfjordur  Iceland        65        -23\n",
       "7                        Reykjavik  Iceland        64        -21\n",
       "8                     Siglufjordur  Iceland        66        -18\n",
       "9                   Vestmannaeyjar  Iceland        63        -20\n",
       "10                          Aarhus  Denmark        56         10\n",
       "11                         Billund  Denmark        55          9"
      ]
     },
     "execution_count": 47,
     "metadata": {},
     "output_type": "execute_result"
    }
   ],
   "source": [
    "sql_query_df = pd.read_sql(\"\"\"\n",
    "\n",
    "SELECT name AS \"Airport Name\", \n",
    "        country,\n",
    "       CAST(latitude AS int) AS \"Latitude\",\n",
    "       CAST(longitude AS int) AS \"Longitude\"\n",
    "       \n",
    "FROM airports\n",
    "\n",
    "WHERE (country = \"Iceland\")\n",
    "OR \n",
    "(country = \"Denmark\")\n",
    "\n",
    "\"\"\", con)\n",
    "\n",
    "sql_query_df.head(12)"
   ]
  },
  {
   "cell_type": "markdown",
   "id": "b9031b72",
   "metadata": {
    "slideshow": {
     "slide_type": "slide"
    }
   },
   "source": [
    "#### Exercise\n",
    "\n",
    "Get the name, lat/long, and altitude for the airport with the maximum altitude considering only airports in Chile and Argentina."
   ]
  },
  {
   "cell_type": "code",
   "execution_count": 50,
   "id": "c08f1b7c",
   "metadata": {},
   "outputs": [
    {
     "data": {
      "text/html": [
       "<div>\n",
       "<style scoped>\n",
       "    .dataframe tbody tr th:only-of-type {\n",
       "        vertical-align: middle;\n",
       "    }\n",
       "\n",
       "    .dataframe tbody tr th {\n",
       "        vertical-align: top;\n",
       "    }\n",
       "\n",
       "    .dataframe thead th {\n",
       "        text-align: right;\n",
       "    }\n",
       "</style>\n",
       "<table border=\"1\" class=\"dataframe\">\n",
       "  <thead>\n",
       "    <tr style=\"text-align: right;\">\n",
       "      <th></th>\n",
       "      <th>name</th>\n",
       "      <th>country</th>\n",
       "      <th>lat</th>\n",
       "      <th>long</th>\n",
       "      <th>alt</th>\n",
       "    </tr>\n",
       "  </thead>\n",
       "  <tbody>\n",
       "    <tr>\n",
       "      <th>0</th>\n",
       "      <td>La Quiaca</td>\n",
       "      <td>Argentina</td>\n",
       "      <td>-22.150556</td>\n",
       "      <td>-65.5775</td>\n",
       "      <td>11414</td>\n",
       "    </tr>\n",
       "  </tbody>\n",
       "</table>\n",
       "</div>"
      ],
      "text/plain": [
       "        name    country        lat     long    alt\n",
       "0  La Quiaca  Argentina -22.150556 -65.5775  11414"
      ]
     },
     "execution_count": 50,
     "metadata": {},
     "output_type": "execute_result"
    }
   ],
   "source": [
    "# You can do it!\n",
    "\n",
    "sql_query_df = pd.read_sql(\"\"\"\n",
    "\n",
    "SELECT name, \n",
    "country,\n",
    "CAST(latitude AS float) AS lat,\n",
    "CAST(longitude AS float) AS long,\n",
    "MAX(CAST(altitude as int)) as alt\n",
    "\n",
    "FROM airports\n",
    "\n",
    "WHERE (country = 'Chile')\n",
    "OR\n",
    "(country = 'Argentina')\n",
    "\n",
    "\n",
    "\"\"\", con)\n",
    "\n",
    "sql_query_df"
   ]
  },
  {
   "cell_type": "markdown",
   "id": "9ef52c39",
   "metadata": {
    "slideshow": {
     "slide_type": "slide"
    }
   },
   "source": [
    "#### BETWEEN\n",
    "\n",
    "- Writing multiple inequalities for selecting ranges with `WHERE` statement: annoying.\n",
    "\n",
    "- BETWEEN ... AND ... solves this problem.\n"
   ]
  },
  {
   "cell_type": "code",
   "execution_count": 53,
   "id": "4487e6e6",
   "metadata": {
    "slideshow": {
     "slide_type": "subslide"
    }
   },
   "outputs": [
    {
     "data": {
      "text/html": [
       "<div>\n",
       "<style scoped>\n",
       "    .dataframe tbody tr th:only-of-type {\n",
       "        vertical-align: middle;\n",
       "    }\n",
       "\n",
       "    .dataframe tbody tr th {\n",
       "        vertical-align: top;\n",
       "    }\n",
       "\n",
       "    .dataframe thead th {\n",
       "        text-align: right;\n",
       "    }\n",
       "</style>\n",
       "<table border=\"1\" class=\"dataframe\">\n",
       "  <thead>\n",
       "    <tr style=\"text-align: right;\">\n",
       "      <th></th>\n",
       "      <th>Airport Name</th>\n",
       "      <th>country</th>\n",
       "      <th>Latitude</th>\n",
       "      <th>Longitude</th>\n",
       "    </tr>\n",
       "  </thead>\n",
       "  <tbody>\n",
       "    <tr>\n",
       "      <th>0</th>\n",
       "      <td>Winnipeg St Andrews</td>\n",
       "      <td>Canada</td>\n",
       "      <td>50</td>\n",
       "      <td>-97</td>\n",
       "    </tr>\n",
       "    <tr>\n",
       "      <th>1</th>\n",
       "      <td>Tofino</td>\n",
       "      <td>Canada</td>\n",
       "      <td>49</td>\n",
       "      <td>-125</td>\n",
       "    </tr>\n",
       "    <tr>\n",
       "      <th>2</th>\n",
       "      <td>Baie Comeau</td>\n",
       "      <td>Canada</td>\n",
       "      <td>49</td>\n",
       "      <td>-68</td>\n",
       "    </tr>\n",
       "    <tr>\n",
       "      <th>3</th>\n",
       "      <td>Bagotville</td>\n",
       "      <td>Canada</td>\n",
       "      <td>48</td>\n",
       "      <td>-70</td>\n",
       "    </tr>\n",
       "    <tr>\n",
       "      <th>4</th>\n",
       "      <td>Campbell River</td>\n",
       "      <td>Canada</td>\n",
       "      <td>49</td>\n",
       "      <td>-125</td>\n",
       "    </tr>\n",
       "    <tr>\n",
       "      <th>...</th>\n",
       "      <td>...</td>\n",
       "      <td>...</td>\n",
       "      <td>...</td>\n",
       "      <td>...</td>\n",
       "    </tr>\n",
       "    <tr>\n",
       "      <th>562</th>\n",
       "      <td>Pender Harbour Water Aerodrome</td>\n",
       "      <td>Canada</td>\n",
       "      <td>49</td>\n",
       "      <td>-124</td>\n",
       "    </tr>\n",
       "    <tr>\n",
       "      <th>563</th>\n",
       "      <td>Mansons Landing Water Aerodrome</td>\n",
       "      <td>Canada</td>\n",
       "      <td>50</td>\n",
       "      <td>-124</td>\n",
       "    </tr>\n",
       "    <tr>\n",
       "      <th>564</th>\n",
       "      <td>Port McNeill Airport</td>\n",
       "      <td>Canada</td>\n",
       "      <td>50</td>\n",
       "      <td>-127</td>\n",
       "    </tr>\n",
       "    <tr>\n",
       "      <th>565</th>\n",
       "      <td>Sullivan Bay Water Aerodrome</td>\n",
       "      <td>Canada</td>\n",
       "      <td>50</td>\n",
       "      <td>-126</td>\n",
       "    </tr>\n",
       "    <tr>\n",
       "      <th>566</th>\n",
       "      <td>Deer Harbor Seaplane</td>\n",
       "      <td>United States</td>\n",
       "      <td>48</td>\n",
       "      <td>-123</td>\n",
       "    </tr>\n",
       "  </tbody>\n",
       "</table>\n",
       "<p>567 rows × 4 columns</p>\n",
       "</div>"
      ],
      "text/plain": [
       "                        Airport Name        country  Latitude  Longitude\n",
       "0                Winnipeg St Andrews         Canada        50        -97\n",
       "1                             Tofino         Canada        49       -125\n",
       "2                        Baie Comeau         Canada        49        -68\n",
       "3                         Bagotville         Canada        48        -70\n",
       "4                     Campbell River         Canada        49       -125\n",
       "..                               ...            ...       ...        ...\n",
       "562   Pender Harbour Water Aerodrome         Canada        49       -124\n",
       "563  Mansons Landing Water Aerodrome         Canada        50       -124\n",
       "564             Port McNeill Airport         Canada        50       -127\n",
       "565     Sullivan Bay Water Aerodrome         Canada        50       -126\n",
       "566             Deer Harbor Seaplane  United States        48       -123\n",
       "\n",
       "[567 rows x 4 columns]"
      ]
     },
     "execution_count": 53,
     "metadata": {},
     "output_type": "execute_result"
    }
   ],
   "source": [
    "sql_query_df = pd.read_sql(\"\"\"\n",
    "\n",
    "SELECT name AS \"Airport Name\", \n",
    "        country,\n",
    "       CAST(latitude AS int) AS \"Latitude\",\n",
    "       CAST(longitude AS int) AS \"Longitude\"\n",
    "       \n",
    "FROM airports\n",
    "\n",
    "WHERE Latitude BETWEEN 48 AND 51\n",
    "\"\"\", con)\n",
    "\n",
    "sql_query_df"
   ]
  },
  {
   "cell_type": "markdown",
   "id": "b5dc4df9",
   "metadata": {
    "slideshow": {
     "slide_type": "slide"
    }
   },
   "source": [
    "#### Exercise\n",
    "\n",
    "Get the name, lat/long, and altitude for the airports with altitude between 0 and 2000 ft considering only airports in Chile and Argentina."
   ]
  },
  {
   "cell_type": "code",
   "execution_count": 57,
   "id": "d27a1ef5",
   "metadata": {},
   "outputs": [
    {
     "data": {
      "text/html": [
       "<div>\n",
       "<style scoped>\n",
       "    .dataframe tbody tr th:only-of-type {\n",
       "        vertical-align: middle;\n",
       "    }\n",
       "\n",
       "    .dataframe tbody tr th {\n",
       "        vertical-align: top;\n",
       "    }\n",
       "\n",
       "    .dataframe thead th {\n",
       "        text-align: right;\n",
       "    }\n",
       "</style>\n",
       "<table border=\"1\" class=\"dataframe\">\n",
       "  <thead>\n",
       "    <tr style=\"text-align: right;\">\n",
       "      <th></th>\n",
       "      <th>Airport Name</th>\n",
       "      <th>Country</th>\n",
       "      <th>Latitude</th>\n",
       "      <th>Longitude</th>\n",
       "      <th>Altitude</th>\n",
       "    </tr>\n",
       "  </thead>\n",
       "  <tbody>\n",
       "    <tr>\n",
       "      <th>0</th>\n",
       "      <td>Aeropuerto de Rafaela</td>\n",
       "      <td>Argentina</td>\n",
       "      <td>-31</td>\n",
       "      <td>-61.501594</td>\n",
       "      <td>100</td>\n",
       "    </tr>\n",
       "    <tr>\n",
       "      <th>1</th>\n",
       "      <td>Comodoro Pierrestegui</td>\n",
       "      <td>Argentina</td>\n",
       "      <td>-31</td>\n",
       "      <td>-57.996631</td>\n",
       "      <td>112</td>\n",
       "    </tr>\n",
       "    <tr>\n",
       "      <th>2</th>\n",
       "      <td>Aeroparque Jorge Newbery</td>\n",
       "      <td>Argentina</td>\n",
       "      <td>-34</td>\n",
       "      <td>-58.415606</td>\n",
       "      <td>18</td>\n",
       "    </tr>\n",
       "    <tr>\n",
       "      <th>3</th>\n",
       "      <td>Ambrosio L V Taravella</td>\n",
       "      <td>Argentina</td>\n",
       "      <td>-31</td>\n",
       "      <td>-64.207953</td>\n",
       "      <td>1604</td>\n",
       "    </tr>\n",
       "    <tr>\n",
       "      <th>4</th>\n",
       "      <td>Chamical</td>\n",
       "      <td>Argentina</td>\n",
       "      <td>-30</td>\n",
       "      <td>-66.293610</td>\n",
       "      <td>1503</td>\n",
       "    </tr>\n",
       "    <tr>\n",
       "      <th>5</th>\n",
       "      <td>San Fernando</td>\n",
       "      <td>Argentina</td>\n",
       "      <td>-34</td>\n",
       "      <td>-58.589644</td>\n",
       "      <td>10</td>\n",
       "    </tr>\n",
       "    <tr>\n",
       "      <th>6</th>\n",
       "      <td>Mariano Moreno</td>\n",
       "      <td>Argentina</td>\n",
       "      <td>-34</td>\n",
       "      <td>-58.789564</td>\n",
       "      <td>105</td>\n",
       "    </tr>\n",
       "    <tr>\n",
       "      <th>7</th>\n",
       "      <td>Catamarca</td>\n",
       "      <td>Argentina</td>\n",
       "      <td>-28</td>\n",
       "      <td>-65.750925</td>\n",
       "      <td>1522</td>\n",
       "    </tr>\n",
       "    <tr>\n",
       "      <th>8</th>\n",
       "      <td>La Rioja</td>\n",
       "      <td>Argentina</td>\n",
       "      <td>-29</td>\n",
       "      <td>-66.795839</td>\n",
       "      <td>1436</td>\n",
       "    </tr>\n",
       "    <tr>\n",
       "      <th>9</th>\n",
       "      <td>Teniente Benjamin Matienzo</td>\n",
       "      <td>Argentina</td>\n",
       "      <td>-26</td>\n",
       "      <td>-65.104944</td>\n",
       "      <td>1495</td>\n",
       "    </tr>\n",
       "    <tr>\n",
       "      <th>10</th>\n",
       "      <td>San Juan</td>\n",
       "      <td>Argentina</td>\n",
       "      <td>-31</td>\n",
       "      <td>-68.418194</td>\n",
       "      <td>1959</td>\n",
       "    </tr>\n",
       "    <tr>\n",
       "      <th>11</th>\n",
       "      <td>Rio Cuarto Area De Material</td>\n",
       "      <td>Argentina</td>\n",
       "      <td>-33</td>\n",
       "      <td>-64.261314</td>\n",
       "      <td>1381</td>\n",
       "    </tr>\n",
       "    <tr>\n",
       "      <th>12</th>\n",
       "      <td>Villa Dolores</td>\n",
       "      <td>Argentina</td>\n",
       "      <td>-31</td>\n",
       "      <td>-65.146283</td>\n",
       "      <td>1915</td>\n",
       "    </tr>\n",
       "    <tr>\n",
       "      <th>13</th>\n",
       "      <td>Villa Reynolds</td>\n",
       "      <td>Argentina</td>\n",
       "      <td>-33</td>\n",
       "      <td>-65.378086</td>\n",
       "      <td>1591</td>\n",
       "    </tr>\n",
       "    <tr>\n",
       "      <th>14</th>\n",
       "      <td>Resistencia</td>\n",
       "      <td>Argentina</td>\n",
       "      <td>-27</td>\n",
       "      <td>-59.056125</td>\n",
       "      <td>173</td>\n",
       "    </tr>\n",
       "    <tr>\n",
       "      <th>15</th>\n",
       "      <td>Formosa</td>\n",
       "      <td>Argentina</td>\n",
       "      <td>-26</td>\n",
       "      <td>-58.228111</td>\n",
       "      <td>194</td>\n",
       "    </tr>\n",
       "    <tr>\n",
       "      <th>16</th>\n",
       "      <td>Monte Caseros</td>\n",
       "      <td>Argentina</td>\n",
       "      <td>-30</td>\n",
       "      <td>-57.640231</td>\n",
       "      <td>174</td>\n",
       "    </tr>\n",
       "    <tr>\n",
       "      <th>17</th>\n",
       "      <td>Oran</td>\n",
       "      <td>Argentina</td>\n",
       "      <td>-23</td>\n",
       "      <td>-64.329170</td>\n",
       "      <td>1168</td>\n",
       "    </tr>\n",
       "    <tr>\n",
       "      <th>18</th>\n",
       "      <td>La Quiaca</td>\n",
       "      <td>Argentina</td>\n",
       "      <td>-22</td>\n",
       "      <td>-65.577500</td>\n",
       "      <td>11414</td>\n",
       "    </tr>\n",
       "    <tr>\n",
       "      <th>19</th>\n",
       "      <td>Goya</td>\n",
       "      <td>Argentina</td>\n",
       "      <td>-29</td>\n",
       "      <td>-59.250583</td>\n",
       "      <td>125</td>\n",
       "    </tr>\n",
       "    <tr>\n",
       "      <th>20</th>\n",
       "      <td>Obera</td>\n",
       "      <td>Argentina</td>\n",
       "      <td>-27</td>\n",
       "      <td>-55.124156</td>\n",
       "      <td>1125</td>\n",
       "    </tr>\n",
       "    <tr>\n",
       "      <th>21</th>\n",
       "      <td>Reconquista</td>\n",
       "      <td>Argentina</td>\n",
       "      <td>-29</td>\n",
       "      <td>-59.680000</td>\n",
       "      <td>161</td>\n",
       "    </tr>\n",
       "    <tr>\n",
       "      <th>22</th>\n",
       "      <td>El Bolson</td>\n",
       "      <td>Argentina</td>\n",
       "      <td>-41</td>\n",
       "      <td>-71.532289</td>\n",
       "      <td>1131</td>\n",
       "    </tr>\n",
       "    <tr>\n",
       "      <th>23</th>\n",
       "      <td>Comodoro Rivadavia</td>\n",
       "      <td>Argentina</td>\n",
       "      <td>-45</td>\n",
       "      <td>-67.465508</td>\n",
       "      <td>190</td>\n",
       "    </tr>\n",
       "    <tr>\n",
       "      <th>24</th>\n",
       "      <td>Almirante Zar</td>\n",
       "      <td>Argentina</td>\n",
       "      <td>-43</td>\n",
       "      <td>-65.270319</td>\n",
       "      <td>141</td>\n",
       "    </tr>\n",
       "    <tr>\n",
       "      <th>25</th>\n",
       "      <td>Gobernador Castello</td>\n",
       "      <td>Argentina</td>\n",
       "      <td>-40</td>\n",
       "      <td>-63.000389</td>\n",
       "      <td>20</td>\n",
       "    </tr>\n",
       "    <tr>\n",
       "      <th>26</th>\n",
       "      <td>San Julian</td>\n",
       "      <td>Argentina</td>\n",
       "      <td>-49</td>\n",
       "      <td>-67.802589</td>\n",
       "      <td>190</td>\n",
       "    </tr>\n",
       "    <tr>\n",
       "      <th>27</th>\n",
       "      <td>Perito Moreno</td>\n",
       "      <td>Argentina</td>\n",
       "      <td>-46</td>\n",
       "      <td>-70.978689</td>\n",
       "      <td>1410</td>\n",
       "    </tr>\n",
       "    <tr>\n",
       "      <th>28</th>\n",
       "      <td>Chacalluta</td>\n",
       "      <td>Chile</td>\n",
       "      <td>-18</td>\n",
       "      <td>-70.338742</td>\n",
       "      <td>167</td>\n",
       "    </tr>\n",
       "    <tr>\n",
       "      <th>29</th>\n",
       "      <td>Balmaceda</td>\n",
       "      <td>Chile</td>\n",
       "      <td>-45</td>\n",
       "      <td>-71.689475</td>\n",
       "      <td>1722</td>\n",
       "    </tr>\n",
       "    <tr>\n",
       "      <th>30</th>\n",
       "      <td>El Bosque</td>\n",
       "      <td>Chile</td>\n",
       "      <td>-33</td>\n",
       "      <td>-70.688400</td>\n",
       "      <td>1844</td>\n",
       "    </tr>\n",
       "    <tr>\n",
       "      <th>31</th>\n",
       "      <td>Chile Chico</td>\n",
       "      <td>Chile</td>\n",
       "      <td>-46</td>\n",
       "      <td>-71.687405</td>\n",
       "      <td>1070</td>\n",
       "    </tr>\n",
       "    <tr>\n",
       "      <th>32</th>\n",
       "      <td>Carlos Ibanez Del Campo Intl</td>\n",
       "      <td>Chile</td>\n",
       "      <td>-53</td>\n",
       "      <td>-70.854586</td>\n",
       "      <td>139</td>\n",
       "    </tr>\n",
       "    <tr>\n",
       "      <th>33</th>\n",
       "      <td>Teniente Vidal</td>\n",
       "      <td>Chile</td>\n",
       "      <td>-45</td>\n",
       "      <td>-72.106133</td>\n",
       "      <td>1020</td>\n",
       "    </tr>\n",
       "    <tr>\n",
       "      <th>34</th>\n",
       "      <td>Diego Aracena Intl</td>\n",
       "      <td>Chile</td>\n",
       "      <td>-20</td>\n",
       "      <td>-70.181275</td>\n",
       "      <td>155</td>\n",
       "    </tr>\n",
       "    <tr>\n",
       "      <th>35</th>\n",
       "      <td>Arturo Merino Benitez Intl</td>\n",
       "      <td>Chile</td>\n",
       "      <td>-33</td>\n",
       "      <td>-70.785803</td>\n",
       "      <td>1555</td>\n",
       "    </tr>\n",
       "    <tr>\n",
       "      <th>36</th>\n",
       "      <td>Capitan Fuentes Martinez</td>\n",
       "      <td>Chile</td>\n",
       "      <td>-53</td>\n",
       "      <td>-70.319228</td>\n",
       "      <td>104</td>\n",
       "    </tr>\n",
       "    <tr>\n",
       "      <th>37</th>\n",
       "      <td>Futaleufu</td>\n",
       "      <td>Chile</td>\n",
       "      <td>-43</td>\n",
       "      <td>-71.851112</td>\n",
       "      <td>1148</td>\n",
       "    </tr>\n",
       "    <tr>\n",
       "      <th>38</th>\n",
       "      <td>Canal Bajo Carlos Hott Siebert</td>\n",
       "      <td>Chile</td>\n",
       "      <td>-40</td>\n",
       "      <td>-73.061042</td>\n",
       "      <td>187</td>\n",
       "    </tr>\n",
       "    <tr>\n",
       "      <th>39</th>\n",
       "      <td>Vallenar</td>\n",
       "      <td>Chile</td>\n",
       "      <td>-28</td>\n",
       "      <td>-70.755997</td>\n",
       "      <td>1725</td>\n",
       "    </tr>\n",
       "    <tr>\n",
       "      <th>40</th>\n",
       "      <td>De La Independencia</td>\n",
       "      <td>Chile</td>\n",
       "      <td>-34</td>\n",
       "      <td>-70.775694</td>\n",
       "      <td>1446</td>\n",
       "    </tr>\n",
       "    <tr>\n",
       "      <th>41</th>\n",
       "      <td>Chaiten</td>\n",
       "      <td>Chile</td>\n",
       "      <td>-42</td>\n",
       "      <td>-72.699114</td>\n",
       "      <td>13</td>\n",
       "    </tr>\n",
       "    <tr>\n",
       "      <th>42</th>\n",
       "      <td>Copiapo</td>\n",
       "      <td>Chile</td>\n",
       "      <td>-27</td>\n",
       "      <td>-70.000000</td>\n",
       "      <td>1000</td>\n",
       "    </tr>\n",
       "    <tr>\n",
       "      <th>43</th>\n",
       "      <td>Las Heras Airport</td>\n",
       "      <td>Argentina</td>\n",
       "      <td>-46</td>\n",
       "      <td>-68.951111</td>\n",
       "      <td>1082</td>\n",
       "    </tr>\n",
       "    <tr>\n",
       "      <th>44</th>\n",
       "      <td>General Enrique Mosconi Airport</td>\n",
       "      <td>Argentina</td>\n",
       "      <td>-22</td>\n",
       "      <td>-63.793189</td>\n",
       "      <td>1472</td>\n",
       "    </tr>\n",
       "    <tr>\n",
       "      <th>45</th>\n",
       "      <td>Rincon de los Sauces</td>\n",
       "      <td>Argentina</td>\n",
       "      <td>-37</td>\n",
       "      <td>-68.904211</td>\n",
       "      <td>1969</td>\n",
       "    </tr>\n",
       "    <tr>\n",
       "      <th>46</th>\n",
       "      <td>Rio Turbio</td>\n",
       "      <td>Argentina</td>\n",
       "      <td>-51</td>\n",
       "      <td>-72.300000</td>\n",
       "      <td>1158</td>\n",
       "    </tr>\n",
       "    <tr>\n",
       "      <th>47</th>\n",
       "      <td>Caleta Olivia</td>\n",
       "      <td>Argentina</td>\n",
       "      <td>-46</td>\n",
       "      <td>-67.533300</td>\n",
       "      <td>124</td>\n",
       "    </tr>\n",
       "    <tr>\n",
       "      <th>48</th>\n",
       "      <td>El Chalten</td>\n",
       "      <td>Argentina</td>\n",
       "      <td>-49</td>\n",
       "      <td>-72.930000</td>\n",
       "      <td>1279</td>\n",
       "    </tr>\n",
       "    <tr>\n",
       "      <th>49</th>\n",
       "      <td>Aeropuerto Internacional Valle del Conlara</td>\n",
       "      <td>Argentina</td>\n",
       "      <td>-32</td>\n",
       "      <td>-65.179932</td>\n",
       "      <td>100</td>\n",
       "    </tr>\n",
       "    <tr>\n",
       "      <th>50</th>\n",
       "      <td>Aeropuerto Capitan Fuentes Martinez</td>\n",
       "      <td>Chile</td>\n",
       "      <td>-53</td>\n",
       "      <td>-70.319228</td>\n",
       "      <td>104</td>\n",
       "    </tr>\n",
       "    <tr>\n",
       "      <th>51</th>\n",
       "      <td>Isla San Felix</td>\n",
       "      <td>Chile</td>\n",
       "      <td>-26</td>\n",
       "      <td>-80.096214</td>\n",
       "      <td>165</td>\n",
       "    </tr>\n",
       "    <tr>\n",
       "      <th>52</th>\n",
       "      <td>Termal</td>\n",
       "      <td>Argentina</td>\n",
       "      <td>-27</td>\n",
       "      <td>-64.936666</td>\n",
       "      <td>1181</td>\n",
       "    </tr>\n",
       "    <tr>\n",
       "      <th>53</th>\n",
       "      <td>Caldera Airport</td>\n",
       "      <td>Chile</td>\n",
       "      <td>-27</td>\n",
       "      <td>-70.795305</td>\n",
       "      <td>180</td>\n",
       "    </tr>\n",
       "  </tbody>\n",
       "</table>\n",
       "</div>"
      ],
      "text/plain": [
       "                                  Airport Name    Country  Latitude  \\\n",
       "0                        Aeropuerto de Rafaela  Argentina       -31   \n",
       "1                        Comodoro Pierrestegui  Argentina       -31   \n",
       "2                     Aeroparque Jorge Newbery  Argentina       -34   \n",
       "3                       Ambrosio L V Taravella  Argentina       -31   \n",
       "4                                     Chamical  Argentina       -30   \n",
       "5                                 San Fernando  Argentina       -34   \n",
       "6                               Mariano Moreno  Argentina       -34   \n",
       "7                                    Catamarca  Argentina       -28   \n",
       "8                                     La Rioja  Argentina       -29   \n",
       "9                   Teniente Benjamin Matienzo  Argentina       -26   \n",
       "10                                    San Juan  Argentina       -31   \n",
       "11                 Rio Cuarto Area De Material  Argentina       -33   \n",
       "12                               Villa Dolores  Argentina       -31   \n",
       "13                              Villa Reynolds  Argentina       -33   \n",
       "14                                 Resistencia  Argentina       -27   \n",
       "15                                     Formosa  Argentina       -26   \n",
       "16                               Monte Caseros  Argentina       -30   \n",
       "17                                        Oran  Argentina       -23   \n",
       "18                                   La Quiaca  Argentina       -22   \n",
       "19                                        Goya  Argentina       -29   \n",
       "20                                       Obera  Argentina       -27   \n",
       "21                                 Reconquista  Argentina       -29   \n",
       "22                                   El Bolson  Argentina       -41   \n",
       "23                          Comodoro Rivadavia  Argentina       -45   \n",
       "24                               Almirante Zar  Argentina       -43   \n",
       "25                         Gobernador Castello  Argentina       -40   \n",
       "26                                  San Julian  Argentina       -49   \n",
       "27                               Perito Moreno  Argentina       -46   \n",
       "28                                  Chacalluta      Chile       -18   \n",
       "29                                   Balmaceda      Chile       -45   \n",
       "30                                   El Bosque      Chile       -33   \n",
       "31                                 Chile Chico      Chile       -46   \n",
       "32                Carlos Ibanez Del Campo Intl      Chile       -53   \n",
       "33                              Teniente Vidal      Chile       -45   \n",
       "34                          Diego Aracena Intl      Chile       -20   \n",
       "35                  Arturo Merino Benitez Intl      Chile       -33   \n",
       "36                    Capitan Fuentes Martinez      Chile       -53   \n",
       "37                                   Futaleufu      Chile       -43   \n",
       "38              Canal Bajo Carlos Hott Siebert      Chile       -40   \n",
       "39                                    Vallenar      Chile       -28   \n",
       "40                         De La Independencia      Chile       -34   \n",
       "41                                     Chaiten      Chile       -42   \n",
       "42                                     Copiapo      Chile       -27   \n",
       "43                           Las Heras Airport  Argentina       -46   \n",
       "44             General Enrique Mosconi Airport  Argentina       -22   \n",
       "45                        Rincon de los Sauces  Argentina       -37   \n",
       "46                                  Rio Turbio  Argentina       -51   \n",
       "47                               Caleta Olivia  Argentina       -46   \n",
       "48                                  El Chalten  Argentina       -49   \n",
       "49  Aeropuerto Internacional Valle del Conlara  Argentina       -32   \n",
       "50         Aeropuerto Capitan Fuentes Martinez      Chile       -53   \n",
       "51                              Isla San Felix      Chile       -26   \n",
       "52                                      Termal  Argentina       -27   \n",
       "53                             Caldera Airport      Chile       -27   \n",
       "\n",
       "    Longitude  Altitude  \n",
       "0  -61.501594       100  \n",
       "1  -57.996631       112  \n",
       "2  -58.415606        18  \n",
       "3  -64.207953      1604  \n",
       "4  -66.293610      1503  \n",
       "5  -58.589644        10  \n",
       "6  -58.789564       105  \n",
       "7  -65.750925      1522  \n",
       "8  -66.795839      1436  \n",
       "9  -65.104944      1495  \n",
       "10 -68.418194      1959  \n",
       "11 -64.261314      1381  \n",
       "12 -65.146283      1915  \n",
       "13 -65.378086      1591  \n",
       "14 -59.056125       173  \n",
       "15 -58.228111       194  \n",
       "16 -57.640231       174  \n",
       "17 -64.329170      1168  \n",
       "18 -65.577500     11414  \n",
       "19 -59.250583       125  \n",
       "20 -55.124156      1125  \n",
       "21 -59.680000       161  \n",
       "22 -71.532289      1131  \n",
       "23 -67.465508       190  \n",
       "24 -65.270319       141  \n",
       "25 -63.000389        20  \n",
       "26 -67.802589       190  \n",
       "27 -70.978689      1410  \n",
       "28 -70.338742       167  \n",
       "29 -71.689475      1722  \n",
       "30 -70.688400      1844  \n",
       "31 -71.687405      1070  \n",
       "32 -70.854586       139  \n",
       "33 -72.106133      1020  \n",
       "34 -70.181275       155  \n",
       "35 -70.785803      1555  \n",
       "36 -70.319228       104  \n",
       "37 -71.851112      1148  \n",
       "38 -73.061042       187  \n",
       "39 -70.755997      1725  \n",
       "40 -70.775694      1446  \n",
       "41 -72.699114        13  \n",
       "42 -70.000000      1000  \n",
       "43 -68.951111      1082  \n",
       "44 -63.793189      1472  \n",
       "45 -68.904211      1969  \n",
       "46 -72.300000      1158  \n",
       "47 -67.533300       124  \n",
       "48 -72.930000      1279  \n",
       "49 -65.179932       100  \n",
       "50 -70.319228       104  \n",
       "51 -80.096214       165  \n",
       "52 -64.936666      1181  \n",
       "53 -70.795305       180  "
      ]
     },
     "execution_count": 57,
     "metadata": {},
     "output_type": "execute_result"
    }
   ],
   "source": [
    "# Yet another time for one of you to reveal your brilliance.\n",
    "\n",
    "sql_query_df = pd.read_sql(\"\"\"\n",
    "\n",
    "SELECT name AS \"Airport Name\",\n",
    "    country AS \"Country\",\n",
    "    CAST(latitude as INT) AS Latitude,\n",
    "    CAST(longitude AS float) AS Longitude,\n",
    "    CAST(altitude AS int) AS \"Altitude\"\n",
    "    \n",
    "FROM airports\n",
    "\n",
    "WHERE Altitude BETWEEN 0 AND 2000\n",
    "\n",
    "AND\n",
    "\n",
    "(country = \"Chile\" OR country = \"Argentina\")\n",
    "\n",
    "\n",
    "\"\"\", con)\n",
    "\n",
    "sql_query_df\n"
   ]
  },
  {
   "cell_type": "markdown",
   "id": "823fdbaf",
   "metadata": {
    "slideshow": {
     "slide_type": "slide"
    }
   },
   "source": [
    "#### IN / NOT IN\n",
    "\n",
    "- Get all records with a given field taking on a set of values.\n",
    "\n",
    "SELECT col1, col2 <br> \n",
    "FROM table <br>\n",
    "WHERE col1 IN (col_value1, col_value2, ...) <br>\n",
    "- E.g.,\n",
    "\n",
    "    Get name, latitude, longitude for airports in Brazil, Argentina, Chile, and Uruguay "
   ]
  },
  {
   "cell_type": "code",
   "execution_count": 58,
   "id": "2d76ebde",
   "metadata": {
    "scrolled": true,
    "slideshow": {
     "slide_type": "subslide"
    }
   },
   "outputs": [
    {
     "data": {
      "text/html": [
       "<div>\n",
       "<style scoped>\n",
       "    .dataframe tbody tr th:only-of-type {\n",
       "        vertical-align: middle;\n",
       "    }\n",
       "\n",
       "    .dataframe tbody tr th {\n",
       "        vertical-align: top;\n",
       "    }\n",
       "\n",
       "    .dataframe thead th {\n",
       "        text-align: right;\n",
       "    }\n",
       "</style>\n",
       "<table border=\"1\" class=\"dataframe\">\n",
       "  <thead>\n",
       "    <tr style=\"text-align: right;\">\n",
       "      <th></th>\n",
       "      <th>Airport Name</th>\n",
       "      <th>country</th>\n",
       "      <th>Latitude</th>\n",
       "      <th>Longitude</th>\n",
       "    </tr>\n",
       "  </thead>\n",
       "  <tbody>\n",
       "    <tr>\n",
       "      <th>0</th>\n",
       "      <td>Aeropuerto de Rafaela</td>\n",
       "      <td>Argentina</td>\n",
       "      <td>-31</td>\n",
       "      <td>-61</td>\n",
       "    </tr>\n",
       "    <tr>\n",
       "      <th>1</th>\n",
       "      <td>Comodoro Pierrestegui</td>\n",
       "      <td>Argentina</td>\n",
       "      <td>-31</td>\n",
       "      <td>-57</td>\n",
       "    </tr>\n",
       "    <tr>\n",
       "      <th>2</th>\n",
       "      <td>Gualeguaychu</td>\n",
       "      <td>Argentina</td>\n",
       "      <td>-33</td>\n",
       "      <td>-58</td>\n",
       "    </tr>\n",
       "    <tr>\n",
       "      <th>3</th>\n",
       "      <td>Junin</td>\n",
       "      <td>Argentina</td>\n",
       "      <td>-34</td>\n",
       "      <td>-60</td>\n",
       "    </tr>\n",
       "    <tr>\n",
       "      <th>4</th>\n",
       "      <td>General Urquiza</td>\n",
       "      <td>Argentina</td>\n",
       "      <td>-31</td>\n",
       "      <td>-60</td>\n",
       "    </tr>\n",
       "    <tr>\n",
       "      <th>...</th>\n",
       "      <td>...</td>\n",
       "      <td>...</td>\n",
       "      <td>...</td>\n",
       "      <td>...</td>\n",
       "    </tr>\n",
       "    <tr>\n",
       "      <th>362</th>\n",
       "      <td>Caldera Airport</td>\n",
       "      <td>Chile</td>\n",
       "      <td>-27</td>\n",
       "      <td>-70</td>\n",
       "    </tr>\n",
       "    <tr>\n",
       "      <th>363</th>\n",
       "      <td>San Pedro de Atacama Airport</td>\n",
       "      <td>Chile</td>\n",
       "      <td>-22</td>\n",
       "      <td>-68</td>\n",
       "    </tr>\n",
       "    <tr>\n",
       "      <th>364</th>\n",
       "      <td>Aeroporto Estadual Arthur Siqueira</td>\n",
       "      <td>Brazil</td>\n",
       "      <td>-22</td>\n",
       "      <td>-46</td>\n",
       "    </tr>\n",
       "    <tr>\n",
       "      <th>365</th>\n",
       "      <td>Americana</td>\n",
       "      <td>Brazil</td>\n",
       "      <td>-22</td>\n",
       "      <td>-47</td>\n",
       "    </tr>\n",
       "    <tr>\n",
       "      <th>366</th>\n",
       "      <td>Pampulha</td>\n",
       "      <td>Brazil</td>\n",
       "      <td>-19</td>\n",
       "      <td>-43</td>\n",
       "    </tr>\n",
       "  </tbody>\n",
       "</table>\n",
       "<p>367 rows × 4 columns</p>\n",
       "</div>"
      ],
      "text/plain": [
       "                           Airport Name    country  Latitude  Longitude\n",
       "0                 Aeropuerto de Rafaela  Argentina       -31        -61\n",
       "1                 Comodoro Pierrestegui  Argentina       -31        -57\n",
       "2                          Gualeguaychu  Argentina       -33        -58\n",
       "3                                 Junin  Argentina       -34        -60\n",
       "4                       General Urquiza  Argentina       -31        -60\n",
       "..                                  ...        ...       ...        ...\n",
       "362                     Caldera Airport      Chile       -27        -70\n",
       "363        San Pedro de Atacama Airport      Chile       -22        -68\n",
       "364  Aeroporto Estadual Arthur Siqueira     Brazil       -22        -46\n",
       "365                           Americana     Brazil       -22        -47\n",
       "366                            Pampulha     Brazil       -19        -43\n",
       "\n",
       "[367 rows x 4 columns]"
      ]
     },
     "execution_count": 58,
     "metadata": {},
     "output_type": "execute_result"
    }
   ],
   "source": [
    "sql_query_df = pd.read_sql(\"\"\"\n",
    "\n",
    "SELECT name AS \"Airport Name\", \n",
    "        country,\n",
    "       CAST(latitude AS int) AS \"Latitude\",\n",
    "       CAST(longitude AS int) AS \"Longitude\"\n",
    "       \n",
    "FROM airports\n",
    "\n",
    "WHERE country IN (\"Argentina\", \"Brazil\", \"Chile\", \"Uruguay\")\n",
    "\"\"\", con)\n",
    "\n",
    "sql_query_df\n"
   ]
  },
  {
   "cell_type": "markdown",
   "id": "f321efe0",
   "metadata": {
    "heading_collapsed": true,
    "hidden": true,
    "slideshow": {
     "slide_type": "slide"
    }
   },
   "source": [
    "##### Filtering rows with null (or no null) values in `WHERE` statement\n",
    "- IS NULL\n",
    "- IS NOT NULL\n",
    "\n",
    "The `IS` operator:\n",
    "- necessary when working with `NULL` values \n",
    "- Cannot use = or <> operators here.  "
   ]
  },
  {
   "cell_type": "code",
   "execution_count": 59,
   "id": "652411bc",
   "metadata": {
    "hidden": true,
    "slideshow": {
     "slide_type": "subslide"
    }
   },
   "outputs": [
    {
     "data": {
      "text/html": [
       "<div>\n",
       "<style scoped>\n",
       "    .dataframe tbody tr th:only-of-type {\n",
       "        vertical-align: middle;\n",
       "    }\n",
       "\n",
       "    .dataframe tbody tr th {\n",
       "        vertical-align: top;\n",
       "    }\n",
       "\n",
       "    .dataframe thead th {\n",
       "        text-align: right;\n",
       "    }\n",
       "</style>\n",
       "<table border=\"1\" class=\"dataframe\">\n",
       "  <thead>\n",
       "    <tr style=\"text-align: right;\">\n",
       "      <th></th>\n",
       "      <th>Airport Name</th>\n",
       "      <th>Airport Code</th>\n",
       "    </tr>\n",
       "  </thead>\n",
       "  <tbody>\n",
       "    <tr>\n",
       "      <th>0</th>\n",
       "      <td>Forestville</td>\n",
       "      <td>None</td>\n",
       "    </tr>\n",
       "    <tr>\n",
       "      <th>1</th>\n",
       "      <td>Pitt Meadows</td>\n",
       "      <td>None</td>\n",
       "    </tr>\n",
       "    <tr>\n",
       "      <th>2</th>\n",
       "      <td>Blida</td>\n",
       "      <td>None</td>\n",
       "    </tr>\n",
       "    <tr>\n",
       "      <th>3</th>\n",
       "      <td>Bou Saada</td>\n",
       "      <td>None</td>\n",
       "    </tr>\n",
       "    <tr>\n",
       "      <th>4</th>\n",
       "      <td>Reggane</td>\n",
       "      <td>None</td>\n",
       "    </tr>\n",
       "    <tr>\n",
       "      <th>...</th>\n",
       "      <td>...</td>\n",
       "      <td>...</td>\n",
       "    </tr>\n",
       "    <tr>\n",
       "      <th>2222</th>\n",
       "      <td>Bus</td>\n",
       "      <td>None</td>\n",
       "    </tr>\n",
       "    <tr>\n",
       "      <th>2223</th>\n",
       "      <td>Bus</td>\n",
       "      <td>None</td>\n",
       "    </tr>\n",
       "    <tr>\n",
       "      <th>2224</th>\n",
       "      <td>Bus</td>\n",
       "      <td>None</td>\n",
       "    </tr>\n",
       "    <tr>\n",
       "      <th>2225</th>\n",
       "      <td>Main Station</td>\n",
       "      <td>None</td>\n",
       "    </tr>\n",
       "    <tr>\n",
       "      <th>2226</th>\n",
       "      <td>Algerciras Port</td>\n",
       "      <td>None</td>\n",
       "    </tr>\n",
       "  </tbody>\n",
       "</table>\n",
       "<p>2227 rows × 2 columns</p>\n",
       "</div>"
      ],
      "text/plain": [
       "         Airport Name Airport Code\n",
       "0         Forestville         None\n",
       "1        Pitt Meadows         None\n",
       "2               Blida         None\n",
       "3           Bou Saada         None\n",
       "4             Reggane         None\n",
       "...               ...          ...\n",
       "2222              Bus         None\n",
       "2223              Bus         None\n",
       "2224              Bus         None\n",
       "2225     Main Station         None\n",
       "2226  Algerciras Port         None\n",
       "\n",
       "[2227 rows x 2 columns]"
      ]
     },
     "execution_count": 59,
     "metadata": {},
     "output_type": "execute_result"
    }
   ],
   "source": [
    "pd.read_sql(\"\"\"\n",
    "\n",
    "SELECT name AS \"Airport Name\",\n",
    "       code AS \"Airport Code\"\n",
    "       \n",
    "FROM airports\n",
    "\n",
    "WHERE \"Airport Code\" IS NULL\n",
    "\n",
    "\"\"\", con)"
   ]
  },
  {
   "cell_type": "markdown",
   "id": "523ec8e3",
   "metadata": {
    "slideshow": {
     "slide_type": "slide"
    }
   },
   "source": [
    "#### Exercise:\n",
    "\n",
    "Get the count of records with nulls in the code column of the airport table"
   ]
  },
  {
   "cell_type": "code",
   "execution_count": 63,
   "id": "59b983b7",
   "metadata": {},
   "outputs": [
    {
     "data": {
      "text/html": [
       "<div>\n",
       "<style scoped>\n",
       "    .dataframe tbody tr th:only-of-type {\n",
       "        vertical-align: middle;\n",
       "    }\n",
       "\n",
       "    .dataframe tbody tr th {\n",
       "        vertical-align: top;\n",
       "    }\n",
       "\n",
       "    .dataframe thead th {\n",
       "        text-align: right;\n",
       "    }\n",
       "</style>\n",
       "<table border=\"1\" class=\"dataframe\">\n",
       "  <thead>\n",
       "    <tr style=\"text-align: right;\">\n",
       "      <th></th>\n",
       "      <th>no_code_count</th>\n",
       "    </tr>\n",
       "  </thead>\n",
       "  <tbody>\n",
       "    <tr>\n",
       "      <th>0</th>\n",
       "      <td>2227</td>\n",
       "    </tr>\n",
       "  </tbody>\n",
       "</table>\n",
       "</div>"
      ],
      "text/plain": [
       "   no_code_count\n",
       "0           2227"
      ]
     },
     "execution_count": 63,
     "metadata": {},
     "output_type": "execute_result"
    }
   ],
   "source": [
    "#### Gimme a hand!\n",
    "\n",
    "pd.read_sql(\"\"\"\n",
    "\n",
    "SELECT COUNT(*) as no_code_count\n",
    "FROM airports\n",
    "WHERE code is NULL\n",
    "\n",
    "\"\"\", con)"
   ]
  },
  {
   "cell_type": "markdown",
   "id": "0d76c140",
   "metadata": {
    "heading_collapsed": true,
    "hidden": true,
    "slideshow": {
     "slide_type": "slide"
    }
   },
   "source": [
    "#### ORDER BY: Sorting Results"
   ]
  },
  {
   "cell_type": "markdown",
   "id": "46fbf741",
   "metadata": {
    "hidden": true,
    "slideshow": {
     "slide_type": "fragment"
    }
   },
   "source": [
    "Use `ORDER BY` to identify the column(s) you want to sort on:\n",
    "- `ASC` for ascending order (default)\n",
    "- `DESC` for descending order\n",
    "\n"
   ]
  },
  {
   "cell_type": "markdown",
   "id": "30346853",
   "metadata": {
    "slideshow": {
     "slide_type": "subslide"
    }
   },
   "source": [
    "Get the name and code of airports with:\n",
    "- top 10 highest altitudes.\n",
    "- in order of decreasing altitude. "
   ]
  },
  {
   "cell_type": "code",
   "execution_count": 67,
   "id": "9aee87e5",
   "metadata": {
    "hidden": true,
    "scrolled": true,
    "slideshow": {
     "slide_type": "subslide"
    }
   },
   "outputs": [
    {
     "data": {
      "text/html": [
       "<div>\n",
       "<style scoped>\n",
       "    .dataframe tbody tr th:only-of-type {\n",
       "        vertical-align: middle;\n",
       "    }\n",
       "\n",
       "    .dataframe tbody tr th {\n",
       "        vertical-align: top;\n",
       "    }\n",
       "\n",
       "    .dataframe thead th {\n",
       "        text-align: right;\n",
       "    }\n",
       "</style>\n",
       "<table border=\"1\" class=\"dataframe\">\n",
       "  <thead>\n",
       "    <tr style=\"text-align: right;\">\n",
       "      <th></th>\n",
       "      <th>Airport Name</th>\n",
       "      <th>code</th>\n",
       "      <th>Altitude (ft)</th>\n",
       "    </tr>\n",
       "  </thead>\n",
       "  <tbody>\n",
       "    <tr>\n",
       "      <th>0</th>\n",
       "      <td>Yading Daocheng</td>\n",
       "      <td>DCY</td>\n",
       "      <td>14472</td>\n",
       "    </tr>\n",
       "    <tr>\n",
       "      <th>1</th>\n",
       "      <td>Qamdo Bangda Airport</td>\n",
       "      <td>BPX</td>\n",
       "      <td>14219</td>\n",
       "    </tr>\n",
       "    <tr>\n",
       "      <th>2</th>\n",
       "      <td>Kangding Airport</td>\n",
       "      <td>KGT</td>\n",
       "      <td>14042</td>\n",
       "    </tr>\n",
       "    <tr>\n",
       "      <th>3</th>\n",
       "      <td>Gunsa</td>\n",
       "      <td>NGQ</td>\n",
       "      <td>13780</td>\n",
       "    </tr>\n",
       "    <tr>\n",
       "      <th>4</th>\n",
       "      <td>Irkutsk-2</td>\n",
       "      <td>None</td>\n",
       "      <td>13411</td>\n",
       "    </tr>\n",
       "    <tr>\n",
       "      <th>5</th>\n",
       "      <td>El Alto Intl</td>\n",
       "      <td>LPB</td>\n",
       "      <td>13325</td>\n",
       "    </tr>\n",
       "    <tr>\n",
       "      <th>6</th>\n",
       "      <td>Lhasa-Gonggar</td>\n",
       "      <td>LXA</td>\n",
       "      <td>13136</td>\n",
       "    </tr>\n",
       "    <tr>\n",
       "      <th>7</th>\n",
       "      <td>Yushu Batang</td>\n",
       "      <td>YUS</td>\n",
       "      <td>13000</td>\n",
       "    </tr>\n",
       "    <tr>\n",
       "      <th>8</th>\n",
       "      <td>Capitan Nicolas Rojas</td>\n",
       "      <td>POI</td>\n",
       "      <td>12913</td>\n",
       "    </tr>\n",
       "    <tr>\n",
       "      <th>9</th>\n",
       "      <td>Copacabana Airport</td>\n",
       "      <td>None</td>\n",
       "      <td>12591</td>\n",
       "    </tr>\n",
       "  </tbody>\n",
       "</table>\n",
       "</div>"
      ],
      "text/plain": [
       "            Airport Name  code  Altitude (ft)\n",
       "0        Yading Daocheng   DCY          14472\n",
       "1   Qamdo Bangda Airport   BPX          14219\n",
       "2       Kangding Airport   KGT          14042\n",
       "3                  Gunsa   NGQ          13780\n",
       "4              Irkutsk-2  None          13411\n",
       "5           El Alto Intl   LPB          13325\n",
       "6          Lhasa-Gonggar   LXA          13136\n",
       "7           Yushu Batang   YUS          13000\n",
       "8  Capitan Nicolas Rojas   POI          12913\n",
       "9     Copacabana Airport  None          12591"
      ]
     },
     "execution_count": 67,
     "metadata": {},
     "output_type": "execute_result"
    }
   ],
   "source": [
    "pd.read_sql(\"\"\"\n",
    "\n",
    "SELECT name AS \"Airport Name\", \n",
    "       code,\n",
    "       CAST(altitude AS int) AS \"Altitude (ft)\"\n",
    "       \n",
    "FROM airports\n",
    "\n",
    "ORDER BY \"Altitude (ft)\" DESC\n",
    "\n",
    "LIMIT 10\n",
    "         \n",
    "\"\"\", con)"
   ]
  },
  {
   "cell_type": "markdown",
   "id": "c974ee89",
   "metadata": {
    "slideshow": {
     "slide_type": "subslide"
    }
   },
   "source": [
    "Get the name and code of airports with:\n",
    "- top 10 lowest altitudes.\n",
    "- in order of **increasing** altitude. "
   ]
  },
  {
   "cell_type": "code",
   "execution_count": 68,
   "id": "7aded8dc",
   "metadata": {
    "slideshow": {
     "slide_type": "subslide"
    }
   },
   "outputs": [
    {
     "data": {
      "text/html": [
       "<div>\n",
       "<style scoped>\n",
       "    .dataframe tbody tr th:only-of-type {\n",
       "        vertical-align: middle;\n",
       "    }\n",
       "\n",
       "    .dataframe tbody tr th {\n",
       "        vertical-align: top;\n",
       "    }\n",
       "\n",
       "    .dataframe thead th {\n",
       "        text-align: right;\n",
       "    }\n",
       "</style>\n",
       "<table border=\"1\" class=\"dataframe\">\n",
       "  <thead>\n",
       "    <tr style=\"text-align: right;\">\n",
       "      <th></th>\n",
       "      <th>Airport Name</th>\n",
       "      <th>code</th>\n",
       "      <th>Altitude (ft)</th>\n",
       "    </tr>\n",
       "  </thead>\n",
       "  <tbody>\n",
       "    <tr>\n",
       "      <th>0</th>\n",
       "      <td>I Bar Yehuda</td>\n",
       "      <td>None</td>\n",
       "      <td>-1266</td>\n",
       "    </tr>\n",
       "    <tr>\n",
       "      <th>1</th>\n",
       "      <td>En Yahav</td>\n",
       "      <td>None</td>\n",
       "      <td>-164</td>\n",
       "    </tr>\n",
       "    <tr>\n",
       "      <th>2</th>\n",
       "      <td>Ramsar</td>\n",
       "      <td>RZR</td>\n",
       "      <td>-70</td>\n",
       "    </tr>\n",
       "    <tr>\n",
       "      <th>3</th>\n",
       "      <td>Astrakhan</td>\n",
       "      <td>ASF</td>\n",
       "      <td>-65</td>\n",
       "    </tr>\n",
       "    <tr>\n",
       "      <th>4</th>\n",
       "      <td>Noshahr Airport</td>\n",
       "      <td>NSH</td>\n",
       "      <td>-61</td>\n",
       "    </tr>\n",
       "    <tr>\n",
       "      <th>5</th>\n",
       "      <td>Imperial Co</td>\n",
       "      <td>IPL</td>\n",
       "      <td>-54</td>\n",
       "    </tr>\n",
       "    <tr>\n",
       "      <th>6</th>\n",
       "      <td>El Centro Naf</td>\n",
       "      <td>NJK</td>\n",
       "      <td>-42</td>\n",
       "    </tr>\n",
       "    <tr>\n",
       "      <th>7</th>\n",
       "      <td>Rasht</td>\n",
       "      <td>RAS</td>\n",
       "      <td>-40</td>\n",
       "    </tr>\n",
       "    <tr>\n",
       "      <th>8</th>\n",
       "      <td>Gorgan Airport</td>\n",
       "      <td>GBT</td>\n",
       "      <td>-24</td>\n",
       "    </tr>\n",
       "    <tr>\n",
       "      <th>9</th>\n",
       "      <td>Rotterdam</td>\n",
       "      <td>RTM</td>\n",
       "      <td>-15</td>\n",
       "    </tr>\n",
       "  </tbody>\n",
       "</table>\n",
       "</div>"
      ],
      "text/plain": [
       "      Airport Name  code  Altitude (ft)\n",
       "0     I Bar Yehuda  None          -1266\n",
       "1         En Yahav  None           -164\n",
       "2           Ramsar   RZR            -70\n",
       "3        Astrakhan   ASF            -65\n",
       "4  Noshahr Airport   NSH            -61\n",
       "5      Imperial Co   IPL            -54\n",
       "6    El Centro Naf   NJK            -42\n",
       "7            Rasht   RAS            -40\n",
       "8   Gorgan Airport   GBT            -24\n",
       "9        Rotterdam   RTM            -15"
      ]
     },
     "execution_count": 68,
     "metadata": {},
     "output_type": "execute_result"
    }
   ],
   "source": [
    "pd.read_sql(\"\"\"\n",
    "\n",
    "SELECT name AS \"Airport Name\", \n",
    "       code,\n",
    "       CAST(altitude AS int) AS \"Altitude (ft)\"\n",
    "       \n",
    "FROM airports\n",
    "\n",
    "ORDER BY \"Altitude (ft)\" ASC\n",
    "\n",
    "LIMIT 10\n",
    "         \n",
    "\"\"\", con)"
   ]
  },
  {
   "cell_type": "markdown",
   "id": "e6408fca",
   "metadata": {
    "slideshow": {
     "slide_type": "slide"
    }
   },
   "source": [
    "**Exercise**\n",
    "\n",
    "Get the name, code, and country of airports with:\n",
    "- six highest latitudes\n",
    "- in order of **decreasing** latitude. \n"
   ]
  },
  {
   "cell_type": "code",
   "execution_count": 70,
   "id": "334ffbda",
   "metadata": {
    "slideshow": {
     "slide_type": "subslide"
    }
   },
   "outputs": [
    {
     "data": {
      "text/html": [
       "<div>\n",
       "<style scoped>\n",
       "    .dataframe tbody tr th:only-of-type {\n",
       "        vertical-align: middle;\n",
       "    }\n",
       "\n",
       "    .dataframe tbody tr th {\n",
       "        vertical-align: top;\n",
       "    }\n",
       "\n",
       "    .dataframe thead th {\n",
       "        text-align: right;\n",
       "    }\n",
       "</style>\n",
       "<table border=\"1\" class=\"dataframe\">\n",
       "  <thead>\n",
       "    <tr style=\"text-align: right;\">\n",
       "      <th></th>\n",
       "      <th>name</th>\n",
       "      <th>lat</th>\n",
       "    </tr>\n",
       "  </thead>\n",
       "  <tbody>\n",
       "    <tr>\n",
       "      <th>0</th>\n",
       "      <td>Alert</td>\n",
       "      <td>82.517778</td>\n",
       "    </tr>\n",
       "    <tr>\n",
       "      <th>1</th>\n",
       "      <td>Eureka</td>\n",
       "      <td>79.994722</td>\n",
       "    </tr>\n",
       "    <tr>\n",
       "      <th>2</th>\n",
       "      <td>Ny-Alesund Airport</td>\n",
       "      <td>78.927500</td>\n",
       "    </tr>\n",
       "    <tr>\n",
       "      <th>3</th>\n",
       "      <td>Piramida</td>\n",
       "      <td>78.652800</td>\n",
       "    </tr>\n",
       "    <tr>\n",
       "      <th>4</th>\n",
       "      <td>Longyear</td>\n",
       "      <td>78.246111</td>\n",
       "    </tr>\n",
       "    <tr>\n",
       "      <th>5</th>\n",
       "      <td>Barentsburg</td>\n",
       "      <td>78.100600</td>\n",
       "    </tr>\n",
       "  </tbody>\n",
       "</table>\n",
       "</div>"
      ],
      "text/plain": [
       "                 name        lat\n",
       "0               Alert  82.517778\n",
       "1              Eureka  79.994722\n",
       "2  Ny-Alesund Airport  78.927500\n",
       "3            Piramida  78.652800\n",
       "4            Longyear  78.246111\n",
       "5         Barentsburg  78.100600"
      ]
     },
     "execution_count": 70,
     "metadata": {},
     "output_type": "execute_result"
    }
   ],
   "source": [
    "pd.read_sql(\"\"\"\n",
    "\n",
    "SELECT name,\n",
    "CAST(latitude as float) as lat\n",
    "FROM airports\n",
    "\n",
    "ORDER BY lat DESC\n",
    "LIMIT 6\n",
    "\"\"\", con)"
   ]
  },
  {
   "cell_type": "markdown",
   "id": "1c1eb303",
   "metadata": {
    "slideshow": {
     "slide_type": "slide"
    }
   },
   "source": [
    "Ordering on multiple columns:\n",
    "\n",
    "- Can order on one column first and then on another.\n",
    "\n",
    "E.g., order by:\n",
    "- decreasing latitudes\n",
    "- increasing longitudes\n",
    "- Altitude > 10000 ft."
   ]
  },
  {
   "cell_type": "code",
   "execution_count": 71,
   "id": "790aaf0d",
   "metadata": {
    "hidden": true,
    "scrolled": true,
    "slideshow": {
     "slide_type": "subslide"
    }
   },
   "outputs": [
    {
     "data": {
      "text/html": [
       "<div>\n",
       "<style scoped>\n",
       "    .dataframe tbody tr th:only-of-type {\n",
       "        vertical-align: middle;\n",
       "    }\n",
       "\n",
       "    .dataframe tbody tr th {\n",
       "        vertical-align: top;\n",
       "    }\n",
       "\n",
       "    .dataframe thead th {\n",
       "        text-align: right;\n",
       "    }\n",
       "</style>\n",
       "<table border=\"1\" class=\"dataframe\">\n",
       "  <thead>\n",
       "    <tr style=\"text-align: right;\">\n",
       "      <th></th>\n",
       "      <th>Airport Name</th>\n",
       "      <th>Altitude (ft)</th>\n",
       "      <th>Airport Latitude</th>\n",
       "      <th>Airport Longitude</th>\n",
       "    </tr>\n",
       "  </thead>\n",
       "  <tbody>\n",
       "    <tr>\n",
       "      <th>0</th>\n",
       "      <td>Summit Camp</td>\n",
       "      <td>11000</td>\n",
       "      <td>72</td>\n",
       "      <td>-38</td>\n",
       "    </tr>\n",
       "    <tr>\n",
       "      <th>1</th>\n",
       "      <td>Summit Camp</td>\n",
       "      <td>10552</td>\n",
       "      <td>72</td>\n",
       "      <td>-38</td>\n",
       "    </tr>\n",
       "    <tr>\n",
       "      <th>2</th>\n",
       "      <td>Irkutsk-2</td>\n",
       "      <td>13411</td>\n",
       "      <td>52</td>\n",
       "      <td>104</td>\n",
       "    </tr>\n",
       "    <tr>\n",
       "      <th>3</th>\n",
       "      <td>Leh</td>\n",
       "      <td>10682</td>\n",
       "      <td>34</td>\n",
       "      <td>77</td>\n",
       "    </tr>\n",
       "    <tr>\n",
       "      <th>4</th>\n",
       "      <td>Gannan</td>\n",
       "      <td>10466</td>\n",
       "      <td>34</td>\n",
       "      <td>102</td>\n",
       "    </tr>\n",
       "    <tr>\n",
       "      <th>5</th>\n",
       "      <td>Maiwa</td>\n",
       "      <td>11500</td>\n",
       "      <td>33</td>\n",
       "      <td>102</td>\n",
       "    </tr>\n",
       "    <tr>\n",
       "      <th>6</th>\n",
       "      <td>Gunsa</td>\n",
       "      <td>13780</td>\n",
       "      <td>32</td>\n",
       "      <td>80</td>\n",
       "    </tr>\n",
       "    <tr>\n",
       "      <th>7</th>\n",
       "      <td>Yushu Batang</td>\n",
       "      <td>13000</td>\n",
       "      <td>32</td>\n",
       "      <td>97</td>\n",
       "    </tr>\n",
       "    <tr>\n",
       "      <th>8</th>\n",
       "      <td>Hongyuan Airfield</td>\n",
       "      <td>11500</td>\n",
       "      <td>32</td>\n",
       "      <td>102</td>\n",
       "    </tr>\n",
       "    <tr>\n",
       "      <th>9</th>\n",
       "      <td>Jiuzhaigou Huanglong</td>\n",
       "      <td>11311</td>\n",
       "      <td>32</td>\n",
       "      <td>103</td>\n",
       "    </tr>\n",
       "    <tr>\n",
       "      <th>10</th>\n",
       "      <td>Qamdo Bangda Airport</td>\n",
       "      <td>14219</td>\n",
       "      <td>30</td>\n",
       "      <td>97</td>\n",
       "    </tr>\n",
       "    <tr>\n",
       "      <th>11</th>\n",
       "      <td>Kangding Airport</td>\n",
       "      <td>14042</td>\n",
       "      <td>30</td>\n",
       "      <td>101</td>\n",
       "    </tr>\n",
       "    <tr>\n",
       "      <th>12</th>\n",
       "      <td>Shigatse Peace Airport</td>\n",
       "      <td>12408</td>\n",
       "      <td>29</td>\n",
       "      <td>89</td>\n",
       "    </tr>\n",
       "    <tr>\n",
       "      <th>13</th>\n",
       "      <td>Lhasa-Gonggar</td>\n",
       "      <td>13136</td>\n",
       "      <td>29</td>\n",
       "      <td>90</td>\n",
       "    </tr>\n",
       "    <tr>\n",
       "      <th>14</th>\n",
       "      <td>Yading Daocheng</td>\n",
       "      <td>14472</td>\n",
       "      <td>29</td>\n",
       "      <td>100</td>\n",
       "    </tr>\n",
       "    <tr>\n",
       "      <th>15</th>\n",
       "      <td>Manang</td>\n",
       "      <td>11000</td>\n",
       "      <td>28</td>\n",
       "      <td>84</td>\n",
       "    </tr>\n",
       "    <tr>\n",
       "      <th>16</th>\n",
       "      <td>Syangboche</td>\n",
       "      <td>12309</td>\n",
       "      <td>27</td>\n",
       "      <td>86</td>\n",
       "    </tr>\n",
       "    <tr>\n",
       "      <th>17</th>\n",
       "      <td>Francisco Carle</td>\n",
       "      <td>11034</td>\n",
       "      <td>-11</td>\n",
       "      <td>-75</td>\n",
       "    </tr>\n",
       "    <tr>\n",
       "      <th>18</th>\n",
       "      <td>Andahuaylas</td>\n",
       "      <td>11300</td>\n",
       "      <td>-13</td>\n",
       "      <td>-73</td>\n",
       "    </tr>\n",
       "    <tr>\n",
       "      <th>19</th>\n",
       "      <td>Poroy Train Station</td>\n",
       "      <td>11710</td>\n",
       "      <td>-13</td>\n",
       "      <td>-72</td>\n",
       "    </tr>\n",
       "    <tr>\n",
       "      <th>20</th>\n",
       "      <td>Teniente Alejandro Velasco Astete Intl</td>\n",
       "      <td>10860</td>\n",
       "      <td>-13</td>\n",
       "      <td>-71</td>\n",
       "    </tr>\n",
       "    <tr>\n",
       "      <th>21</th>\n",
       "      <td>Juliaca</td>\n",
       "      <td>12552</td>\n",
       "      <td>-15</td>\n",
       "      <td>-70</td>\n",
       "    </tr>\n",
       "    <tr>\n",
       "      <th>22</th>\n",
       "      <td>Copacabana Airport</td>\n",
       "      <td>12591</td>\n",
       "      <td>-16</td>\n",
       "      <td>-69</td>\n",
       "    </tr>\n",
       "    <tr>\n",
       "      <th>23</th>\n",
       "      <td>El Alto Intl</td>\n",
       "      <td>13325</td>\n",
       "      <td>-16</td>\n",
       "      <td>-68</td>\n",
       "    </tr>\n",
       "    <tr>\n",
       "      <th>24</th>\n",
       "      <td>Juan Mendoza</td>\n",
       "      <td>12146</td>\n",
       "      <td>-17</td>\n",
       "      <td>-67</td>\n",
       "    </tr>\n",
       "    <tr>\n",
       "      <th>25</th>\n",
       "      <td>Capitan Nicolas Rojas</td>\n",
       "      <td>12913</td>\n",
       "      <td>-19</td>\n",
       "      <td>-65</td>\n",
       "    </tr>\n",
       "    <tr>\n",
       "      <th>26</th>\n",
       "      <td>Salar de Uyuni</td>\n",
       "      <td>12000</td>\n",
       "      <td>-20</td>\n",
       "      <td>-67</td>\n",
       "    </tr>\n",
       "    <tr>\n",
       "      <th>27</th>\n",
       "      <td>Isla Pescado</td>\n",
       "      <td>12020</td>\n",
       "      <td>-20</td>\n",
       "      <td>-67</td>\n",
       "    </tr>\n",
       "    <tr>\n",
       "      <th>28</th>\n",
       "      <td>Uyuni Airport</td>\n",
       "      <td>11990</td>\n",
       "      <td>-20</td>\n",
       "      <td>-66</td>\n",
       "    </tr>\n",
       "    <tr>\n",
       "      <th>29</th>\n",
       "      <td>La Quiaca</td>\n",
       "      <td>11414</td>\n",
       "      <td>-22</td>\n",
       "      <td>-65</td>\n",
       "    </tr>\n",
       "  </tbody>\n",
       "</table>\n",
       "</div>"
      ],
      "text/plain": [
       "                              Airport Name  Altitude (ft)  Airport Latitude  \\\n",
       "0                              Summit Camp          11000                72   \n",
       "1                              Summit Camp          10552                72   \n",
       "2                                Irkutsk-2          13411                52   \n",
       "3                                      Leh          10682                34   \n",
       "4                                   Gannan          10466                34   \n",
       "5                                    Maiwa          11500                33   \n",
       "6                                    Gunsa          13780                32   \n",
       "7                             Yushu Batang          13000                32   \n",
       "8                        Hongyuan Airfield          11500                32   \n",
       "9                     Jiuzhaigou Huanglong          11311                32   \n",
       "10                    Qamdo Bangda Airport          14219                30   \n",
       "11                        Kangding Airport          14042                30   \n",
       "12                  Shigatse Peace Airport          12408                29   \n",
       "13                           Lhasa-Gonggar          13136                29   \n",
       "14                         Yading Daocheng          14472                29   \n",
       "15                                  Manang          11000                28   \n",
       "16                              Syangboche          12309                27   \n",
       "17                         Francisco Carle          11034               -11   \n",
       "18                             Andahuaylas          11300               -13   \n",
       "19                     Poroy Train Station          11710               -13   \n",
       "20  Teniente Alejandro Velasco Astete Intl          10860               -13   \n",
       "21                                 Juliaca          12552               -15   \n",
       "22                      Copacabana Airport          12591               -16   \n",
       "23                            El Alto Intl          13325               -16   \n",
       "24                            Juan Mendoza          12146               -17   \n",
       "25                   Capitan Nicolas Rojas          12913               -19   \n",
       "26                          Salar de Uyuni          12000               -20   \n",
       "27                            Isla Pescado          12020               -20   \n",
       "28                           Uyuni Airport          11990               -20   \n",
       "29                               La Quiaca          11414               -22   \n",
       "\n",
       "    Airport Longitude  \n",
       "0                 -38  \n",
       "1                 -38  \n",
       "2                 104  \n",
       "3                  77  \n",
       "4                 102  \n",
       "5                 102  \n",
       "6                  80  \n",
       "7                  97  \n",
       "8                 102  \n",
       "9                 103  \n",
       "10                 97  \n",
       "11                101  \n",
       "12                 89  \n",
       "13                 90  \n",
       "14                100  \n",
       "15                 84  \n",
       "16                 86  \n",
       "17                -75  \n",
       "18                -73  \n",
       "19                -72  \n",
       "20                -71  \n",
       "21                -70  \n",
       "22                -69  \n",
       "23                -68  \n",
       "24                -67  \n",
       "25                -65  \n",
       "26                -67  \n",
       "27                -67  \n",
       "28                -66  \n",
       "29                -65  "
      ]
     },
     "execution_count": 71,
     "metadata": {},
     "output_type": "execute_result"
    }
   ],
   "source": [
    "pd.read_sql(\"\"\"\n",
    "\n",
    "SELECT name AS \"Airport Name\",\n",
    "       CAST(altitude AS int) AS \"Altitude (ft)\",\n",
    "       CAST(latitude AS int) AS \"Airport Latitude\",\n",
    "       CAST(longitude AS int) AS \"Airport Longitude\"    \n",
    "FROM airports\n",
    "WHERE \"Altitude (ft)\" > 10000\n",
    "ORDER BY \"Airport Latitude\" DESC, \"Airport Longitude\" \n",
    "\n",
    "\"\"\", con)"
   ]
  },
  {
   "cell_type": "markdown",
   "id": "dbcb375d",
   "metadata": {
    "cell_style": "split",
    "slideshow": {
     "slide_type": "slide"
    }
   },
   "source": [
    "#### CASE WHEN STATEMENTS\n",
    "Use `CASE` to create new columns using conditional logic:\n",
    "\n",
    "E.g. partition altitudes into high, medium and low."
   ]
  },
  {
   "cell_type": "markdown",
   "id": "0b0e4b33",
   "metadata": {
    "cell_style": "split",
    "slideshow": {
     "slide_type": "fragment"
    }
   },
   "source": [
    "- Really useful for partitioning continuous data into groups.\n",
    "\n",
    "- Also for generating groups that meet certain complex conditions based off of the data\n",
    "\n",
    "Can be used to devastating effect when combined with groupbys."
   ]
  },
  {
   "cell_type": "code",
   "execution_count": 73,
   "id": "84ec91a7",
   "metadata": {
    "slideshow": {
     "slide_type": "subslide"
    }
   },
   "outputs": [
    {
     "data": {
      "text/html": [
       "<div>\n",
       "<style scoped>\n",
       "    .dataframe tbody tr th:only-of-type {\n",
       "        vertical-align: middle;\n",
       "    }\n",
       "\n",
       "    .dataframe tbody tr th {\n",
       "        vertical-align: top;\n",
       "    }\n",
       "\n",
       "    .dataframe thead th {\n",
       "        text-align: right;\n",
       "    }\n",
       "</style>\n",
       "<table border=\"1\" class=\"dataframe\">\n",
       "  <thead>\n",
       "    <tr style=\"text-align: right;\">\n",
       "      <th></th>\n",
       "      <th>Airport Name</th>\n",
       "      <th>Altitude (ft)</th>\n",
       "      <th>partition</th>\n",
       "    </tr>\n",
       "  </thead>\n",
       "  <tbody>\n",
       "    <tr>\n",
       "      <th>0</th>\n",
       "      <td>Goroka</td>\n",
       "      <td>5282</td>\n",
       "      <td>High</td>\n",
       "    </tr>\n",
       "    <tr>\n",
       "      <th>1</th>\n",
       "      <td>Madang</td>\n",
       "      <td>20</td>\n",
       "      <td>Low</td>\n",
       "    </tr>\n",
       "    <tr>\n",
       "      <th>2</th>\n",
       "      <td>Mount Hagen</td>\n",
       "      <td>5388</td>\n",
       "      <td>High</td>\n",
       "    </tr>\n",
       "    <tr>\n",
       "      <th>3</th>\n",
       "      <td>Nadzab</td>\n",
       "      <td>239</td>\n",
       "      <td>Moderate</td>\n",
       "    </tr>\n",
       "    <tr>\n",
       "      <th>4</th>\n",
       "      <td>Port Moresby Jacksons Intl</td>\n",
       "      <td>146</td>\n",
       "      <td>Moderate</td>\n",
       "    </tr>\n",
       "    <tr>\n",
       "      <th>5</th>\n",
       "      <td>Wewak Intl</td>\n",
       "      <td>19</td>\n",
       "      <td>Low</td>\n",
       "    </tr>\n",
       "    <tr>\n",
       "      <th>6</th>\n",
       "      <td>Narsarsuaq</td>\n",
       "      <td>112</td>\n",
       "      <td>Moderate</td>\n",
       "    </tr>\n",
       "    <tr>\n",
       "      <th>7</th>\n",
       "      <td>Nuuk</td>\n",
       "      <td>283</td>\n",
       "      <td>Moderate</td>\n",
       "    </tr>\n",
       "    <tr>\n",
       "      <th>8</th>\n",
       "      <td>Sondre Stromfjord</td>\n",
       "      <td>165</td>\n",
       "      <td>Moderate</td>\n",
       "    </tr>\n",
       "    <tr>\n",
       "      <th>9</th>\n",
       "      <td>Thule Air Base</td>\n",
       "      <td>251</td>\n",
       "      <td>Moderate</td>\n",
       "    </tr>\n",
       "    <tr>\n",
       "      <th>10</th>\n",
       "      <td>Akureyri</td>\n",
       "      <td>6</td>\n",
       "      <td>Low</td>\n",
       "    </tr>\n",
       "    <tr>\n",
       "      <th>11</th>\n",
       "      <td>Egilsstadir</td>\n",
       "      <td>76</td>\n",
       "      <td>Low</td>\n",
       "    </tr>\n",
       "    <tr>\n",
       "      <th>12</th>\n",
       "      <td>Hornafjordur</td>\n",
       "      <td>24</td>\n",
       "      <td>Low</td>\n",
       "    </tr>\n",
       "    <tr>\n",
       "      <th>13</th>\n",
       "      <td>Husavik</td>\n",
       "      <td>48</td>\n",
       "      <td>Low</td>\n",
       "    </tr>\n",
       "    <tr>\n",
       "      <th>14</th>\n",
       "      <td>Isafjordur</td>\n",
       "      <td>8</td>\n",
       "      <td>Low</td>\n",
       "    </tr>\n",
       "    <tr>\n",
       "      <th>15</th>\n",
       "      <td>Keflavik International Airport</td>\n",
       "      <td>171</td>\n",
       "      <td>Moderate</td>\n",
       "    </tr>\n",
       "    <tr>\n",
       "      <th>16</th>\n",
       "      <td>Patreksfjordur</td>\n",
       "      <td>11</td>\n",
       "      <td>Low</td>\n",
       "    </tr>\n",
       "    <tr>\n",
       "      <th>17</th>\n",
       "      <td>Reykjavik</td>\n",
       "      <td>48</td>\n",
       "      <td>Low</td>\n",
       "    </tr>\n",
       "    <tr>\n",
       "      <th>18</th>\n",
       "      <td>Siglufjordur</td>\n",
       "      <td>10</td>\n",
       "      <td>Low</td>\n",
       "    </tr>\n",
       "    <tr>\n",
       "      <th>19</th>\n",
       "      <td>Vestmannaeyjar</td>\n",
       "      <td>326</td>\n",
       "      <td>Moderate</td>\n",
       "    </tr>\n",
       "  </tbody>\n",
       "</table>\n",
       "</div>"
      ],
      "text/plain": [
       "                      Airport Name  Altitude (ft) partition\n",
       "0                           Goroka           5282      High\n",
       "1                           Madang             20       Low\n",
       "2                      Mount Hagen           5388      High\n",
       "3                           Nadzab            239  Moderate\n",
       "4       Port Moresby Jacksons Intl            146  Moderate\n",
       "5                       Wewak Intl             19       Low\n",
       "6                       Narsarsuaq            112  Moderate\n",
       "7                             Nuuk            283  Moderate\n",
       "8                Sondre Stromfjord            165  Moderate\n",
       "9                   Thule Air Base            251  Moderate\n",
       "10                        Akureyri              6       Low\n",
       "11                     Egilsstadir             76       Low\n",
       "12                    Hornafjordur             24       Low\n",
       "13                         Husavik             48       Low\n",
       "14                      Isafjordur              8       Low\n",
       "15  Keflavik International Airport            171  Moderate\n",
       "16                  Patreksfjordur             11       Low\n",
       "17                       Reykjavik             48       Low\n",
       "18                    Siglufjordur             10       Low\n",
       "19                  Vestmannaeyjar            326  Moderate"
      ]
     },
     "execution_count": 73,
     "metadata": {},
     "output_type": "execute_result"
    }
   ],
   "source": [
    "sql_query = pd.read_sql(\"\"\"\n",
    "\n",
    "SELECT name AS \"Airport Name\", \n",
    "       CAST(altitude AS int) AS \"Altitude (ft)\",\n",
    "       CASE \n",
    "            WHEN CAST(altitude AS int) > 1000 THEN \"High\"\n",
    "            WHEN CAST(altitude AS int) < 100 THEN \"Low\"\n",
    "            ELSE \"Moderate\"\n",
    "       END AS partition\n",
    "       \n",
    "FROM airports\n",
    "         \n",
    "LIMIT 20\n",
    "\n",
    "\"\"\", con)\n",
    "\n",
    "sql_query"
   ]
  },
  {
   "cell_type": "markdown",
   "id": "44264909",
   "metadata": {
    "slideshow": {
     "slide_type": "slide"
    }
   },
   "source": [
    "That was fairly ugly. Lets make this nicer and more informative."
   ]
  },
  {
   "cell_type": "code",
   "execution_count": null,
   "id": "c53fd898",
   "metadata": {
    "slideshow": {
     "slide_type": "-"
    }
   },
   "outputs": [],
   "source": [
    "sql_query = pd.read_sql(\"\"\"\n",
    "\n",
    "SELECT name AS \"Airport Name\", \n",
    "       CAST(altitude AS int) AS \"Altitude (ft)\",\n",
    "       CASE \n",
    "            WHEN CAST(altitude AS int) > 1000 THEN \"High\"\n",
    "            WHEN CAST(altitude AS int) < 100 THEN \"Low\"\n",
    "            ELSE \"Moderate\"\n",
    "       END height_category\n",
    "       \n",
    "FROM airports\n",
    "         \n",
    "LIMIT 20\n",
    "\n",
    "\"\"\", con)\n",
    "\n",
    "sql_query"
   ]
  },
  {
   "cell_type": "markdown",
   "id": "23f47d12",
   "metadata": {
    "slideshow": {
     "slide_type": "slide"
    }
   },
   "source": [
    "**Takeaway Exercise**\n",
    "\n",
    "- Partition the airports into three latitude regions: \n",
    "\n",
    "- northern (>= 30), central (30,-30), and southern zones (<=-30).\n",
    "\n",
    "Get me all the airports in the central and southern zones:\n",
    "- whose altitude is greater than 3000 ft.\n",
    "- and anywhere but in Brazil, Venezuela, Papua New Guinea, South Africa and Madagascar"
   ]
  },
  {
   "cell_type": "code",
   "execution_count": null,
   "id": "11253fe6",
   "metadata": {
    "scrolled": true,
    "slideshow": {
     "slide_type": "fragment"
    }
   },
   "outputs": [],
   "source": [
    "sql_query = pd.read_sql(\"\"\"\n",
    "\n",
    "\n",
    "\"\"\", con)\n",
    "\n",
    "sql_query"
   ]
  }
 ],
 "metadata": {
  "celltoolbar": "Slideshow",
  "kernelspec": {
   "display_name": "Python 3 (ipykernel)",
   "language": "python",
   "name": "python3"
  },
  "language_info": {
   "codemirror_mode": {
    "name": "ipython",
    "version": 3
   },
   "file_extension": ".py",
   "mimetype": "text/x-python",
   "name": "python",
   "nbconvert_exporter": "python",
   "pygments_lexer": "ipython3",
   "version": "3.9.7"
  }
 },
 "nbformat": 4,
 "nbformat_minor": 5
}
