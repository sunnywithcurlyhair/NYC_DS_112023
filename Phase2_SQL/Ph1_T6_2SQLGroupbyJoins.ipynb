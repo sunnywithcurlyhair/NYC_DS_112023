{
 "cells": [
  {
   "cell_type": "markdown",
   "id": "b1b58d2e",
   "metadata": {
    "cell_style": "center",
    "slideshow": {
     "slide_type": "slide"
    }
   },
   "source": [
    "<div style=\"color:white;\n",
    "           display:fill;\n",
    "           border-radius:5px;\n",
    "           background-color:#5642C5;\n",
    "           font-size:200%;\n",
    "           font-family:Arial;letter-spacing:0.5px\">\n",
    "\n",
    "<p width = 20%, style=\"padding: 10px;\n",
    "              color:white;\">\n",
    "SQL: Groupby and Joins\n",
    "              \n",
    "</p>\n",
    "</div>\n",
    "\n",
    "Data Science Cohort Live NYC Nov 2023\n",
    "<p>Phase 2</p>\n",
    "<br>\n",
    "<br>\n",
    "\n",
    "<div align = \"right\">\n",
    "<img src=\"Images/flatiron-school-logo.png\" align = \"right\" width=\"200\"/>\n",
    "</div>\n",
    "    \n",
    "   "
   ]
  },
  {
   "cell_type": "code",
   "execution_count": 1,
   "id": "5d5a3223",
   "metadata": {
    "slideshow": {
     "slide_type": "slide"
    }
   },
   "outputs": [],
   "source": [
    "import pandas as pd\n",
    "import sqlite3\n",
    "import pandas as pd\n",
    "conn = sqlite3.connect(\"data/flights.db\")\n",
    "cur = conn.cursor() "
   ]
  },
  {
   "cell_type": "markdown",
   "id": "efe0b54e",
   "metadata": {
    "slideshow": {
     "slide_type": "slide"
    }
   },
   "source": [
    "We've seen aggregations last lecture:"
   ]
  },
  {
   "cell_type": "code",
   "execution_count": null,
   "id": "58c79121",
   "metadata": {
    "slideshow": {
     "slide_type": "fragment"
    }
   },
   "outputs": [],
   "source": [
    "# Max value for longitude\n",
    "pd.read_sql('''\n",
    "    SELECT \n",
    "    \n",
    "         name, MAX(\n",
    "            CAST(longitude AS REAL) \n",
    "        ) AS max_long\n",
    "    FROM \n",
    "        airports\n",
    "''', conn)"
   ]
  },
  {
   "cell_type": "code",
   "execution_count": null,
   "id": "79f3d573",
   "metadata": {},
   "outputs": [],
   "source": [
    "%%bash\n",
    "\n",
    "sqlite3 data/flights.db\n",
    ".schema airlines"
   ]
  },
  {
   "cell_type": "code",
   "execution_count": null,
   "id": "82bdec93",
   "metadata": {
    "slideshow": {
     "slide_type": "subslide"
    }
   },
   "outputs": [],
   "source": [
    "# Effectively counts all the active airlines \n",
    "pd.read_sql('''\n",
    "    SELECT \n",
    "        COUNT(*) AS number_of_active_airlines\n",
    "    FROM \n",
    "        airlines\n",
    "    WHERE \n",
    "        active='Y'\n",
    "''', conn)"
   ]
  },
  {
   "cell_type": "markdown",
   "id": "93a5c3e6",
   "metadata": {
    "slideshow": {
     "slide_type": "slide"
    }
   },
   "source": [
    "This is OK, but want to:\n",
    "- often compute aggregations across different groups "
   ]
  },
  {
   "cell_type": "markdown",
   "id": "3875d1db",
   "metadata": {
    "cell_style": "split",
    "slideshow": {
     "slide_type": "subslide"
    }
   },
   "source": [
    "#### Grouping in SQL\n",
    "\n",
    "- Group by values of a categorical column\n",
    "- Apply aggregation/transformation to groups\n",
    "\n",
    "GROUP BY statement -- typically used with aggregation!\n",
    "\n"
   ]
  },
  {
   "cell_type": "markdown",
   "id": "161739be",
   "metadata": {
    "cell_style": "split"
   },
   "source": [
    "SELECT colwithgroups,<br>\n",
    "       agg_function(another_col)<br>\n",
    "FROM table<br>\n",
    "GROUP BY colwithgroups<br>"
   ]
  },
  {
   "cell_type": "code",
   "execution_count": null,
   "id": "ae456453",
   "metadata": {
    "slideshow": {
     "slide_type": "slide"
    }
   },
   "outputs": [],
   "source": [
    "df_results = pd.read_sql('''\n",
    "    SELECT *\n",
    "    FROM \n",
    "        airlines\n",
    "        LIMIT 5\n",
    "''', conn)\n",
    "df_results"
   ]
  },
  {
   "cell_type": "code",
   "execution_count": null,
   "id": "fc97b9d8",
   "metadata": {
    "slideshow": {
     "slide_type": "subslide"
    }
   },
   "outputs": [],
   "source": [
    "df_results = pd.read_sql('''\n",
    "    SELECT \n",
    "        active, COUNT(*) AS number_of_airlines\n",
    "    FROM \n",
    "        airlines\n",
    "    GROUP BY\n",
    "        active\n",
    "''', conn)\n",
    "\n",
    "df_results"
   ]
  },
  {
   "cell_type": "markdown",
   "id": "cb026a9f",
   "metadata": {
    "slideshow": {
     "slide_type": "slide"
    }
   },
   "source": [
    "Let's see another example finding the airport with the highest altitude in each country:"
   ]
  },
  {
   "cell_type": "code",
   "execution_count": null,
   "id": "a0351695",
   "metadata": {
    "slideshow": {
     "slide_type": "fragment"
    }
   },
   "outputs": [],
   "source": [
    "df_results = pd.read_sql('''\n",
    "    SELECT \n",
    "        country,\n",
    "        name as airport_name, MAX(CAST(altitude AS int)) AS altitude\n",
    "    FROM \n",
    "        airports\n",
    "    GROUP BY\n",
    "        country\n",
    "''', conn)\n",
    "\n",
    "df_results"
   ]
  },
  {
   "cell_type": "markdown",
   "id": "cb9561a6",
   "metadata": {
    "slideshow": {
     "slide_type": "slide"
    }
   },
   "source": [
    "Let's look at the head of the airlines table:"
   ]
  },
  {
   "cell_type": "code",
   "execution_count": null,
   "id": "258e2411",
   "metadata": {
    "slideshow": {
     "slide_type": "fragment"
    }
   },
   "outputs": [],
   "source": [
    "df_results = pd.read_sql('''\n",
    "    SELECT *\n",
    "    FROM \n",
    "        airlines \n",
    "    LIMIT 3\n",
    "''', conn)\n",
    "\n",
    "df_results"
   ]
  },
  {
   "cell_type": "markdown",
   "id": "771c6a0d",
   "metadata": {
    "slideshow": {
     "slide_type": "slide"
    }
   },
   "source": [
    "**Exercise**\n",
    "\n",
    "Count the number of active flights grouped by country."
   ]
  },
  {
   "cell_type": "code",
   "execution_count": null,
   "id": "a4f5f841",
   "metadata": {
    "slideshow": {
     "slide_type": "fragment"
    }
   },
   "outputs": [],
   "source": [
    "# let's do it!\n",
    "df_results = pd.read_sql('''\n",
    "\n",
    "    \n",
    "''', conn)\n",
    "\n",
    "df_results"
   ]
  },
  {
   "cell_type": "markdown",
   "id": "17fc4b6e",
   "metadata": {
    "slideshow": {
     "slide_type": "slide"
    }
   },
   "source": [
    "**Exercise**\n",
    "\n",
    "Get the average airport altitude for each country located at latitude > 30 degrees."
   ]
  },
  {
   "cell_type": "code",
   "execution_count": null,
   "id": "bf5ea3f3",
   "metadata": {},
   "outputs": [],
   "source": [
    "# Yaaaaaahhhh!\n",
    "df_results = pd.read_sql('''\n",
    "\n",
    "    \n",
    "''', conn)\n",
    "\n",
    "df_results"
   ]
  },
  {
   "cell_type": "markdown",
   "id": "8ad2550c",
   "metadata": {
    "cell_style": "split",
    "slideshow": {
     "slide_type": "slide"
    }
   },
   "source": [
    "**Showcase**: let's get fancy pantsy \n",
    "\n",
    "- Combining CASE-WHEN and groupbys"
   ]
  },
  {
   "cell_type": "markdown",
   "id": "891540fc",
   "metadata": {
    "cell_style": "split",
    "slideshow": {
     "slide_type": "fragment"
    }
   },
   "source": [
    "- Partition the airports into three latitude regions: \n",
    "\n",
    "- northern (>= 30), central (30,-30), and southern zones (<=-30).\n",
    "\n",
    "Get me the name, altitude, latitude, and country of the airport in each zone with the maximum altitude."
   ]
  },
  {
   "cell_type": "code",
   "execution_count": null,
   "id": "7b5a259f",
   "metadata": {
    "slideshow": {
     "slide_type": "fragment"
    }
   },
   "outputs": [],
   "source": [
    "# let's do it!\n",
    "df_results = pd.read_sql('''\n",
    "\n",
    "SELECT name AS \"Airport Name\", country,\n",
    "       MAX(CAST(altitude AS int)) as max_alt,\n",
    "       CAST(latitude AS float) AS \"Latitude (deg)\",\n",
    "       CASE \n",
    "            WHEN CAST(latitude AS float) >= 30 THEN \"Northern\"\n",
    "            WHEN CAST(latitude AS float) <= -30 THEN \"Southern\"\n",
    "            ELSE \"Central\"\n",
    "       END lat_category\n",
    "       \n",
    "FROM airports\n",
    "\n",
    "GROUP BY lat_category\n",
    "\n",
    "    \n",
    "''', conn)\n",
    "\n",
    "df_results"
   ]
  },
  {
   "cell_type": "markdown",
   "id": "27cdd32e",
   "metadata": {
    "cell_style": "center",
    "slideshow": {
     "slide_type": "slide"
    }
   },
   "source": [
    "#### Filtering Groups with HAVING\n",
    "\n",
    "- Can filter columns/tables with WHERE (saw this with groupby above)\n",
    "- WHERE **doesn't** work when filtering **aggregations** on groupby\n",
    "- `HAVING` will do the trick. "
   ]
  },
  {
   "cell_type": "markdown",
   "id": "c0210586",
   "metadata": {
    "slideshow": {
     "slide_type": "slide"
    }
   },
   "source": [
    "Let's only return countries with active airlines having a count greater than 30:"
   ]
  },
  {
   "cell_type": "code",
   "execution_count": null,
   "id": "84542d07",
   "metadata": {
    "cell_style": "center",
    "slideshow": {
     "slide_type": "fragment"
    }
   },
   "outputs": [],
   "source": [
    "pd.read_sql('''\n",
    "    SELECT \n",
    "        country,\n",
    "        COUNT(*) AS num\n",
    "    FROM \n",
    "        airlines\n",
    "    WHERE \n",
    "        active='Y'\n",
    "    GROUP BY \n",
    "        country\n",
    "    HAVING\n",
    "        num > 30\n",
    "    ORDER BY \n",
    "        num DESC\n",
    "''', conn)"
   ]
  },
  {
   "cell_type": "markdown",
   "id": "21ce3a7a",
   "metadata": {
    "slideshow": {
     "slide_type": "slide"
    }
   },
   "source": [
    "- Can use multiple aggregation functions in groupby.\n",
    "- Filter on one of the aggregations.\n",
    "\n",
    "Get the altitude of the highest airport in a country given that it has at least 100 airports."
   ]
  },
  {
   "cell_type": "code",
   "execution_count": null,
   "id": "4ae3c82c",
   "metadata": {
    "slideshow": {
     "slide_type": "subslide"
    }
   },
   "outputs": [],
   "source": [
    "pd.read_sql('''\n",
    "    SELECT \n",
    "        country,\n",
    "         COUNT(*) AS num_airports,\n",
    "        MAX(CAST(altitude as int)) as max_altitude\n",
    "       \n",
    "    FROM \n",
    "        airports\n",
    "    GROUP BY \n",
    "        country\n",
    "    HAVING\n",
    "        num_airports >= 100\n",
    "''', conn)"
   ]
  },
  {
   "cell_type": "markdown",
   "id": "c578fc49",
   "metadata": {
    "slideshow": {
     "slide_type": "slide"
    }
   },
   "source": [
    "**Exercise**\n",
    "\n",
    "List the cities having more than one airport as well as the number of airports the city contains.\n",
    "\n",
    "Use GROUP BY and HAVING clauses for this."
   ]
  },
  {
   "cell_type": "code",
   "execution_count": null,
   "id": "04aebc36",
   "metadata": {
    "slideshow": {
     "slide_type": "fragment"
    }
   },
   "outputs": [],
   "source": [
    "pd.read_sql('''\n",
    "\n",
    "\n",
    "''', conn)"
   ]
  },
  {
   "cell_type": "markdown",
   "id": "a999b87d",
   "metadata": {
    "slideshow": {
     "slide_type": "slide"
    }
   },
   "source": [
    "#### Joins\n",
    "- Saw this in Pandas\n",
    "- Join information from two tables in a relational database together.\n",
    "- For the two tables: can relate via a common key (aka foreign key).\n",
    "\n",
    "SQL has many different kinds of joins. We only look at two:\n",
    "- INNER JOIN\n",
    "- LEFT JOIN "
   ]
  },
  {
   "cell_type": "markdown",
   "id": "65386d63",
   "metadata": {
    "slideshow": {
     "slide_type": "slide"
    }
   },
   "source": [
    "A little picture:\n",
    "\n",
    "<div>\n",
    "<center><img src=\"Images/venn.png\" align = \"center\" width=\"600\"/></center>\n",
    "</div>"
   ]
  },
  {
   "cell_type": "markdown",
   "id": "6ac883ce",
   "metadata": {
    "cell_style": "split",
    "slideshow": {
     "slide_type": "slide"
    }
   },
   "source": [
    "#### Inner joins\n",
    "\n",
    "- Join two tables together on a shared key. \n",
    "- Keep rows if the key is in both tables.\n",
    "\n",
    "\n",
    "SELECT\n",
    "    table1.column_name, <br>\n",
    "    table2.different_column_name <br>\n",
    "FROM <br>\n",
    "    table1 <br>\n",
    "    INNER JOIN table2 <br>\n",
    "        ON table1.shared_column_name = table2.shared_column_name <br>"
   ]
  },
  {
   "cell_type": "markdown",
   "id": "4bcd0517",
   "metadata": {
    "cell_style": "split",
    "slideshow": {
     "slide_type": "fragment"
    }
   },
   "source": [
    "##### Syntax: Inner Join\n",
    "SELECT\n",
    "    table1.column_name, <br>\n",
    "    table2.different_column_name <br>\n",
    "FROM <br>\n",
    "    table1 <br>\n",
    "    INNER JOIN table2 <br>\n",
    "        ON table1.shared_column_name = table2.shared_column_name <br>"
   ]
  },
  {
   "cell_type": "markdown",
   "id": "8392bfd7",
   "metadata": {
    "slideshow": {
     "slide_type": "slide"
    }
   },
   "source": [
    "Let's check out the airports and airline table. "
   ]
  },
  {
   "cell_type": "code",
   "execution_count": null,
   "id": "f8b49793",
   "metadata": {
    "cell_style": "split",
    "slideshow": {
     "slide_type": "fragment"
    }
   },
   "outputs": [],
   "source": [
    "pd.read_sql('''\n",
    "    SELECT \n",
    "        *\n",
    "    FROM\n",
    "        routes\n",
    "    LIMIT 5\n",
    "    \n",
    "\n",
    "''', conn)"
   ]
  },
  {
   "cell_type": "code",
   "execution_count": null,
   "id": "cac8182a",
   "metadata": {
    "cell_style": "split",
    "slideshow": {
     "slide_type": "fragment"
    }
   },
   "outputs": [],
   "source": [
    "pd.read_sql('''\n",
    "    SELECT \n",
    "        *\n",
    "    FROM\n",
    "        airlines\n",
    "        LIMIT 5\n",
    "\n",
    "''', conn)"
   ]
  },
  {
   "cell_type": "code",
   "execution_count": null,
   "id": "e847378f",
   "metadata": {},
   "outputs": [],
   "source": [
    "pd.read_sql('''\n",
    "    SELECT \n",
    "        al.name, al.callsign, rt.airline_id, rt.source, rt.dest\n",
    "    FROM\n",
    "        airlines AS al\n",
    "        INNER JOIN\n",
    "        routes AS rt\n",
    "        ON al.id = rt.airline_id\n",
    "        \n",
    "\n",
    "''', conn)"
   ]
  },
  {
   "cell_type": "markdown",
   "id": "a6168d3b",
   "metadata": {
    "slideshow": {
     "slide_type": "slide"
    }
   },
   "source": [
    "The airline_id in the routes table and id column in airlines are common keys.\n",
    "\n",
    "Can join these two tables keeping rows with keys in both tables.\n",
    "\n",
    "- Note table aliasing"
   ]
  },
  {
   "cell_type": "markdown",
   "id": "2ac7e2c5",
   "metadata": {
    "slideshow": {
     "slide_type": "slide"
    }
   },
   "source": [
    "#### LEFT JOIN \n",
    "\n",
    "Can join two tables keeping rows with keys in left table only."
   ]
  },
  {
   "cell_type": "code",
   "execution_count": null,
   "id": "32abfe56",
   "metadata": {
    "slideshow": {
     "slide_type": "subslide"
    }
   },
   "outputs": [],
   "source": [
    "pd.read_sql('''\n",
    "    SELECT \n",
    "        *\n",
    "    FROM\n",
    "        airlines as al\n",
    "        \n",
    "    LEFT JOIN routes as rt\n",
    "            ON al.id = rt.airline_id\n",
    "''', conn)"
   ]
  },
  {
   "cell_type": "markdown",
   "id": "e9155cd3",
   "metadata": {
    "slideshow": {
     "slide_type": "slide"
    }
   },
   "source": [
    "Can do it the other way:"
   ]
  },
  {
   "cell_type": "code",
   "execution_count": 2,
   "id": "598fa2d9",
   "metadata": {
    "slideshow": {
     "slide_type": "fragment"
    }
   },
   "outputs": [
    {
     "data": {
      "text/html": [
       "<div>\n",
       "<style scoped>\n",
       "    .dataframe tbody tr th:only-of-type {\n",
       "        vertical-align: middle;\n",
       "    }\n",
       "\n",
       "    .dataframe tbody tr th {\n",
       "        vertical-align: top;\n",
       "    }\n",
       "\n",
       "    .dataframe thead th {\n",
       "        text-align: right;\n",
       "    }\n",
       "</style>\n",
       "<table border=\"1\" class=\"dataframe\">\n",
       "  <thead>\n",
       "    <tr style=\"text-align: right;\">\n",
       "      <th></th>\n",
       "      <th>index</th>\n",
       "      <th>airline</th>\n",
       "      <th>airline_id</th>\n",
       "      <th>source</th>\n",
       "      <th>source_id</th>\n",
       "      <th>dest</th>\n",
       "      <th>dest_id</th>\n",
       "      <th>codeshare</th>\n",
       "      <th>stops</th>\n",
       "      <th>equipment</th>\n",
       "      <th>index</th>\n",
       "      <th>id</th>\n",
       "      <th>name</th>\n",
       "      <th>alias</th>\n",
       "      <th>iata</th>\n",
       "      <th>icao</th>\n",
       "      <th>callsign</th>\n",
       "      <th>country</th>\n",
       "      <th>active</th>\n",
       "    </tr>\n",
       "  </thead>\n",
       "  <tbody>\n",
       "    <tr>\n",
       "      <th>0</th>\n",
       "      <td>0</td>\n",
       "      <td>2B</td>\n",
       "      <td>410</td>\n",
       "      <td>AER</td>\n",
       "      <td>2965</td>\n",
       "      <td>KZN</td>\n",
       "      <td>2990</td>\n",
       "      <td>None</td>\n",
       "      <td>0</td>\n",
       "      <td>CR2</td>\n",
       "      <td>409.0</td>\n",
       "      <td>410</td>\n",
       "      <td>Aerocondor</td>\n",
       "      <td>\\N</td>\n",
       "      <td>2B</td>\n",
       "      <td>ARD</td>\n",
       "      <td>AEROCONDOR</td>\n",
       "      <td>Portugal</td>\n",
       "      <td>Y</td>\n",
       "    </tr>\n",
       "    <tr>\n",
       "      <th>1</th>\n",
       "      <td>1</td>\n",
       "      <td>2B</td>\n",
       "      <td>410</td>\n",
       "      <td>ASF</td>\n",
       "      <td>2966</td>\n",
       "      <td>KZN</td>\n",
       "      <td>2990</td>\n",
       "      <td>None</td>\n",
       "      <td>0</td>\n",
       "      <td>CR2</td>\n",
       "      <td>409.0</td>\n",
       "      <td>410</td>\n",
       "      <td>Aerocondor</td>\n",
       "      <td>\\N</td>\n",
       "      <td>2B</td>\n",
       "      <td>ARD</td>\n",
       "      <td>AEROCONDOR</td>\n",
       "      <td>Portugal</td>\n",
       "      <td>Y</td>\n",
       "    </tr>\n",
       "    <tr>\n",
       "      <th>2</th>\n",
       "      <td>2</td>\n",
       "      <td>2B</td>\n",
       "      <td>410</td>\n",
       "      <td>ASF</td>\n",
       "      <td>2966</td>\n",
       "      <td>MRV</td>\n",
       "      <td>2962</td>\n",
       "      <td>None</td>\n",
       "      <td>0</td>\n",
       "      <td>CR2</td>\n",
       "      <td>409.0</td>\n",
       "      <td>410</td>\n",
       "      <td>Aerocondor</td>\n",
       "      <td>\\N</td>\n",
       "      <td>2B</td>\n",
       "      <td>ARD</td>\n",
       "      <td>AEROCONDOR</td>\n",
       "      <td>Portugal</td>\n",
       "      <td>Y</td>\n",
       "    </tr>\n",
       "    <tr>\n",
       "      <th>3</th>\n",
       "      <td>3</td>\n",
       "      <td>2B</td>\n",
       "      <td>410</td>\n",
       "      <td>CEK</td>\n",
       "      <td>2968</td>\n",
       "      <td>KZN</td>\n",
       "      <td>2990</td>\n",
       "      <td>None</td>\n",
       "      <td>0</td>\n",
       "      <td>CR2</td>\n",
       "      <td>409.0</td>\n",
       "      <td>410</td>\n",
       "      <td>Aerocondor</td>\n",
       "      <td>\\N</td>\n",
       "      <td>2B</td>\n",
       "      <td>ARD</td>\n",
       "      <td>AEROCONDOR</td>\n",
       "      <td>Portugal</td>\n",
       "      <td>Y</td>\n",
       "    </tr>\n",
       "    <tr>\n",
       "      <th>4</th>\n",
       "      <td>4</td>\n",
       "      <td>2B</td>\n",
       "      <td>410</td>\n",
       "      <td>CEK</td>\n",
       "      <td>2968</td>\n",
       "      <td>OVB</td>\n",
       "      <td>4078</td>\n",
       "      <td>None</td>\n",
       "      <td>0</td>\n",
       "      <td>CR2</td>\n",
       "      <td>409.0</td>\n",
       "      <td>410</td>\n",
       "      <td>Aerocondor</td>\n",
       "      <td>\\N</td>\n",
       "      <td>2B</td>\n",
       "      <td>ARD</td>\n",
       "      <td>AEROCONDOR</td>\n",
       "      <td>Portugal</td>\n",
       "      <td>Y</td>\n",
       "    </tr>\n",
       "    <tr>\n",
       "      <th>...</th>\n",
       "      <td>...</td>\n",
       "      <td>...</td>\n",
       "      <td>...</td>\n",
       "      <td>...</td>\n",
       "      <td>...</td>\n",
       "      <td>...</td>\n",
       "      <td>...</td>\n",
       "      <td>...</td>\n",
       "      <td>...</td>\n",
       "      <td>...</td>\n",
       "      <td>...</td>\n",
       "      <td>...</td>\n",
       "      <td>...</td>\n",
       "      <td>...</td>\n",
       "      <td>...</td>\n",
       "      <td>...</td>\n",
       "      <td>...</td>\n",
       "      <td>...</td>\n",
       "      <td>...</td>\n",
       "    </tr>\n",
       "    <tr>\n",
       "      <th>67658</th>\n",
       "      <td>67658</td>\n",
       "      <td>ZL</td>\n",
       "      <td>4178</td>\n",
       "      <td>WYA</td>\n",
       "      <td>6334</td>\n",
       "      <td>ADL</td>\n",
       "      <td>3341</td>\n",
       "      <td>None</td>\n",
       "      <td>0</td>\n",
       "      <td>SF3</td>\n",
       "      <td>4171.0</td>\n",
       "      <td>4178</td>\n",
       "      <td>Regional Express</td>\n",
       "      <td>\\N</td>\n",
       "      <td>ZL</td>\n",
       "      <td>RXA</td>\n",
       "      <td>REX</td>\n",
       "      <td>Australia</td>\n",
       "      <td>Y</td>\n",
       "    </tr>\n",
       "    <tr>\n",
       "      <th>67659</th>\n",
       "      <td>67659</td>\n",
       "      <td>ZM</td>\n",
       "      <td>19016</td>\n",
       "      <td>DME</td>\n",
       "      <td>4029</td>\n",
       "      <td>FRU</td>\n",
       "      <td>2912</td>\n",
       "      <td>None</td>\n",
       "      <td>0</td>\n",
       "      <td>734</td>\n",
       "      <td>5977.0</td>\n",
       "      <td>19016</td>\n",
       "      <td>Apache Air</td>\n",
       "      <td>Apache</td>\n",
       "      <td>ZM</td>\n",
       "      <td>IWA</td>\n",
       "      <td>APACHE</td>\n",
       "      <td>United States</td>\n",
       "      <td>Y</td>\n",
       "    </tr>\n",
       "    <tr>\n",
       "      <th>67660</th>\n",
       "      <td>67660</td>\n",
       "      <td>ZM</td>\n",
       "      <td>19016</td>\n",
       "      <td>FRU</td>\n",
       "      <td>2912</td>\n",
       "      <td>DME</td>\n",
       "      <td>4029</td>\n",
       "      <td>None</td>\n",
       "      <td>0</td>\n",
       "      <td>734</td>\n",
       "      <td>5977.0</td>\n",
       "      <td>19016</td>\n",
       "      <td>Apache Air</td>\n",
       "      <td>Apache</td>\n",
       "      <td>ZM</td>\n",
       "      <td>IWA</td>\n",
       "      <td>APACHE</td>\n",
       "      <td>United States</td>\n",
       "      <td>Y</td>\n",
       "    </tr>\n",
       "    <tr>\n",
       "      <th>67661</th>\n",
       "      <td>67661</td>\n",
       "      <td>ZM</td>\n",
       "      <td>19016</td>\n",
       "      <td>FRU</td>\n",
       "      <td>2912</td>\n",
       "      <td>OSS</td>\n",
       "      <td>2913</td>\n",
       "      <td>None</td>\n",
       "      <td>0</td>\n",
       "      <td>734</td>\n",
       "      <td>5977.0</td>\n",
       "      <td>19016</td>\n",
       "      <td>Apache Air</td>\n",
       "      <td>Apache</td>\n",
       "      <td>ZM</td>\n",
       "      <td>IWA</td>\n",
       "      <td>APACHE</td>\n",
       "      <td>United States</td>\n",
       "      <td>Y</td>\n",
       "    </tr>\n",
       "    <tr>\n",
       "      <th>67662</th>\n",
       "      <td>67662</td>\n",
       "      <td>ZM</td>\n",
       "      <td>19016</td>\n",
       "      <td>OSS</td>\n",
       "      <td>2913</td>\n",
       "      <td>FRU</td>\n",
       "      <td>2912</td>\n",
       "      <td>None</td>\n",
       "      <td>0</td>\n",
       "      <td>734</td>\n",
       "      <td>5977.0</td>\n",
       "      <td>19016</td>\n",
       "      <td>Apache Air</td>\n",
       "      <td>Apache</td>\n",
       "      <td>ZM</td>\n",
       "      <td>IWA</td>\n",
       "      <td>APACHE</td>\n",
       "      <td>United States</td>\n",
       "      <td>Y</td>\n",
       "    </tr>\n",
       "  </tbody>\n",
       "</table>\n",
       "<p>67663 rows × 19 columns</p>\n",
       "</div>"
      ],
      "text/plain": [
       "       index airline airline_id source source_id dest dest_id codeshare stops  \\\n",
       "0          0      2B        410    AER      2965  KZN    2990      None     0   \n",
       "1          1      2B        410    ASF      2966  KZN    2990      None     0   \n",
       "2          2      2B        410    ASF      2966  MRV    2962      None     0   \n",
       "3          3      2B        410    CEK      2968  KZN    2990      None     0   \n",
       "4          4      2B        410    CEK      2968  OVB    4078      None     0   \n",
       "...      ...     ...        ...    ...       ...  ...     ...       ...   ...   \n",
       "67658  67658      ZL       4178    WYA      6334  ADL    3341      None     0   \n",
       "67659  67659      ZM      19016    DME      4029  FRU    2912      None     0   \n",
       "67660  67660      ZM      19016    FRU      2912  DME    4029      None     0   \n",
       "67661  67661      ZM      19016    FRU      2912  OSS    2913      None     0   \n",
       "67662  67662      ZM      19016    OSS      2913  FRU    2912      None     0   \n",
       "\n",
       "      equipment   index     id              name   alias iata icao  \\\n",
       "0           CR2   409.0    410        Aerocondor      \\N   2B  ARD   \n",
       "1           CR2   409.0    410        Aerocondor      \\N   2B  ARD   \n",
       "2           CR2   409.0    410        Aerocondor      \\N   2B  ARD   \n",
       "3           CR2   409.0    410        Aerocondor      \\N   2B  ARD   \n",
       "4           CR2   409.0    410        Aerocondor      \\N   2B  ARD   \n",
       "...         ...     ...    ...               ...     ...  ...  ...   \n",
       "67658       SF3  4171.0   4178  Regional Express      \\N   ZL  RXA   \n",
       "67659       734  5977.0  19016        Apache Air  Apache   ZM  IWA   \n",
       "67660       734  5977.0  19016        Apache Air  Apache   ZM  IWA   \n",
       "67661       734  5977.0  19016        Apache Air  Apache   ZM  IWA   \n",
       "67662       734  5977.0  19016        Apache Air  Apache   ZM  IWA   \n",
       "\n",
       "         callsign        country active  \n",
       "0      AEROCONDOR       Portugal      Y  \n",
       "1      AEROCONDOR       Portugal      Y  \n",
       "2      AEROCONDOR       Portugal      Y  \n",
       "3      AEROCONDOR       Portugal      Y  \n",
       "4      AEROCONDOR       Portugal      Y  \n",
       "...           ...            ...    ...  \n",
       "67658         REX      Australia      Y  \n",
       "67659      APACHE  United States      Y  \n",
       "67660      APACHE  United States      Y  \n",
       "67661      APACHE  United States      Y  \n",
       "67662      APACHE  United States      Y  \n",
       "\n",
       "[67663 rows x 19 columns]"
      ]
     },
     "execution_count": 2,
     "metadata": {},
     "output_type": "execute_result"
    }
   ],
   "source": [
    "pd.read_sql('''\n",
    "    SELECT \n",
    "        *\n",
    "    FROM\n",
    "        routes as rt\n",
    "        \n",
    "    LEFT JOIN airlines as al\n",
    "            ON rt.airline_id = al.id \n",
    "''', conn)"
   ]
  },
  {
   "cell_type": "markdown",
   "id": "fd6cdc31",
   "metadata": {},
   "source": [
    "**Exercise**\n",
    "\n",
    "- Get all airports "
   ]
  },
  {
   "cell_type": "code",
   "execution_count": 6,
   "id": "62455e1f",
   "metadata": {},
   "outputs": [
    {
     "data": {
      "text/html": [
       "<div>\n",
       "<style scoped>\n",
       "    .dataframe tbody tr th:only-of-type {\n",
       "        vertical-align: middle;\n",
       "    }\n",
       "\n",
       "    .dataframe tbody tr th {\n",
       "        vertical-align: top;\n",
       "    }\n",
       "\n",
       "    .dataframe thead th {\n",
       "        text-align: right;\n",
       "    }\n",
       "</style>\n",
       "<table border=\"1\" class=\"dataframe\">\n",
       "  <thead>\n",
       "    <tr style=\"text-align: right;\">\n",
       "      <th></th>\n",
       "      <th>index</th>\n",
       "      <th>airline</th>\n",
       "      <th>airline_id</th>\n",
       "      <th>source</th>\n",
       "      <th>source_id</th>\n",
       "      <th>dest</th>\n",
       "      <th>dest_id</th>\n",
       "      <th>codeshare</th>\n",
       "      <th>stops</th>\n",
       "      <th>equipment</th>\n",
       "    </tr>\n",
       "  </thead>\n",
       "  <tbody>\n",
       "    <tr>\n",
       "      <th>0</th>\n",
       "      <td>1064</td>\n",
       "      <td>4M</td>\n",
       "      <td>3201</td>\n",
       "      <td>JFK</td>\n",
       "      <td>3797</td>\n",
       "      <td>EZE</td>\n",
       "      <td>3988</td>\n",
       "      <td>Y</td>\n",
       "      <td>0</td>\n",
       "      <td>777</td>\n",
       "    </tr>\n",
       "    <tr>\n",
       "      <th>1</th>\n",
       "      <td>1107</td>\n",
       "      <td>4O</td>\n",
       "      <td>17885</td>\n",
       "      <td>JFK</td>\n",
       "      <td>3797</td>\n",
       "      <td>MEX</td>\n",
       "      <td>1824</td>\n",
       "      <td>None</td>\n",
       "      <td>0</td>\n",
       "      <td>320</td>\n",
       "    </tr>\n",
       "    <tr>\n",
       "      <th>2</th>\n",
       "      <td>3586</td>\n",
       "      <td>9E</td>\n",
       "      <td>3976</td>\n",
       "      <td>JFK</td>\n",
       "      <td>3797</td>\n",
       "      <td>MSY</td>\n",
       "      <td>3861</td>\n",
       "      <td>None</td>\n",
       "      <td>0</td>\n",
       "      <td>CR9</td>\n",
       "    </tr>\n",
       "    <tr>\n",
       "      <th>3</th>\n",
       "      <td>5591</td>\n",
       "      <td>AA</td>\n",
       "      <td>24</td>\n",
       "      <td>JFK</td>\n",
       "      <td>3797</td>\n",
       "      <td>AMM</td>\n",
       "      <td>2170</td>\n",
       "      <td>Y</td>\n",
       "      <td>0</td>\n",
       "      <td>340 330</td>\n",
       "    </tr>\n",
       "    <tr>\n",
       "      <th>4</th>\n",
       "      <td>5592</td>\n",
       "      <td>AA</td>\n",
       "      <td>24</td>\n",
       "      <td>JFK</td>\n",
       "      <td>3797</td>\n",
       "      <td>ANU</td>\n",
       "      <td>2874</td>\n",
       "      <td>None</td>\n",
       "      <td>0</td>\n",
       "      <td>738</td>\n",
       "    </tr>\n",
       "    <tr>\n",
       "      <th>...</th>\n",
       "      <td>...</td>\n",
       "      <td>...</td>\n",
       "      <td>...</td>\n",
       "      <td>...</td>\n",
       "      <td>...</td>\n",
       "      <td>...</td>\n",
       "      <td>...</td>\n",
       "      <td>...</td>\n",
       "      <td>...</td>\n",
       "      <td>...</td>\n",
       "    </tr>\n",
       "    <tr>\n",
       "      <th>451</th>\n",
       "      <td>62537</td>\n",
       "      <td>W3</td>\n",
       "      <td>407</td>\n",
       "      <td>JFK</td>\n",
       "      <td>3797</td>\n",
       "      <td>LOS</td>\n",
       "      <td>273</td>\n",
       "      <td>Y</td>\n",
       "      <td>0</td>\n",
       "      <td>345</td>\n",
       "    </tr>\n",
       "    <tr>\n",
       "      <th>452</th>\n",
       "      <td>64593</td>\n",
       "      <td>WS</td>\n",
       "      <td>5416</td>\n",
       "      <td>JFK</td>\n",
       "      <td>3797</td>\n",
       "      <td>YUL</td>\n",
       "      <td>146</td>\n",
       "      <td>None</td>\n",
       "      <td>0</td>\n",
       "      <td>ERJ CRJ</td>\n",
       "    </tr>\n",
       "    <tr>\n",
       "      <th>453</th>\n",
       "      <td>64594</td>\n",
       "      <td>WS</td>\n",
       "      <td>5416</td>\n",
       "      <td>JFK</td>\n",
       "      <td>3797</td>\n",
       "      <td>YYC</td>\n",
       "      <td>178</td>\n",
       "      <td>None</td>\n",
       "      <td>0</td>\n",
       "      <td>736</td>\n",
       "    </tr>\n",
       "    <tr>\n",
       "      <th>454</th>\n",
       "      <td>64595</td>\n",
       "      <td>WS</td>\n",
       "      <td>5416</td>\n",
       "      <td>JFK</td>\n",
       "      <td>3797</td>\n",
       "      <td>YYZ</td>\n",
       "      <td>193</td>\n",
       "      <td>None</td>\n",
       "      <td>0</td>\n",
       "      <td>CRJ CR7 ERJ</td>\n",
       "    </tr>\n",
       "    <tr>\n",
       "      <th>455</th>\n",
       "      <td>65445</td>\n",
       "      <td>XL</td>\n",
       "      <td>1034</td>\n",
       "      <td>JFK</td>\n",
       "      <td>3797</td>\n",
       "      <td>GYE</td>\n",
       "      <td>2673</td>\n",
       "      <td>None</td>\n",
       "      <td>0</td>\n",
       "      <td>763</td>\n",
       "    </tr>\n",
       "  </tbody>\n",
       "</table>\n",
       "<p>456 rows × 10 columns</p>\n",
       "</div>"
      ],
      "text/plain": [
       "     index airline airline_id source source_id dest dest_id codeshare stops  \\\n",
       "0     1064      4M       3201    JFK      3797  EZE    3988         Y     0   \n",
       "1     1107      4O      17885    JFK      3797  MEX    1824      None     0   \n",
       "2     3586      9E       3976    JFK      3797  MSY    3861      None     0   \n",
       "3     5591      AA         24    JFK      3797  AMM    2170         Y     0   \n",
       "4     5592      AA         24    JFK      3797  ANU    2874      None     0   \n",
       "..     ...     ...        ...    ...       ...  ...     ...       ...   ...   \n",
       "451  62537      W3        407    JFK      3797  LOS     273         Y     0   \n",
       "452  64593      WS       5416    JFK      3797  YUL     146      None     0   \n",
       "453  64594      WS       5416    JFK      3797  YYC     178      None     0   \n",
       "454  64595      WS       5416    JFK      3797  YYZ     193      None     0   \n",
       "455  65445      XL       1034    JFK      3797  GYE    2673      None     0   \n",
       "\n",
       "       equipment  \n",
       "0            777  \n",
       "1            320  \n",
       "2            CR9  \n",
       "3        340 330  \n",
       "4            738  \n",
       "..           ...  \n",
       "451          345  \n",
       "452      ERJ CRJ  \n",
       "453          736  \n",
       "454  CRJ CR7 ERJ  \n",
       "455          763  \n",
       "\n",
       "[456 rows x 10 columns]"
      ]
     },
     "execution_count": 6,
     "metadata": {},
     "output_type": "execute_result"
    }
   ],
   "source": [
    "pd.read_sql('''\n",
    "    SELECT \n",
    "        *\n",
    "    FROM\n",
    "        routes\n",
    "        \n",
    "    WHERE source = 'JFK'\n",
    "''', conn)"
   ]
  },
  {
   "cell_type": "markdown",
   "id": "2eb2c7db",
   "metadata": {
    "slideshow": {
     "slide_type": "slide"
    }
   },
   "source": [
    "**Exercise**\n",
    "\n",
    "- Get equipment info for American airline ('AA') routes starting from JFK along with latitude, longitude information for JFK."
   ]
  },
  {
   "cell_type": "code",
   "execution_count": 17,
   "id": "548b2b17",
   "metadata": {},
   "outputs": [
    {
     "data": {
      "text/html": [
       "<div>\n",
       "<style scoped>\n",
       "    .dataframe tbody tr th:only-of-type {\n",
       "        vertical-align: middle;\n",
       "    }\n",
       "\n",
       "    .dataframe tbody tr th {\n",
       "        vertical-align: top;\n",
       "    }\n",
       "\n",
       "    .dataframe thead th {\n",
       "        text-align: right;\n",
       "    }\n",
       "</style>\n",
       "<table border=\"1\" class=\"dataframe\">\n",
       "  <thead>\n",
       "    <tr style=\"text-align: right;\">\n",
       "      <th></th>\n",
       "      <th>index</th>\n",
       "      <th>id</th>\n",
       "      <th>name</th>\n",
       "      <th>city</th>\n",
       "      <th>country</th>\n",
       "      <th>code</th>\n",
       "      <th>icao</th>\n",
       "      <th>latitude</th>\n",
       "      <th>longitude</th>\n",
       "      <th>altitude</th>\n",
       "      <th>...</th>\n",
       "      <th>index</th>\n",
       "      <th>airline</th>\n",
       "      <th>airline_id</th>\n",
       "      <th>source</th>\n",
       "      <th>source_id</th>\n",
       "      <th>dest</th>\n",
       "      <th>dest_id</th>\n",
       "      <th>codeshare</th>\n",
       "      <th>stops</th>\n",
       "      <th>equipment</th>\n",
       "    </tr>\n",
       "  </thead>\n",
       "  <tbody>\n",
       "    <tr>\n",
       "      <th>0</th>\n",
       "      <td>3698</td>\n",
       "      <td>3797</td>\n",
       "      <td>John F Kennedy Intl</td>\n",
       "      <td>New York</td>\n",
       "      <td>United States</td>\n",
       "      <td>JFK</td>\n",
       "      <td>KJFK</td>\n",
       "      <td>40.639751</td>\n",
       "      <td>-73.778925</td>\n",
       "      <td>13</td>\n",
       "      <td>...</td>\n",
       "      <td>5591</td>\n",
       "      <td>AA</td>\n",
       "      <td>24</td>\n",
       "      <td>JFK</td>\n",
       "      <td>3797</td>\n",
       "      <td>AMM</td>\n",
       "      <td>2170</td>\n",
       "      <td>Y</td>\n",
       "      <td>0</td>\n",
       "      <td>340 330</td>\n",
       "    </tr>\n",
       "    <tr>\n",
       "      <th>1</th>\n",
       "      <td>3698</td>\n",
       "      <td>3797</td>\n",
       "      <td>John F Kennedy Intl</td>\n",
       "      <td>New York</td>\n",
       "      <td>United States</td>\n",
       "      <td>JFK</td>\n",
       "      <td>KJFK</td>\n",
       "      <td>40.639751</td>\n",
       "      <td>-73.778925</td>\n",
       "      <td>13</td>\n",
       "      <td>...</td>\n",
       "      <td>5592</td>\n",
       "      <td>AA</td>\n",
       "      <td>24</td>\n",
       "      <td>JFK</td>\n",
       "      <td>3797</td>\n",
       "      <td>ANU</td>\n",
       "      <td>2874</td>\n",
       "      <td>None</td>\n",
       "      <td>0</td>\n",
       "      <td>738</td>\n",
       "    </tr>\n",
       "    <tr>\n",
       "      <th>2</th>\n",
       "      <td>3698</td>\n",
       "      <td>3797</td>\n",
       "      <td>John F Kennedy Intl</td>\n",
       "      <td>New York</td>\n",
       "      <td>United States</td>\n",
       "      <td>JFK</td>\n",
       "      <td>KJFK</td>\n",
       "      <td>40.639751</td>\n",
       "      <td>-73.778925</td>\n",
       "      <td>13</td>\n",
       "      <td>...</td>\n",
       "      <td>5593</td>\n",
       "      <td>AA</td>\n",
       "      <td>24</td>\n",
       "      <td>JFK</td>\n",
       "      <td>3797</td>\n",
       "      <td>AUH</td>\n",
       "      <td>2179</td>\n",
       "      <td>Y</td>\n",
       "      <td>0</td>\n",
       "      <td>777</td>\n",
       "    </tr>\n",
       "    <tr>\n",
       "      <th>3</th>\n",
       "      <td>3698</td>\n",
       "      <td>3797</td>\n",
       "      <td>John F Kennedy Intl</td>\n",
       "      <td>New York</td>\n",
       "      <td>United States</td>\n",
       "      <td>JFK</td>\n",
       "      <td>KJFK</td>\n",
       "      <td>40.639751</td>\n",
       "      <td>-73.778925</td>\n",
       "      <td>13</td>\n",
       "      <td>...</td>\n",
       "      <td>5594</td>\n",
       "      <td>AA</td>\n",
       "      <td>24</td>\n",
       "      <td>JFK</td>\n",
       "      <td>3797</td>\n",
       "      <td>AUS</td>\n",
       "      <td>3673</td>\n",
       "      <td>None</td>\n",
       "      <td>0</td>\n",
       "      <td>738</td>\n",
       "    </tr>\n",
       "    <tr>\n",
       "      <th>4</th>\n",
       "      <td>3698</td>\n",
       "      <td>3797</td>\n",
       "      <td>John F Kennedy Intl</td>\n",
       "      <td>New York</td>\n",
       "      <td>United States</td>\n",
       "      <td>JFK</td>\n",
       "      <td>KJFK</td>\n",
       "      <td>40.639751</td>\n",
       "      <td>-73.778925</td>\n",
       "      <td>13</td>\n",
       "      <td>...</td>\n",
       "      <td>5595</td>\n",
       "      <td>AA</td>\n",
       "      <td>24</td>\n",
       "      <td>JFK</td>\n",
       "      <td>3797</td>\n",
       "      <td>BCN</td>\n",
       "      <td>1218</td>\n",
       "      <td>None</td>\n",
       "      <td>0</td>\n",
       "      <td>763</td>\n",
       "    </tr>\n",
       "    <tr>\n",
       "      <th>...</th>\n",
       "      <td>...</td>\n",
       "      <td>...</td>\n",
       "      <td>...</td>\n",
       "      <td>...</td>\n",
       "      <td>...</td>\n",
       "      <td>...</td>\n",
       "      <td>...</td>\n",
       "      <td>...</td>\n",
       "      <td>...</td>\n",
       "      <td>...</td>\n",
       "      <td>...</td>\n",
       "      <td>...</td>\n",
       "      <td>...</td>\n",
       "      <td>...</td>\n",
       "      <td>...</td>\n",
       "      <td>...</td>\n",
       "      <td>...</td>\n",
       "      <td>...</td>\n",
       "      <td>...</td>\n",
       "      <td>...</td>\n",
       "      <td>...</td>\n",
       "    </tr>\n",
       "    <tr>\n",
       "      <th>56</th>\n",
       "      <td>3698</td>\n",
       "      <td>3797</td>\n",
       "      <td>John F Kennedy Intl</td>\n",
       "      <td>New York</td>\n",
       "      <td>United States</td>\n",
       "      <td>JFK</td>\n",
       "      <td>KJFK</td>\n",
       "      <td>40.639751</td>\n",
       "      <td>-73.778925</td>\n",
       "      <td>13</td>\n",
       "      <td>...</td>\n",
       "      <td>5647</td>\n",
       "      <td>AA</td>\n",
       "      <td>24</td>\n",
       "      <td>JFK</td>\n",
       "      <td>3797</td>\n",
       "      <td>TXL</td>\n",
       "      <td>351</td>\n",
       "      <td>Y</td>\n",
       "      <td>0</td>\n",
       "      <td>330</td>\n",
       "    </tr>\n",
       "    <tr>\n",
       "      <th>57</th>\n",
       "      <td>3698</td>\n",
       "      <td>3797</td>\n",
       "      <td>John F Kennedy Intl</td>\n",
       "      <td>New York</td>\n",
       "      <td>United States</td>\n",
       "      <td>JFK</td>\n",
       "      <td>KJFK</td>\n",
       "      <td>40.639751</td>\n",
       "      <td>-73.778925</td>\n",
       "      <td>13</td>\n",
       "      <td>...</td>\n",
       "      <td>5648</td>\n",
       "      <td>AA</td>\n",
       "      <td>24</td>\n",
       "      <td>JFK</td>\n",
       "      <td>3797</td>\n",
       "      <td>YUL</td>\n",
       "      <td>146</td>\n",
       "      <td>Y</td>\n",
       "      <td>0</td>\n",
       "      <td>ERD</td>\n",
       "    </tr>\n",
       "    <tr>\n",
       "      <th>58</th>\n",
       "      <td>3698</td>\n",
       "      <td>3797</td>\n",
       "      <td>John F Kennedy Intl</td>\n",
       "      <td>New York</td>\n",
       "      <td>United States</td>\n",
       "      <td>JFK</td>\n",
       "      <td>KJFK</td>\n",
       "      <td>40.639751</td>\n",
       "      <td>-73.778925</td>\n",
       "      <td>13</td>\n",
       "      <td>...</td>\n",
       "      <td>5649</td>\n",
       "      <td>AA</td>\n",
       "      <td>24</td>\n",
       "      <td>JFK</td>\n",
       "      <td>3797</td>\n",
       "      <td>YYC</td>\n",
       "      <td>178</td>\n",
       "      <td>None</td>\n",
       "      <td>0</td>\n",
       "      <td>737</td>\n",
       "    </tr>\n",
       "    <tr>\n",
       "      <th>59</th>\n",
       "      <td>3698</td>\n",
       "      <td>3797</td>\n",
       "      <td>John F Kennedy Intl</td>\n",
       "      <td>New York</td>\n",
       "      <td>United States</td>\n",
       "      <td>JFK</td>\n",
       "      <td>KJFK</td>\n",
       "      <td>40.639751</td>\n",
       "      <td>-73.778925</td>\n",
       "      <td>13</td>\n",
       "      <td>...</td>\n",
       "      <td>5650</td>\n",
       "      <td>AA</td>\n",
       "      <td>24</td>\n",
       "      <td>JFK</td>\n",
       "      <td>3797</td>\n",
       "      <td>YYZ</td>\n",
       "      <td>193</td>\n",
       "      <td>Y</td>\n",
       "      <td>0</td>\n",
       "      <td>CR7</td>\n",
       "    </tr>\n",
       "    <tr>\n",
       "      <th>60</th>\n",
       "      <td>3698</td>\n",
       "      <td>3797</td>\n",
       "      <td>John F Kennedy Intl</td>\n",
       "      <td>New York</td>\n",
       "      <td>United States</td>\n",
       "      <td>JFK</td>\n",
       "      <td>KJFK</td>\n",
       "      <td>40.639751</td>\n",
       "      <td>-73.778925</td>\n",
       "      <td>13</td>\n",
       "      <td>...</td>\n",
       "      <td>5651</td>\n",
       "      <td>AA</td>\n",
       "      <td>24</td>\n",
       "      <td>JFK</td>\n",
       "      <td>3797</td>\n",
       "      <td>ZRH</td>\n",
       "      <td>1678</td>\n",
       "      <td>None</td>\n",
       "      <td>0</td>\n",
       "      <td>763</td>\n",
       "    </tr>\n",
       "  </tbody>\n",
       "</table>\n",
       "<p>61 rows × 23 columns</p>\n",
       "</div>"
      ],
      "text/plain": [
       "   index    id                 name      city        country code  icao  \\\n",
       "0   3698  3797  John F Kennedy Intl  New York  United States  JFK  KJFK   \n",
       "1   3698  3797  John F Kennedy Intl  New York  United States  JFK  KJFK   \n",
       "2   3698  3797  John F Kennedy Intl  New York  United States  JFK  KJFK   \n",
       "3   3698  3797  John F Kennedy Intl  New York  United States  JFK  KJFK   \n",
       "4   3698  3797  John F Kennedy Intl  New York  United States  JFK  KJFK   \n",
       "..   ...   ...                  ...       ...            ...  ...   ...   \n",
       "56  3698  3797  John F Kennedy Intl  New York  United States  JFK  KJFK   \n",
       "57  3698  3797  John F Kennedy Intl  New York  United States  JFK  KJFK   \n",
       "58  3698  3797  John F Kennedy Intl  New York  United States  JFK  KJFK   \n",
       "59  3698  3797  John F Kennedy Intl  New York  United States  JFK  KJFK   \n",
       "60  3698  3797  John F Kennedy Intl  New York  United States  JFK  KJFK   \n",
       "\n",
       "     latitude   longitude altitude  ... index airline airline_id  source  \\\n",
       "0   40.639751  -73.778925       13  ...  5591      AA         24     JFK   \n",
       "1   40.639751  -73.778925       13  ...  5592      AA         24     JFK   \n",
       "2   40.639751  -73.778925       13  ...  5593      AA         24     JFK   \n",
       "3   40.639751  -73.778925       13  ...  5594      AA         24     JFK   \n",
       "4   40.639751  -73.778925       13  ...  5595      AA         24     JFK   \n",
       "..        ...         ...      ...  ...   ...     ...        ...     ...   \n",
       "56  40.639751  -73.778925       13  ...  5647      AA         24     JFK   \n",
       "57  40.639751  -73.778925       13  ...  5648      AA         24     JFK   \n",
       "58  40.639751  -73.778925       13  ...  5649      AA         24     JFK   \n",
       "59  40.639751  -73.778925       13  ...  5650      AA         24     JFK   \n",
       "60  40.639751  -73.778925       13  ...  5651      AA         24     JFK   \n",
       "\n",
       "   source_id dest dest_id codeshare stops equipment  \n",
       "0       3797  AMM    2170         Y     0   340 330  \n",
       "1       3797  ANU    2874      None     0       738  \n",
       "2       3797  AUH    2179         Y     0       777  \n",
       "3       3797  AUS    3673      None     0       738  \n",
       "4       3797  BCN    1218      None     0       763  \n",
       "..       ...  ...     ...       ...   ...       ...  \n",
       "56      3797  TXL     351         Y     0       330  \n",
       "57      3797  YUL     146         Y     0       ERD  \n",
       "58      3797  YYC     178      None     0       737  \n",
       "59      3797  YYZ     193         Y     0       CR7  \n",
       "60      3797  ZRH    1678      None     0       763  \n",
       "\n",
       "[61 rows x 23 columns]"
      ]
     },
     "execution_count": 17,
     "metadata": {},
     "output_type": "execute_result"
    }
   ],
   "source": [
    "pd.read_sql('''\n",
    "    SELECT \n",
    "        *\n",
    "    FROM\n",
    "        airports as ap\n",
    "        \n",
    "    INNER JOIN routes as rt\n",
    "            ON ap.code = rt.source\n",
    "            \n",
    "    WHERE (source = 'JFK') AND airline = 'AA'\n",
    "''', conn)"
   ]
  },
  {
   "cell_type": "markdown",
   "id": "3e35debf",
   "metadata": {
    "slideshow": {
     "slide_type": "fragment"
    }
   },
   "source": [
    "A lot more unique entries on shared key in the airline table vs. the route table.\n",
    "\n",
    "We won't go through RIGHT JOIN and FULL JOIN here -- its actually fairly self explanatory what they do."
   ]
  },
  {
   "cell_type": "markdown",
   "id": "1120e266",
   "metadata": {
    "cell_style": "split",
    "slideshow": {
     "slide_type": "slide"
    }
   },
   "source": [
    "#### Set Operations\n",
    "\n",
    "- UNION: gets union, drops duplicates\n",
    "- UNION ALL: gets union, keeps duplicates\n",
    "- INTERSECT: gets intersection\n",
    "- EXCEPT: gets what's in one table but not other."
   ]
  },
  {
   "cell_type": "markdown",
   "id": "5a164990",
   "metadata": {
    "cell_style": "split",
    "slideshow": {
     "slide_type": "fragment"
    }
   },
   "source": [
    "Useful when you have two tables with same data scheme.\n",
    "\n",
    "- Table1 has some fields with same kind of data as some fields in Table2.\n",
    "- Can take intersection of fields from two tables with same kind of data, etc.\n",
    "- Less flexible than joins, but fast and useful in many cases."
   ]
  },
  {
   "cell_type": "markdown",
   "id": "129f6f7f",
   "metadata": {
    "slideshow": {
     "slide_type": "subslide"
    }
   },
   "source": [
    "<div>\n",
    "<center><img src=\"Images/setopd.png\" align = \"center\" width=\"600\"/></center>\n",
    "</div>"
   ]
  },
  {
   "cell_type": "markdown",
   "id": "74cb96ca",
   "metadata": {
    "slideshow": {
     "slide_type": "slide"
    }
   },
   "source": [
    "An example might be useful here:\n",
    "\n",
    "Get countries in airports table not in airlines table.\n",
    "\n",
    "Countries that have airports but no airlines."
   ]
  },
  {
   "cell_type": "code",
   "execution_count": null,
   "id": "eb618275",
   "metadata": {
    "slideshow": {
     "slide_type": "subslide"
    }
   },
   "outputs": [],
   "source": [
    "pd.read_sql('''\n",
    "    SELECT ap.country \n",
    "    FROM airports as ap\n",
    "    EXCEPT\n",
    "    SELECT al.country\n",
    "    FROM airlines as al\n",
    "    LIMIT 10\n",
    "''', conn)"
   ]
  },
  {
   "cell_type": "markdown",
   "id": "c10617c3",
   "metadata": {
    "slideshow": {
     "slide_type": "slide"
    }
   },
   "source": [
    "Next up: subqueries!!\n",
    "\n",
    "Can give us additional flexibility in accessing data!"
   ]
  }
 ],
 "metadata": {
  "celltoolbar": "Slideshow",
  "kernelspec": {
   "display_name": "Python 3 (ipykernel)",
   "language": "python",
   "name": "python3"
  },
  "language_info": {
   "codemirror_mode": {
    "name": "ipython",
    "version": 3
   },
   "file_extension": ".py",
   "mimetype": "text/x-python",
   "name": "python",
   "nbconvert_exporter": "python",
   "pygments_lexer": "ipython3",
   "version": "3.9.7"
  }
 },
 "nbformat": 4,
 "nbformat_minor": 5
}
