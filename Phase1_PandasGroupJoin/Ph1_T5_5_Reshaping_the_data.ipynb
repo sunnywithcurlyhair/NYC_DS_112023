{
 "cells": [
  {
   "cell_type": "markdown",
   "id": "b1e2e623",
   "metadata": {
    "cell_style": "center",
    "slideshow": {
     "slide_type": "slide"
    }
   },
   "source": [
    "<div style=\"color:white;\n",
    "           display:fill;\n",
    "           border-radius:5px;\n",
    "           background-color:#5642C5;\n",
    "           font-size:200%;\n",
    "           font-family:Arial;letter-spacing:0.5px\">\n",
    "\n",
    "<p width = 20%, style=\"padding: 10px;\n",
    "              color:white;\">\n",
    "Pandas: Reshaping the data\n",
    "              \n",
    "</p>\n",
    "</div>\n",
    "\n",
    "Data Science Cohort Live NYC Nov 2023\n",
    "<p>Phase 1</p>\n",
    "<br>\n",
    "<br>\n",
    "\n",
    "<div align = \"right\">\n",
    "<img src=\"Images/flatiron-school-logo.png\" align = \"right\" width=\"200\"/>\n",
    "</div>\n",
    "    \n",
    "    "
   ]
  },
  {
   "cell_type": "markdown",
   "id": "1f36e6c6",
   "metadata": {
    "slideshow": {
     "slide_type": "slide"
    }
   },
   "source": [
    "Data in the fires of the forge!\n",
    "\n",
    "\n",
    "<figure><center><img src = \"Images/conanbarbarian.png\" width = 500></center>\n",
    "</figure>\n",
    "\n"
   ]
  },
  {
   "cell_type": "markdown",
   "id": "67aab99c",
   "metadata": {
    "slideshow": {
     "slide_type": "subslide"
    }
   },
   "source": [
    "Transformation:\n",
    "    \n",
    "<figure><center><img src = \"Images/conanthebarbarian5.png\" width = 500></center>\n",
    "</figure>\n",
    "\n",
    "A suitably shaped dataset will make it easier to visualize/answer your questions."
   ]
  },
  {
   "cell_type": "markdown",
   "id": "94884a13",
   "metadata": {
    "slideshow": {
     "slide_type": "slide"
    }
   },
   "source": [
    "#### Basic Ideas of Data Shaping in Pandas\n",
    "1. Wide vs. Long Formats\n"
   ]
  },
  {
   "cell_type": "markdown",
   "id": "1eed4464",
   "metadata": {
    "cell_style": "split",
    "slideshow": {
     "slide_type": "fragment"
    }
   },
   "source": [
    "<div>\n",
    "    <center><img src=\"Images/hw_wide.png\" align = \"center\" width=\"200\"/></center>\n",
    "    <center>Wide format</center>\n",
    "</div>\n",
    "    "
   ]
  },
  {
   "cell_type": "markdown",
   "id": "c8d773ed",
   "metadata": {
    "cell_style": "split",
    "slideshow": {
     "slide_type": "fragment"
    }
   },
   "source": [
    "<div align>\n",
    "        <center><img src=\"Images/hw_long.png\" align = \"center\" width=\"200\"/></center>\n",
    "    <center>Long format</center>\n",
    "</div>"
   ]
  },
  {
   "cell_type": "markdown",
   "id": "271f801d",
   "metadata": {
    "slideshow": {
     "slide_type": "slide"
    }
   },
   "source": [
    "2. Multi-indexing (Hierarchical indexing)\n",
    "- Saw this with multiple grouping.\n",
    "- Very useful in quickly exploring responses conditioned on different factors."
   ]
  },
  {
   "cell_type": "markdown",
   "id": "603d24d0",
   "metadata": {
    "cell_style": "split",
    "slideshow": {
     "slide_type": "fragment"
    }
   },
   "source": [
    "<div>\n",
    "    <center><img src=\"Images/hw_multi.png\" align = \"center\" width=\"200\"/></center> <br>\n",
    "    <center>Multi-indexed Dataframe</center>\n",
    "</div>\n",
    "    "
   ]
  },
  {
   "cell_type": "markdown",
   "id": "f5884df7",
   "metadata": {
    "cell_style": "split",
    "slideshow": {
     "slide_type": "fragment"
    }
   },
   "source": [
    "<div>\n",
    "    <center><img src=\"Images/hw_multi_swap.png\" align = \"center\" width=\"200\"/></center>\n",
    "    <br>\n",
    "    <center>After index level swap</center>\n",
    "</div>"
   ]
  },
  {
   "cell_type": "markdown",
   "id": "e77ea386",
   "metadata": {
    "slideshow": {
     "slide_type": "slide"
    }
   },
   "source": [
    "#### Pivoting\n",
    "\n",
    "- Convert from a long to a wide format:\n",
    "\n",
    "   - DataFrame.pivot(index, columns, values):\n",
    "  \n",
    " One attribute becomes index, values in other attribute becomes labels for new columns.\n",
    " \n",
    " Best to see an example:"
   ]
  },
  {
   "cell_type": "code",
   "execution_count": null,
   "id": "ddef649b",
   "metadata": {
    "slideshow": {
     "slide_type": "subslide"
    }
   },
   "outputs": [],
   "source": [
    "import itertools\n",
    "import pandas as pd\n",
    "import numpy as np\n",
    "value_list = [182, 160, 130, 78, 67, 52]\n",
    "physical_data = pd.DataFrame(np.array([['John', 'Christopher', 'Melinda']*2, ['Height', 'Weight']*3, value_list]).T,\n",
    "             columns = ['name', 'attribute', 'value'])\n",
    "\n",
    "physical_data.head()"
   ]
  },
  {
   "cell_type": "markdown",
   "id": "6bb6faa9",
   "metadata": {
    "slideshow": {
     "slide_type": "slide"
    }
   },
   "source": [
    "This is long form. Use pivot to convert to wide format:"
   ]
  },
  {
   "cell_type": "code",
   "execution_count": null,
   "id": "0c8ed749",
   "metadata": {
    "scrolled": false,
    "slideshow": {
     "slide_type": "fragment"
    }
   },
   "outputs": [],
   "source": [
    "wide_form = physical_data.pivot(index = 'name', columns = 'attribute', values = 'value')\n",
    "wide_form"
   ]
  },
  {
   "cell_type": "markdown",
   "id": "5f2ffacb",
   "metadata": {
    "slideshow": {
     "slide_type": "slide"
    }
   },
   "source": [
    "#### Melting: the inverse of pivoting.\n",
    "\n",
    "- Take data from wide to long format.\n",
    "- pd.melt(dataframe, id_vars, value_vars, var_name, value_name)"
   ]
  },
  {
   "cell_type": "code",
   "execution_count": null,
   "id": "892de108",
   "metadata": {
    "cell_style": "split",
    "slideshow": {
     "slide_type": "fragment"
    }
   },
   "outputs": [],
   "source": [
    "wide_form.reset_index(inplace = True)\n",
    "wide_form"
   ]
  },
  {
   "cell_type": "code",
   "execution_count": null,
   "id": "c5b41907",
   "metadata": {
    "cell_style": "split",
    "slideshow": {
     "slide_type": "fragment"
    }
   },
   "outputs": [],
   "source": [
    "pd.melt(wide_form, \n",
    "        id_vars = ['name'], \n",
    "        value_vars = ['Height', 'Weight'])"
   ]
  },
  {
   "cell_type": "markdown",
   "id": "438cd1f5",
   "metadata": {
    "slideshow": {
     "slide_type": "slide"
    }
   },
   "source": [
    "#### Pivot Tables\n",
    "\n",
    "- When the columns you want to pivot on have non-unique entries.\n",
    "- E.g., temperature as function of position X,Y for a given month but multiple measurements at each X,Y\n",
    "- Want average of these measurements at each X,Y in pivoted form:\n",
    "\n",
    "    - df.pivot_table(..., aggfunc = __)\n",
    "    "
   ]
  },
  {
   "cell_type": "markdown",
   "id": "f3df1f9b",
   "metadata": {
    "slideshow": {
     "slide_type": "fragment"
    }
   },
   "source": [
    "Forest fire dataset:\n",
    "\n",
    "Looks at temperature logged at various X, Y positions in a forest over several months."
   ]
  },
  {
   "cell_type": "code",
   "execution_count": null,
   "id": "f8bea93e",
   "metadata": {
    "scrolled": false,
    "slideshow": {
     "slide_type": "slide"
    }
   },
   "outputs": [],
   "source": [
    "forest_df = pd.read_csv('Data/forestfires.csv', usecols = ['X', 'Y', 'month', 'day', 'temp'])\n",
    "inamonth_df = forest_df[(forest_df['month'] == 'mar')]\n",
    "\n",
    "inamonth_df.head(10)"
   ]
  },
  {
   "cell_type": "markdown",
   "id": "5381dc3c",
   "metadata": {
    "slideshow": {
     "slide_type": "slide"
    }
   },
   "source": [
    "Average temperature at (X, Y) positions for March. Organized as pivot table:"
   ]
  },
  {
   "cell_type": "code",
   "execution_count": null,
   "id": "1554b8f0",
   "metadata": {
    "slideshow": {
     "slide_type": "fragment"
    }
   },
   "outputs": [],
   "source": [
    "inamonth_df.pivot_table(index = 'X', columns = 'Y', values = 'temp', aggfunc = 'mean')"
   ]
  },
  {
   "cell_type": "markdown",
   "id": "4e387b6c",
   "metadata": {
    "slideshow": {
     "slide_type": "slide"
    }
   },
   "source": [
    "#### Multiindexing\n",
    "- Setting multiple columns as index\n",
    "- Setting hierarchies.\n",
    "- Accessing data in multi-indexed DataFrames."
   ]
  },
  {
   "cell_type": "markdown",
   "id": "594f472a",
   "metadata": {
    "slideshow": {
     "slide_type": "fragment"
    }
   },
   "source": [
    "Airfoil noise dataset:\n",
    "- Various factors affecting sound amplitude off of airplane wings."
   ]
  },
  {
   "cell_type": "code",
   "execution_count": null,
   "id": "e77900d8",
   "metadata": {
    "cell_style": "center",
    "scrolled": true,
    "slideshow": {
     "slide_type": "slide"
    }
   },
   "outputs": [],
   "source": [
    "colnames = ['Frequency [Hz]', 'Angle of attack [deg]', 'Chord length [m]', 'Free-stream velocity [m/s]', 'Suction side thickness [m]', 'Sound volume [dB]']\n",
    "airfoil_df = pd.read_csv('Data/airfoil_self_noise.dat', delimiter='\\t', header = None, names = colnames  )\n",
    "\n",
    "airfoil_df.head()"
   ]
  },
  {
   "cell_type": "markdown",
   "id": "cc609ccb",
   "metadata": {
    "cell_style": "center",
    "slideshow": {
     "slide_type": "slide"
    }
   },
   "source": [
    "Setting multiple attributes as indices can give us flexibility in addressing the data.\n",
    "- How does sound amplitude depend just on frequency, stream velocity, and foil chord length?\n",
    "- Create hierarchical Multiindex:"
   ]
  },
  {
   "cell_type": "code",
   "execution_count": null,
   "id": "d05ed5a3",
   "metadata": {
    "cell_style": "center",
    "slideshow": {
     "slide_type": "subslide"
    }
   },
   "outputs": [],
   "source": [
    "col_subset = ['Frequency [Hz]', 'Free-stream velocity [m/s]', 'Angle of attack [deg]', 'Sound volume [dB]']\n",
    "airfoil_df = airfoil_df[col_subset].set_index(col_subset[0:3])\n",
    "airfoil_df.head()"
   ]
  },
  {
   "cell_type": "markdown",
   "id": "a5adbf0e",
   "metadata": {
    "slideshow": {
     "slide_type": "subslide"
    }
   },
   "source": [
    "Moved columns to index, but hierarchical structure of indices not set:\n",
    "- Can be accomplished with the .sort_index() method."
   ]
  },
  {
   "cell_type": "code",
   "execution_count": null,
   "id": "f718da75",
   "metadata": {
    "cell_style": "center",
    "slideshow": {
     "slide_type": "fragment"
    }
   },
   "outputs": [],
   "source": [
    "airfoil_df = airfoil_df.sort_index()\n",
    "airfoil_df"
   ]
  },
  {
   "cell_type": "markdown",
   "id": "06d128b9",
   "metadata": {
    "slideshow": {
     "slide_type": "subslide"
    }
   },
   "source": [
    "#### Accessing via the .loc accessor on multi-indices\n",
    "-DataFrame.loc[first_level_index, columns]\n",
    "- Dataframe.loc[(first_level_index, second_level_index, third_level_index), columns]"
   ]
  },
  {
   "cell_type": "code",
   "execution_count": null,
   "id": "6e0ca9b0",
   "metadata": {
    "cell_style": "split",
    "slideshow": {
     "slide_type": "subslide"
    }
   },
   "outputs": [],
   "source": [
    "# at frequency = 1000 Hz\n",
    "airfoil_df.loc[1000, :]"
   ]
  },
  {
   "cell_type": "code",
   "execution_count": null,
   "id": "ed561124",
   "metadata": {
    "cell_style": "split",
    "slideshow": {
     "slide_type": "fragment"
    }
   },
   "outputs": [],
   "source": [
    "# sound vol vs angle of attack\n",
    "# fixed at 1000 Hz, 55.5 m/s stream velocity\n",
    "airfoil_df.loc[(1000, 55.5)]"
   ]
  },
  {
   "cell_type": "markdown",
   "id": "4d433cf2",
   "metadata": {
    "slideshow": {
     "slide_type": "slide"
    }
   },
   "source": [
    "Swapping level hierarchy:\n",
    "- Look at measurement/response keeping one variable fixed and varying another.\n",
    "- Swapping level hierarchy switches which we keep fixed and which we vary.\n"
   ]
  },
  {
   "cell_type": "code",
   "execution_count": null,
   "id": "98811af0",
   "metadata": {
    "slideshow": {
     "slide_type": "fragment"
    }
   },
   "outputs": [],
   "source": [
    "swapped_df = airfoil_df.swaplevel('Free-stream velocity [m/s]', 'Angle of attack [deg]').sort_index()"
   ]
  },
  {
   "cell_type": "code",
   "execution_count": null,
   "id": "204c89f5",
   "metadata": {
    "cell_style": "split",
    "scrolled": true,
    "slideshow": {
     "slide_type": "subslide"
    }
   },
   "outputs": [],
   "source": [
    "swapped_df.head()"
   ]
  },
  {
   "cell_type": "code",
   "execution_count": null,
   "id": "351d1dd0",
   "metadata": {
    "cell_style": "split",
    "slideshow": {
     "slide_type": "fragment"
    }
   },
   "outputs": [],
   "source": [
    "\n",
    "swapped_df.loc[(1000, 7.3)]"
   ]
  },
  {
   "cell_type": "markdown",
   "id": "0f6591aa",
   "metadata": {
    "cell_style": "split"
   },
   "source": [
    "At fixed angle of attack, sound volume increases with airflow speed at 1 kHz."
   ]
  },
  {
   "cell_type": "markdown",
   "id": "ec0dc2a6",
   "metadata": {
    "slideshow": {
     "slide_type": "slide"
    }
   },
   "source": [
    "Multi-indexing opens up many possibilities for data manipulation.\n",
    "\n",
    "Strongly encourage you to look at supplementary material and pandas documentation!"
   ]
  }
 ],
 "metadata": {
  "celltoolbar": "Slideshow",
  "kernelspec": {
   "display_name": "Python 3 (ipykernel)",
   "language": "python",
   "name": "python3"
  },
  "language_info": {
   "codemirror_mode": {
    "name": "ipython",
    "version": 3
   },
   "file_extension": ".py",
   "mimetype": "text/x-python",
   "name": "python",
   "nbconvert_exporter": "python",
   "pygments_lexer": "ipython3",
   "version": "3.9.7"
  }
 },
 "nbformat": 4,
 "nbformat_minor": 5
}
